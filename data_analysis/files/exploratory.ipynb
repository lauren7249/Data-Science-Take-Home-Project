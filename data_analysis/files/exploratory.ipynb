{
 "cells": [
  {
   "cell_type": "raw",
   "id": "09b8d26f",
   "metadata": {},
   "source": [
    "---\n",
    "title: Exploratory Data Analysis\n",
    "authors:\n",
    "- Lauren Talbot\n",
    "created_at: 2023-04-13\n",
    "tldr: A machine learning project is only as good as the data that goes into it. What are some of the high level aspects of the data that we can discover? How should we clean and filter the data?\n",
    "---"
   ]
  },
  {
   "cell_type": "code",
   "execution_count": 1,
   "id": "b6986970",
   "metadata": {},
   "outputs": [],
   "source": [
    "%matplotlib inline\n",
    "figsize = (10,3)"
   ]
  },
  {
   "cell_type": "markdown",
   "id": "96f9844d",
   "metadata": {},
   "source": [
    "# Input Datasets  "
   ]
  },
  {
   "cell_type": "code",
   "execution_count": 2,
   "id": "c2e7d108",
   "metadata": {},
   "outputs": [],
   "source": [
    "import pandas, numpy\n",
    "pandas.options.display.float_format = '{:,.4f}'.format\n",
    "data_folder = '../data'\n",
    "date_format='%Y-%m-%d' #truncate datetimes to dates\n",
    "id_columns = [\"id\",\"company_id\",\"invoice_id\",\"account_id\",\"customer_id\"]\n",
    "id_column_types = dict(zip(id_columns,[str] * len(id_columns)))\n",
    "invoices = pandas.read_csv(data_folder + '/invoice.csv', na_values='inf', dtype=id_column_types,\n",
    "                           parse_dates=['invoice_date', 'due_date', 'cleared_date'], date_format=date_format)\n",
    "payments = pandas.read_csv(data_folder + '/invoice_payments.csv', na_values='inf', dtype=id_column_types,\n",
    "                           parse_dates=['transaction_date'], date_format=date_format)"
   ]
  },
  {
   "cell_type": "markdown",
   "id": "fb33d782",
   "metadata": {},
   "source": [
    "## Dataset Definitions & Relationships\n",
    "\n",
    "We have two input datasets: invoices and their payments.\n",
    "- Payments are amounts in time, which are directly mapped to companies. \n",
    "- Invoices can have multiple payments, but usually only have 1. "
   ]
  },
  {
   "cell_type": "code",
   "execution_count": 3,
   "id": "8421d533",
   "metadata": {},
   "outputs": [
    {
     "data": {
      "text/plain": [
       "invoice_id                          object\n",
       "due_date                    datetime64[ns]\n",
       "invoice_date                datetime64[ns]\n",
       "status                              object\n",
       "amount_inv                         float64\n",
       "currency                            object\n",
       "company_id                          object\n",
       "customer_id                         object\n",
       "account_id                          object\n",
       "cleared_date                datetime64[ns]\n",
       "root_exchange_rate_value           float64\n",
       "dtype: object"
      ]
     },
     "execution_count": 3,
     "metadata": {},
     "output_type": "execute_result"
    }
   ],
   "source": [
    "invoices.rename(columns={\"id\":\"invoice_id\"}, inplace=True)\n",
    "invoices.dtypes"
   ]
  },
  {
   "cell_type": "code",
   "execution_count": 4,
   "id": "12abbc1d",
   "metadata": {},
   "outputs": [
    {
     "data": {
      "text/plain": [
       "amount                             float64\n",
       "root_exchange_rate_value           float64\n",
       "transaction_date            datetime64[ns]\n",
       "invoice_id                          object\n",
       "company_id                          object\n",
       "converted_amount                   float64\n",
       "dtype: object"
      ]
     },
     "execution_count": 4,
     "metadata": {},
     "output_type": "execute_result"
    }
   ],
   "source": [
    "payments.dtypes"
   ]
  },
  {
   "cell_type": "code",
   "execution_count": 5,
   "id": "72a6f8c4",
   "metadata": {},
   "outputs": [
    {
     "data": {
      "text/html": [
       "<div>\n",
       "<style scoped>\n",
       "    .dataframe tbody tr th:only-of-type {\n",
       "        vertical-align: middle;\n",
       "    }\n",
       "\n",
       "    .dataframe tbody tr th {\n",
       "        vertical-align: top;\n",
       "    }\n",
       "\n",
       "    .dataframe thead th {\n",
       "        text-align: right;\n",
       "    }\n",
       "</style>\n",
       "<table border=\"1\" class=\"dataframe\">\n",
       "  <thead>\n",
       "    <tr style=\"text-align: right;\">\n",
       "      <th></th>\n",
       "      <th>ids</th>\n",
       "    </tr>\n",
       "    <tr>\n",
       "      <th>invoices_per_id</th>\n",
       "      <th></th>\n",
       "    </tr>\n",
       "  </thead>\n",
       "  <tbody>\n",
       "    <tr>\n",
       "      <th>1</th>\n",
       "      <td>113085</td>\n",
       "    </tr>\n",
       "  </tbody>\n",
       "</table>\n",
       "</div>"
      ],
      "text/plain": [
       "                    ids\n",
       "invoices_per_id        \n",
       "1                113085"
      ]
     },
     "execution_count": 5,
     "metadata": {},
     "output_type": "execute_result"
    }
   ],
   "source": [
    "#The join key will be invoice_id, so it must be unique (and it is).\n",
    "invoices.invoice_id.value_counts(dropna=False).value_counts(dropna=False)\\\n",
    ".to_frame(name=\"ids\").rename_axis('invoices_per_id')"
   ]
  },
  {
   "cell_type": "code",
   "execution_count": 6,
   "id": "b7faaf80",
   "metadata": {},
   "outputs": [
    {
     "data": {
      "text/plain": [
       "0"
      ]
     },
     "execution_count": 6,
     "metadata": {},
     "output_type": "execute_result"
    }
   ],
   "source": [
    "#all payments are represented in both datasets \n",
    "len(set(payments.invoice_id) - set(invoices.invoice_id))"
   ]
  },
  {
   "cell_type": "code",
   "execution_count": 7,
   "id": "7af57a63",
   "metadata": {},
   "outputs": [
    {
     "data": {
      "text/plain": [
       "0.07127382057744175"
      ]
     },
     "execution_count": 7,
     "metadata": {},
     "output_type": "execute_result"
    }
   ],
   "source": [
    "#7% of invoices do not have payments yet\n",
    "len(set(invoices.invoice_id) - set(payments.invoice_id))/invoices.__len__()"
   ]
  },
  {
   "cell_type": "code",
   "execution_count": 8,
   "id": "ea62aab2",
   "metadata": {},
   "outputs": [
    {
     "data": {
      "text/html": [
       "<div>\n",
       "<style scoped>\n",
       "    .dataframe tbody tr th:only-of-type {\n",
       "        vertical-align: middle;\n",
       "    }\n",
       "\n",
       "    .dataframe tbody tr th {\n",
       "        vertical-align: top;\n",
       "    }\n",
       "\n",
       "    .dataframe thead th {\n",
       "        text-align: right;\n",
       "    }\n",
       "</style>\n",
       "<table border=\"1\" class=\"dataframe\">\n",
       "  <thead>\n",
       "    <tr style=\"text-align: right;\">\n",
       "      <th></th>\n",
       "      <th>invoices</th>\n",
       "    </tr>\n",
       "    <tr>\n",
       "      <th>payments_per_invoice</th>\n",
       "      <th></th>\n",
       "    </tr>\n",
       "  </thead>\n",
       "  <tbody>\n",
       "    <tr>\n",
       "      <th>1</th>\n",
       "      <td>0.9419</td>\n",
       "    </tr>\n",
       "    <tr>\n",
       "      <th>2</th>\n",
       "      <td>0.0548</td>\n",
       "    </tr>\n",
       "    <tr>\n",
       "      <th>3</th>\n",
       "      <td>0.0026</td>\n",
       "    </tr>\n",
       "    <tr>\n",
       "      <th>4</th>\n",
       "      <td>0.0006</td>\n",
       "    </tr>\n",
       "    <tr>\n",
       "      <th>5</th>\n",
       "      <td>0.0001</td>\n",
       "    </tr>\n",
       "    <tr>\n",
       "      <th>6</th>\n",
       "      <td>0.0001</td>\n",
       "    </tr>\n",
       "    <tr>\n",
       "      <th>14</th>\n",
       "      <td>0.0000</td>\n",
       "    </tr>\n",
       "    <tr>\n",
       "      <th>9</th>\n",
       "      <td>0.0000</td>\n",
       "    </tr>\n",
       "    <tr>\n",
       "      <th>8</th>\n",
       "      <td>0.0000</td>\n",
       "    </tr>\n",
       "    <tr>\n",
       "      <th>7</th>\n",
       "      <td>0.0000</td>\n",
       "    </tr>\n",
       "  </tbody>\n",
       "</table>\n",
       "</div>"
      ],
      "text/plain": [
       "                      invoices\n",
       "payments_per_invoice          \n",
       "1                       0.9419\n",
       "2                       0.0548\n",
       "3                       0.0026\n",
       "4                       0.0006\n",
       "5                       0.0001\n",
       "6                       0.0001\n",
       "14                      0.0000\n",
       "9                       0.0000\n",
       "8                       0.0000\n",
       "7                       0.0000"
      ]
     },
     "execution_count": 8,
     "metadata": {},
     "output_type": "execute_result"
    }
   ],
   "source": [
    "#invoices usually have one payment but may have more\n",
    "payments.invoice_id.value_counts(dropna=False).value_counts(dropna=False, normalize=True)\\\n",
    ".to_frame(name=\"invoices\").rename_axis('payments_per_invoice')"
   ]
  },
  {
   "cell_type": "markdown",
   "id": "d52d67e0",
   "metadata": {},
   "source": [
    "## Entity Definitions & Relationships\n",
    "\n",
    "- Company: business entity for which Tesorio is forecasting cash collected. There are only two. Each company collects using multiple currencies from multiple customers. \n",
    "- Account: **In this limited dataset, accounts and companies are synonymous, so we ignore accounts.**  \n",
    "- Customer: metadata about an invoice which is specific to each company. Each customer can have multiple currencies."
   ]
  },
  {
   "cell_type": "code",
   "execution_count": 9,
   "id": "71b2be52",
   "metadata": {},
   "outputs": [
    {
     "data": {
      "text/html": [
       "<div>\n",
       "<style scoped>\n",
       "    .dataframe tbody tr th:only-of-type {\n",
       "        vertical-align: middle;\n",
       "    }\n",
       "\n",
       "    .dataframe tbody tr th {\n",
       "        vertical-align: top;\n",
       "    }\n",
       "\n",
       "    .dataframe thead th {\n",
       "        text-align: right;\n",
       "    }\n",
       "</style>\n",
       "<table border=\"1\" class=\"dataframe\">\n",
       "  <thead>\n",
       "    <tr style=\"text-align: right;\">\n",
       "      <th></th>\n",
       "      <th>customer_id</th>\n",
       "      <th>currency</th>\n",
       "    </tr>\n",
       "    <tr>\n",
       "      <th>company_id</th>\n",
       "      <th></th>\n",
       "      <th></th>\n",
       "    </tr>\n",
       "  </thead>\n",
       "  <tbody>\n",
       "    <tr>\n",
       "      <th>114</th>\n",
       "      <td>4509</td>\n",
       "      <td>15</td>\n",
       "    </tr>\n",
       "    <tr>\n",
       "      <th>14</th>\n",
       "      <td>546</td>\n",
       "      <td>13</td>\n",
       "    </tr>\n",
       "  </tbody>\n",
       "</table>\n",
       "</div>"
      ],
      "text/plain": [
       "            customer_id  currency\n",
       "company_id                       \n",
       "114                4509        15\n",
       "14                  546        13"
      ]
     },
     "execution_count": 9,
     "metadata": {},
     "output_type": "execute_result"
    }
   ],
   "source": [
    "invoices.groupby(\"company_id\")[[\"customer_id\",\"currency\"]].nunique()"
   ]
  },
  {
   "cell_type": "code",
   "execution_count": 10,
   "id": "64f67efd",
   "metadata": {},
   "outputs": [
    {
     "data": {
      "text/html": [
       "<div>\n",
       "<style scoped>\n",
       "    .dataframe tbody tr th:only-of-type {\n",
       "        vertical-align: middle;\n",
       "    }\n",
       "\n",
       "    .dataframe tbody tr th {\n",
       "        vertical-align: top;\n",
       "    }\n",
       "\n",
       "    .dataframe thead th {\n",
       "        text-align: right;\n",
       "    }\n",
       "</style>\n",
       "<table border=\"1\" class=\"dataframe\">\n",
       "  <thead>\n",
       "    <tr style=\"text-align: right;\">\n",
       "      <th></th>\n",
       "      <th>customers</th>\n",
       "    </tr>\n",
       "    <tr>\n",
       "      <th>companies_per_customer</th>\n",
       "      <th></th>\n",
       "    </tr>\n",
       "  </thead>\n",
       "  <tbody>\n",
       "    <tr>\n",
       "      <th>1</th>\n",
       "      <td>5055</td>\n",
       "    </tr>\n",
       "  </tbody>\n",
       "</table>\n",
       "</div>"
      ],
      "text/plain": [
       "                        customers\n",
       "companies_per_customer           \n",
       "1                            5055"
      ]
     },
     "execution_count": 10,
     "metadata": {},
     "output_type": "execute_result"
    }
   ],
   "source": [
    "invoices.groupby(\"customer_id\").company_id.nunique().value_counts()\\\n",
    ".to_frame(name='customers').rename_axis('companies_per_customer')"
   ]
  },
  {
   "cell_type": "code",
   "execution_count": 11,
   "id": "4916e98d",
   "metadata": {},
   "outputs": [
    {
     "data": {
      "text/html": [
       "<div>\n",
       "<style scoped>\n",
       "    .dataframe tbody tr th:only-of-type {\n",
       "        vertical-align: middle;\n",
       "    }\n",
       "\n",
       "    .dataframe tbody tr th {\n",
       "        vertical-align: top;\n",
       "    }\n",
       "\n",
       "    .dataframe thead th {\n",
       "        text-align: right;\n",
       "    }\n",
       "</style>\n",
       "<table border=\"1\" class=\"dataframe\">\n",
       "  <thead>\n",
       "    <tr style=\"text-align: right;\">\n",
       "      <th></th>\n",
       "      <th>customers</th>\n",
       "    </tr>\n",
       "    <tr>\n",
       "      <th>currencies_per_customer</th>\n",
       "      <th></th>\n",
       "    </tr>\n",
       "  </thead>\n",
       "  <tbody>\n",
       "    <tr>\n",
       "      <th>1</th>\n",
       "      <td>4426</td>\n",
       "    </tr>\n",
       "    <tr>\n",
       "      <th>2</th>\n",
       "      <td>583</td>\n",
       "    </tr>\n",
       "    <tr>\n",
       "      <th>3</th>\n",
       "      <td>39</td>\n",
       "    </tr>\n",
       "    <tr>\n",
       "      <th>4</th>\n",
       "      <td>7</td>\n",
       "    </tr>\n",
       "  </tbody>\n",
       "</table>\n",
       "</div>"
      ],
      "text/plain": [
       "                         customers\n",
       "currencies_per_customer           \n",
       "1                             4426\n",
       "2                              583\n",
       "3                               39\n",
       "4                                7"
      ]
     },
     "execution_count": 11,
     "metadata": {},
     "output_type": "execute_result"
    }
   ],
   "source": [
    "invoices.groupby([\"customer_id\"]).currency.nunique().value_counts()\\\n",
    ".to_frame(name='customers').rename_axis('currencies_per_customer')"
   ]
  },
  {
   "cell_type": "code",
   "execution_count": 12,
   "id": "3ca64f65",
   "metadata": {},
   "outputs": [
    {
     "data": {
      "text/html": [
       "<div>\n",
       "<style scoped>\n",
       "    .dataframe tbody tr th:only-of-type {\n",
       "        vertical-align: middle;\n",
       "    }\n",
       "\n",
       "    .dataframe tbody tr th {\n",
       "        vertical-align: top;\n",
       "    }\n",
       "\n",
       "    .dataframe thead th {\n",
       "        text-align: right;\n",
       "    }\n",
       "</style>\n",
       "<table border=\"1\" class=\"dataframe\">\n",
       "  <thead>\n",
       "    <tr style=\"text-align: right;\">\n",
       "      <th></th>\n",
       "      <th>unique_accounts</th>\n",
       "    </tr>\n",
       "    <tr>\n",
       "      <th>company_id</th>\n",
       "      <th></th>\n",
       "    </tr>\n",
       "  </thead>\n",
       "  <tbody>\n",
       "    <tr>\n",
       "      <th>114</th>\n",
       "      <td>1</td>\n",
       "    </tr>\n",
       "    <tr>\n",
       "      <th>14</th>\n",
       "      <td>1</td>\n",
       "    </tr>\n",
       "  </tbody>\n",
       "</table>\n",
       "</div>"
      ],
      "text/plain": [
       "            unique_accounts\n",
       "company_id                 \n",
       "114                       1\n",
       "14                        1"
      ]
     },
     "execution_count": 12,
     "metadata": {},
     "output_type": "execute_result"
    }
   ],
   "source": [
    "invoices.groupby(\"company_id\").account_id.nunique().to_frame(name=\"unique_accounts\")"
   ]
  },
  {
   "cell_type": "code",
   "execution_count": 13,
   "id": "82bc4fb5",
   "metadata": {},
   "outputs": [
    {
     "data": {
      "text/html": [
       "<div>\n",
       "<style scoped>\n",
       "    .dataframe tbody tr th:only-of-type {\n",
       "        vertical-align: middle;\n",
       "    }\n",
       "\n",
       "    .dataframe tbody tr th {\n",
       "        vertical-align: top;\n",
       "    }\n",
       "\n",
       "    .dataframe thead th {\n",
       "        text-align: right;\n",
       "    }\n",
       "</style>\n",
       "<table border=\"1\" class=\"dataframe\">\n",
       "  <thead>\n",
       "    <tr style=\"text-align: right;\">\n",
       "      <th></th>\n",
       "      <th>count</th>\n",
       "    </tr>\n",
       "    <tr>\n",
       "      <th>companies_per_account</th>\n",
       "      <th></th>\n",
       "    </tr>\n",
       "  </thead>\n",
       "  <tbody>\n",
       "    <tr>\n",
       "      <th>1</th>\n",
       "      <td>2</td>\n",
       "    </tr>\n",
       "  </tbody>\n",
       "</table>\n",
       "</div>"
      ],
      "text/plain": [
       "                       count\n",
       "companies_per_account       \n",
       "1                          2"
      ]
     },
     "execution_count": 13,
     "metadata": {},
     "output_type": "execute_result"
    }
   ],
   "source": [
    "invoices.groupby(\"account_id\").company_id.nunique().value_counts()\\\n",
    ".to_frame(name='count').rename_axis('companies_per_account')"
   ]
  },
  {
   "cell_type": "markdown",
   "id": "5efc16c0",
   "metadata": {},
   "source": [
    "## Data Cleaning Needs"
   ]
  },
  {
   "cell_type": "markdown",
   "id": "08bbd14b",
   "metadata": {},
   "source": [
    "### Payments\n",
    "\n",
    "Transaction data begins in 2011 and ends 2021-05-18. We will assume this is when the data was pulled. The last month looks incomplete. "
   ]
  },
  {
   "cell_type": "code",
   "execution_count": 14,
   "id": "5e37d7c6",
   "metadata": {},
   "outputs": [
    {
     "data": {
      "text/html": [
       "<div>\n",
       "<style scoped>\n",
       "    .dataframe tbody tr th:only-of-type {\n",
       "        vertical-align: middle;\n",
       "    }\n",
       "\n",
       "    .dataframe tbody tr th {\n",
       "        vertical-align: top;\n",
       "    }\n",
       "\n",
       "    .dataframe thead th {\n",
       "        text-align: right;\n",
       "    }\n",
       "</style>\n",
       "<table border=\"1\" class=\"dataframe\">\n",
       "  <thead>\n",
       "    <tr style=\"text-align: right;\">\n",
       "      <th></th>\n",
       "      <th>amount</th>\n",
       "      <th>root_exchange_rate_value</th>\n",
       "      <th>transaction_date</th>\n",
       "      <th>invoice_id</th>\n",
       "      <th>company_id</th>\n",
       "      <th>converted_amount</th>\n",
       "    </tr>\n",
       "  </thead>\n",
       "  <tbody>\n",
       "    <tr>\n",
       "      <th>count</th>\n",
       "      <td>111,622.0000</td>\n",
       "      <td>111,623.0000</td>\n",
       "      <td>111623</td>\n",
       "      <td>111623</td>\n",
       "      <td>111623</td>\n",
       "      <td>111,622.0000</td>\n",
       "    </tr>\n",
       "    <tr>\n",
       "      <th>unique</th>\n",
       "      <td>NaN</td>\n",
       "      <td>NaN</td>\n",
       "      <td>NaN</td>\n",
       "      <td>105025</td>\n",
       "      <td>2</td>\n",
       "      <td>NaN</td>\n",
       "    </tr>\n",
       "    <tr>\n",
       "      <th>top</th>\n",
       "      <td>NaN</td>\n",
       "      <td>NaN</td>\n",
       "      <td>NaN</td>\n",
       "      <td>48171</td>\n",
       "      <td>114</td>\n",
       "      <td>NaN</td>\n",
       "    </tr>\n",
       "    <tr>\n",
       "      <th>freq</th>\n",
       "      <td>NaN</td>\n",
       "      <td>NaN</td>\n",
       "      <td>NaN</td>\n",
       "      <td>14</td>\n",
       "      <td>108124</td>\n",
       "      <td>NaN</td>\n",
       "    </tr>\n",
       "    <tr>\n",
       "      <th>mean</th>\n",
       "      <td>9,416.9806</td>\n",
       "      <td>0.9684</td>\n",
       "      <td>2018-03-04 09:52:41.445221376</td>\n",
       "      <td>NaN</td>\n",
       "      <td>NaN</td>\n",
       "      <td>9,128.7160</td>\n",
       "    </tr>\n",
       "    <tr>\n",
       "      <th>min</th>\n",
       "      <td>0.0000</td>\n",
       "      <td>0.0008</td>\n",
       "      <td>2011-04-13 00:00:00</td>\n",
       "      <td>NaN</td>\n",
       "      <td>NaN</td>\n",
       "      <td>0.0000</td>\n",
       "    </tr>\n",
       "    <tr>\n",
       "      <th>25%</th>\n",
       "      <td>4,078.6262</td>\n",
       "      <td>1.0000</td>\n",
       "      <td>2016-08-05 00:00:00</td>\n",
       "      <td>NaN</td>\n",
       "      <td>NaN</td>\n",
       "      <td>3,180.9720</td>\n",
       "    </tr>\n",
       "    <tr>\n",
       "      <th>50%</th>\n",
       "      <td>9,332.6655</td>\n",
       "      <td>1.0000</td>\n",
       "      <td>2018-08-18 00:00:00</td>\n",
       "      <td>NaN</td>\n",
       "      <td>NaN</td>\n",
       "      <td>8,819.6202</td>\n",
       "    </tr>\n",
       "    <tr>\n",
       "      <th>75%</th>\n",
       "      <td>14,651.4959</td>\n",
       "      <td>1.0000</td>\n",
       "      <td>2020-02-15 00:00:00</td>\n",
       "      <td>NaN</td>\n",
       "      <td>NaN</td>\n",
       "      <td>14,612.8617</td>\n",
       "    </tr>\n",
       "    <tr>\n",
       "      <th>max</th>\n",
       "      <td>19,999.8792</td>\n",
       "      <td>3.2533</td>\n",
       "      <td>2021-05-18 00:00:00</td>\n",
       "      <td>NaN</td>\n",
       "      <td>NaN</td>\n",
       "      <td>61,209.4348</td>\n",
       "    </tr>\n",
       "    <tr>\n",
       "      <th>std</th>\n",
       "      <td>6,015.3362</td>\n",
       "      <td>0.2446</td>\n",
       "      <td>NaN</td>\n",
       "      <td>NaN</td>\n",
       "      <td>NaN</td>\n",
       "      <td>6,438.8126</td>\n",
       "    </tr>\n",
       "    <tr>\n",
       "      <th>% populated</th>\n",
       "      <td>1.0000</td>\n",
       "      <td>1.0000</td>\n",
       "      <td>1.0000</td>\n",
       "      <td>1.0000</td>\n",
       "      <td>1.0000</td>\n",
       "      <td>1.0000</td>\n",
       "    </tr>\n",
       "  </tbody>\n",
       "</table>\n",
       "</div>"
      ],
      "text/plain": [
       "                  amount  root_exchange_rate_value   \n",
       "count       111,622.0000              111,623.0000  \\\n",
       "unique               NaN                       NaN   \n",
       "top                  NaN                       NaN   \n",
       "freq                 NaN                       NaN   \n",
       "mean          9,416.9806                    0.9684   \n",
       "min               0.0000                    0.0008   \n",
       "25%           4,078.6262                    1.0000   \n",
       "50%           9,332.6655                    1.0000   \n",
       "75%          14,651.4959                    1.0000   \n",
       "max          19,999.8792                    3.2533   \n",
       "std           6,015.3362                    0.2446   \n",
       "% populated       1.0000                    1.0000   \n",
       "\n",
       "                          transaction_date invoice_id company_id   \n",
       "count                               111623     111623     111623  \\\n",
       "unique                                 NaN     105025          2   \n",
       "top                                    NaN      48171        114   \n",
       "freq                                   NaN         14     108124   \n",
       "mean         2018-03-04 09:52:41.445221376        NaN        NaN   \n",
       "min                    2011-04-13 00:00:00        NaN        NaN   \n",
       "25%                    2016-08-05 00:00:00        NaN        NaN   \n",
       "50%                    2018-08-18 00:00:00        NaN        NaN   \n",
       "75%                    2020-02-15 00:00:00        NaN        NaN   \n",
       "max                    2021-05-18 00:00:00        NaN        NaN   \n",
       "std                                    NaN        NaN        NaN   \n",
       "% populated                         1.0000     1.0000     1.0000   \n",
       "\n",
       "             converted_amount  \n",
       "count            111,622.0000  \n",
       "unique                    NaN  \n",
       "top                       NaN  \n",
       "freq                      NaN  \n",
       "mean               9,128.7160  \n",
       "min                    0.0000  \n",
       "25%                3,180.9720  \n",
       "50%                8,819.6202  \n",
       "75%               14,612.8617  \n",
       "max               61,209.4348  \n",
       "std                6,438.8126  \n",
       "% populated            1.0000  "
      ]
     },
     "execution_count": 14,
     "metadata": {},
     "output_type": "execute_result"
    }
   ],
   "source": [
    "payment_stats = payments.describe(include='all')\n",
    "payment_stats.loc['% populated'] = payment_stats.loc['count']/payments.__len__()\n",
    "payment_stats"
   ]
  },
  {
   "cell_type": "code",
   "execution_count": 15,
   "id": "a160451c",
   "metadata": {},
   "outputs": [
    {
     "data": {
      "text/plain": [
       "<Axes: title={'center': 'Payments by Transaction Month'}, xlabel='transaction_month'>"
      ]
     },
     "execution_count": 15,
     "metadata": {},
     "output_type": "execute_result"
    },
    {
     "data": {
      "image/png": "[encoded data removed]",
      "text/plain": [
       "<Figure size 1000x300 with 1 Axes>"
      ]
     },
     "metadata": {},
     "output_type": "display_data"
    }
   ],
   "source": [
    "payments.__len__()\n",
    "payments['transaction_month'] = payments.transaction_date.dt.to_period('M').dt.to_timestamp()\n",
    "payments.groupby(\"transaction_month\").invoice_id.nunique()\\\n",
    ".plot(kind='area', title=\"Payments by Transaction Month\", figsize=figsize)"
   ]
  },
  {
   "cell_type": "code",
   "execution_count": 16,
   "id": "541b0f1d",
   "metadata": {},
   "outputs": [
    {
     "data": {
      "text/plain": [
       "(Timestamp('2011-04-01 00:00:00'), Timestamp('2021-05-01 00:00:00'))"
      ]
     },
     "execution_count": 16,
     "metadata": {},
     "output_type": "execute_result"
    }
   ],
   "source": [
    "last_transaction_month = payments.transaction_month.max()\n",
    "first_transaction_month = payments.transaction_month.min()\n",
    "first_transaction_month, last_transaction_month"
   ]
  },
  {
   "cell_type": "code",
   "execution_count": 17,
   "id": "7f55fd4c",
   "metadata": {},
   "outputs": [
    {
     "data": {
      "text/plain": [
       "1.0913936421275139e-11"
      ]
     },
     "execution_count": 17,
     "metadata": {},
     "output_type": "execute_result"
    }
   ],
   "source": [
    "#converted_amount is reliable\n",
    "(((payments.amount * payments.root_exchange_rate_value) - payments.converted_amount).abs()).max()"
   ]
  },
  {
   "cell_type": "code",
   "execution_count": 18,
   "id": "620cf013",
   "metadata": {},
   "outputs": [
    {
     "data": {
      "text/plain": [
       "0"
      ]
     },
     "execution_count": 18,
     "metadata": {},
     "output_type": "execute_result"
    }
   ],
   "source": [
    "payments[payments.amount.isnull()!=payments.converted_amount.isnull()].__len__()"
   ]
  },
  {
   "cell_type": "code",
   "execution_count": 19,
   "id": "0144d3fd",
   "metadata": {},
   "outputs": [
    {
     "data": {
      "text/plain": [
       "array([[<Axes: title={'center': 'amount'}>,\n",
       "        <Axes: title={'center': 'root_exchange_rate_value'}>,\n",
       "        <Axes: title={'center': 'converted_amount'}>]], dtype=object)"
      ]
     },
     "execution_count": 19,
     "metadata": {},
     "output_type": "execute_result"
    },
    {
     "data": {
      "image/png": "[encoded data removed]",
      "text/plain": [
       "<Figure size 1000x300 with 3 Axes>"
      ]
     },
     "metadata": {},
     "output_type": "display_data"
    }
   ],
   "source": [
    "payments.select_dtypes(include='float').hist(bins=50, figsize=figsize, layout=(1,3))"
   ]
  },
  {
   "cell_type": "markdown",
   "id": "60dbbc75",
   "metadata": {},
   "source": [
    "### Invoices\n",
    "\n",
    "Must become active within the date range of the transactions data to ensure completeness."
   ]
  },
  {
   "cell_type": "code",
   "execution_count": 20,
   "id": "dc49959c",
   "metadata": {
    "scrolled": true
   },
   "outputs": [
    {
     "data": {
      "text/html": [
       "<div>\n",
       "<style scoped>\n",
       "    .dataframe tbody tr th:only-of-type {\n",
       "        vertical-align: middle;\n",
       "    }\n",
       "\n",
       "    .dataframe tbody tr th {\n",
       "        vertical-align: top;\n",
       "    }\n",
       "\n",
       "    .dataframe thead th {\n",
       "        text-align: right;\n",
       "    }\n",
       "</style>\n",
       "<table border=\"1\" class=\"dataframe\">\n",
       "  <thead>\n",
       "    <tr style=\"text-align: right;\">\n",
       "      <th></th>\n",
       "      <th>invoice_id</th>\n",
       "      <th>due_date</th>\n",
       "      <th>invoice_date</th>\n",
       "      <th>status</th>\n",
       "      <th>amount_inv</th>\n",
       "      <th>currency</th>\n",
       "      <th>company_id</th>\n",
       "      <th>customer_id</th>\n",
       "      <th>account_id</th>\n",
       "      <th>cleared_date</th>\n",
       "      <th>root_exchange_rate_value</th>\n",
       "    </tr>\n",
       "  </thead>\n",
       "  <tbody>\n",
       "    <tr>\n",
       "      <th>count</th>\n",
       "      <td>113085</td>\n",
       "      <td>113060</td>\n",
       "      <td>113085</td>\n",
       "      <td>113085</td>\n",
       "      <td>113,085.0000</td>\n",
       "      <td>113085</td>\n",
       "      <td>113085</td>\n",
       "      <td>113085</td>\n",
       "      <td>113085</td>\n",
       "      <td>113085</td>\n",
       "      <td>113,085.0000</td>\n",
       "    </tr>\n",
       "    <tr>\n",
       "      <th>unique</th>\n",
       "      <td>113085</td>\n",
       "      <td>NaN</td>\n",
       "      <td>NaN</td>\n",
       "      <td>2</td>\n",
       "      <td>NaN</td>\n",
       "      <td>18</td>\n",
       "      <td>2</td>\n",
       "      <td>5055</td>\n",
       "      <td>2</td>\n",
       "      <td>NaN</td>\n",
       "      <td>NaN</td>\n",
       "    </tr>\n",
       "    <tr>\n",
       "      <th>top</th>\n",
       "      <td>0</td>\n",
       "      <td>NaN</td>\n",
       "      <td>NaN</td>\n",
       "      <td>CLEARED</td>\n",
       "      <td>NaN</td>\n",
       "      <td>USD</td>\n",
       "      <td>114</td>\n",
       "      <td>5</td>\n",
       "      <td>0</td>\n",
       "      <td>NaN</td>\n",
       "      <td>NaN</td>\n",
       "    </tr>\n",
       "    <tr>\n",
       "      <th>freq</th>\n",
       "      <td>1</td>\n",
       "      <td>NaN</td>\n",
       "      <td>NaN</td>\n",
       "      <td>109382</td>\n",
       "      <td>NaN</td>\n",
       "      <td>85146</td>\n",
       "      <td>109846</td>\n",
       "      <td>1788</td>\n",
       "      <td>109846</td>\n",
       "      <td>NaN</td>\n",
       "      <td>NaN</td>\n",
       "    </tr>\n",
       "    <tr>\n",
       "      <th>mean</th>\n",
       "      <td>NaN</td>\n",
       "      <td>2018-03-29 16:57:41.553157632</td>\n",
       "      <td>2018-02-21 19:27:25.236768512</td>\n",
       "      <td>NaN</td>\n",
       "      <td>10,026.5999</td>\n",
       "      <td>NaN</td>\n",
       "      <td>NaN</td>\n",
       "      <td>NaN</td>\n",
       "      <td>NaN</td>\n",
       "      <td>2018-04-26 08:37:46.868284672</td>\n",
       "      <td>0.9708</td>\n",
       "    </tr>\n",
       "    <tr>\n",
       "      <th>min</th>\n",
       "      <td>NaN</td>\n",
       "      <td>2010-09-07 00:00:00</td>\n",
       "      <td>2010-12-21 00:00:00</td>\n",
       "      <td>NaN</td>\n",
       "      <td>0.0276</td>\n",
       "      <td>NaN</td>\n",
       "      <td>NaN</td>\n",
       "      <td>NaN</td>\n",
       "      <td>NaN</td>\n",
       "      <td>2011-04-13 00:00:00</td>\n",
       "      <td>0.0008</td>\n",
       "    </tr>\n",
       "    <tr>\n",
       "      <th>25%</th>\n",
       "      <td>NaN</td>\n",
       "      <td>2016-08-26 00:00:00</td>\n",
       "      <td>2016-07-21 00:00:00</td>\n",
       "      <td>NaN</td>\n",
       "      <td>5,030.1226</td>\n",
       "      <td>NaN</td>\n",
       "      <td>NaN</td>\n",
       "      <td>NaN</td>\n",
       "      <td>NaN</td>\n",
       "      <td>2016-09-15 00:00:00</td>\n",
       "      <td>1.0000</td>\n",
       "    </tr>\n",
       "    <tr>\n",
       "      <th>50%</th>\n",
       "      <td>NaN</td>\n",
       "      <td>2018-09-22 00:00:00</td>\n",
       "      <td>2018-08-19 00:00:00</td>\n",
       "      <td>NaN</td>\n",
       "      <td>10,018.0927</td>\n",
       "      <td>NaN</td>\n",
       "      <td>NaN</td>\n",
       "      <td>NaN</td>\n",
       "      <td>NaN</td>\n",
       "      <td>2018-10-13 00:00:00</td>\n",
       "      <td>1.0000</td>\n",
       "    </tr>\n",
       "    <tr>\n",
       "      <th>75%</th>\n",
       "      <td>NaN</td>\n",
       "      <td>2020-03-22 00:00:00</td>\n",
       "      <td>2020-02-17 00:00:00</td>\n",
       "      <td>NaN</td>\n",
       "      <td>15,029.6856</td>\n",
       "      <td>NaN</td>\n",
       "      <td>NaN</td>\n",
       "      <td>NaN</td>\n",
       "      <td>NaN</td>\n",
       "      <td>2020-04-21 00:00:00</td>\n",
       "      <td>1.0000</td>\n",
       "    </tr>\n",
       "    <tr>\n",
       "      <th>max</th>\n",
       "      <td>NaN</td>\n",
       "      <td>2023-01-31 00:00:00</td>\n",
       "      <td>2023-01-01 00:00:00</td>\n",
       "      <td>NaN</td>\n",
       "      <td>19,999.9749</td>\n",
       "      <td>NaN</td>\n",
       "      <td>NaN</td>\n",
       "      <td>NaN</td>\n",
       "      <td>NaN</td>\n",
       "      <td>2022-01-01 00:00:00</td>\n",
       "      <td>1.6816</td>\n",
       "    </tr>\n",
       "    <tr>\n",
       "      <th>std</th>\n",
       "      <td>NaN</td>\n",
       "      <td>NaN</td>\n",
       "      <td>NaN</td>\n",
       "      <td>NaN</td>\n",
       "      <td>5,767.8334</td>\n",
       "      <td>NaN</td>\n",
       "      <td>NaN</td>\n",
       "      <td>NaN</td>\n",
       "      <td>NaN</td>\n",
       "      <td>NaN</td>\n",
       "      <td>0.2461</td>\n",
       "    </tr>\n",
       "    <tr>\n",
       "      <th>% populated</th>\n",
       "      <td>1.0000</td>\n",
       "      <td>0.9998</td>\n",
       "      <td>1.0000</td>\n",
       "      <td>1.0000</td>\n",
       "      <td>1.0000</td>\n",
       "      <td>1.0000</td>\n",
       "      <td>1.0000</td>\n",
       "      <td>1.0000</td>\n",
       "      <td>1.0000</td>\n",
       "      <td>1.0000</td>\n",
       "      <td>1.0000</td>\n",
       "    </tr>\n",
       "  </tbody>\n",
       "</table>\n",
       "</div>"
      ],
      "text/plain": [
       "            invoice_id                       due_date   \n",
       "count           113085                         113060  \\\n",
       "unique          113085                            NaN   \n",
       "top                  0                            NaN   \n",
       "freq                 1                            NaN   \n",
       "mean               NaN  2018-03-29 16:57:41.553157632   \n",
       "min                NaN            2010-09-07 00:00:00   \n",
       "25%                NaN            2016-08-26 00:00:00   \n",
       "50%                NaN            2018-09-22 00:00:00   \n",
       "75%                NaN            2020-03-22 00:00:00   \n",
       "max                NaN            2023-01-31 00:00:00   \n",
       "std                NaN                            NaN   \n",
       "% populated     1.0000                         0.9998   \n",
       "\n",
       "                              invoice_date   status   amount_inv currency   \n",
       "count                               113085   113085 113,085.0000   113085  \\\n",
       "unique                                 NaN        2          NaN       18   \n",
       "top                                    NaN  CLEARED          NaN      USD   \n",
       "freq                                   NaN   109382          NaN    85146   \n",
       "mean         2018-02-21 19:27:25.236768512      NaN  10,026.5999      NaN   \n",
       "min                    2010-12-21 00:00:00      NaN       0.0276      NaN   \n",
       "25%                    2016-07-21 00:00:00      NaN   5,030.1226      NaN   \n",
       "50%                    2018-08-19 00:00:00      NaN  10,018.0927      NaN   \n",
       "75%                    2020-02-17 00:00:00      NaN  15,029.6856      NaN   \n",
       "max                    2023-01-01 00:00:00      NaN  19,999.9749      NaN   \n",
       "std                                    NaN      NaN   5,767.8334      NaN   \n",
       "% populated                         1.0000   1.0000       1.0000   1.0000   \n",
       "\n",
       "            company_id customer_id account_id                   cleared_date   \n",
       "count           113085      113085     113085                         113085  \\\n",
       "unique               2        5055          2                            NaN   \n",
       "top                114           5          0                            NaN   \n",
       "freq            109846        1788     109846                            NaN   \n",
       "mean               NaN         NaN        NaN  2018-04-26 08:37:46.868284672   \n",
       "min                NaN         NaN        NaN            2011-04-13 00:00:00   \n",
       "25%                NaN         NaN        NaN            2016-09-15 00:00:00   \n",
       "50%                NaN         NaN        NaN            2018-10-13 00:00:00   \n",
       "75%                NaN         NaN        NaN            2020-04-21 00:00:00   \n",
       "max                NaN         NaN        NaN            2022-01-01 00:00:00   \n",
       "std                NaN         NaN        NaN                            NaN   \n",
       "% populated     1.0000      1.0000     1.0000                         1.0000   \n",
       "\n",
       "             root_exchange_rate_value  \n",
       "count                    113,085.0000  \n",
       "unique                            NaN  \n",
       "top                               NaN  \n",
       "freq                              NaN  \n",
       "mean                           0.9708  \n",
       "min                            0.0008  \n",
       "25%                            1.0000  \n",
       "50%                            1.0000  \n",
       "75%                            1.0000  \n",
       "max                            1.6816  \n",
       "std                            0.2461  \n",
       "% populated                    1.0000  "
      ]
     },
     "execution_count": 20,
     "metadata": {},
     "output_type": "execute_result"
    }
   ],
   "source": [
    "invoices_stats = invoices.describe(include='all')\n",
    "invoices_stats.loc['% populated'] = invoices_stats.loc['count']/invoices.__len__()\n",
    "invoices_stats"
   ]
  },
  {
   "cell_type": "code",
   "execution_count": 21,
   "id": "d926869d-2f10-45ad-ba0b-0963123b1e8c",
   "metadata": {
    "tags": []
   },
   "outputs": [
    {
     "data": {
      "text/plain": [
       "<Axes: title={'center': 'Invoices by Invoice Month'}, xlabel='invoice_month'>"
      ]
     },
     "execution_count": 21,
     "metadata": {},
     "output_type": "execute_result"
    },
    {
     "data": {
      "image/png": "[encoded data removed]",
      "text/plain": [
       "<Figure size 1000x300 with 1 Axes>"
      ]
     },
     "metadata": {},
     "output_type": "display_data"
    }
   ],
   "source": [
    "invoices['invoice_month'] = invoices.invoice_date.dt.to_period('M').dt.to_timestamp()\n",
    "invoices['due_month'] = invoices.due_date.dt.to_period('M').dt.to_timestamp()\n",
    "invoices.groupby(\"invoice_month\").invoice_id.count()\\\n",
    ".plot(kind='area', title=\"Invoices by Invoice Month\", figsize=figsize)"
   ]
  },
  {
   "cell_type": "code",
   "execution_count": 22,
   "id": "75c579ee-823a-4831-a33c-007af14a5556",
   "metadata": {
    "tags": []
   },
   "outputs": [
    {
     "data": {
      "text/plain": [
       "<Axes: title={'center': 'Invoices by Due Month'}, xlabel='due_month'>"
      ]
     },
     "execution_count": 22,
     "metadata": {},
     "output_type": "execute_result"
    },
    {
     "data": {
      "image/png": "[encoded data removed]",
      "text/plain": [
       "<Figure size 1000x300 with 1 Axes>"
      ]
     },
     "metadata": {},
     "output_type": "display_data"
    }
   ],
   "source": [
    "invoices.groupby(\"due_month\").invoice_id.count()\\\n",
    ".plot(kind='area', title=\"Invoices by Due Month\", figsize=figsize)"
   ]
  },
  {
   "cell_type": "code",
   "execution_count": 104,
   "id": "26c55220",
   "metadata": {},
   "outputs": [
    {
     "data": {
      "text/plain": [
       "(0, 0, 0)"
      ]
     },
     "execution_count": 104,
     "metadata": {},
     "output_type": "execute_result"
    }
   ],
   "source": [
    "#opened outside of payment data time period or after they were due - need to filter \n",
    "(invoices.loc[invoices.invoice_month>last_transaction_month].__len__(), \n",
    "invoices.loc[invoices.invoice_month<first_transaction_month].__len__(), \n",
    "invoices.loc[invoices.invoice_month.dt.to_period('M')>invoices.due_month.dt.to_period('M')].__len__())"
   ]
  },
  {
   "cell_type": "code",
   "execution_count": 106,
   "id": "2c310b69",
   "metadata": {},
   "outputs": [],
   "source": [
    "invoices = invoices.loc[(invoices.invoice_month>=first_transaction_month) &\n",
    "                        (invoices.invoice_month<=last_transaction_month) & \n",
    "                        (invoices.invoice_month<=invoices.due_date.dt.to_period('M').dt.to_timestamp())].copy()"
   ]
  },
  {
   "cell_type": "code",
   "execution_count": 25,
   "id": "f4d1eb68",
   "metadata": {},
   "outputs": [],
   "source": [
    "#to compare to payments. Are we holding the customer accountable to USD or their own currency?\n",
    "invoices['converted_amount_inv'] = invoices.amount_inv * invoices.root_exchange_rate_value"
   ]
  },
  {
   "cell_type": "code",
   "execution_count": 26,
   "id": "3fc652bf",
   "metadata": {},
   "outputs": [
    {
     "ename": "TypeError",
     "evalue": "unsupported Type Index",
     "output_type": "error",
     "traceback": [
      "\u001b[0;31m---------------------------------------------------------------------------\u001b[0m",
      "\u001b[0;31mTypeError\u001b[0m                                 Traceback (most recent call last)",
      "Cell \u001b[0;32mIn[284], line 1\u001b[0m\n\u001b[0;32m----> 1\u001b[0m invoices[\u001b[38;5;124m'\u001b[39m\u001b[38;5;124mmonths_allowed\u001b[39m\u001b[38;5;124m'\u001b[39m] \u001b[38;5;241m=\u001b[39m \u001b[43m(\u001b[49m\u001b[43minvoices\u001b[49m\u001b[38;5;241;43m.\u001b[39;49m\u001b[43mdue_month\u001b[49m\u001b[43m \u001b[49m\u001b[38;5;241;43m-\u001b[39;49m\u001b[43m \u001b[49m\u001b[43minvoices\u001b[49m\u001b[38;5;241;43m.\u001b[39;49m\u001b[43minvoice_month\u001b[49m\u001b[43m)\u001b[49m\u001b[38;5;241;43m.\u001b[39;49m\u001b[43mto_period\u001b[49m\u001b[43m(\u001b[49m\u001b[38;5;124;43m'\u001b[39;49m\u001b[38;5;124;43mM\u001b[39;49m\u001b[38;5;124;43m'\u001b[39;49m\u001b[43m)\u001b[49m\n\u001b[1;32m      2\u001b[0m invoices\u001b[38;5;241m.\u001b[39mmonths_allowed \u001b[38;5;241m=\u001b[39m invoices\u001b[38;5;241m.\u001b[39mmonths_allowed\u001b[38;5;241m.\u001b[39mmap(\u001b[38;5;28;01mlambda\u001b[39;00m m: m\u001b[38;5;241m.\u001b[39mn \u001b[38;5;28;01mif\u001b[39;00m \u001b[38;5;129;01mnot\u001b[39;00m pandas\u001b[38;5;241m.\u001b[39misnull(m) \u001b[38;5;28;01melse\u001b[39;00m \u001b[38;5;28;01mNone\u001b[39;00m)\n\u001b[1;32m      3\u001b[0m \u001b[38;5;66;03m#almost all invoices are due immediately or within 3 months. filter out the rest\u001b[39;00m\n",
      "File \u001b[0;32m/usr/local/lib/python3.11/site-packages/pandas/core/series.py:5827\u001b[0m, in \u001b[0;36mSeries.to_period\u001b[0;34m(self, freq, copy)\u001b[0m\n\u001b[1;32m   5795\u001b[0m \u001b[38;5;124;03m\"\"\"\u001b[39;00m\n\u001b[1;32m   5796\u001b[0m \u001b[38;5;124;03mConvert Series from DatetimeIndex to PeriodIndex.\u001b[39;00m\n\u001b[1;32m   5797\u001b[0m \n\u001b[0;32m   (...)\u001b[0m\n\u001b[1;32m   5824\u001b[0m \u001b[38;5;124;03mPeriodIndex(['2023', '2024', '2025'], dtype='period[A-DEC]')\u001b[39;00m\n\u001b[1;32m   5825\u001b[0m \u001b[38;5;124;03m\"\"\"\u001b[39;00m\n\u001b[1;32m   5826\u001b[0m \u001b[38;5;28;01mif\u001b[39;00m \u001b[38;5;129;01mnot\u001b[39;00m \u001b[38;5;28misinstance\u001b[39m(\u001b[38;5;28mself\u001b[39m\u001b[38;5;241m.\u001b[39mindex, DatetimeIndex):\n\u001b[0;32m-> 5827\u001b[0m     \u001b[38;5;28;01mraise\u001b[39;00m \u001b[38;5;167;01mTypeError\u001b[39;00m(\u001b[38;5;124mf\u001b[39m\u001b[38;5;124m\"\u001b[39m\u001b[38;5;124munsupported Type \u001b[39m\u001b[38;5;132;01m{\u001b[39;00m\u001b[38;5;28mtype\u001b[39m(\u001b[38;5;28mself\u001b[39m\u001b[38;5;241m.\u001b[39mindex)\u001b[38;5;241m.\u001b[39m\u001b[38;5;18m__name__\u001b[39m\u001b[38;5;132;01m}\u001b[39;00m\u001b[38;5;124m\"\u001b[39m)\n\u001b[1;32m   5829\u001b[0m new_obj \u001b[38;5;241m=\u001b[39m \u001b[38;5;28mself\u001b[39m\u001b[38;5;241m.\u001b[39mcopy(deep\u001b[38;5;241m=\u001b[39mcopy \u001b[38;5;129;01mand\u001b[39;00m \u001b[38;5;129;01mnot\u001b[39;00m using_copy_on_write())\n\u001b[1;32m   5830\u001b[0m new_index \u001b[38;5;241m=\u001b[39m \u001b[38;5;28mself\u001b[39m\u001b[38;5;241m.\u001b[39mindex\u001b[38;5;241m.\u001b[39mto_period(freq\u001b[38;5;241m=\u001b[39mfreq)\n",
      "\u001b[0;31mTypeError\u001b[0m: unsupported Type Index"
     ]
    }
   ],
   "source": [
    "invoices['months_allowed'] = invoices.due_month.dt.to_period('M') - invoices.invoice_month.dt.to_period('M')\n",
    "invoices.months_allowed = invoices.months_allowed.map(lambda m: m.n if not pandas.isnull(m) else None)\n",
    "#almost all invoices are due immediately or within 3 months. filter out the rest\n",
    "invoices.months_allowed.value_counts(normalize=True, dropna=False)"
   ]
  },
  {
   "cell_type": "code",
   "execution_count": 27,
   "id": "acc189ae",
   "metadata": {},
   "outputs": [
    {
     "data": {
      "text/plain": [
       "months_billing\n",
       " 1    0.4507\n",
       " 2    0.2655\n",
       " 3    0.0810\n",
       " 0    0.0718\n",
       " 4    0.0324\n",
       " 9    0.0213\n",
       " 5    0.0186\n",
       " 6    0.0116\n",
       " 10   0.0086\n",
       " 7    0.0083\n",
       " 8    0.0082\n",
       " 12   0.0067\n",
       " 11   0.0045\n",
       "-1    0.0016\n",
       " 13   0.0015\n",
       " 14   0.0012\n",
       " 15   0.0009\n",
       " 16   0.0006\n",
       "-2    0.0006\n",
       " 17   0.0005\n",
       "-4    0.0004\n",
       " 18   0.0004\n",
       "-3    0.0004\n",
       " 19   0.0003\n",
       " 20   0.0002\n",
       " 21   0.0002\n",
       "-5    0.0002\n",
       " 24   0.0001\n",
       " 22   0.0001\n",
       " 25   0.0001\n",
       " 23   0.0001\n",
       " 26   0.0001\n",
       " 28   0.0001\n",
       "-7    0.0001\n",
       "-11   0.0001\n",
       "-10   0.0001\n",
       "-9    0.0001\n",
       " 31   0.0001\n",
       " 27   0.0001\n",
       "-6    0.0001\n",
       "-8    0.0001\n",
       " 30   0.0001\n",
       " 29   0.0001\n",
       " 32   0.0001\n",
       "-13   0.0000\n",
       "-15   0.0000\n",
       "-16   0.0000\n",
       "-14   0.0000\n",
       "-12   0.0000\n",
       "-22   0.0000\n",
       "-17   0.0000\n",
       " 34   0.0000\n",
       "-18   0.0000\n",
       " 40   0.0000\n",
       " 38   0.0000\n",
       "-21   0.0000\n",
       "-32   0.0000\n",
       "-19   0.0000\n",
       " 36   0.0000\n",
       " 35   0.0000\n",
       "Name: proportion, dtype: float64"
      ]
     },
     "execution_count": 27,
     "metadata": {},
     "output_type": "execute_result"
    }
   ],
   "source": [
    "invoices['months_billing'] = invoices.cleared_date.dt.to_period('M') - invoices.invoice_date.dt.to_period('M')\n",
    "invoices.months_billing = invoices.months_billing.map(lambda m: m.n if not pandas.isnull(m) else None)\n",
    "#almost all invoices are cleared within a year. filter out ones that cleared before they opened. will clip to 12.  \n",
    "invoices.months_billing.value_counts(normalize=True, dropna=False)"
   ]
  },
  {
   "cell_type": "markdown",
   "id": "c8c2b0a0",
   "metadata": {},
   "source": [
    "### Exchange Rate\n",
    "\n",
    "Exchange rates vary for both payments and open invoices. Customers would expect to pay the amount they were originally invoiced in their own currency, not the USD amount originally invoiced. Therefore, we should use raw amounts to determine how much is paid vs due. "
   ]
  },
  {
   "cell_type": "code",
   "execution_count": 28,
   "id": "6ec1dfdb",
   "metadata": {},
   "outputs": [
    {
     "data": {
      "text/plain": [
       "<Axes: title={'center': 'Exchange Rate Spread Ratio'}, xlabel='currency'>"
      ]
     },
     "execution_count": 28,
     "metadata": {},
     "output_type": "execute_result"
    },
    {
     "data": {
      "image/png": "[encoded data removed]",
      "text/plain": [
       "<Figure size 640x480 with 1 Axes>"
      ]
     },
     "metadata": {},
     "output_type": "display_data"
    }
   ],
   "source": [
    "# USD is not is always 1 - it varies a lot\n",
    "currency_ranges = invoices.groupby(\"currency\").root_exchange_rate_value.describe(percentiles=[])\n",
    "(currency_ranges['max']/currency_ranges['min']).sort_values().plot(kind='bar', title=\"Exchange Rate Spread Ratio\")"
   ]
  },
  {
   "cell_type": "code",
   "execution_count": 29,
   "id": "37f3d04a",
   "metadata": {},
   "outputs": [
    {
     "data": {
      "text/plain": [
       "0.015620037873886994"
      ]
     },
     "execution_count": 29,
     "metadata": {},
     "output_type": "execute_result"
    }
   ],
   "source": [
    "# 1.6% of USD invoices have an exchange rate unequal to 1\n",
    "invoices_usd = invoices.query(\"currency=='USD'\").copy()\n",
    "invoices_usd['exchange_rate_is_1'] = invoices_usd['root_exchange_rate_value'] == 1\n",
    "1 - invoices_usd.exchange_rate_is_1.mean()"
   ]
  },
  {
   "cell_type": "code",
   "execution_count": 30,
   "id": "c8303b6f",
   "metadata": {},
   "outputs": [],
   "source": [
    "# USD exchange rate variations from 1 tend to be invoices which took longer to clear\n",
    "# This suggests that the invoice exchange rate is \"current state data.\" \n",
    "time_to_clear = invoices_usd.cleared_date - invoices_usd.invoice_date\n",
    "invoices_usd['months_to_clear'] = time_to_clear.map(lambda t: round(t.days/30))"
   ]
  },
  {
   "cell_type": "code",
   "execution_count": 31,
   "id": "9e76bf9f",
   "metadata": {},
   "outputs": [
    {
     "data": {
      "text/html": [
       "<div>\n",
       "<style scoped>\n",
       "    .dataframe tbody tr th:only-of-type {\n",
       "        vertical-align: middle;\n",
       "    }\n",
       "\n",
       "    .dataframe tbody tr th {\n",
       "        vertical-align: top;\n",
       "    }\n",
       "\n",
       "    .dataframe thead th {\n",
       "        text-align: right;\n",
       "    }\n",
       "</style>\n",
       "<table border=\"1\" class=\"dataframe\">\n",
       "  <thead>\n",
       "    <tr style=\"text-align: right;\">\n",
       "      <th></th>\n",
       "      <th>mean</th>\n",
       "      <th>count</th>\n",
       "    </tr>\n",
       "    <tr>\n",
       "      <th>exchange_rate_is_1</th>\n",
       "      <th></th>\n",
       "      <th></th>\n",
       "    </tr>\n",
       "  </thead>\n",
       "  <tbody>\n",
       "    <tr>\n",
       "      <th>False</th>\n",
       "      <td>2.9209</td>\n",
       "      <td>1328</td>\n",
       "    </tr>\n",
       "    <tr>\n",
       "      <th>True</th>\n",
       "      <td>1.8942</td>\n",
       "      <td>83691</td>\n",
       "    </tr>\n",
       "  </tbody>\n",
       "</table>\n",
       "</div>"
      ],
      "text/plain": [
       "                     mean  count\n",
       "exchange_rate_is_1              \n",
       "False              2.9209   1328\n",
       "True               1.8942  83691"
      ]
     },
     "execution_count": 31,
     "metadata": {},
     "output_type": "execute_result"
    }
   ],
   "source": [
    "invoices_usd.groupby(\"exchange_rate_is_1\").months_to_clear.agg(['mean','count'])"
   ]
  },
  {
   "cell_type": "code",
   "execution_count": 32,
   "id": "52048678",
   "metadata": {},
   "outputs": [
    {
     "data": {
      "text/plain": [
       "<Axes: title={'center': '% of USD Invoices With Exchange Rate Equal to 1'}, xlabel='months_to_clear'>"
      ]
     },
     "execution_count": 32,
     "metadata": {},
     "output_type": "execute_result"
    },
    {
     "data": {
      "image/png": "[encoded data removed]",
      "text/plain": [
       "<Figure size 1000x300 with 1 Axes>"
      ]
     },
     "metadata": {},
     "output_type": "display_data"
    }
   ],
   "source": [
    "invoices_usd.groupby(invoices_usd.months_to_clear.clip(upper=13, lower=-1))\\\n",
    ".exchange_rate_is_1.mean().plot(title='% of USD Invoices With Exchange Rate Equal to 1', figsize=figsize)"
   ]
  },
  {
   "cell_type": "markdown",
   "id": "576a3e07",
   "metadata": {},
   "source": [
    "### Invoice status vs cleared date\n",
    "\n",
    "All invoices have a date cleared. \n",
    "When an invoice is open, the date cleared is set to the future, and seems to be an assumed value. "
   ]
  },
  {
   "cell_type": "code",
   "execution_count": 33,
   "id": "4327f695",
   "metadata": {},
   "outputs": [
    {
     "data": {
      "text/plain": [
       "0"
      ]
     },
     "execution_count": 33,
     "metadata": {},
     "output_type": "execute_result"
    }
   ],
   "source": [
    "invoices.loc[invoices.cleared_date.isnull()].__len__()"
   ]
  },
  {
   "cell_type": "code",
   "execution_count": 34,
   "id": "4336b02c",
   "metadata": {},
   "outputs": [
    {
     "data": {
      "text/html": [
       "<div>\n",
       "<style scoped>\n",
       "    .dataframe tbody tr th:only-of-type {\n",
       "        vertical-align: middle;\n",
       "    }\n",
       "\n",
       "    .dataframe tbody tr th {\n",
       "        vertical-align: top;\n",
       "    }\n",
       "\n",
       "    .dataframe thead th {\n",
       "        text-align: right;\n",
       "    }\n",
       "</style>\n",
       "<table border=\"1\" class=\"dataframe\">\n",
       "  <thead>\n",
       "    <tr style=\"text-align: right;\">\n",
       "      <th></th>\n",
       "      <th>% of Invoices</th>\n",
       "    </tr>\n",
       "    <tr>\n",
       "      <th>status</th>\n",
       "      <th></th>\n",
       "    </tr>\n",
       "  </thead>\n",
       "  <tbody>\n",
       "    <tr>\n",
       "      <th>CLEARED</th>\n",
       "      <td>0.9679</td>\n",
       "    </tr>\n",
       "    <tr>\n",
       "      <th>OPEN</th>\n",
       "      <td>0.0321</td>\n",
       "    </tr>\n",
       "  </tbody>\n",
       "</table>\n",
       "</div>"
      ],
      "text/plain": [
       "         % of Invoices\n",
       "status                \n",
       "CLEARED         0.9679\n",
       "OPEN            0.0321"
      ]
     },
     "execution_count": 34,
     "metadata": {},
     "output_type": "execute_result"
    }
   ],
   "source": [
    "invoices.status.value_counts(normalize=True, dropna=False).to_frame(name=\"% of Invoices\")"
   ]
  },
  {
   "cell_type": "code",
   "execution_count": 35,
   "id": "8622afba",
   "metadata": {},
   "outputs": [
    {
     "data": {
      "text/plain": [
       "status  cleared_date\n",
       "OPEN    2022-01-01      3628\n",
       "Name: count, dtype: int64"
      ]
     },
     "execution_count": 35,
     "metadata": {},
     "output_type": "execute_result"
    }
   ],
   "source": [
    "invoices.loc[invoices.cleared_date.isnull() != (invoices.status == 'OPEN'),['status','cleared_date']]\\\n",
    ".value_counts(dropna=False)"
   ]
  },
  {
   "cell_type": "code",
   "execution_count": 36,
   "id": "0a462b77",
   "metadata": {},
   "outputs": [
    {
     "data": {
      "text/plain": [
       "cleared_date\n",
       "2022-01-01    3628\n",
       "Name: count, dtype: int64"
      ]
     },
     "execution_count": 36,
     "metadata": {},
     "output_type": "execute_result"
    }
   ],
   "source": [
    "#all open invoices have the same cleared date, which is in the future relative to the latest transaction\n",
    "invoices.loc[invoices.status == 'OPEN'].cleared_date.value_counts(dropna=False)"
   ]
  },
  {
   "cell_type": "code",
   "execution_count": 37,
   "id": "63f0ca5c",
   "metadata": {},
   "outputs": [
    {
     "data": {
      "text/html": [
       "<div>\n",
       "<style scoped>\n",
       "    .dataframe tbody tr th:only-of-type {\n",
       "        vertical-align: middle;\n",
       "    }\n",
       "\n",
       "    .dataframe tbody tr th {\n",
       "        vertical-align: top;\n",
       "    }\n",
       "\n",
       "    .dataframe thead th {\n",
       "        text-align: right;\n",
       "    }\n",
       "</style>\n",
       "<table border=\"1\" class=\"dataframe\">\n",
       "  <thead>\n",
       "    <tr style=\"text-align: right;\">\n",
       "      <th></th>\n",
       "      <th>invoice_date</th>\n",
       "      <th>cleared_date</th>\n",
       "    </tr>\n",
       "  </thead>\n",
       "  <tbody>\n",
       "    <tr>\n",
       "      <th>min</th>\n",
       "      <td>2011-04-02</td>\n",
       "      <td>2011-04-24</td>\n",
       "    </tr>\n",
       "    <tr>\n",
       "      <th>max</th>\n",
       "      <td>2021-05-12</td>\n",
       "      <td>2021-05-18</td>\n",
       "    </tr>\n",
       "  </tbody>\n",
       "</table>\n",
       "</div>"
      ],
      "text/plain": [
       "    invoice_date cleared_date\n",
       "min   2011-04-02   2011-04-24\n",
       "max   2021-05-12   2021-05-18"
      ]
     },
     "execution_count": 37,
     "metadata": {},
     "output_type": "execute_result"
    }
   ],
   "source": [
    "#all cleared invoices have a cleared date within the payments data window\n",
    "invoices.loc[invoices.status == 'CLEARED', ['invoice_date','cleared_date']].agg(['min','max'])"
   ]
  },
  {
   "cell_type": "code",
   "execution_count": 38,
   "id": "f9607700",
   "metadata": {},
   "outputs": [
    {
     "data": {
      "text/html": [
       "<div>\n",
       "<style scoped>\n",
       "    .dataframe tbody tr th:only-of-type {\n",
       "        vertical-align: middle;\n",
       "    }\n",
       "\n",
       "    .dataframe tbody tr th {\n",
       "        vertical-align: top;\n",
       "    }\n",
       "\n",
       "    .dataframe thead th {\n",
       "        text-align: right;\n",
       "    }\n",
       "</style>\n",
       "<table border=\"1\" class=\"dataframe\">\n",
       "  <thead>\n",
       "    <tr style=\"text-align: right;\">\n",
       "      <th></th>\n",
       "      <th>invoice_date</th>\n",
       "      <th>due_date</th>\n",
       "    </tr>\n",
       "  </thead>\n",
       "  <tbody>\n",
       "    <tr>\n",
       "      <th>min</th>\n",
       "      <td>2019-06-27</td>\n",
       "      <td>2019-08-31</td>\n",
       "    </tr>\n",
       "    <tr>\n",
       "      <th>max</th>\n",
       "      <td>2021-05-31</td>\n",
       "      <td>2021-08-29</td>\n",
       "    </tr>\n",
       "  </tbody>\n",
       "</table>\n",
       "</div>"
      ],
      "text/plain": [
       "    invoice_date   due_date\n",
       "min   2019-06-27 2019-08-31\n",
       "max   2021-05-31 2021-08-29"
      ]
     },
     "execution_count": 38,
     "metadata": {},
     "output_type": "execute_result"
    }
   ],
   "source": [
    "#open invoices are already active\n",
    "invoices.loc[invoices.status == 'OPEN', ['invoice_date','due_date']].agg(['min','max'])"
   ]
  },
  {
   "cell_type": "markdown",
   "id": "52df5086",
   "metadata": {},
   "source": [
    "### Merging & Checking for Consistency\n",
    "\n",
    "- No individual payments are more than their invoices. \n",
    "- Exchange rates vary across payments.\n",
    "- Companies are consistent between payments and invoices, when payments are present. \n",
    "- Amounts make the most sense in their original currencies vs in USD"
   ]
  },
  {
   "cell_type": "code",
   "execution_count": 39,
   "id": "07f0318a",
   "metadata": {},
   "outputs": [],
   "source": [
    "\n",
    "invoice_payments = invoices.rename(columns={\"amount_inv\":\"amount\",\"converted_amount_inv\":\"converted_amount\"})\\\n",
    ".merge(payments, on=\"invoice_id\", how='left', suffixes=('_inv', '_pmt'))"
   ]
  },
  {
   "cell_type": "code",
   "execution_count": 40,
   "id": "2b48c2d6",
   "metadata": {},
   "outputs": [
    {
     "data": {
      "text/plain": [
       "112913"
      ]
     },
     "execution_count": 40,
     "metadata": {},
     "output_type": "execute_result"
    }
   ],
   "source": [
    "invoice_payments.invoice_id.nunique()"
   ]
  },
  {
   "cell_type": "code",
   "execution_count": 41,
   "id": "ab2c6d57",
   "metadata": {},
   "outputs": [
    {
     "name": "stdout",
     "output_type": "stream",
     "text": [
      "amount: 0.18239483175591428 inconsistent rows in merged dataset\n",
      "root_exchange_rate_value: 0.3063540280671805 inconsistent rows in merged dataset\n",
      "company_id: 0.06677880149624683 inconsistent rows in merged dataset\n",
      "converted_amount: 0.38632122444539285 inconsistent rows in merged dataset\n"
     ]
    }
   ],
   "source": [
    "duplicated_columns = [col.replace('_pmt','') for col in invoice_payments.columns if col.endswith('_pmt')]\n",
    "for col in  duplicated_columns:\n",
    "    inconsistent_rows = invoice_payments.loc[invoice_payments[col + '_pmt']!=invoice_payments[col + '_inv']]\n",
    "    print(f\"{col}: {inconsistent_rows.__len__()/invoice_payments.__len__()} inconsistent rows in merged dataset\")"
   ]
  },
  {
   "cell_type": "code",
   "execution_count": 42,
   "id": "fde9fa68",
   "metadata": {},
   "outputs": [
    {
     "data": {
      "text/plain": [
       "company_id_pmt\n",
       "NaN    7980\n",
       "Name: count, dtype: int64"
      ]
     },
     "execution_count": 42,
     "metadata": {},
     "output_type": "execute_result"
    }
   ],
   "source": [
    "invoice_payments.query(\"company_id_pmt!=company_id_inv\").company_id_pmt.value_counts(dropna=False)"
   ]
  },
  {
   "cell_type": "code",
   "execution_count": 43,
   "id": "3f120623",
   "metadata": {},
   "outputs": [
    {
     "data": {
      "text/html": [
       "<div>\n",
       "<style scoped>\n",
       "    .dataframe tbody tr th:only-of-type {\n",
       "        vertical-align: middle;\n",
       "    }\n",
       "\n",
       "    .dataframe tbody tr th {\n",
       "        vertical-align: top;\n",
       "    }\n",
       "\n",
       "    .dataframe thead th {\n",
       "        text-align: right;\n",
       "    }\n",
       "</style>\n",
       "<table border=\"1\" class=\"dataframe\">\n",
       "  <thead>\n",
       "    <tr style=\"text-align: right;\">\n",
       "      <th></th>\n",
       "      <th>amount_pmt</th>\n",
       "      <th>amount_inv</th>\n",
       "    </tr>\n",
       "  </thead>\n",
       "  <tbody>\n",
       "    <tr>\n",
       "      <th>count</th>\n",
       "      <td>13,815.0000</td>\n",
       "      <td>21,796.0000</td>\n",
       "    </tr>\n",
       "    <tr>\n",
       "      <th>mean</th>\n",
       "      <td>5,018.7732</td>\n",
       "      <td>9,963.6640</td>\n",
       "    </tr>\n",
       "    <tr>\n",
       "      <th>std</th>\n",
       "      <td>5,889.9415</td>\n",
       "      <td>5,769.2289</td>\n",
       "    </tr>\n",
       "    <tr>\n",
       "      <th>min</th>\n",
       "      <td>0.0000</td>\n",
       "      <td>2.2108</td>\n",
       "    </tr>\n",
       "    <tr>\n",
       "      <th>25%</th>\n",
       "      <td>94.5230</td>\n",
       "      <td>4,944.9051</td>\n",
       "    </tr>\n",
       "    <tr>\n",
       "      <th>50%</th>\n",
       "      <td>2,088.1897</td>\n",
       "      <td>9,940.7486</td>\n",
       "    </tr>\n",
       "    <tr>\n",
       "      <th>75%</th>\n",
       "      <td>9,184.1173</td>\n",
       "      <td>14,931.6609</td>\n",
       "    </tr>\n",
       "    <tr>\n",
       "      <th>max</th>\n",
       "      <td>19,989.9866</td>\n",
       "      <td>19,999.9749</td>\n",
       "    </tr>\n",
       "  </tbody>\n",
       "</table>\n",
       "</div>"
      ],
      "text/plain": [
       "       amount_pmt  amount_inv\n",
       "count 13,815.0000 21,796.0000\n",
       "mean   5,018.7732  9,963.6640\n",
       "std    5,889.9415  5,769.2289\n",
       "min        0.0000      2.2108\n",
       "25%       94.5230  4,944.9051\n",
       "50%    2,088.1897  9,940.7486\n",
       "75%    9,184.1173 14,931.6609\n",
       "max   19,989.9866 19,999.9749"
      ]
     },
     "execution_count": 43,
     "metadata": {},
     "output_type": "execute_result"
    }
   ],
   "source": [
    "invoice_payments.query(\"amount_pmt!=amount_inv\")[['amount_pmt','amount_inv']].describe()"
   ]
  },
  {
   "cell_type": "code",
   "execution_count": 44,
   "id": "22b24d03",
   "metadata": {},
   "outputs": [
    {
     "data": {
      "text/plain": [
       "0"
      ]
     },
     "execution_count": 44,
     "metadata": {},
     "output_type": "execute_result"
    }
   ],
   "source": [
    "#no payment is more than the invoice amount in the original currency\n",
    "invoice_payments.loc[invoice_payments.amount_pmt>invoice_payments.amount_inv].__len__()"
   ]
  },
  {
   "cell_type": "code",
   "execution_count": 45,
   "id": "4408d839",
   "metadata": {},
   "outputs": [
    {
     "data": {
      "text/plain": [
       "11061"
      ]
     },
     "execution_count": 45,
     "metadata": {},
     "output_type": "execute_result"
    }
   ],
   "source": [
    "#converting to USD creates payments that are higher than invoice totals\n",
    "invoice_payments.loc[invoice_payments.converted_amount_pmt>invoice_payments.converted_amount_inv].__len__()"
   ]
  },
  {
   "cell_type": "markdown",
   "id": "a69d4af2",
   "metadata": {},
   "source": [
    "### Business Questions for the Data"
   ]
  },
  {
   "cell_type": "code",
   "execution_count": 46,
   "id": "157a9942",
   "metadata": {},
   "outputs": [],
   "source": [
    "invoice_payments['amount_pmt_pct'] = (invoice_payments.amount_pmt/invoice_payments.amount_inv)"
   ]
  },
  {
   "cell_type": "code",
   "execution_count": 47,
   "id": "06ffb814",
   "metadata": {},
   "outputs": [
    {
     "data": {
      "text/plain": [
       "0.12388134650908374"
      ]
     },
     "execution_count": 47,
     "metadata": {},
     "output_type": "execute_result"
    }
   ],
   "source": [
    "# Rougly 12% of payments are partial\n",
    "(invoice_payments.amount_pmt_pct.dropna()<1).mean()"
   ]
  },
  {
   "cell_type": "code",
   "execution_count": 48,
   "id": "4e3b13a0",
   "metadata": {},
   "outputs": [
    {
     "data": {
      "text/plain": [
       "<Axes: title={'center': '% of Invoice Collected with Payment'}, ylabel='Frequency'>"
      ]
     },
     "execution_count": 48,
     "metadata": {},
     "output_type": "execute_result"
    },
    {
     "data": {
      "image/png": "[encoded data removed]",
      "text/plain": [
       "<Figure size 1000x300 with 1 Axes>"
      ]
     },
     "metadata": {},
     "output_type": "display_data"
    }
   ],
   "source": [
    "invoice_payments.amount_pmt_pct\\\n",
    ".plot(kind=\"hist\",bins=50, title=\"% of Invoice Collected with Payment\", figsize=figsize)"
   ]
  },
  {
   "cell_type": "code",
   "execution_count": 49,
   "id": "4b129f52",
   "metadata": {},
   "outputs": [],
   "source": [
    "invoice_payments.sort_values(by=['invoice_id','transaction_date'], inplace=True)"
   ]
  },
  {
   "cell_type": "code",
   "execution_count": 50,
   "id": "e925d3d7",
   "metadata": {},
   "outputs": [
    {
     "data": {
      "text/plain": [
       "<Axes: title={'center': 'Summed % of Invoice Collected with Payment'}, ylabel='Frequency'>"
      ]
     },
     "execution_count": 50,
     "metadata": {},
     "output_type": "execute_result"
    },
    {
     "data": {
      "image/png": "[encoded data removed]",
      "text/plain": [
       "<Figure size 1000x300 with 1 Axes>"
      ]
     },
     "metadata": {},
     "output_type": "display_data"
    }
   ],
   "source": [
    "invoice_payments.groupby(\"invoice_id\").amount_pmt_pct.cumsum()\\\n",
    ".plot(kind=\"hist\",bins=50, title=\"Summed % of Invoice Collected with Payment\", figsize=figsize)"
   ]
  },
  {
   "cell_type": "code",
   "execution_count": 51,
   "id": "efbdf0c2",
   "metadata": {},
   "outputs": [
    {
     "data": {
      "text/plain": [
       "0.006661143607896301"
      ]
     },
     "execution_count": 51,
     "metadata": {},
     "output_type": "execute_result"
    }
   ],
   "source": [
    "#small percent of payments represent overpayments\n",
    "invoice_payments['pmt_pct_cum'] = invoice_payments.groupby(\"invoice_id\").amount_pmt_pct.cumsum()\n",
    "(invoice_payments.pmt_pct_cum>1).mean()"
   ]
  },
  {
   "cell_type": "code",
   "execution_count": 52,
   "id": "2af39a56",
   "metadata": {},
   "outputs": [],
   "source": [
    "#invoices with no transactions: use payments data end date as date of 0 amount \n",
    "invoice_payments.transaction_month = invoice_payments.transaction_month.fillna(last_transaction_month)"
   ]
  },
  {
   "cell_type": "code",
   "execution_count": 53,
   "id": "af03015b",
   "metadata": {},
   "outputs": [
    {
     "data": {
      "text/plain": [
       "transaction_month\n",
       "1   0.9539\n",
       "2   0.0446\n",
       "3   0.0013\n",
       "4   0.0002\n",
       "5   0.0000\n",
       "Name: proportion, dtype: float64"
      ]
     },
     "execution_count": 53,
     "metadata": {},
     "output_type": "execute_result"
    }
   ],
   "source": [
    "#there can be multiple transactions per month\n",
    "invoice_payments.groupby([\"invoice_id\",\"transaction_month\"]).transaction_month\\\n",
    ".count().value_counts(normalize=True).head()"
   ]
  },
  {
   "cell_type": "code",
   "execution_count": 54,
   "id": "f6a5ac86",
   "metadata": {},
   "outputs": [
    {
     "data": {
      "text/plain": [
       "amount_pmt\n",
       "1   0.8843\n",
       "0   0.0700\n",
       "2   0.0444\n",
       "3   0.0012\n",
       "4   0.0001\n",
       "Name: proportion, dtype: float64"
      ]
     },
     "execution_count": 54,
     "metadata": {},
     "output_type": "execute_result"
    }
   ],
   "source": [
    "#the transactions are not duplicates\n",
    "invoice_payments.groupby([\"invoice_id\",\"transaction_month\"]).amount_pmt\\\n",
    ".nunique().value_counts(normalize=True).head()"
   ]
  },
  {
   "cell_type": "code",
   "execution_count": 55,
   "id": "40e60fa4",
   "metadata": {},
   "outputs": [
    {
     "data": {
      "text/plain": [
       "transaction_date\n",
       "1   0.9269\n",
       "0   0.0700\n",
       "2   0.0030\n",
       "3   0.0001\n",
       "Name: proportion, dtype: float64"
      ]
     },
     "execution_count": 55,
     "metadata": {},
     "output_type": "execute_result"
    }
   ],
   "source": [
    "#but they are almost always on the same day\n",
    "invoice_payments.groupby([\"invoice_id\",\"transaction_month\"]).transaction_date.nunique()\\\n",
    ".value_counts(normalize=True).head()"
   ]
  },
  {
   "cell_type": "code",
   "execution_count": 56,
   "id": "826fc7e4",
   "metadata": {},
   "outputs": [],
   "source": [
    "payment_totals = invoices.set_index('invoice_id')\n",
    "payment_totals['pmt_pct_cum'] = invoice_payments.groupby(\"invoice_id\").pmt_pct_cum.max().fillna(0)\n",
    "payment_totals['transaction_month_max'] = invoice_payments.groupby(\"invoice_id\").transaction_month.max()\n",
    "payment_totals['collected_month'] = invoice_payments.query(\"pmt_pct_cum>=1\")\\\n",
    ".groupby(\"invoice_id\").transaction_month.min()\n",
    "payment_totals.reset_index(inplace=True, names=['invoice_id']) "
   ]
  },
  {
   "cell_type": "markdown",
   "id": "2c6838d4",
   "metadata": {},
   "source": [
    "#### Comparing invoice status and % collected \n",
    "\n",
    "- Invoices with cleared status can still have amounts remaining. \n",
    "- Invoices with open status are rarely collected. "
   ]
  },
  {
   "cell_type": "code",
   "execution_count": 57,
   "id": "2230340c",
   "metadata": {},
   "outputs": [
    {
     "data": {
      "text/plain": [
       "0.9051924933355769"
      ]
     },
     "execution_count": 57,
     "metadata": {},
     "output_type": "execute_result"
    }
   ],
   "source": [
    "# define invoice as collected if payments meet invoice amount in original currencies. 91% are collected\n",
    "payment_totals['collected'] = payment_totals.collected_month.isnull()==False\n",
    "payment_totals.collected.mean()"
   ]
  },
  {
   "cell_type": "code",
   "execution_count": 58,
   "id": "94e6feea",
   "metadata": {},
   "outputs": [
    {
     "data": {
      "text/plain": [
       "0.9678690673350279"
      ]
     },
     "execution_count": 58,
     "metadata": {},
     "output_type": "execute_result"
    }
   ],
   "source": [
    "#define cleared based on status. 97% are cleared\n",
    "payment_totals['cleared'] = payment_totals.status=='CLEARED'\n",
    "payment_totals.cleared.mean()"
   ]
  },
  {
   "cell_type": "code",
   "execution_count": 59,
   "id": "c81b9f90",
   "metadata": {},
   "outputs": [
    {
     "data": {
      "text/plain": [
       "0.06271199950404294"
      ]
     },
     "execution_count": 59,
     "metadata": {},
     "output_type": "execute_result"
    }
   ],
   "source": [
    "#6% of invoices have a mismatch between collected and cleared \n",
    "(payment_totals.collected!=payment_totals.cleared).mean()"
   ]
  },
  {
   "cell_type": "code",
   "execution_count": 60,
   "id": "72a6281c",
   "metadata": {},
   "outputs": [
    {
     "data": {
      "text/html": [
       "<div>\n",
       "<style scoped>\n",
       "    .dataframe tbody tr th:only-of-type {\n",
       "        vertical-align: middle;\n",
       "    }\n",
       "\n",
       "    .dataframe tbody tr th {\n",
       "        vertical-align: top;\n",
       "    }\n",
       "\n",
       "    .dataframe thead th {\n",
       "        text-align: right;\n",
       "    }\n",
       "</style>\n",
       "<table border=\"1\" class=\"dataframe\">\n",
       "  <thead>\n",
       "    <tr style=\"text-align: right;\">\n",
       "      <th></th>\n",
       "      <th>status</th>\n",
       "      <th>collected</th>\n",
       "      <th>pmt_pct_cum</th>\n",
       "    </tr>\n",
       "  </thead>\n",
       "  <tbody>\n",
       "    <tr>\n",
       "      <th>0</th>\n",
       "      <td>CLEARED</td>\n",
       "      <td>0.9352</td>\n",
       "      <td>0.9573</td>\n",
       "    </tr>\n",
       "    <tr>\n",
       "      <th>1</th>\n",
       "      <td>OPEN</td>\n",
       "      <td>0.0006</td>\n",
       "      <td>0.0063</td>\n",
       "    </tr>\n",
       "  </tbody>\n",
       "</table>\n",
       "</div>"
      ],
      "text/plain": [
       "    status  collected  pmt_pct_cum\n",
       "0  CLEARED     0.9352       0.9573\n",
       "1     OPEN     0.0006       0.0063"
      ]
     },
     "execution_count": 60,
     "metadata": {},
     "output_type": "execute_result"
    }
   ],
   "source": [
    "#on average, 94% of cleared invoices are fully collected, compared to <1% of open ones\n",
    "#cleared invoices have 96% of their amounts collected on average\n",
    "payment_totals.groupby(\"status\", as_index=False)[['collected','pmt_pct_cum']].mean()"
   ]
  },
  {
   "cell_type": "code",
   "execution_count": 61,
   "id": "99b7334f",
   "metadata": {},
   "outputs": [
    {
     "data": {
      "text/html": [
       "<div>\n",
       "<style scoped>\n",
       "    .dataframe tbody tr th:only-of-type {\n",
       "        vertical-align: middle;\n",
       "    }\n",
       "\n",
       "    .dataframe tbody tr th {\n",
       "        vertical-align: top;\n",
       "    }\n",
       "\n",
       "    .dataframe thead th {\n",
       "        text-align: right;\n",
       "    }\n",
       "</style>\n",
       "<table border=\"1\" class=\"dataframe\">\n",
       "  <thead>\n",
       "    <tr style=\"text-align: right;\">\n",
       "      <th></th>\n",
       "      <th>collected</th>\n",
       "      <th>cleared</th>\n",
       "    </tr>\n",
       "  </thead>\n",
       "  <tbody>\n",
       "    <tr>\n",
       "      <th>0</th>\n",
       "      <td>False</td>\n",
       "      <td>0.6613</td>\n",
       "    </tr>\n",
       "    <tr>\n",
       "      <th>1</th>\n",
       "      <td>True</td>\n",
       "      <td>1.0000</td>\n",
       "    </tr>\n",
       "  </tbody>\n",
       "</table>\n",
       "</div>"
      ],
      "text/plain": [
       "   collected  cleared\n",
       "0      False   0.6613\n",
       "1       True   1.0000"
      ]
     },
     "execution_count": 61,
     "metadata": {},
     "output_type": "execute_result"
    }
   ],
   "source": [
    "#67% of invoices that have not been collected are cleared nonetheless \n",
    "payment_totals.groupby(\"collected\", as_index=False).cleared.mean()"
   ]
  },
  {
   "cell_type": "markdown",
   "id": "8f6c40bb",
   "metadata": {},
   "source": [
    "#### Cleared Invoices\n",
    "\n",
    "Cleared invoices may or may not be collected. If not collected, cleared invoices tend to be much more overdue, suggesting that invoices must be cleared at some point."
   ]
  },
  {
   "cell_type": "code",
   "execution_count": 62,
   "id": "f85138a2",
   "metadata": {},
   "outputs": [],
   "source": [
    "cleared_invoices = payment_totals.query(\"cleared == True\").copy()\n",
    "cleared_invoices['months_late'] = \\\n",
    "(cleared_invoices.collected_month.fillna(cleared_invoices.transaction_month_max).dt.to_period('M')\\\n",
    "- cleared_invoices.due_month.dt.to_period('M')).map(lambda m: m.n if not pandas.isnull(m) else None)"
   ]
  },
  {
   "cell_type": "code",
   "execution_count": 63,
   "id": "e6fa6a68",
   "metadata": {},
   "outputs": [
    {
     "data": {
      "text/html": [
       "<div>\n",
       "<style scoped>\n",
       "    .dataframe tbody tr th:only-of-type {\n",
       "        vertical-align: middle;\n",
       "    }\n",
       "\n",
       "    .dataframe tbody tr th {\n",
       "        vertical-align: top;\n",
       "    }\n",
       "\n",
       "    .dataframe thead th {\n",
       "        text-align: right;\n",
       "    }\n",
       "</style>\n",
       "<table border=\"1\" class=\"dataframe\">\n",
       "  <thead>\n",
       "    <tr style=\"text-align: right;\">\n",
       "      <th></th>\n",
       "      <th>mean</th>\n",
       "      <th>min</th>\n",
       "      <th>max</th>\n",
       "    </tr>\n",
       "    <tr>\n",
       "      <th>collected</th>\n",
       "      <th></th>\n",
       "      <th></th>\n",
       "      <th></th>\n",
       "    </tr>\n",
       "  </thead>\n",
       "  <tbody>\n",
       "    <tr>\n",
       "      <th>False</th>\n",
       "      <td>26.3719</td>\n",
       "      <td>-34</td>\n",
       "      <td>118</td>\n",
       "    </tr>\n",
       "    <tr>\n",
       "      <th>True</th>\n",
       "      <td>0.5463</td>\n",
       "      <td>-23</td>\n",
       "      <td>28</td>\n",
       "    </tr>\n",
       "  </tbody>\n",
       "</table>\n",
       "</div>"
      ],
      "text/plain": [
       "             mean  min  max\n",
       "collected                  \n",
       "False     26.3719  -34  118\n",
       "True       0.5463  -23   28"
      ]
     },
     "execution_count": 63,
     "metadata": {},
     "output_type": "execute_result"
    }
   ],
   "source": [
    "cleared_invoices.groupby(\"collected\").months_late.agg(['mean','min','max'])"
   ]
  },
  {
   "cell_type": "markdown",
   "id": "cd6f5008",
   "metadata": {},
   "source": [
    "#### Comparing date cleared to date collected\n",
    "\n",
    "Rarely, there can be a delay between the date an invoice is collected to when it is cleared. We will only forecast invoices when they are open AND not collected. "
   ]
  },
  {
   "cell_type": "code",
   "execution_count": 64,
   "id": "e9b7eff9",
   "metadata": {},
   "outputs": [],
   "source": [
    "payment_totals['clear_delay_months'] = (payment_totals.cleared_date.dt.to_period('M') \\\n",
    "- payment_totals.collected_month.dt.to_period('M')).map(lambda m: m.n if not pandas.isnull(m) else None)"
   ]
  },
  {
   "cell_type": "code",
   "execution_count": 65,
   "id": "01c68720",
   "metadata": {},
   "outputs": [
    {
     "data": {
      "text/plain": [
       "112913"
      ]
     },
     "execution_count": 65,
     "metadata": {},
     "output_type": "execute_result"
    }
   ],
   "source": [
    "payment_totals.__len__()"
   ]
  },
  {
   "cell_type": "code",
   "execution_count": 66,
   "id": "bd45848a",
   "metadata": {},
   "outputs": [
    {
     "data": {
      "text/plain": [
       "count   102,208.0000\n",
       "mean          0.1623\n",
       "std           1.3627\n",
       "min          -1.0000\n",
       "0.1%          0.0000\n",
       "50%           0.0000\n",
       "99.9%        20.0000\n",
       "max          39.0000\n",
       "Name: clear_delay_months, dtype: float64"
      ]
     },
     "execution_count": 66,
     "metadata": {},
     "output_type": "execute_result"
    }
   ],
   "source": [
    "payment_totals.clear_delay_months.describe(percentiles=[0.001,0.999])"
   ]
  },
  {
   "cell_type": "markdown",
   "id": "6cb32341",
   "metadata": {},
   "source": [
    "# Structuring Data for Business Problem\n",
    "\n",
    "- The model will handle OPEN invoices and classify how many months in the future they will be collected. \n",
    "- Define an invoice as open between its invoice date and date cleared or collected, whichever is first. "
   ]
  },
  {
   "cell_type": "markdown",
   "id": "27fb42d1",
   "metadata": {},
   "source": [
    "## Creating transaction periods to model historical invoices\n",
    "\n",
    "To model the data, we have to look the invoices in each prior period they were open and calculate when they are collected relative to that time. \n",
    "\n",
    "To ensure completeness, the periods we use for modeling must fall within the date range of the transactions data. Since we will forecast a year in advance, the forecast period must also be at a year prior to when the transactions data ends, keeping in mind that the last month of transactions is incomplete. "
   ]
  },
  {
   "cell_type": "code",
   "execution_count": 67,
   "id": "f8632c07",
   "metadata": {},
   "outputs": [
    {
     "data": {
      "text/plain": [
       "min    2011-04\n",
       "max    2020-04\n",
       "Name: forecast_month, dtype: period[M]"
      ]
     },
     "execution_count": 67,
     "metadata": {},
     "output_type": "execute_result"
    }
   ],
   "source": [
    "import random\n",
    "def forecast_periods(invoice_month, last_billing_date):\n",
    "    period_start = max(invoice_month,first_transaction_month.to_period('M'))\n",
    "    period_end = min(last_billing_date,(last_transaction_month - pandas.DateOffset(months=13)).to_period('M'))\n",
    "    period_range = pandas.period_range(period_start, period_end)\n",
    "    if len(period_range)==0:\n",
    "        return None\n",
    "    return random.choice(period_range)\n",
    "\n",
    "payment_totals['last_forecast_date'] = payment_totals[['cleared_date','collected_month']].min(axis=1)\n",
    "payment_totals['forecast_month'] = numpy.vectorize(forecast_periods)\\\n",
    "(payment_totals.invoice_month.dt.to_period('M'), payment_totals.last_forecast_date.dt.to_period('M'))\n",
    "payment_totals.forecast_month.agg(['min','max'])"
   ]
  },
  {
   "cell_type": "markdown",
   "id": "ce621e5a",
   "metadata": {},
   "source": [
    "## Live test cases: current open invoices\n",
    "\n",
    "Invoices that we will predict after creating the model, without knowing the accuracy of the predictions. \n",
    "Per the instructions, we only predict collection dates for open invoices. \n",
    "\n",
    "Use the day after the payments data ends as the present date. "
   ]
  },
  {
   "cell_type": "code",
   "execution_count": 68,
   "id": "ada7523a",
   "metadata": {},
   "outputs": [],
   "source": [
    "present_month = last_transaction_month + pandas.DateOffset(months=1)\n",
    "open_invoices = invoices.query(\"status=='OPEN'\").copy()\n",
    "open_invoices['forecast_month'] = present_month.to_period('M')"
   ]
  },
  {
   "cell_type": "code",
   "execution_count": 69,
   "id": "8425f90b",
   "metadata": {},
   "outputs": [
    {
     "data": {
      "text/html": [
       "<div>\n",
       "<style scoped>\n",
       "    .dataframe tbody tr th:only-of-type {\n",
       "        vertical-align: middle;\n",
       "    }\n",
       "\n",
       "    .dataframe tbody tr th {\n",
       "        vertical-align: top;\n",
       "    }\n",
       "\n",
       "    .dataframe thead th {\n",
       "        text-align: right;\n",
       "    }\n",
       "</style>\n",
       "<table border=\"1\" class=\"dataframe\">\n",
       "  <thead>\n",
       "    <tr style=\"text-align: right;\">\n",
       "      <th></th>\n",
       "      <th>forecast_month</th>\n",
       "      <th>invoice_month</th>\n",
       "    </tr>\n",
       "  </thead>\n",
       "  <tbody>\n",
       "    <tr>\n",
       "      <th>min</th>\n",
       "      <td>2021-06</td>\n",
       "      <td>2019-06-01 00:00:00</td>\n",
       "    </tr>\n",
       "    <tr>\n",
       "      <th>max</th>\n",
       "      <td>2021-06</td>\n",
       "      <td>2021-05-01 00:00:00</td>\n",
       "    </tr>\n",
       "    <tr>\n",
       "      <th>count</th>\n",
       "      <td>3628</td>\n",
       "      <td>3628</td>\n",
       "    </tr>\n",
       "  </tbody>\n",
       "</table>\n",
       "</div>"
      ],
      "text/plain": [
       "      forecast_month        invoice_month\n",
       "min          2021-06  2019-06-01 00:00:00\n",
       "max          2021-06  2021-05-01 00:00:00\n",
       "count           3628                 3628"
      ]
     },
     "execution_count": 69,
     "metadata": {},
     "output_type": "execute_result"
    }
   ],
   "source": [
    "open_invoices[[\"forecast_month\",\"invoice_month\"]].agg(['min','max','count'])"
   ]
  },
  {
   "cell_type": "markdown",
   "id": "77bfd77e",
   "metadata": {},
   "source": [
    "## Process inputs for model training and predictions\n",
    "\n",
    "Normalizing by company:\n",
    "Tesorio's pricing model is subscription, so Tesorio's revenue will be loosely based on paying customers per period. \n",
    "Normalizing amounts by company means each company will be of equal value each month they retain with Tesorio, regardless of their total cash flow. "
   ]
  },
  {
   "cell_type": "code",
   "execution_count": 70,
   "id": "c8f4924e",
   "metadata": {},
   "outputs": [],
   "source": [
    "def process_model_inputs(invoices_at_time_periods):\n",
    "    raw_input_columns = ['invoice_id','invoice_month','forecast_month','due_month',\n",
    "                         'months_allowed','amount_inv', 'converted_amount_inv',\n",
    "                         'currency','company_id','customer_id']\n",
    "    output_col = 'collected_month'\n",
    "    if output_col in invoices_at_time_periods.columns:\n",
    "        raw_input_columns += [output_col, 'cleared_date']\n",
    "    output_df = invoices_at_time_periods[raw_input_columns]\n",
    "    #remove months_allowed > 3\n",
    "    output_df = output_df[output_df.months_allowed.between(0,3)]\n",
    "    #only forecast when the invoice is active. \n",
    "    output_df = output_df[output_df.forecast_month>=output_df.invoice_month.dt.to_period('M')]\n",
    "    #normalize by company\n",
    "    totals_by_company = output_df.groupby(\"company_id\", as_index=False).converted_amount_inv.sum()\n",
    "    output_df = output_df.merge(totals_by_company,on=\"company_id\", suffixes=('','_company'))\n",
    "    inv_pct_of_company_total = output_df.converted_amount_inv/output_df.converted_amount_inv_company\n",
    "    output_df['inv_pct_of_company_total'] = inv_pct_of_company_total\n",
    "    output_df.drop(columns=[\"converted_amount_inv\"], inplace=True)\n",
    "    #date quantities\n",
    "    output_df['month_billing'] = (output_df.forecast_month \\\n",
    "                                  - output_df.invoice_month.dt.to_period('M')).map(lambda m: m.n+1).clip(upper=13, lower=1)\n",
    "    output_df['month_due'] = (output_df.due_month.dt.to_period('M') \\\n",
    "                                  - output_df.forecast_month).map(lambda m: m.n+1).clip(upper=13, lower=1)\n",
    "    output_df.forecast_month = output_df.forecast_month.dt.to_timestamp()\n",
    "    return output_df\n",
    "\n",
    "open_invoices_to_score = process_model_inputs(open_invoices)\n",
    "invoices_to_model = process_model_inputs(payment_totals)"
   ]
  },
  {
   "cell_type": "code",
   "execution_count": 71,
   "id": "67ceb1d7",
   "metadata": {},
   "outputs": [
    {
     "data": {
      "text/html": [
       "<div>\n",
       "<style scoped>\n",
       "    .dataframe tbody tr th:only-of-type {\n",
       "        vertical-align: middle;\n",
       "    }\n",
       "\n",
       "    .dataframe tbody tr th {\n",
       "        vertical-align: top;\n",
       "    }\n",
       "\n",
       "    .dataframe thead th {\n",
       "        text-align: right;\n",
       "    }\n",
       "</style>\n",
       "<table border=\"1\" class=\"dataframe\">\n",
       "  <thead>\n",
       "    <tr style=\"text-align: right;\">\n",
       "      <th></th>\n",
       "      <th>count</th>\n",
       "      <th>unique</th>\n",
       "      <th>top</th>\n",
       "      <th>freq</th>\n",
       "      <th>mean</th>\n",
       "      <th>min</th>\n",
       "      <th>0.1%</th>\n",
       "      <th>50%</th>\n",
       "      <th>99.9%</th>\n",
       "      <th>max</th>\n",
       "      <th>std</th>\n",
       "    </tr>\n",
       "  </thead>\n",
       "  <tbody>\n",
       "    <tr>\n",
       "      <th>invoice_id</th>\n",
       "      <td>3615</td>\n",
       "      <td>3615</td>\n",
       "      <td>12</td>\n",
       "      <td>1</td>\n",
       "      <td>NaN</td>\n",
       "      <td>NaN</td>\n",
       "      <td>NaN</td>\n",
       "      <td>NaN</td>\n",
       "      <td>NaN</td>\n",
       "      <td>NaN</td>\n",
       "      <td>NaN</td>\n",
       "    </tr>\n",
       "    <tr>\n",
       "      <th>invoice_month</th>\n",
       "      <td>3615</td>\n",
       "      <td>NaN</td>\n",
       "      <td>NaN</td>\n",
       "      <td>NaN</td>\n",
       "      <td>2021-03-06 15:24:08.962655744</td>\n",
       "      <td>2019-06-01 00:00:00</td>\n",
       "      <td>2020-03-01 00:00:00</td>\n",
       "      <td>2021-04-01 00:00:00</td>\n",
       "      <td>2021-05-01 00:00:00</td>\n",
       "      <td>2021-05-01 00:00:00</td>\n",
       "      <td>NaN</td>\n",
       "    </tr>\n",
       "    <tr>\n",
       "      <th>forecast_month</th>\n",
       "      <td>3615</td>\n",
       "      <td>NaN</td>\n",
       "      <td>NaN</td>\n",
       "      <td>NaN</td>\n",
       "      <td>2021-05-31 23:59:59.999999744</td>\n",
       "      <td>2021-06-01 00:00:00</td>\n",
       "      <td>2021-06-01 00:00:00</td>\n",
       "      <td>2021-06-01 00:00:00</td>\n",
       "      <td>2021-06-01 00:00:00</td>\n",
       "      <td>2021-06-01 00:00:00</td>\n",
       "      <td>NaN</td>\n",
       "    </tr>\n",
       "    <tr>\n",
       "      <th>due_month</th>\n",
       "      <td>3615</td>\n",
       "      <td>NaN</td>\n",
       "      <td>NaN</td>\n",
       "      <td>NaN</td>\n",
       "      <td>2021-04-15 11:37:53.526970880</td>\n",
       "      <td>2019-08-01 00:00:00</td>\n",
       "      <td>2020-05-20 00:48:57.600000</td>\n",
       "      <td>2021-05-01 00:00:00</td>\n",
       "      <td>2021-07-01 00:00:00</td>\n",
       "      <td>2021-07-01 00:00:00</td>\n",
       "      <td>NaN</td>\n",
       "    </tr>\n",
       "    <tr>\n",
       "      <th>months_allowed</th>\n",
       "      <td>3,615.0000</td>\n",
       "      <td>NaN</td>\n",
       "      <td>NaN</td>\n",
       "      <td>NaN</td>\n",
       "      <td>1.3259</td>\n",
       "      <td>0.0000</td>\n",
       "      <td>0.0000</td>\n",
       "      <td>1.0000</td>\n",
       "      <td>3.0000</td>\n",
       "      <td>3.0000</td>\n",
       "      <td>0.6451</td>\n",
       "    </tr>\n",
       "    <tr>\n",
       "      <th>amount_inv</th>\n",
       "      <td>3,615.0000</td>\n",
       "      <td>NaN</td>\n",
       "      <td>NaN</td>\n",
       "      <td>NaN</td>\n",
       "      <td>10,004.6636</td>\n",
       "      <td>2.2108</td>\n",
       "      <td>9.2204</td>\n",
       "      <td>9,925.4947</td>\n",
       "      <td>19,981.8147</td>\n",
       "      <td>19,989.6533</td>\n",
       "      <td>5,764.6267</td>\n",
       "    </tr>\n",
       "    <tr>\n",
       "      <th>currency</th>\n",
       "      <td>3615</td>\n",
       "      <td>11</td>\n",
       "      <td>USD</td>\n",
       "      <td>2837</td>\n",
       "      <td>NaN</td>\n",
       "      <td>NaN</td>\n",
       "      <td>NaN</td>\n",
       "      <td>NaN</td>\n",
       "      <td>NaN</td>\n",
       "      <td>NaN</td>\n",
       "      <td>NaN</td>\n",
       "    </tr>\n",
       "    <tr>\n",
       "      <th>company_id</th>\n",
       "      <td>3615</td>\n",
       "      <td>2</td>\n",
       "      <td>114</td>\n",
       "      <td>3568</td>\n",
       "      <td>NaN</td>\n",
       "      <td>NaN</td>\n",
       "      <td>NaN</td>\n",
       "      <td>NaN</td>\n",
       "      <td>NaN</td>\n",
       "      <td>NaN</td>\n",
       "      <td>NaN</td>\n",
       "    </tr>\n",
       "    <tr>\n",
       "      <th>customer_id</th>\n",
       "      <td>3615</td>\n",
       "      <td>1153</td>\n",
       "      <td>105</td>\n",
       "      <td>68</td>\n",
       "      <td>NaN</td>\n",
       "      <td>NaN</td>\n",
       "      <td>NaN</td>\n",
       "      <td>NaN</td>\n",
       "      <td>NaN</td>\n",
       "      <td>NaN</td>\n",
       "      <td>NaN</td>\n",
       "    </tr>\n",
       "    <tr>\n",
       "      <th>converted_amount_inv_company</th>\n",
       "      <td>3,615.0000</td>\n",
       "      <td>NaN</td>\n",
       "      <td>NaN</td>\n",
       "      <td>NaN</td>\n",
       "      <td>34,354,885.0573</td>\n",
       "      <td>527,349.8488</td>\n",
       "      <td>527,349.8488</td>\n",
       "      <td>34,800,483.1949</td>\n",
       "      <td>34,800,483.1949</td>\n",
       "      <td>34,800,483.1949</td>\n",
       "      <td>3,882,995.9499</td>\n",
       "    </tr>\n",
       "    <tr>\n",
       "      <th>inv_pct_of_company_total</th>\n",
       "      <td>3,615.0000</td>\n",
       "      <td>NaN</td>\n",
       "      <td>NaN</td>\n",
       "      <td>NaN</td>\n",
       "      <td>0.0006</td>\n",
       "      <td>0.0000</td>\n",
       "      <td>0.0000</td>\n",
       "      <td>0.0003</td>\n",
       "      <td>0.0361</td>\n",
       "      <td>0.0375</td>\n",
       "      <td>0.0027</td>\n",
       "    </tr>\n",
       "    <tr>\n",
       "      <th>month_billing</th>\n",
       "      <td>3,615.0000</td>\n",
       "      <td>NaN</td>\n",
       "      <td>NaN</td>\n",
       "      <td>NaN</td>\n",
       "      <td>3.8304</td>\n",
       "      <td>2.0000</td>\n",
       "      <td>2.0000</td>\n",
       "      <td>3.0000</td>\n",
       "      <td>13.0000</td>\n",
       "      <td>13.0000</td>\n",
       "      <td>1.4141</td>\n",
       "    </tr>\n",
       "    <tr>\n",
       "      <th>month_due</th>\n",
       "      <td>3,615.0000</td>\n",
       "      <td>NaN</td>\n",
       "      <td>NaN</td>\n",
       "      <td>NaN</td>\n",
       "      <td>1.0172</td>\n",
       "      <td>1.0000</td>\n",
       "      <td>1.0000</td>\n",
       "      <td>1.0000</td>\n",
       "      <td>2.0000</td>\n",
       "      <td>2.0000</td>\n",
       "      <td>0.1299</td>\n",
       "    </tr>\n",
       "  </tbody>\n",
       "</table>\n",
       "</div>"
      ],
      "text/plain": [
       "                                  count unique  top  freq   \n",
       "invoice_id                         3615   3615   12     1  \\\n",
       "invoice_month                      3615    NaN  NaN   NaN   \n",
       "forecast_month                     3615    NaN  NaN   NaN   \n",
       "due_month                          3615    NaN  NaN   NaN   \n",
       "months_allowed               3,615.0000    NaN  NaN   NaN   \n",
       "amount_inv                   3,615.0000    NaN  NaN   NaN   \n",
       "currency                           3615     11  USD  2837   \n",
       "company_id                         3615      2  114  3568   \n",
       "customer_id                        3615   1153  105    68   \n",
       "converted_amount_inv_company 3,615.0000    NaN  NaN   NaN   \n",
       "inv_pct_of_company_total     3,615.0000    NaN  NaN   NaN   \n",
       "month_billing                3,615.0000    NaN  NaN   NaN   \n",
       "month_due                    3,615.0000    NaN  NaN   NaN   \n",
       "\n",
       "                                                       mean   \n",
       "invoice_id                                              NaN  \\\n",
       "invoice_month                 2021-03-06 15:24:08.962655744   \n",
       "forecast_month                2021-05-31 23:59:59.999999744   \n",
       "due_month                     2021-04-15 11:37:53.526970880   \n",
       "months_allowed                                       1.3259   \n",
       "amount_inv                                      10,004.6636   \n",
       "currency                                                NaN   \n",
       "company_id                                              NaN   \n",
       "customer_id                                             NaN   \n",
       "converted_amount_inv_company                34,354,885.0573   \n",
       "inv_pct_of_company_total                             0.0006   \n",
       "month_billing                                        3.8304   \n",
       "month_due                                            1.0172   \n",
       "\n",
       "                                              min                        0.1%   \n",
       "invoice_id                                    NaN                         NaN  \\\n",
       "invoice_month                 2019-06-01 00:00:00         2020-03-01 00:00:00   \n",
       "forecast_month                2021-06-01 00:00:00         2021-06-01 00:00:00   \n",
       "due_month                     2019-08-01 00:00:00  2020-05-20 00:48:57.600000   \n",
       "months_allowed                             0.0000                      0.0000   \n",
       "amount_inv                                 2.2108                      9.2204   \n",
       "currency                                      NaN                         NaN   \n",
       "company_id                                    NaN                         NaN   \n",
       "customer_id                                   NaN                         NaN   \n",
       "converted_amount_inv_company         527,349.8488                527,349.8488   \n",
       "inv_pct_of_company_total                   0.0000                      0.0000   \n",
       "month_billing                              2.0000                      2.0000   \n",
       "month_due                                  1.0000                      1.0000   \n",
       "\n",
       "                                              50%                99.9%   \n",
       "invoice_id                                    NaN                  NaN  \\\n",
       "invoice_month                 2021-04-01 00:00:00  2021-05-01 00:00:00   \n",
       "forecast_month                2021-06-01 00:00:00  2021-06-01 00:00:00   \n",
       "due_month                     2021-05-01 00:00:00  2021-07-01 00:00:00   \n",
       "months_allowed                             1.0000               3.0000   \n",
       "amount_inv                             9,925.4947          19,981.8147   \n",
       "currency                                      NaN                  NaN   \n",
       "company_id                                    NaN                  NaN   \n",
       "customer_id                                   NaN                  NaN   \n",
       "converted_amount_inv_company      34,800,483.1949      34,800,483.1949   \n",
       "inv_pct_of_company_total                   0.0003               0.0361   \n",
       "month_billing                              3.0000              13.0000   \n",
       "month_due                                  1.0000               2.0000   \n",
       "\n",
       "                                              max            std  \n",
       "invoice_id                                    NaN            NaN  \n",
       "invoice_month                 2021-05-01 00:00:00            NaN  \n",
       "forecast_month                2021-06-01 00:00:00            NaN  \n",
       "due_month                     2021-07-01 00:00:00            NaN  \n",
       "months_allowed                             3.0000         0.6451  \n",
       "amount_inv                            19,989.6533     5,764.6267  \n",
       "currency                                      NaN            NaN  \n",
       "company_id                                    NaN            NaN  \n",
       "customer_id                                   NaN            NaN  \n",
       "converted_amount_inv_company      34,800,483.1949 3,882,995.9499  \n",
       "inv_pct_of_company_total                   0.0375         0.0027  \n",
       "month_billing                             13.0000         1.4141  \n",
       "month_due                                  2.0000         0.1299  "
      ]
     },
     "execution_count": 71,
     "metadata": {},
     "output_type": "execute_result"
    }
   ],
   "source": [
    "open_invoices_to_score.describe(include='all', percentiles=[0.001,0.999]).T"
   ]
  },
  {
   "cell_type": "markdown",
   "id": "3bbfb30e",
   "metadata": {},
   "source": [
    "## Selecting prediction target\n",
    "\n",
    "Predict collection relative to forecast date. \n",
    "\n",
    "Normalization:\n",
    "- If the invoice isn't collected within the payments data time period, assume it's collected the day after, which we are using as the present date. \n",
    "- Clip collection period to 13 months, which is outside the forecast window.\n",
    "- Calculate collection period using billing period as the unit.\n",
    "- Invert to create % collected per billing period."
   ]
  },
  {
   "cell_type": "code",
   "execution_count": 72,
   "id": "2dac208e",
   "metadata": {},
   "outputs": [
    {
     "data": {
      "text/plain": [
       "<Axes: title={'center': 'Month Collected Relative to Forecast Date'}, ylabel='Frequency'>"
      ]
     },
     "execution_count": 72,
     "metadata": {},
     "output_type": "execute_result"
    },
    {
     "data": {
      "image/png": "[encoded data removed]",
      "text/plain": [
       "<Figure size 1000x300 with 1 Axes>"
      ]
     },
     "metadata": {},
     "output_type": "display_data"
    }
   ],
   "source": [
    "invoices_to_model['month_collected'] = (invoices_to_model.collected_month.fillna(present_month).dt.to_period('M')\n",
    "    - invoices_to_model.forecast_month.dt.to_period('M')).map(lambda m: int(m.n+1)).clip(upper=13)\n",
    "invoices_to_model.month_collected.plot(kind='hist', bins=14, figsize=figsize, \n",
    "title=\"Month Collected Relative to Forecast Date\", density=True)"
   ]
  },
  {
   "cell_type": "code",
   "execution_count": 73,
   "id": "5f72b3f7",
   "metadata": {},
   "outputs": [
    {
     "data": {
      "text/plain": [
       "<Axes: title={'center': 'Average % Collected Per Month'}, ylabel='Frequency'>"
      ]
     },
     "execution_count": 73,
     "metadata": {},
     "output_type": "execute_result"
    },
    {
     "data": {
      "image/png": "[encoded data removed]",
      "text/plain": [
       "<Figure size 1000x300 with 1 Axes>"
      ]
     },
     "metadata": {},
     "output_type": "display_data"
    }
   ],
   "source": [
    "invoices_to_model['collected_per_month'] = 1/invoices_to_model.month_collected\n",
    "invoices_to_model.collected_per_month\\\n",
    ".plot(kind='hist', bins=14, figsize=figsize, title=\"Average % Collected Per Month\")"
   ]
  },
  {
   "cell_type": "code",
   "execution_count": 74,
   "id": "5fe4f96b-910a-49c3-8353-5853b632576f",
   "metadata": {
    "tags": []
   },
   "outputs": [
    {
     "data": {
      "text/plain": [
       "<Axes: title={'center': 'Average % Due Per Month'}, ylabel='Frequency'>"
      ]
     },
     "execution_count": 74,
     "metadata": {},
     "output_type": "execute_result"
    },
    {
     "data": {
      "image/png": "[encoded data removed]",
      "text/plain": [
       "<Figure size 1000x300 with 1 Axes>"
      ]
     },
     "metadata": {},
     "output_type": "display_data"
    }
   ],
   "source": [
    "invoices_to_model['due_per_month'] = 1/invoices_to_model.month_due\n",
    "invoices_to_model.due_per_month\\\n",
    ".plot(kind='hist', bins=14, figsize=figsize, title=\"Average % Due Per Month\")"
   ]
  },
  {
   "cell_type": "code",
   "execution_count": 75,
   "id": "c2afab09",
   "metadata": {},
   "outputs": [
    {
     "data": {
      "text/html": [
       "<div>\n",
       "<style scoped>\n",
       "    .dataframe tbody tr th:only-of-type {\n",
       "        vertical-align: middle;\n",
       "    }\n",
       "\n",
       "    .dataframe tbody tr th {\n",
       "        vertical-align: top;\n",
       "    }\n",
       "\n",
       "    .dataframe thead th {\n",
       "        text-align: right;\n",
       "    }\n",
       "</style>\n",
       "<table border=\"1\" class=\"dataframe\">\n",
       "  <thead>\n",
       "    <tr style=\"text-align: right;\">\n",
       "      <th></th>\n",
       "      <th>count</th>\n",
       "      <th>unique</th>\n",
       "      <th>top</th>\n",
       "      <th>freq</th>\n",
       "      <th>mean</th>\n",
       "      <th>min</th>\n",
       "      <th>0.1%</th>\n",
       "      <th>50%</th>\n",
       "      <th>99.9%</th>\n",
       "      <th>max</th>\n",
       "      <th>std</th>\n",
       "    </tr>\n",
       "  </thead>\n",
       "  <tbody>\n",
       "    <tr>\n",
       "      <th>invoice_id</th>\n",
       "      <td>88615</td>\n",
       "      <td>88615</td>\n",
       "      <td>0</td>\n",
       "      <td>1</td>\n",
       "      <td>NaN</td>\n",
       "      <td>NaN</td>\n",
       "      <td>NaN</td>\n",
       "      <td>NaN</td>\n",
       "      <td>NaN</td>\n",
       "      <td>NaN</td>\n",
       "      <td>NaN</td>\n",
       "    </tr>\n",
       "    <tr>\n",
       "      <th>invoice_month</th>\n",
       "      <td>88615</td>\n",
       "      <td>NaN</td>\n",
       "      <td>NaN</td>\n",
       "      <td>NaN</td>\n",
       "      <td>2017-05-21 02:17:56.810923520</td>\n",
       "      <td>2011-04-01 00:00:00</td>\n",
       "      <td>2011-05-01 00:00:00</td>\n",
       "      <td>2017-11-01 00:00:00</td>\n",
       "      <td>2020-04-01 00:00:00</td>\n",
       "      <td>2020-04-01 00:00:00</td>\n",
       "      <td>NaN</td>\n",
       "    </tr>\n",
       "    <tr>\n",
       "      <th>forecast_month</th>\n",
       "      <td>88615</td>\n",
       "      <td>NaN</td>\n",
       "      <td>NaN</td>\n",
       "      <td>NaN</td>\n",
       "      <td>2017-06-17 00:37:32.259775488</td>\n",
       "      <td>2011-04-01 00:00:00</td>\n",
       "      <td>2011-06-01 00:00:00</td>\n",
       "      <td>2017-12-01 00:00:00</td>\n",
       "      <td>2020-04-01 00:00:00</td>\n",
       "      <td>2020-04-01 00:00:00</td>\n",
       "      <td>NaN</td>\n",
       "    </tr>\n",
       "    <tr>\n",
       "      <th>due_month</th>\n",
       "      <td>88615</td>\n",
       "      <td>NaN</td>\n",
       "      <td>NaN</td>\n",
       "      <td>NaN</td>\n",
       "      <td>2017-06-26 08:18:32.154827264</td>\n",
       "      <td>2011-04-01 00:00:00</td>\n",
       "      <td>2011-05-01 00:00:00</td>\n",
       "      <td>2017-12-01 00:00:00</td>\n",
       "      <td>2020-06-01 00:00:00</td>\n",
       "      <td>2020-07-01 00:00:00</td>\n",
       "      <td>NaN</td>\n",
       "    </tr>\n",
       "    <tr>\n",
       "      <th>months_allowed</th>\n",
       "      <td>88,615.0000</td>\n",
       "      <td>NaN</td>\n",
       "      <td>NaN</td>\n",
       "      <td>NaN</td>\n",
       "      <td>1.1910</td>\n",
       "      <td>0.0000</td>\n",
       "      <td>0.0000</td>\n",
       "      <td>1.0000</td>\n",
       "      <td>3.0000</td>\n",
       "      <td>3.0000</td>\n",
       "      <td>0.5011</td>\n",
       "    </tr>\n",
       "    <tr>\n",
       "      <th>amount_inv</th>\n",
       "      <td>88,615.0000</td>\n",
       "      <td>NaN</td>\n",
       "      <td>NaN</td>\n",
       "      <td>NaN</td>\n",
       "      <td>10,028.9255</td>\n",
       "      <td>0.3583</td>\n",
       "      <td>22.0021</td>\n",
       "      <td>10,032.9086</td>\n",
       "      <td>19,978.3454</td>\n",
       "      <td>19,999.9749</td>\n",
       "      <td>5,771.9138</td>\n",
       "    </tr>\n",
       "    <tr>\n",
       "      <th>currency</th>\n",
       "      <td>88615</td>\n",
       "      <td>17</td>\n",
       "      <td>USD</td>\n",
       "      <td>66319</td>\n",
       "      <td>NaN</td>\n",
       "      <td>NaN</td>\n",
       "      <td>NaN</td>\n",
       "      <td>NaN</td>\n",
       "      <td>NaN</td>\n",
       "      <td>NaN</td>\n",
       "      <td>NaN</td>\n",
       "    </tr>\n",
       "    <tr>\n",
       "      <th>company_id</th>\n",
       "      <td>88615</td>\n",
       "      <td>2</td>\n",
       "      <td>114</td>\n",
       "      <td>85821</td>\n",
       "      <td>NaN</td>\n",
       "      <td>NaN</td>\n",
       "      <td>NaN</td>\n",
       "      <td>NaN</td>\n",
       "      <td>NaN</td>\n",
       "      <td>NaN</td>\n",
       "      <td>NaN</td>\n",
       "    </tr>\n",
       "    <tr>\n",
       "      <th>customer_id</th>\n",
       "      <td>88615</td>\n",
       "      <td>4292</td>\n",
       "      <td>5</td>\n",
       "      <td>1617</td>\n",
       "      <td>NaN</td>\n",
       "      <td>NaN</td>\n",
       "      <td>NaN</td>\n",
       "      <td>NaN</td>\n",
       "      <td>NaN</td>\n",
       "      <td>NaN</td>\n",
       "      <td>NaN</td>\n",
       "    </tr>\n",
       "    <tr>\n",
       "      <th>collected_month</th>\n",
       "      <td>83102</td>\n",
       "      <td>NaN</td>\n",
       "      <td>NaN</td>\n",
       "      <td>NaN</td>\n",
       "      <td>2017-07-24 22:57:13.217010176</td>\n",
       "      <td>2011-04-01 00:00:00</td>\n",
       "      <td>2011-07-01 00:00:00</td>\n",
       "      <td>2018-01-01 00:00:00</td>\n",
       "      <td>2020-09-01 00:00:00</td>\n",
       "      <td>2021-03-01 00:00:00</td>\n",
       "      <td>NaN</td>\n",
       "    </tr>\n",
       "    <tr>\n",
       "      <th>converted_amount_inv_company</th>\n",
       "      <td>88,615.0000</td>\n",
       "      <td>NaN</td>\n",
       "      <td>NaN</td>\n",
       "      <td>NaN</td>\n",
       "      <td>809,573,458.8649</td>\n",
       "      <td>27,531,693.3375</td>\n",
       "      <td>27,531,693.3375</td>\n",
       "      <td>835,033,715.5956</td>\n",
       "      <td>835,033,715.5956</td>\n",
       "      <td>835,033,715.5956</td>\n",
       "      <td>141,107,082.8055</td>\n",
       "    </tr>\n",
       "    <tr>\n",
       "      <th>inv_pct_of_company_total</th>\n",
       "      <td>88,615.0000</td>\n",
       "      <td>NaN</td>\n",
       "      <td>NaN</td>\n",
       "      <td>NaN</td>\n",
       "      <td>0.0000</td>\n",
       "      <td>0.0000</td>\n",
       "      <td>0.0000</td>\n",
       "      <td>0.0000</td>\n",
       "      <td>0.0008</td>\n",
       "      <td>0.0012</td>\n",
       "      <td>0.0001</td>\n",
       "    </tr>\n",
       "    <tr>\n",
       "      <th>month_billing</th>\n",
       "      <td>88,615.0000</td>\n",
       "      <td>NaN</td>\n",
       "      <td>NaN</td>\n",
       "      <td>NaN</td>\n",
       "      <td>1.8828</td>\n",
       "      <td>1.0000</td>\n",
       "      <td>1.0000</td>\n",
       "      <td>2.0000</td>\n",
       "      <td>12.0000</td>\n",
       "      <td>13.0000</td>\n",
       "      <td>1.2110</td>\n",
       "    </tr>\n",
       "    <tr>\n",
       "      <th>month_due</th>\n",
       "      <td>88,615.0000</td>\n",
       "      <td>NaN</td>\n",
       "      <td>NaN</td>\n",
       "      <td>NaN</td>\n",
       "      <td>1.5813</td>\n",
       "      <td>1.0000</td>\n",
       "      <td>1.0000</td>\n",
       "      <td>1.0000</td>\n",
       "      <td>4.0000</td>\n",
       "      <td>4.0000</td>\n",
       "      <td>0.6523</td>\n",
       "    </tr>\n",
       "    <tr>\n",
       "      <th>month_collected</th>\n",
       "      <td>88,615.0000</td>\n",
       "      <td>NaN</td>\n",
       "      <td>NaN</td>\n",
       "      <td>NaN</td>\n",
       "      <td>2.6215</td>\n",
       "      <td>1.0000</td>\n",
       "      <td>1.0000</td>\n",
       "      <td>2.0000</td>\n",
       "      <td>13.0000</td>\n",
       "      <td>13.0000</td>\n",
       "      <td>2.9148</td>\n",
       "    </tr>\n",
       "    <tr>\n",
       "      <th>collected_per_month</th>\n",
       "      <td>88,615.0000</td>\n",
       "      <td>NaN</td>\n",
       "      <td>NaN</td>\n",
       "      <td>NaN</td>\n",
       "      <td>0.6304</td>\n",
       "      <td>0.0769</td>\n",
       "      <td>0.0769</td>\n",
       "      <td>0.5000</td>\n",
       "      <td>1.0000</td>\n",
       "      <td>1.0000</td>\n",
       "      <td>0.3189</td>\n",
       "    </tr>\n",
       "    <tr>\n",
       "      <th>due_per_month</th>\n",
       "      <td>88,615.0000</td>\n",
       "      <td>NaN</td>\n",
       "      <td>NaN</td>\n",
       "      <td>NaN</td>\n",
       "      <td>0.7382</td>\n",
       "      <td>0.2500</td>\n",
       "      <td>0.2500</td>\n",
       "      <td>1.0000</td>\n",
       "      <td>1.0000</td>\n",
       "      <td>1.0000</td>\n",
       "      <td>0.2675</td>\n",
       "    </tr>\n",
       "  </tbody>\n",
       "</table>\n",
       "</div>"
      ],
      "text/plain": [
       "                                   count unique  top   freq   \n",
       "invoice_id                         88615  88615    0      1  \\\n",
       "invoice_month                      88615    NaN  NaN    NaN   \n",
       "forecast_month                     88615    NaN  NaN    NaN   \n",
       "due_month                          88615    NaN  NaN    NaN   \n",
       "months_allowed               88,615.0000    NaN  NaN    NaN   \n",
       "amount_inv                   88,615.0000    NaN  NaN    NaN   \n",
       "currency                           88615     17  USD  66319   \n",
       "company_id                         88615      2  114  85821   \n",
       "customer_id                        88615   4292    5   1617   \n",
       "collected_month                    83102    NaN  NaN    NaN   \n",
       "converted_amount_inv_company 88,615.0000    NaN  NaN    NaN   \n",
       "inv_pct_of_company_total     88,615.0000    NaN  NaN    NaN   \n",
       "month_billing                88,615.0000    NaN  NaN    NaN   \n",
       "month_due                    88,615.0000    NaN  NaN    NaN   \n",
       "month_collected              88,615.0000    NaN  NaN    NaN   \n",
       "collected_per_month          88,615.0000    NaN  NaN    NaN   \n",
       "due_per_month                88,615.0000    NaN  NaN    NaN   \n",
       "\n",
       "                                                       mean   \n",
       "invoice_id                                              NaN  \\\n",
       "invoice_month                 2017-05-21 02:17:56.810923520   \n",
       "forecast_month                2017-06-17 00:37:32.259775488   \n",
       "due_month                     2017-06-26 08:18:32.154827264   \n",
       "months_allowed                                       1.1910   \n",
       "amount_inv                                      10,028.9255   \n",
       "currency                                                NaN   \n",
       "company_id                                              NaN   \n",
       "customer_id                                             NaN   \n",
       "collected_month               2017-07-24 22:57:13.217010176   \n",
       "converted_amount_inv_company               809,573,458.8649   \n",
       "inv_pct_of_company_total                             0.0000   \n",
       "month_billing                                        1.8828   \n",
       "month_due                                            1.5813   \n",
       "month_collected                                      2.6215   \n",
       "collected_per_month                                  0.6304   \n",
       "due_per_month                                        0.7382   \n",
       "\n",
       "                                              min                 0.1%   \n",
       "invoice_id                                    NaN                  NaN  \\\n",
       "invoice_month                 2011-04-01 00:00:00  2011-05-01 00:00:00   \n",
       "forecast_month                2011-04-01 00:00:00  2011-06-01 00:00:00   \n",
       "due_month                     2011-04-01 00:00:00  2011-05-01 00:00:00   \n",
       "months_allowed                             0.0000               0.0000   \n",
       "amount_inv                                 0.3583              22.0021   \n",
       "currency                                      NaN                  NaN   \n",
       "company_id                                    NaN                  NaN   \n",
       "customer_id                                   NaN                  NaN   \n",
       "collected_month               2011-04-01 00:00:00  2011-07-01 00:00:00   \n",
       "converted_amount_inv_company      27,531,693.3375      27,531,693.3375   \n",
       "inv_pct_of_company_total                   0.0000               0.0000   \n",
       "month_billing                              1.0000               1.0000   \n",
       "month_due                                  1.0000               1.0000   \n",
       "month_collected                            1.0000               1.0000   \n",
       "collected_per_month                        0.0769               0.0769   \n",
       "due_per_month                              0.2500               0.2500   \n",
       "\n",
       "                                              50%                99.9%   \n",
       "invoice_id                                    NaN                  NaN  \\\n",
       "invoice_month                 2017-11-01 00:00:00  2020-04-01 00:00:00   \n",
       "forecast_month                2017-12-01 00:00:00  2020-04-01 00:00:00   \n",
       "due_month                     2017-12-01 00:00:00  2020-06-01 00:00:00   \n",
       "months_allowed                             1.0000               3.0000   \n",
       "amount_inv                            10,032.9086          19,978.3454   \n",
       "currency                                      NaN                  NaN   \n",
       "company_id                                    NaN                  NaN   \n",
       "customer_id                                   NaN                  NaN   \n",
       "collected_month               2018-01-01 00:00:00  2020-09-01 00:00:00   \n",
       "converted_amount_inv_company     835,033,715.5956     835,033,715.5956   \n",
       "inv_pct_of_company_total                   0.0000               0.0008   \n",
       "month_billing                              2.0000              12.0000   \n",
       "month_due                                  1.0000               4.0000   \n",
       "month_collected                            2.0000              13.0000   \n",
       "collected_per_month                        0.5000               1.0000   \n",
       "due_per_month                              1.0000               1.0000   \n",
       "\n",
       "                                              max              std  \n",
       "invoice_id                                    NaN              NaN  \n",
       "invoice_month                 2020-04-01 00:00:00              NaN  \n",
       "forecast_month                2020-04-01 00:00:00              NaN  \n",
       "due_month                     2020-07-01 00:00:00              NaN  \n",
       "months_allowed                             3.0000           0.5011  \n",
       "amount_inv                            19,999.9749       5,771.9138  \n",
       "currency                                      NaN              NaN  \n",
       "company_id                                    NaN              NaN  \n",
       "customer_id                                   NaN              NaN  \n",
       "collected_month               2021-03-01 00:00:00              NaN  \n",
       "converted_amount_inv_company     835,033,715.5956 141,107,082.8055  \n",
       "inv_pct_of_company_total                   0.0012           0.0001  \n",
       "month_billing                             13.0000           1.2110  \n",
       "month_due                                  4.0000           0.6523  \n",
       "month_collected                           13.0000           2.9148  \n",
       "collected_per_month                        1.0000           0.3189  \n",
       "due_per_month                              1.0000           0.2675  "
      ]
     },
     "execution_count": 75,
     "metadata": {},
     "output_type": "execute_result"
    }
   ],
   "source": [
    "invoices_to_model.drop(columns=['cleared_date'], inplace=True, errors='ignore')\n",
    "invoices_to_model.describe(include='all', percentiles=[0.001,0.999]).T"
   ]
  },
  {
   "cell_type": "markdown",
   "id": "5756e0b8",
   "metadata": {},
   "source": [
    "## Analyze Input Data"
   ]
  },
  {
   "cell_type": "code",
   "execution_count": 76,
   "id": "1870fd55",
   "metadata": {},
   "outputs": [],
   "source": [
    "invoices_to_model['uncollected'] = invoices_to_model.collected_month.isnull()"
   ]
  },
  {
   "cell_type": "markdown",
   "id": "21d2d623",
   "metadata": {},
   "source": [
    "### By Dates"
   ]
  },
  {
   "cell_type": "code",
   "execution_count": 77,
   "id": "4e63c1a6",
   "metadata": {},
   "outputs": [
    {
     "data": {
      "text/plain": [
       "<Axes: title={'center': 'Invoices by Forecast Month'}, xlabel='forecast_month'>"
      ]
     },
     "execution_count": 77,
     "metadata": {},
     "output_type": "execute_result"
    },
    {
     "data": {
      "image/png": "[encoded data removed]",
      "text/plain": [
       "<Figure size 1000x300 with 1 Axes>"
      ]
     },
     "metadata": {},
     "output_type": "display_data"
    }
   ],
   "source": [
    "invoices_to_model.groupby(\"forecast_month\").invoice_id.count()\\\n",
    ".plot(kind='area', title=\"Invoices by Forecast Month\", figsize=figsize)"
   ]
  },
  {
   "cell_type": "code",
   "execution_count": 78,
   "id": "8563090c-14b0-48f7-b008-f0d5bfb81f4b",
   "metadata": {
    "tags": []
   },
   "outputs": [
    {
     "data": {
      "text/plain": [
       "<Axes: title={'center': 'Invoices by Invoice Month'}, xlabel='invoice_month'>"
      ]
     },
     "execution_count": 78,
     "metadata": {},
     "output_type": "execute_result"
    },
    {
     "data": {
      "image/png": "[encoded data removed]",
      "text/plain": [
       "<Figure size 1000x300 with 1 Axes>"
      ]
     },
     "metadata": {},
     "output_type": "display_data"
    }
   ],
   "source": [
    "invoices_to_model.groupby(\"invoice_month\").invoice_id.count()\\\n",
    ".plot(kind='area', title=\"Invoices by Invoice Month\", figsize=figsize)"
   ]
  },
  {
   "cell_type": "code",
   "execution_count": 79,
   "id": "6f9bf6ff-cd3f-4cfb-b235-61cc63f0d18d",
   "metadata": {
    "tags": []
   },
   "outputs": [
    {
     "data": {
      "text/plain": [
       "<Axes: title={'center': 'Invoices by Due Month'}, xlabel='due_month'>"
      ]
     },
     "execution_count": 79,
     "metadata": {},
     "output_type": "execute_result"
    },
    {
     "data": {
      "image/png": "[encoded data removed]",
      "text/plain": [
       "<Figure size 1000x300 with 1 Axes>"
      ]
     },
     "metadata": {},
     "output_type": "display_data"
    }
   ],
   "source": [
    "invoices_to_model.groupby(\"due_month\").invoice_id.count()\\\n",
    ".plot(kind='area', title=\"Invoices by Due Month\", figsize=figsize)"
   ]
  },
  {
   "cell_type": "markdown",
   "id": "4fe8207e",
   "metadata": {},
   "source": [
    "### By Currency\n",
    "\n",
    "Some currencies have very low collection rates and take multiple billing periods to collect. This may be due to currency fluctuations."
   ]
  },
  {
   "cell_type": "code",
   "execution_count": 80,
   "id": "f7ec535f",
   "metadata": {},
   "outputs": [
    {
     "data": {
      "text/html": [
       "<div>\n",
       "<style scoped>\n",
       "    .dataframe tbody tr th:only-of-type {\n",
       "        vertical-align: middle;\n",
       "    }\n",
       "\n",
       "    .dataframe tbody tr th {\n",
       "        vertical-align: top;\n",
       "    }\n",
       "\n",
       "    .dataframe thead tr th {\n",
       "        text-align: left;\n",
       "    }\n",
       "\n",
       "    .dataframe thead tr:last-of-type th {\n",
       "        text-align: right;\n",
       "    }\n",
       "</style>\n",
       "<table border=\"1\" class=\"dataframe\">\n",
       "  <thead>\n",
       "    <tr>\n",
       "      <th></th>\n",
       "      <th colspan=\"2\" halign=\"left\">collected_per_month</th>\n",
       "      <th>invoice_id</th>\n",
       "      <th>uncollected</th>\n",
       "    </tr>\n",
       "    <tr>\n",
       "      <th></th>\n",
       "      <th>mean</th>\n",
       "      <th>std</th>\n",
       "      <th>count</th>\n",
       "      <th>mean</th>\n",
       "    </tr>\n",
       "    <tr>\n",
       "      <th>currency</th>\n",
       "      <th></th>\n",
       "      <th></th>\n",
       "      <th></th>\n",
       "      <th></th>\n",
       "    </tr>\n",
       "  </thead>\n",
       "  <tbody>\n",
       "    <tr>\n",
       "      <th>TWD</th>\n",
       "      <td>0.1266</td>\n",
       "      <td>0.1292</td>\n",
       "      <td>11</td>\n",
       "      <td>0.8182</td>\n",
       "    </tr>\n",
       "    <tr>\n",
       "      <th>HUF</th>\n",
       "      <td>0.2051</td>\n",
       "      <td>0.1813</td>\n",
       "      <td>2</td>\n",
       "      <td>0.5000</td>\n",
       "    </tr>\n",
       "    <tr>\n",
       "      <th>HKD</th>\n",
       "      <td>0.4038</td>\n",
       "      <td>0.3192</td>\n",
       "      <td>8</td>\n",
       "      <td>0.3750</td>\n",
       "    </tr>\n",
       "    <tr>\n",
       "      <th>INR</th>\n",
       "      <td>0.4460</td>\n",
       "      <td>0.3654</td>\n",
       "      <td>83</td>\n",
       "      <td>0.3012</td>\n",
       "    </tr>\n",
       "    <tr>\n",
       "      <th>BRL</th>\n",
       "      <td>0.5119</td>\n",
       "      <td>0.3556</td>\n",
       "      <td>463</td>\n",
       "      <td>0.2225</td>\n",
       "    </tr>\n",
       "    <tr>\n",
       "      <th>GBP</th>\n",
       "      <td>0.6000</td>\n",
       "      <td>0.3503</td>\n",
       "      <td>1604</td>\n",
       "      <td>0.1353</td>\n",
       "    </tr>\n",
       "    <tr>\n",
       "      <th>KRW</th>\n",
       "      <td>0.6343</td>\n",
       "      <td>0.3448</td>\n",
       "      <td>82</td>\n",
       "      <td>0.1341</td>\n",
       "    </tr>\n",
       "    <tr>\n",
       "      <th>SGD</th>\n",
       "      <td>0.5192</td>\n",
       "      <td>0.3379</td>\n",
       "      <td>209</td>\n",
       "      <td>0.1292</td>\n",
       "    </tr>\n",
       "    <tr>\n",
       "      <th>CHF</th>\n",
       "      <td>0.5905</td>\n",
       "      <td>0.3264</td>\n",
       "      <td>32</td>\n",
       "      <td>0.0938</td>\n",
       "    </tr>\n",
       "    <tr>\n",
       "      <th>CAD</th>\n",
       "      <td>0.6282</td>\n",
       "      <td>0.3400</td>\n",
       "      <td>22</td>\n",
       "      <td>0.0909</td>\n",
       "    </tr>\n",
       "    <tr>\n",
       "      <th>EUR</th>\n",
       "      <td>0.6072</td>\n",
       "      <td>0.3251</td>\n",
       "      <td>13698</td>\n",
       "      <td>0.0745</td>\n",
       "    </tr>\n",
       "    <tr>\n",
       "      <th>AUD</th>\n",
       "      <td>0.5970</td>\n",
       "      <td>0.3284</td>\n",
       "      <td>1095</td>\n",
       "      <td>0.0694</td>\n",
       "    </tr>\n",
       "    <tr>\n",
       "      <th>CNY</th>\n",
       "      <td>0.5680</td>\n",
       "      <td>0.3268</td>\n",
       "      <td>1907</td>\n",
       "      <td>0.0692</td>\n",
       "    </tr>\n",
       "    <tr>\n",
       "      <th>USD</th>\n",
       "      <td>0.6383</td>\n",
       "      <td>0.3157</td>\n",
       "      <td>66319</td>\n",
       "      <td>0.0564</td>\n",
       "    </tr>\n",
       "    <tr>\n",
       "      <th>JPY</th>\n",
       "      <td>0.6632</td>\n",
       "      <td>0.3065</td>\n",
       "      <td>3068</td>\n",
       "      <td>0.0476</td>\n",
       "    </tr>\n",
       "    <tr>\n",
       "      <th>NZD</th>\n",
       "      <td>0.5000</td>\n",
       "      <td>NaN</td>\n",
       "      <td>1</td>\n",
       "      <td>0.0000</td>\n",
       "    </tr>\n",
       "    <tr>\n",
       "      <th>RUB</th>\n",
       "      <td>0.6515</td>\n",
       "      <td>0.3432</td>\n",
       "      <td>11</td>\n",
       "      <td>0.0000</td>\n",
       "    </tr>\n",
       "  </tbody>\n",
       "</table>\n",
       "</div>"
      ],
      "text/plain": [
       "         collected_per_month        invoice_id uncollected\n",
       "                        mean    std      count        mean\n",
       "currency                                                  \n",
       "TWD                   0.1266 0.1292         11      0.8182\n",
       "HUF                   0.2051 0.1813          2      0.5000\n",
       "HKD                   0.4038 0.3192          8      0.3750\n",
       "INR                   0.4460 0.3654         83      0.3012\n",
       "BRL                   0.5119 0.3556        463      0.2225\n",
       "GBP                   0.6000 0.3503       1604      0.1353\n",
       "KRW                   0.6343 0.3448         82      0.1341\n",
       "SGD                   0.5192 0.3379        209      0.1292\n",
       "CHF                   0.5905 0.3264         32      0.0938\n",
       "CAD                   0.6282 0.3400         22      0.0909\n",
       "EUR                   0.6072 0.3251      13698      0.0745\n",
       "AUD                   0.5970 0.3284       1095      0.0694\n",
       "CNY                   0.5680 0.3268       1907      0.0692\n",
       "USD                   0.6383 0.3157      66319      0.0564\n",
       "JPY                   0.6632 0.3065       3068      0.0476\n",
       "NZD                   0.5000    NaN          1      0.0000\n",
       "RUB                   0.6515 0.3432         11      0.0000"
      ]
     },
     "execution_count": 80,
     "metadata": {},
     "output_type": "execute_result"
    }
   ],
   "source": [
    "invoices_to_model.groupby(\"currency\")\\\n",
    ".agg({\"collected_per_month\":[\"mean\",\"std\"],\"invoice_id\":\"count\",\"uncollected\":\"mean\"})\\\n",
    ".sort_values(by=('uncollected','mean'), ascending=False)"
   ]
  },
  {
   "cell_type": "markdown",
   "id": "d19c2a0f",
   "metadata": {},
   "source": [
    "### Trends and Sparsity Over Time\n",
    "\n",
    "Invoices are getting collected more quickly relative to their billing period, leading to a greater percentage collected over time - a good sign for Tesorio's business. "
   ]
  },
  {
   "cell_type": "code",
   "execution_count": 81,
   "id": "ff95a7cd",
   "metadata": {},
   "outputs": [
    {
     "data": {
      "text/plain": [
       "<Axes: title={'center': 'Average Month Collected'}, xlabel='invoice_month'>"
      ]
     },
     "execution_count": 81,
     "metadata": {},
     "output_type": "execute_result"
    },
    {
     "data": {
      "image/png": "[encoded data removed]",
      "text/plain": [
       "<Figure size 1000x300 with 1 Axes>"
      ]
     },
     "metadata": {},
     "output_type": "display_data"
    }
   ],
   "source": [
    "invoices_to_model.groupby(\"invoice_month\").month_collected.mean()\\\n",
    ".plot(kind='line', title=\"Average Month Collected\", figsize=figsize)"
   ]
  },
  {
   "cell_type": "code",
   "execution_count": 82,
   "id": "05c595f0",
   "metadata": {},
   "outputs": [
    {
     "data": {
      "text/plain": [
       "<Axes: title={'center': '% Invoices Uncollected by Invoice Month'}, xlabel='invoice_month'>"
      ]
     },
     "execution_count": 82,
     "metadata": {},
     "output_type": "execute_result"
    },
    {
     "data": {
      "image/png": "[encoded data removed]",
      "text/plain": [
       "<Figure size 1000x300 with 1 Axes>"
      ]
     },
     "metadata": {},
     "output_type": "display_data"
    }
   ],
   "source": [
    "invoices_to_model.groupby(\"invoice_month\").uncollected.mean()\\\n",
    ".plot(kind='line', title=\"% Invoices Uncollected by Invoice Month\", figsize=figsize)"
   ]
  },
  {
   "cell_type": "code",
   "execution_count": 83,
   "id": "e5599a26-181b-478e-8119-2d003024b092",
   "metadata": {
    "tags": []
   },
   "outputs": [
    {
     "data": {
      "text/plain": [
       "<Axes: title={'center': '% Invoices Uncollected by Due Month'}, xlabel='due_month'>"
      ]
     },
     "execution_count": 83,
     "metadata": {},
     "output_type": "execute_result"
    },
    {
     "data": {
      "image/png": "[encoded data removed]",
      "text/plain": [
       "<Figure size 1000x300 with 1 Axes>"
      ]
     },
     "metadata": {},
     "output_type": "display_data"
    }
   ],
   "source": [
    "invoices_to_model.groupby(\"due_month\").uncollected.mean()\\\n",
    ".plot(kind='line', title=\"% Invoices Uncollected by Due Month\", figsize=figsize)"
   ]
  },
  {
   "cell_type": "markdown",
   "id": "ab44c6cc",
   "metadata": {},
   "source": [
    "### By Customer \n",
    "\n",
    "We have trouble collecting from some customers, regardless of their currency. "
   ]
  },
  {
   "cell_type": "code",
   "execution_count": 84,
   "id": "63f3d793",
   "metadata": {},
   "outputs": [
    {
     "data": {
      "text/plain": [
       "array([[<Axes: title={'center': 'months_allowed'}>,\n",
       "        <Axes: title={'center': 'amount_inv'}>,\n",
       "        <Axes: title={'center': 'converted_amount_inv_company'}>],\n",
       "       [<Axes: title={'center': 'inv_pct_of_company_total'}>,\n",
       "        <Axes: title={'center': 'month_billing'}>,\n",
       "        <Axes: title={'center': 'month_due'}>],\n",
       "       [<Axes: title={'center': 'month_collected'}>,\n",
       "        <Axes: title={'center': 'collected_per_month'}>,\n",
       "        <Axes: title={'center': 'due_per_month'}>],\n",
       "       [<Axes: title={'center': 'uncollected'}>, <Axes: >, <Axes: >]],\n",
       "      dtype=object)"
      ]
     },
     "execution_count": 84,
     "metadata": {},
     "output_type": "execute_result"
    },
    {
     "data": {
      "image/png": "[encoded data removed]",
      "text/plain": [
       "<Figure size 1000x1400 with 12 Axes>"
      ]
     },
     "metadata": {},
     "output_type": "display_data"
    }
   ],
   "source": [
    "customer_averages = invoices_to_model.set_index(\"customer_id\").select_dtypes(include=['float','int','boolean'])\\\n",
    ".reset_index().groupby(\"customer_id\").mean()\n",
    "customer_averages.hist(bins=50, figsize=(10,14), layout=(4,3))"
   ]
  },
  {
   "cell_type": "code",
   "execution_count": 85,
   "id": "c72db34a",
   "metadata": {},
   "outputs": [
    {
     "data": {
      "text/plain": [
       "<Axes: title={'center': 'Customers with 30+ Invoices: % Uncollected'}, ylabel='Frequency'>"
      ]
     },
     "execution_count": 85,
     "metadata": {},
     "output_type": "execute_result"
    },
    {
     "data": {
      "image/png": "[encoded data removed]",
      "text/plain": [
       "<Figure size 1000x300 with 1 Axes>"
      ]
     },
     "metadata": {},
     "output_type": "display_data"
    }
   ],
   "source": [
    "customer_stats = invoices_to_model.groupby(\"customer_id\").uncollected.agg(['count','mean'])\\\n",
    ".add_prefix('uncollected_').sort_values(by=\"uncollected_mean\", ascending=False)\n",
    "customer_stats.query(\"uncollected_count>=30\").uncollected_mean\\\n",
    ".plot(kind='hist', figsize=figsize, title=\"Customers with 30+ Invoices: % Uncollected\", bins=50)"
   ]
  },
  {
   "cell_type": "code",
   "execution_count": 86,
   "id": "ee164030",
   "metadata": {},
   "outputs": [
    {
     "data": {
      "text/plain": [
       "<Axes: title={'center': 'US and European Customers with 30+ Invoices: % Uncollected'}, ylabel='Frequency'>"
      ]
     },
     "execution_count": 86,
     "metadata": {},
     "output_type": "execute_result"
    },
    {
     "data": {
      "image/png": "[encoded data removed]",
      "text/plain": [
       "<Figure size 1000x300 with 1 Axes>"
      ]
     },
     "metadata": {},
     "output_type": "display_data"
    }
   ],
   "source": [
    "western_customer_stats = invoices_to_model.query(\"currency in ('USD','EUR','GBP')\")\\\n",
    ".groupby(\"customer_id\").uncollected.agg(['count','mean'])\\\n",
    ".add_prefix('uncollected_').sort_values(by=\"uncollected_mean\", ascending=False)\n",
    "western_customer_stats.query(\"uncollected_count>=30\").uncollected_mean\\\n",
    ".plot(kind='hist', figsize=figsize, title=\"US and European Customers with 30+ Invoices: % Uncollected\", bins=50)"
   ]
  },
  {
   "cell_type": "markdown",
   "id": "5c15eaf9",
   "metadata": {},
   "source": [
    "# Business Analysis"
   ]
  },
  {
   "cell_type": "markdown",
   "id": "e2006f9f",
   "metadata": {},
   "source": [
    "## Business Motivation\n",
    "\n",
    "Cash collections don't follow due dates. On average:\n",
    "\n",
    "- 6% of total cash due each month is unpaid, equating to a \\\\$471K average deficit.\n",
    "- Total cash collected each month is 10% off from the amount due, equating to a $571K average difference in cash flow. \n",
    "\n",
    "We also see that we need to filter out the first few month of due dates, which have unusually high differences."
   ]
  },
  {
   "cell_type": "code",
   "execution_count": 87,
   "id": "95eee068",
   "metadata": {},
   "outputs": [],
   "source": [
    "amount_due = payment_totals.groupby(\"due_month\").converted_amount_inv.sum().to_frame(name=\"amount_due_usd\")\n",
    "amount_paid = payments.rename(columns={\"transaction_month\":\"due_month\"})\\\n",
    ".groupby(\"due_month\").converted_amount.sum().to_frame(name=\"amount_paid_usd\")\n",
    "business_motivation = amount_due.join(amount_paid, how='inner').reset_index(names='due_month')\\\n",
    ".query(f\"due_month>='{first_transaction_month}' and due_month<'{last_transaction_month}'\")\n",
    "business_motivation['pct_unpaid'] = 1 - (business_motivation.amount_paid_usd/business_motivation.amount_due_usd)\n",
    "business_motivation['unpaid'] = business_motivation.amount_due_usd - business_motivation.amount_paid_usd\n",
    "business_motivation.set_index('due_month', inplace=True)"
   ]
  },
  {
   "cell_type": "code",
   "execution_count": 88,
   "id": "20473fb4",
   "metadata": {},
   "outputs": [
    {
     "data": {
      "text/plain": [
       "<Axes: title={'center': '% Unpaid (USD Due)'}, xlabel='due_month'>"
      ]
     },
     "execution_count": 88,
     "metadata": {},
     "output_type": "execute_result"
    },
    {
     "data": {
      "image/png": "[encoded data removed]",
      "text/plain": [
       "<Figure size 1000x300 with 1 Axes>"
      ]
     },
     "metadata": {},
     "output_type": "display_data"
    }
   ],
   "source": [
    "business_motivation.pct_unpaid.plot(figsize=figsize, title=\"% Unpaid (USD Due)\")"
   ]
  },
  {
   "cell_type": "code",
   "execution_count": 89,
   "id": "6dc94a7f",
   "metadata": {},
   "outputs": [
    {
     "data": {
      "text/plain": [
       "(0.0617378348667631, 0.09580762450258251)"
      ]
     },
     "execution_count": 89,
     "metadata": {},
     "output_type": "execute_result"
    }
   ],
   "source": [
    "business_motivation.pct_unpaid.mean(), business_motivation.pct_unpaid.abs().mean()"
   ]
  },
  {
   "cell_type": "code",
   "execution_count": 90,
   "id": "3db2fd42",
   "metadata": {},
   "outputs": [
    {
     "data": {
      "text/plain": [
       "(471779.5255081043, 570446.6348510585)"
      ]
     },
     "execution_count": 90,
     "metadata": {},
     "output_type": "execute_result"
    }
   ],
   "source": [
    "business_motivation.unpaid.mean(), business_motivation.unpaid.abs().mean()"
   ]
  },
  {
   "cell_type": "code",
   "execution_count": 91,
   "id": "c3789082-1853-4054-ad5b-000a717bce58",
   "metadata": {
    "tags": []
   },
   "outputs": [
    {
     "data": {
      "text/plain": [
       "361"
      ]
     },
     "execution_count": 91,
     "metadata": {},
     "output_type": "execute_result"
    }
   ],
   "source": [
    "invoices_to_model.query(\"due_month<'2011-10-01'\").__len__()"
   ]
  },
  {
   "cell_type": "markdown",
   "id": "0488fe44",
   "metadata": {},
   "source": [
    "## Data Science Benchmark\n",
    "\n",
    "Companies will be more likely to retain if their monthly forecast error is low as a percentage of their total cash flow.\n",
    "\n",
    "As a benchmark, we use due date in place of the forecast, filtering out the first few months, which have abnormally high errors rates. Weighting companies equally, on average, a company's monthly cash flow is 24% off from their cash due."
   ]
  },
  {
   "cell_type": "code",
   "execution_count": 92,
   "id": "f6bf3003-f427-438a-97e1-05a62b14fd34",
   "metadata": {
    "tags": []
   },
   "outputs": [],
   "source": [
    "invoices_to_model = invoices_to_model.query(\"due_month>='2011-10-01'\")"
   ]
  },
  {
   "cell_type": "code",
   "execution_count": 107,
   "id": "2eb927bd-b0e0-4002-bda7-79a221ea10d1",
   "metadata": {
    "tags": []
   },
   "outputs": [
    {
     "data": {
      "text/plain": [
       "(88254, 1.9951759969192067)"
      ]
     },
     "execution_count": 107,
     "metadata": {},
     "output_type": "execute_result"
    }
   ],
   "source": [
    "invoices_to_model.__len__(), invoices_to_model.inv_pct_of_company_total.sum()"
   ]
  },
  {
   "cell_type": "code",
   "execution_count": 96,
   "id": "0629fc45-77c3-46a5-bbde-94a8f72ccae7",
   "metadata": {
    "tags": []
   },
   "outputs": [
    {
     "data": {
      "text/plain": [
       "0.23538933421251826"
      ]
     },
     "execution_count": 96,
     "metadata": {},
     "output_type": "execute_result"
    }
   ],
   "source": [
    "from sklearn.metrics import mean_absolute_error\n",
    "mean_absolute_error(invoices_to_model.collected_per_month, invoices_to_model.due_per_month, \n",
    "                    sample_weight=invoices_to_model.inv_pct_of_company_total)"
   ]
  },
  {
   "cell_type": "markdown",
   "id": "544238b8",
   "metadata": {},
   "source": [
    "## ML Task\n",
    "\n",
    "Turning this into an ML task without any additional feature engineering, a company's average % difference from cash flow forecasted is reduced to 20%."
   ]
  },
  {
   "cell_type": "code",
   "execution_count": 97,
   "id": "63d60d2f",
   "metadata": {},
   "outputs": [
    {
     "name": "stderr",
     "output_type": "stream",
     "text": [
      "h2o:1: DeprecationWarning: Your Python version is 3.11.3. The support for this version will be removed in H2O 3.42.0.1.\n"
     ]
    },
    {
     "name": "stdout",
     "output_type": "stream",
     "text": [
      "Checking whether there is an H2O instance running at http://localhost:54321..... not found.\n",
      "Attempting to start a local H2O server...\n",
      "  Java Version: java version \"1.8.0_65\"; Java(TM) SE Runtime Environment (build 1.8.0_65-b17); Java HotSpot(TM) 64-Bit Server VM (build 25.65-b01, mixed mode)\n",
      "  Starting server from /usr/local/lib/python3.11/site-packages/h2o/backend/bin/h2o.jar\n",
      "  Ice root: /var/folders/x7/h_27fz_13f3dly9n_3wywqzc0000gn/T/tmpoxz0gv39\n",
      "  JVM stdout: /var/folders/x7/h_27fz_13f3dly9n_3wywqzc0000gn/T/tmpoxz0gv39/h2o_lauren_started_from_python.out\n",
      "  JVM stderr: /var/folders/x7/h_27fz_13f3dly9n_3wywqzc0000gn/T/tmpoxz0gv39/h2o_lauren_started_from_python.err\n",
      "  Server is running at http://127.0.0.1:54321\n",
      "Connecting to H2O server at http://127.0.0.1:54321 ... successful.\n"
     ]
    },
    {
     "data": {
      "text/html": [
       "\n",
       "<style>\n",
       "\n",
       "#h2o-table-1.h2o-container {\n",
       "  overflow-x: auto;\n",
       "}\n",
       "#h2o-table-1 .h2o-table {\n",
       "  /* width: 100%; */\n",
       "  margin-top: 1em;\n",
       "  margin-bottom: 1em;\n",
       "}\n",
       "#h2o-table-1 .h2o-table caption {\n",
       "  white-space: nowrap;\n",
       "  caption-side: top;\n",
       "  text-align: left;\n",
       "  /* margin-left: 1em; */\n",
       "  margin: 0;\n",
       "  font-size: larger;\n",
       "}\n",
       "#h2o-table-1 .h2o-table thead {\n",
       "  white-space: nowrap; \n",
       "  position: sticky;\n",
       "  top: 0;\n",
       "  box-shadow: 0 -1px inset;\n",
       "}\n",
       "#h2o-table-1 .h2o-table tbody {\n",
       "  overflow: auto;\n",
       "}\n",
       "#h2o-table-1 .h2o-table th,\n",
       "#h2o-table-1 .h2o-table td {\n",
       "  text-align: right;\n",
       "  /* border: 1px solid; */\n",
       "}\n",
       "#h2o-table-1 .h2o-table tr:nth-child(even) {\n",
       "  /* background: #F5F5F5 */\n",
       "}\n",
       "\n",
       "</style>      \n",
       "<div id=\"h2o-table-1\" class=\"h2o-container\">\n",
       "  <table class=\"h2o-table\">\n",
       "    <caption></caption>\n",
       "    <thead></thead>\n",
       "    <tbody><tr><td>H2O_cluster_uptime:</td>\n",
       "<td>02 secs</td></tr>\n",
       "<tr><td>H2O_cluster_timezone:</td>\n",
       "<td>America/New_York</td></tr>\n",
       "<tr><td>H2O_data_parsing_timezone:</td>\n",
       "<td>UTC</td></tr>\n",
       "<tr><td>H2O_cluster_version:</td>\n",
       "<td>3.40.0.3</td></tr>\n",
       "<tr><td>H2O_cluster_version_age:</td>\n",
       "<td>20 days</td></tr>\n",
       "<tr><td>H2O_cluster_name:</td>\n",
       "<td>H2O_from_python_lauren_kx19f3</td></tr>\n",
       "<tr><td>H2O_cluster_total_nodes:</td>\n",
       "<td>1</td></tr>\n",
       "<tr><td>H2O_cluster_free_memory:</td>\n",
       "<td>10.67 Gb</td></tr>\n",
       "<tr><td>H2O_cluster_total_cores:</td>\n",
       "<td>8</td></tr>\n",
       "<tr><td>H2O_cluster_allowed_cores:</td>\n",
       "<td>8</td></tr>\n",
       "<tr><td>H2O_cluster_status:</td>\n",
       "<td>locked, healthy</td></tr>\n",
       "<tr><td>H2O_connection_url:</td>\n",
       "<td>http://127.0.0.1:54321</td></tr>\n",
       "<tr><td>H2O_connection_proxy:</td>\n",
       "<td>{\"http\": null, \"https\": null}</td></tr>\n",
       "<tr><td>H2O_internal_security:</td>\n",
       "<td>False</td></tr>\n",
       "<tr><td>Python_version:</td>\n",
       "<td>3.11.3 final</td></tr></tbody>\n",
       "  </table>\n",
       "</div>\n"
      ],
      "text/plain": [
       "--------------------------  -----------------------------\n",
       "H2O_cluster_uptime:         02 secs\n",
       "H2O_cluster_timezone:       America/New_York\n",
       "H2O_data_parsing_timezone:  UTC\n",
       "H2O_cluster_version:        3.40.0.3\n",
       "H2O_cluster_version_age:    20 days\n",
       "H2O_cluster_name:           H2O_from_python_lauren_kx19f3\n",
       "H2O_cluster_total_nodes:    1\n",
       "H2O_cluster_free_memory:    10.67 Gb\n",
       "H2O_cluster_total_cores:    8\n",
       "H2O_cluster_allowed_cores:  8\n",
       "H2O_cluster_status:         locked, healthy\n",
       "H2O_connection_url:         http://127.0.0.1:54321\n",
       "H2O_connection_proxy:       {\"http\": null, \"https\": null}\n",
       "H2O_internal_security:      False\n",
       "Python_version:             3.11.3 final\n",
       "--------------------------  -----------------------------"
      ]
     },
     "metadata": {},
     "output_type": "display_data"
    }
   ],
   "source": [
    "import h2o\n",
    "from h2o.automl import H2OAutoML\n",
    "\n",
    "h2o.init(\n",
    "    nthreads=-1,     # number of threads when launching a new H2O server\n",
    "    max_mem_size=12  # in gigabytes\n",
    ")"
   ]
  },
  {
   "cell_type": "code",
   "execution_count": 98,
   "id": "cdb86602",
   "metadata": {},
   "outputs": [
    {
     "data": {
      "text/plain": [
       "(88041.13121605382, 88254)"
      ]
     },
     "execution_count": 98,
     "metadata": {},
     "output_type": "execute_result"
    }
   ],
   "source": [
    "#enables time-based split\n",
    "invoices_to_model['forecast_date_fold']=(invoices_to_model.forecast_month.rank(pct=True)*6).round()\n",
    "#invoice weight is based on the company-adjusted amount. unit is number of rows\n",
    "invoices_to_model['inv_company_weight'] = invoices_to_model.inv_pct_of_company_total*invoices_to_model.invoice_id.nunique()\\\n",
    "/invoices_to_model.company_id.nunique()\n",
    "invoices_to_model.inv_company_weight.sum(), invoices_to_model.__len__()"
   ]
  },
  {
   "cell_type": "code",
   "execution_count": 99,
   "id": "e78b6c50",
   "metadata": {},
   "outputs": [
    {
     "name": "stdout",
     "output_type": "stream",
     "text": [
      "Parse progress: |████████████████████████████████████████████████████████████████| (done) 100%\n"
     ]
    }
   ],
   "source": [
    "id_columns_h2o = [col for col in id_columns if col in invoices_to_model.columns]\n",
    "invoices_to_model_h2o = h2o.H2OFrame(invoices_to_model,\n",
    "           column_types=dict(zip(id_columns_h2o,[\"string\"] * len(id_columns_h2o))))"
   ]
  },
  {
   "cell_type": "code",
   "execution_count": 100,
   "id": "3340b60c-f51f-453e-956a-6d6176f518f9",
   "metadata": {
    "tags": []
   },
   "outputs": [],
   "source": [
    "#time-based split: cross-validating on future data relative to what is being trained\n",
    "train = invoices_to_model_h2o[invoices_to_model_h2o['forecast_date_fold'] <= 3]\n",
    "blend = invoices_to_model_h2o[(invoices_to_model_h2o['forecast_date_fold'] > 3) \\\n",
    "                              & (invoices_to_model_h2o['forecast_date_fold'] <= 4)]\n",
    "valid = invoices_to_model_h2o[invoices_to_model_h2o['forecast_date_fold'] > 4]"
   ]
  },
  {
   "cell_type": "code",
   "execution_count": 101,
   "id": "e9a04ac5",
   "metadata": {},
   "outputs": [
    {
     "name": "stdout",
     "output_type": "stream",
     "text": [
      "AutoML progress: |\n",
      "21:17:47.350: User specified a validation frame with cross-validation still enabled. Please note that the models will still be validated using cross-validation only, the validation frame will be used to provide purely informative validation metrics on the trained models.\n",
      "\n",
      "████████████████████████████████████████████████\n",
      "21:18:33.569: _weights_column param, All base models use weights_column=\"inv_company_weight\" but Stacked Ensemble does not. If you want to use the same weights_column for the meta learner, please specify it as an argument in the h2o.stackedEnsemble call.\n",
      "\n",
      "███████████████| (done) 100%\n"
     ]
    }
   ],
   "source": [
    "y_numeric='collected_per_month'\n",
    "x = ['months_allowed','amount_inv','inv_pct_of_company_total','currency','month_billing','due_per_month']\n",
    "#huber is a bi-modal distribution\n",
    "#hyperparameter tuning is addressed by using AutoML and specifying sort and stopping metrics. \n",
    "#train, blend, and validation dataframes are binned sequentially by forecast month\n",
    "#this enforces the time-based split during hyperparameter tuning. \n",
    "aml = H2OAutoML(max_runtime_secs=60, distribution='huber', sort_metric='mae', stopping_metric='mae', stopping_tolerance=0.01)\n",
    "aml_model = aml.train(x=x , y=y_numeric, training_frame=train, blending_frame=blend, validation_frame=valid, \n",
    "                      weights_column='inv_company_weight') "
   ]
  },
  {
   "cell_type": "code",
   "execution_count": 102,
   "id": "93bf4b66-c7e3-47de-a503-d4234f44f55b",
   "metadata": {
    "tags": []
   },
   "outputs": [
    {
     "data": {
      "text/plain": [
       "(0.2011030915861319, 0.18920266651800888)"
      ]
     },
     "execution_count": 102,
     "metadata": {},
     "output_type": "execute_result"
    }
   ],
   "source": [
    "aml_model.mae(),aml_model.mae(valid=True)"
   ]
  },
  {
   "cell_type": "code",
   "execution_count": 103,
   "id": "e46609d8-71d0-4bd1-a4be-19328cc31f34",
   "metadata": {
    "tags": []
   },
   "outputs": [
    {
     "data": {
      "text/plain": [
       "(0.3199542576120642, 0.35091177206826973)"
      ]
     },
     "execution_count": 103,
     "metadata": {},
     "output_type": "execute_result"
    }
   ],
   "source": [
    "aml_model.r2(),aml_model.r2(valid=True)"
   ]
  }
 ],
 "metadata": {
  "kernelspec": {
   "display_name": "Python 3 (ipykernel)",
   "language": "python",
   "name": "python3"
  },
  "language_info": {
   "codemirror_mode": {
    "name": "ipython",
    "version": 3
   },
   "file_extension": ".py",
   "mimetype": "text/x-python",
   "name": "python",
   "nbconvert_exporter": "python",
   "pygments_lexer": "ipython3",
   "version": "3.11.3"
  }
 },
 "nbformat": 4,
 "nbformat_minor": 5
}
