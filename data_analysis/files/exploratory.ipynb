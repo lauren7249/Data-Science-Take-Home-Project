{
 "cells": [
  {
   "cell_type": "raw",
   "id": "53554f7a",
   "metadata": {},
   "source": [
    "---\n",
    "title: Exploratory Data Analysis\n",
    "authors:\n",
    "- Lauren Talbot\n",
    "created_at: 2023-04-13\n",
    "tldr: A machine learning project is only as good as the data that goes into it. What are some of the high level aspects of the data that we can discover? How should we clean and filter the data?\n",
    "---"
   ]
  },
  {
   "cell_type": "code",
   "execution_count": 1,
   "id": "55fd7450",
   "metadata": {},
   "outputs": [],
   "source": [
    "%matplotlib inline"
   ]
  },
  {
   "cell_type": "markdown",
   "id": "96f9844d",
   "metadata": {},
   "source": [
    "# Input Datasets  "
   ]
  },
  {
   "cell_type": "code",
   "execution_count": 2,
   "id": "c2e7d108",
   "metadata": {},
   "outputs": [],
   "source": [
    "import pandas\n",
    "data_folder = '../data'\n",
    "date_format='%Y-%M-%d' #truncate datetimes to dates\n",
    "invoices = pandas.read_csv(data_folder + '/invoice.csv', na_values='inf', \n",
    "                           parse_dates=['invoice_date', 'due_date', 'cleared_date'], date_format=date_format)\n",
    "payments = pandas.read_csv(data_folder + '/invoice_payments.csv', na_values='inf',\n",
    "                           parse_dates=['transaction_date'], date_format=date_format)"
   ]
  },
  {
   "cell_type": "markdown",
   "id": "5d3e45ff",
   "metadata": {},
   "source": [
    "## Dataset Definitions & Relationships\n",
    "\n",
    "We have two input datasets: invoices and their payments.\n",
    "- Payments are amounts in time, which are directly mapped to companies. \n",
    "- Invoices can have multiple payments, but usually only have 1. "
   ]
  },
  {
   "cell_type": "code",
   "execution_count": 3,
   "id": "fbf2ebd5",
   "metadata": {},
   "outputs": [
    {
     "data": {
      "text/plain": [
       "id                                   int64\n",
       "due_date                    datetime64[ns]\n",
       "invoice_date                datetime64[ns]\n",
       "status                              object\n",
       "amount_inv                         float64\n",
       "currency                            object\n",
       "company_id                           int64\n",
       "customer_id                          int64\n",
       "account_id                           int64\n",
       "cleared_date                datetime64[ns]\n",
       "root_exchange_rate_value           float64\n",
       "dtype: object"
      ]
     },
     "execution_count": 3,
     "metadata": {},
     "output_type": "execute_result"
    }
   ],
   "source": [
    "invoices.dtypes"
   ]
  },
  {
   "cell_type": "code",
   "execution_count": 4,
   "id": "8e0e6a03",
   "metadata": {},
   "outputs": [
    {
     "data": {
      "text/plain": [
       "amount                             float64\n",
       "root_exchange_rate_value           float64\n",
       "transaction_date            datetime64[ns]\n",
       "invoice_id                           int64\n",
       "company_id                           int64\n",
       "converted_amount                   float64\n",
       "dtype: object"
      ]
     },
     "execution_count": 4,
     "metadata": {},
     "output_type": "execute_result"
    }
   ],
   "source": [
    "payments.dtypes"
   ]
  },
  {
   "cell_type": "code",
   "execution_count": 5,
   "id": "f9540d85",
   "metadata": {},
   "outputs": [
    {
     "data": {
      "text/html": [
       "<div>\n",
       "<style scoped>\n",
       "    .dataframe tbody tr th:only-of-type {\n",
       "        vertical-align: middle;\n",
       "    }\n",
       "\n",
       "    .dataframe tbody tr th {\n",
       "        vertical-align: top;\n",
       "    }\n",
       "\n",
       "    .dataframe thead th {\n",
       "        text-align: right;\n",
       "    }\n",
       "</style>\n",
       "<table border=\"1\" class=\"dataframe\">\n",
       "  <thead>\n",
       "    <tr style=\"text-align: right;\">\n",
       "      <th></th>\n",
       "      <th>ids</th>\n",
       "    </tr>\n",
       "    <tr>\n",
       "      <th>invoices_per_id</th>\n",
       "      <th></th>\n",
       "    </tr>\n",
       "  </thead>\n",
       "  <tbody>\n",
       "    <tr>\n",
       "      <th>1</th>\n",
       "      <td>113085</td>\n",
       "    </tr>\n",
       "  </tbody>\n",
       "</table>\n",
       "</div>"
      ],
      "text/plain": [
       "                    ids\n",
       "invoices_per_id        \n",
       "1                113085"
      ]
     },
     "execution_count": 5,
     "metadata": {},
     "output_type": "execute_result"
    }
   ],
   "source": [
    "#The join key will be invoice_id, so it must be unique (and it is).\n",
    "invoices.id.value_counts(dropna=False).value_counts(dropna=False)\\\n",
    ".to_frame(name=\"ids\").rename_axis('invoices_per_id')"
   ]
  },
  {
   "cell_type": "code",
   "execution_count": 6,
   "id": "5eb2e35e",
   "metadata": {},
   "outputs": [
    {
     "data": {
      "text/html": [
       "<div>\n",
       "<style scoped>\n",
       "    .dataframe tbody tr th:only-of-type {\n",
       "        vertical-align: middle;\n",
       "    }\n",
       "\n",
       "    .dataframe tbody tr th {\n",
       "        vertical-align: top;\n",
       "    }\n",
       "\n",
       "    .dataframe thead th {\n",
       "        text-align: right;\n",
       "    }\n",
       "</style>\n",
       "<table border=\"1\" class=\"dataframe\">\n",
       "  <thead>\n",
       "    <tr style=\"text-align: right;\">\n",
       "      <th></th>\n",
       "      <th>invoices</th>\n",
       "    </tr>\n",
       "    <tr>\n",
       "      <th>payments_per_invoice</th>\n",
       "      <th></th>\n",
       "    </tr>\n",
       "  </thead>\n",
       "  <tbody>\n",
       "    <tr>\n",
       "      <th>1</th>\n",
       "      <td>98920</td>\n",
       "    </tr>\n",
       "    <tr>\n",
       "      <th>2</th>\n",
       "      <td>5751</td>\n",
       "    </tr>\n",
       "    <tr>\n",
       "      <th>3</th>\n",
       "      <td>268</td>\n",
       "    </tr>\n",
       "    <tr>\n",
       "      <th>4</th>\n",
       "      <td>59</td>\n",
       "    </tr>\n",
       "    <tr>\n",
       "      <th>5</th>\n",
       "      <td>15</td>\n",
       "    </tr>\n",
       "    <tr>\n",
       "      <th>6</th>\n",
       "      <td>8</td>\n",
       "    </tr>\n",
       "    <tr>\n",
       "      <th>14</th>\n",
       "      <td>1</td>\n",
       "    </tr>\n",
       "    <tr>\n",
       "      <th>9</th>\n",
       "      <td>1</td>\n",
       "    </tr>\n",
       "    <tr>\n",
       "      <th>8</th>\n",
       "      <td>1</td>\n",
       "    </tr>\n",
       "    <tr>\n",
       "      <th>7</th>\n",
       "      <td>1</td>\n",
       "    </tr>\n",
       "  </tbody>\n",
       "</table>\n",
       "</div>"
      ],
      "text/plain": [
       "                      invoices\n",
       "payments_per_invoice          \n",
       "1                        98920\n",
       "2                         5751\n",
       "3                          268\n",
       "4                           59\n",
       "5                           15\n",
       "6                            8\n",
       "14                           1\n",
       "9                            1\n",
       "8                            1\n",
       "7                            1"
      ]
     },
     "execution_count": 6,
     "metadata": {},
     "output_type": "execute_result"
    }
   ],
   "source": [
    "payments.invoice_id.value_counts(dropna=False).value_counts(dropna=False)\\\n",
    ".to_frame(name=\"invoices\").rename_axis('payments_per_invoice')"
   ]
  },
  {
   "cell_type": "markdown",
   "id": "4e2b0b40",
   "metadata": {},
   "source": [
    "### Transforming Dates to Quantities"
   ]
  },
  {
   "cell_type": "code",
   "execution_count": 46,
   "id": "830d8615",
   "metadata": {},
   "outputs": [],
   "source": [
    "invoice_time_allowed = invoices.due_date - invoices.invoice_date\n",
    "invoice_time_open = invoices.cleared_date - invoices.invoice_date\n",
    "invoice_time_late = invoice_time_open - invoice_time_allowed"
   ]
  },
  {
   "cell_type": "code",
   "execution_count": 64,
   "id": "8c2b92d9",
   "metadata": {},
   "outputs": [],
   "source": [
    "invoices['days_allowed'] = invoice_time_allowed.map(lambda t: t.days if not pandas.isnull(t) else None)\n",
    "invoices['days_open'] = invoice_time_open.map(lambda t: t.days if not pandas.isnull(t) else None)\n",
    "invoices['days_late'] = invoice_time_late.map(lambda t: t.days if not pandas.isnull(t) else None)\n",
    "\n",
    "invoices['months_allowed'] = (invoices.due_date.dt.to_period('M') - invoices.invoice_date.dt.to_period('M'))\n",
    "invoices.months_allowed = invoices.months_allowed.map(lambda m: m.n if not pandas.isnull(m) else None)\n",
    "invoices['months_open'] = (invoices.cleared_date.dt.to_period('M') - invoices.invoice_date.dt.to_period('M'))\n",
    "invoices.months_open = invoices.months_open.map(lambda m: m.n if not pandas.isnull(m) else None)\n",
    "invoices['months_late'] = (invoices.cleared_date.dt.to_period('M') - invoices.due_date.dt.to_period('M'))\n",
    "invoices.months_late = invoices.months_late.map(lambda m: m.n if not pandas.isnull(m) else None)"
   ]
  },
  {
   "cell_type": "markdown",
   "id": "d52d67e0",
   "metadata": {},
   "source": [
    "## Entity Definitions & Relationships\n",
    "\n",
    "- Company: business entity for which Tesorio is forecasting cash collected. There are only two. Each company collects using multiple currencies from multiple customers. \n",
    "- Account: **In this limited dataset, accounts and companies are synonymous, so we ignore accounts.**  \n",
    "- Customer: metadata about an invoice which is specific to each company. "
   ]
  },
  {
   "cell_type": "code",
   "execution_count": 165,
   "id": "50f9687b",
   "metadata": {},
   "outputs": [
    {
     "data": {
      "text/html": [
       "<div>\n",
       "<style scoped>\n",
       "    .dataframe tbody tr th:only-of-type {\n",
       "        vertical-align: middle;\n",
       "    }\n",
       "\n",
       "    .dataframe tbody tr th {\n",
       "        vertical-align: top;\n",
       "    }\n",
       "\n",
       "    .dataframe thead th {\n",
       "        text-align: right;\n",
       "    }\n",
       "</style>\n",
       "<table border=\"1\" class=\"dataframe\">\n",
       "  <thead>\n",
       "    <tr style=\"text-align: right;\">\n",
       "      <th></th>\n",
       "      <th>customer_id</th>\n",
       "      <th>currency</th>\n",
       "    </tr>\n",
       "    <tr>\n",
       "      <th>company_id</th>\n",
       "      <th></th>\n",
       "      <th></th>\n",
       "    </tr>\n",
       "  </thead>\n",
       "  <tbody>\n",
       "    <tr>\n",
       "      <th>14</th>\n",
       "      <td>546</td>\n",
       "      <td>13</td>\n",
       "    </tr>\n",
       "    <tr>\n",
       "      <th>114</th>\n",
       "      <td>4509</td>\n",
       "      <td>15</td>\n",
       "    </tr>\n",
       "  </tbody>\n",
       "</table>\n",
       "</div>"
      ],
      "text/plain": [
       "            customer_id  currency\n",
       "company_id                       \n",
       "14                  546        13\n",
       "114                4509        15"
      ]
     },
     "execution_count": 165,
     "metadata": {},
     "output_type": "execute_result"
    }
   ],
   "source": [
    "invoices.groupby(\"company_id\")[[\"customer_id\",\"currency\"]].nunique()"
   ]
  },
  {
   "cell_type": "code",
   "execution_count": 10,
   "id": "f07121d2",
   "metadata": {},
   "outputs": [
    {
     "data": {
      "text/html": [
       "<div>\n",
       "<style scoped>\n",
       "    .dataframe tbody tr th:only-of-type {\n",
       "        vertical-align: middle;\n",
       "    }\n",
       "\n",
       "    .dataframe tbody tr th {\n",
       "        vertical-align: top;\n",
       "    }\n",
       "\n",
       "    .dataframe thead th {\n",
       "        text-align: right;\n",
       "    }\n",
       "</style>\n",
       "<table border=\"1\" class=\"dataframe\">\n",
       "  <thead>\n",
       "    <tr style=\"text-align: right;\">\n",
       "      <th></th>\n",
       "      <th>customers</th>\n",
       "    </tr>\n",
       "    <tr>\n",
       "      <th>companies_per_customer</th>\n",
       "      <th></th>\n",
       "    </tr>\n",
       "  </thead>\n",
       "  <tbody>\n",
       "    <tr>\n",
       "      <th>1</th>\n",
       "      <td>5055</td>\n",
       "    </tr>\n",
       "  </tbody>\n",
       "</table>\n",
       "</div>"
      ],
      "text/plain": [
       "                        customers\n",
       "companies_per_customer           \n",
       "1                            5055"
      ]
     },
     "execution_count": 10,
     "metadata": {},
     "output_type": "execute_result"
    }
   ],
   "source": [
    "invoices.groupby(\"customer_id\").company_id.nunique().value_counts()\\\n",
    ".to_frame(name='customers').rename_axis('companies_per_customer')"
   ]
  },
  {
   "cell_type": "code",
   "execution_count": 11,
   "id": "09a0a948",
   "metadata": {},
   "outputs": [
    {
     "data": {
      "text/html": [
       "<div>\n",
       "<style scoped>\n",
       "    .dataframe tbody tr th:only-of-type {\n",
       "        vertical-align: middle;\n",
       "    }\n",
       "\n",
       "    .dataframe tbody tr th {\n",
       "        vertical-align: top;\n",
       "    }\n",
       "\n",
       "    .dataframe thead th {\n",
       "        text-align: right;\n",
       "    }\n",
       "</style>\n",
       "<table border=\"1\" class=\"dataframe\">\n",
       "  <thead>\n",
       "    <tr style=\"text-align: right;\">\n",
       "      <th></th>\n",
       "      <th>unique_accounts</th>\n",
       "    </tr>\n",
       "    <tr>\n",
       "      <th>company_id</th>\n",
       "      <th></th>\n",
       "    </tr>\n",
       "  </thead>\n",
       "  <tbody>\n",
       "    <tr>\n",
       "      <th>14</th>\n",
       "      <td>1</td>\n",
       "    </tr>\n",
       "    <tr>\n",
       "      <th>114</th>\n",
       "      <td>1</td>\n",
       "    </tr>\n",
       "  </tbody>\n",
       "</table>\n",
       "</div>"
      ],
      "text/plain": [
       "            unique_accounts\n",
       "company_id                 \n",
       "14                        1\n",
       "114                       1"
      ]
     },
     "execution_count": 11,
     "metadata": {},
     "output_type": "execute_result"
    }
   ],
   "source": [
    "invoices.groupby(\"company_id\").account_id.nunique().to_frame(name=\"unique_accounts\")"
   ]
  },
  {
   "cell_type": "code",
   "execution_count": 12,
   "id": "389e5114",
   "metadata": {},
   "outputs": [
    {
     "data": {
      "text/html": [
       "<div>\n",
       "<style scoped>\n",
       "    .dataframe tbody tr th:only-of-type {\n",
       "        vertical-align: middle;\n",
       "    }\n",
       "\n",
       "    .dataframe tbody tr th {\n",
       "        vertical-align: top;\n",
       "    }\n",
       "\n",
       "    .dataframe thead th {\n",
       "        text-align: right;\n",
       "    }\n",
       "</style>\n",
       "<table border=\"1\" class=\"dataframe\">\n",
       "  <thead>\n",
       "    <tr style=\"text-align: right;\">\n",
       "      <th></th>\n",
       "      <th>count</th>\n",
       "    </tr>\n",
       "    <tr>\n",
       "      <th>companies_per_account</th>\n",
       "      <th></th>\n",
       "    </tr>\n",
       "  </thead>\n",
       "  <tbody>\n",
       "    <tr>\n",
       "      <th>1</th>\n",
       "      <td>2</td>\n",
       "    </tr>\n",
       "  </tbody>\n",
       "</table>\n",
       "</div>"
      ],
      "text/plain": [
       "                       count\n",
       "companies_per_account       \n",
       "1                          2"
      ]
     },
     "execution_count": 12,
     "metadata": {},
     "output_type": "execute_result"
    }
   ],
   "source": [
    "invoices.groupby(\"account_id\").company_id.nunique().value_counts()\\\n",
    ".to_frame(name='count').rename_axis('companies_per_account')"
   ]
  },
  {
   "cell_type": "markdown",
   "id": "5efc16c0",
   "metadata": {},
   "source": [
    "## Data Cleaning Needs"
   ]
  },
  {
   "cell_type": "markdown",
   "id": "04033afb",
   "metadata": {},
   "source": [
    "### Payments\n",
    "\n",
    "Transaction data begins in 2011 and ends on 2021-01-31. "
   ]
  },
  {
   "cell_type": "code",
   "execution_count": 13,
   "id": "cbe58f0b",
   "metadata": {},
   "outputs": [
    {
     "data": {
      "text/plain": [
       "111623"
      ]
     },
     "execution_count": 13,
     "metadata": {},
     "output_type": "execute_result"
    }
   ],
   "source": [
    "payments.__len__()"
   ]
  },
  {
   "cell_type": "code",
   "execution_count": 69,
   "id": "24a0bb00",
   "metadata": {},
   "outputs": [
    {
     "data": {
      "text/html": [
       "<div>\n",
       "<style scoped>\n",
       "    .dataframe tbody tr th:only-of-type {\n",
       "        vertical-align: middle;\n",
       "    }\n",
       "\n",
       "    .dataframe tbody tr th {\n",
       "        vertical-align: top;\n",
       "    }\n",
       "\n",
       "    .dataframe thead th {\n",
       "        text-align: right;\n",
       "    }\n",
       "</style>\n",
       "<table border=\"1\" class=\"dataframe\">\n",
       "  <thead>\n",
       "    <tr style=\"text-align: right;\">\n",
       "      <th></th>\n",
       "      <th>amount</th>\n",
       "      <th>root_exchange_rate_value</th>\n",
       "      <th>transaction_date</th>\n",
       "      <th>invoice_id</th>\n",
       "      <th>company_id</th>\n",
       "      <th>converted_amount</th>\n",
       "    </tr>\n",
       "  </thead>\n",
       "  <tbody>\n",
       "    <tr>\n",
       "      <th>count</th>\n",
       "      <td>111622.000000</td>\n",
       "      <td>111623.000000</td>\n",
       "      <td>111623</td>\n",
       "      <td>111623.000000</td>\n",
       "      <td>111623.000000</td>\n",
       "      <td>1.116220e+05</td>\n",
       "    </tr>\n",
       "    <tr>\n",
       "      <th>mean</th>\n",
       "      <td>9416.980646</td>\n",
       "      <td>0.968372</td>\n",
       "      <td>2017-09-21 16:48:01.513129216</td>\n",
       "      <td>56528.677575</td>\n",
       "      <td>110.865341</td>\n",
       "      <td>9.128716e+03</td>\n",
       "    </tr>\n",
       "    <tr>\n",
       "      <th>min</th>\n",
       "      <td>0.000004</td>\n",
       "      <td>0.000806</td>\n",
       "      <td>2011-01-01 00:05:00</td>\n",
       "      <td>0.000000</td>\n",
       "      <td>14.000000</td>\n",
       "      <td>1.800562e-08</td>\n",
       "    </tr>\n",
       "    <tr>\n",
       "      <th>25%</th>\n",
       "      <td>4078.626249</td>\n",
       "      <td>1.000000</td>\n",
       "      <td>2016-01-18 00:07:00</td>\n",
       "      <td>28303.000000</td>\n",
       "      <td>114.000000</td>\n",
       "      <td>3.180972e+03</td>\n",
       "    </tr>\n",
       "    <tr>\n",
       "      <th>50%</th>\n",
       "      <td>9332.665539</td>\n",
       "      <td>1.000000</td>\n",
       "      <td>2018-01-20 00:02:00</td>\n",
       "      <td>56476.000000</td>\n",
       "      <td>114.000000</td>\n",
       "      <td>8.819620e+03</td>\n",
       "    </tr>\n",
       "    <tr>\n",
       "      <th>75%</th>\n",
       "      <td>14651.495863</td>\n",
       "      <td>1.000000</td>\n",
       "      <td>2020-01-05 00:02:00</td>\n",
       "      <td>84775.500000</td>\n",
       "      <td>114.000000</td>\n",
       "      <td>1.461286e+04</td>\n",
       "    </tr>\n",
       "    <tr>\n",
       "      <th>max</th>\n",
       "      <td>19999.879159</td>\n",
       "      <td>3.253307</td>\n",
       "      <td>2021-01-31 00:03:00</td>\n",
       "      <td>113084.000000</td>\n",
       "      <td>114.000000</td>\n",
       "      <td>6.120943e+04</td>\n",
       "    </tr>\n",
       "    <tr>\n",
       "      <th>std</th>\n",
       "      <td>6015.336178</td>\n",
       "      <td>0.244600</td>\n",
       "      <td>NaN</td>\n",
       "      <td>32634.233788</td>\n",
       "      <td>17.425341</td>\n",
       "      <td>6.438813e+03</td>\n",
       "    </tr>\n",
       "    <tr>\n",
       "      <th>% populated</th>\n",
       "      <td>0.999991</td>\n",
       "      <td>1.000000</td>\n",
       "      <td>1.0</td>\n",
       "      <td>1.000000</td>\n",
       "      <td>1.000000</td>\n",
       "      <td>9.999910e-01</td>\n",
       "    </tr>\n",
       "  </tbody>\n",
       "</table>\n",
       "</div>"
      ],
      "text/plain": [
       "                    amount  root_exchange_rate_value   \n",
       "count        111622.000000             111623.000000  \\\n",
       "mean           9416.980646                  0.968372   \n",
       "min               0.000004                  0.000806   \n",
       "25%            4078.626249                  1.000000   \n",
       "50%            9332.665539                  1.000000   \n",
       "75%           14651.495863                  1.000000   \n",
       "max           19999.879159                  3.253307   \n",
       "std            6015.336178                  0.244600   \n",
       "% populated       0.999991                  1.000000   \n",
       "\n",
       "                          transaction_date     invoice_id     company_id   \n",
       "count                               111623  111623.000000  111623.000000  \\\n",
       "mean         2017-09-21 16:48:01.513129216   56528.677575     110.865341   \n",
       "min                    2011-01-01 00:05:00       0.000000      14.000000   \n",
       "25%                    2016-01-18 00:07:00   28303.000000     114.000000   \n",
       "50%                    2018-01-20 00:02:00   56476.000000     114.000000   \n",
       "75%                    2020-01-05 00:02:00   84775.500000     114.000000   \n",
       "max                    2021-01-31 00:03:00  113084.000000     114.000000   \n",
       "std                                    NaN   32634.233788      17.425341   \n",
       "% populated                            1.0       1.000000       1.000000   \n",
       "\n",
       "             converted_amount  \n",
       "count            1.116220e+05  \n",
       "mean             9.128716e+03  \n",
       "min              1.800562e-08  \n",
       "25%              3.180972e+03  \n",
       "50%              8.819620e+03  \n",
       "75%              1.461286e+04  \n",
       "max              6.120943e+04  \n",
       "std              6.438813e+03  \n",
       "% populated      9.999910e-01  "
      ]
     },
     "execution_count": 69,
     "metadata": {},
     "output_type": "execute_result"
    }
   ],
   "source": [
    "payment_stats = payments.describe(include='all')\n",
    "payment_stats.loc['% populated'] = payment_stats.loc['count']/payments.__len__()\n",
    "payment_stats"
   ]
  },
  {
   "cell_type": "code",
   "execution_count": 15,
   "id": "de4caaec",
   "metadata": {},
   "outputs": [
    {
     "data": {
      "text/plain": [
       "1.0913936421275139e-11"
      ]
     },
     "execution_count": 15,
     "metadata": {},
     "output_type": "execute_result"
    }
   ],
   "source": [
    "#converted_amount is reliable\n",
    "(((payments.amount * payments.root_exchange_rate_value) - payments.converted_amount).abs()).max()"
   ]
  },
  {
   "cell_type": "code",
   "execution_count": 16,
   "id": "600d802a",
   "metadata": {},
   "outputs": [
    {
     "data": {
      "text/plain": [
       "array([[<Axes: title={'center': 'amount'}>,\n",
       "        <Axes: title={'center': 'root_exchange_rate_value'}>,\n",
       "        <Axes: title={'center': 'converted_amount'}>]], dtype=object)"
      ]
     },
     "execution_count": 16,
     "metadata": {},
     "output_type": "execute_result"
    },
    {
     "data": {
      "image/png": "[encoded data removed]",
      "text/plain": [
       "<Figure size 1200x300 with 3 Axes>"
      ]
     },
     "metadata": {},
     "output_type": "display_data"
    }
   ],
   "source": [
    "payments.select_dtypes(include='float').hist(bins=50, figsize=(12, 3), layout=(1,3))"
   ]
  },
  {
   "cell_type": "markdown",
   "id": "ab51f6fc",
   "metadata": {},
   "source": [
    "### Invoices"
   ]
  },
  {
   "cell_type": "code",
   "execution_count": 77,
   "id": "c68f3aa2",
   "metadata": {},
   "outputs": [
    {
     "data": {
      "text/html": [
       "<div>\n",
       "<style scoped>\n",
       "    .dataframe tbody tr th:only-of-type {\n",
       "        vertical-align: middle;\n",
       "    }\n",
       "\n",
       "    .dataframe tbody tr th {\n",
       "        vertical-align: top;\n",
       "    }\n",
       "\n",
       "    .dataframe thead th {\n",
       "        text-align: right;\n",
       "    }\n",
       "</style>\n",
       "<table border=\"1\" class=\"dataframe\">\n",
       "  <thead>\n",
       "    <tr style=\"text-align: right;\">\n",
       "      <th></th>\n",
       "      <th>id</th>\n",
       "      <th>due_date</th>\n",
       "      <th>invoice_date</th>\n",
       "      <th>status</th>\n",
       "      <th>amount_inv</th>\n",
       "      <th>currency</th>\n",
       "      <th>company_id</th>\n",
       "      <th>customer_id</th>\n",
       "      <th>account_id</th>\n",
       "      <th>cleared_date</th>\n",
       "      <th>root_exchange_rate_value</th>\n",
       "      <th>days_allowed</th>\n",
       "      <th>days_open</th>\n",
       "      <th>days_late</th>\n",
       "      <th>months_open</th>\n",
       "      <th>months_allowed</th>\n",
       "      <th>months_late</th>\n",
       "    </tr>\n",
       "  </thead>\n",
       "  <tbody>\n",
       "    <tr>\n",
       "      <th>count</th>\n",
       "      <td>113085.000000</td>\n",
       "      <td>113060</td>\n",
       "      <td>113085</td>\n",
       "      <td>113085</td>\n",
       "      <td>113085.000000</td>\n",
       "      <td>113085</td>\n",
       "      <td>113085.000000</td>\n",
       "      <td>113085.000000</td>\n",
       "      <td>113085.000000</td>\n",
       "      <td>113085</td>\n",
       "      <td>113085.000000</td>\n",
       "      <td>113060.000000</td>\n",
       "      <td>113085.000000</td>\n",
       "      <td>113060.000000</td>\n",
       "      <td>113085.000000</td>\n",
       "      <td>113060.000000</td>\n",
       "      <td>113060.000000</td>\n",
       "    </tr>\n",
       "    <tr>\n",
       "      <th>unique</th>\n",
       "      <td>NaN</td>\n",
       "      <td>NaN</td>\n",
       "      <td>NaN</td>\n",
       "      <td>2</td>\n",
       "      <td>NaN</td>\n",
       "      <td>18</td>\n",
       "      <td>NaN</td>\n",
       "      <td>NaN</td>\n",
       "      <td>NaN</td>\n",
       "      <td>NaN</td>\n",
       "      <td>NaN</td>\n",
       "      <td>NaN</td>\n",
       "      <td>NaN</td>\n",
       "      <td>NaN</td>\n",
       "      <td>NaN</td>\n",
       "      <td>NaN</td>\n",
       "      <td>NaN</td>\n",
       "    </tr>\n",
       "    <tr>\n",
       "      <th>top</th>\n",
       "      <td>NaN</td>\n",
       "      <td>NaN</td>\n",
       "      <td>NaN</td>\n",
       "      <td>CLEARED</td>\n",
       "      <td>NaN</td>\n",
       "      <td>USD</td>\n",
       "      <td>NaN</td>\n",
       "      <td>NaN</td>\n",
       "      <td>NaN</td>\n",
       "      <td>NaN</td>\n",
       "      <td>NaN</td>\n",
       "      <td>NaN</td>\n",
       "      <td>NaN</td>\n",
       "      <td>NaN</td>\n",
       "      <td>NaN</td>\n",
       "      <td>NaN</td>\n",
       "      <td>NaN</td>\n",
       "    </tr>\n",
       "    <tr>\n",
       "      <th>freq</th>\n",
       "      <td>NaN</td>\n",
       "      <td>NaN</td>\n",
       "      <td>NaN</td>\n",
       "      <td>109382</td>\n",
       "      <td>NaN</td>\n",
       "      <td>85146</td>\n",
       "      <td>NaN</td>\n",
       "      <td>NaN</td>\n",
       "      <td>NaN</td>\n",
       "      <td>NaN</td>\n",
       "      <td>NaN</td>\n",
       "      <td>NaN</td>\n",
       "      <td>NaN</td>\n",
       "      <td>NaN</td>\n",
       "      <td>NaN</td>\n",
       "      <td>NaN</td>\n",
       "      <td>NaN</td>\n",
       "    </tr>\n",
       "    <tr>\n",
       "      <th>mean</th>\n",
       "      <td>56542.000000</td>\n",
       "      <td>2017-10-18 01:21:46.726340096</td>\n",
       "      <td>2017-09-09 19:59:16.684971776</td>\n",
       "      <td>NaN</td>\n",
       "      <td>10026.599910</td>\n",
       "      <td>NaN</td>\n",
       "      <td>111.135783</td>\n",
       "      <td>751.424778</td>\n",
       "      <td>0.028642</td>\n",
       "      <td>2017-11-18 00:39:17.928637952</td>\n",
       "      <td>0.970822</td>\n",
       "      <td>38.019591</td>\n",
       "      <td>69.009975</td>\n",
       "      <td>30.890324</td>\n",
       "      <td>2.338241</td>\n",
       "      <td>1.275358</td>\n",
       "      <td>1.062869</td>\n",
       "    </tr>\n",
       "    <tr>\n",
       "      <th>min</th>\n",
       "      <td>0.000000</td>\n",
       "      <td>2010-01-07 00:09:00</td>\n",
       "      <td>2010-01-21 00:12:00</td>\n",
       "      <td>NaN</td>\n",
       "      <td>0.027581</td>\n",
       "      <td>NaN</td>\n",
       "      <td>14.000000</td>\n",
       "      <td>0.000000</td>\n",
       "      <td>0.000000</td>\n",
       "      <td>2011-01-01 00:05:00</td>\n",
       "      <td>0.000815</td>\n",
       "      <td>-2931.000000</td>\n",
       "      <td>-753.000000</td>\n",
       "      <td>-1085.000000</td>\n",
       "      <td>-24.000000</td>\n",
       "      <td>-96.000000</td>\n",
       "      <td>-36.000000</td>\n",
       "    </tr>\n",
       "    <tr>\n",
       "      <th>25%</th>\n",
       "      <td>28271.000000</td>\n",
       "      <td>2016-01-20 00:05:00</td>\n",
       "      <td>2016-01-18 00:08:00</td>\n",
       "      <td>NaN</td>\n",
       "      <td>5030.122601</td>\n",
       "      <td>NaN</td>\n",
       "      <td>114.000000</td>\n",
       "      <td>129.000000</td>\n",
       "      <td>0.000000</td>\n",
       "      <td>2016-01-21 00:08:00</td>\n",
       "      <td>1.000000</td>\n",
       "      <td>-1.000000</td>\n",
       "      <td>-5.000000</td>\n",
       "      <td>-6.000000</td>\n",
       "      <td>0.000000</td>\n",
       "      <td>0.000000</td>\n",
       "      <td>0.000000</td>\n",
       "    </tr>\n",
       "    <tr>\n",
       "      <th>50%</th>\n",
       "      <td>56542.000000</td>\n",
       "      <td>2018-01-22 00:04:00</td>\n",
       "      <td>2018-01-20 00:05:00</td>\n",
       "      <td>NaN</td>\n",
       "      <td>10018.092660</td>\n",
       "      <td>NaN</td>\n",
       "      <td>114.000000</td>\n",
       "      <td>411.000000</td>\n",
       "      <td>0.000000</td>\n",
       "      <td>2018-01-24 00:04:00</td>\n",
       "      <td>1.000000</td>\n",
       "      <td>0.000000</td>\n",
       "      <td>1.000000</td>\n",
       "      <td>0.000000</td>\n",
       "      <td>0.000000</td>\n",
       "      <td>0.000000</td>\n",
       "      <td>0.000000</td>\n",
       "    </tr>\n",
       "    <tr>\n",
       "      <th>75%</th>\n",
       "      <td>84813.000000</td>\n",
       "      <td>2020-01-11 00:07:00</td>\n",
       "      <td>2020-01-08 00:12:00</td>\n",
       "      <td>NaN</td>\n",
       "      <td>15029.685611</td>\n",
       "      <td>NaN</td>\n",
       "      <td>114.000000</td>\n",
       "      <td>995.000000</td>\n",
       "      <td>0.000000</td>\n",
       "      <td>2020-01-10 00:05:00</td>\n",
       "      <td>1.000000</td>\n",
       "      <td>1.000000</td>\n",
       "      <td>15.000000</td>\n",
       "      <td>8.000000</td>\n",
       "      <td>0.000000</td>\n",
       "      <td>0.000000</td>\n",
       "      <td>0.000000</td>\n",
       "    </tr>\n",
       "    <tr>\n",
       "      <th>max</th>\n",
       "      <td>113084.000000</td>\n",
       "      <td>2023-01-31 00:01:00</td>\n",
       "      <td>2023-01-01 00:01:00</td>\n",
       "      <td>NaN</td>\n",
       "      <td>19999.974875</td>\n",
       "      <td>NaN</td>\n",
       "      <td>114.000000</td>\n",
       "      <td>5054.000000</td>\n",
       "      <td>1.000000</td>\n",
       "      <td>2022-01-01 00:01:00</td>\n",
       "      <td>1.681560</td>\n",
       "      <td>731.000000</td>\n",
       "      <td>1110.000000</td>\n",
       "      <td>2922.000000</td>\n",
       "      <td>36.000000</td>\n",
       "      <td>24.000000</td>\n",
       "      <td>96.000000</td>\n",
       "    </tr>\n",
       "    <tr>\n",
       "      <th>std</th>\n",
       "      <td>32644.971933</td>\n",
       "      <td>NaN</td>\n",
       "      <td>NaN</td>\n",
       "      <td>NaN</td>\n",
       "      <td>5767.833365</td>\n",
       "      <td>NaN</td>\n",
       "      <td>16.679941</td>\n",
       "      <td>906.575543</td>\n",
       "      <td>0.166799</td>\n",
       "      <td>NaN</td>\n",
       "      <td>0.246109</td>\n",
       "      <td>112.451179</td>\n",
       "      <td>147.657290</td>\n",
       "      <td>118.213037</td>\n",
       "      <td>4.902367</td>\n",
       "      <td>3.716912</td>\n",
       "      <td>3.942094</td>\n",
       "    </tr>\n",
       "    <tr>\n",
       "      <th>% populated</th>\n",
       "      <td>1.000000</td>\n",
       "      <td>0.999779</td>\n",
       "      <td>1.0</td>\n",
       "      <td>1.0</td>\n",
       "      <td>1.000000</td>\n",
       "      <td>1.0</td>\n",
       "      <td>1.000000</td>\n",
       "      <td>1.000000</td>\n",
       "      <td>1.000000</td>\n",
       "      <td>1.0</td>\n",
       "      <td>1.000000</td>\n",
       "      <td>0.999779</td>\n",
       "      <td>1.000000</td>\n",
       "      <td>0.999779</td>\n",
       "      <td>1.000000</td>\n",
       "      <td>0.999779</td>\n",
       "      <td>0.999779</td>\n",
       "    </tr>\n",
       "  </tbody>\n",
       "</table>\n",
       "</div>"
      ],
      "text/plain": [
       "                        id                       due_date   \n",
       "count        113085.000000                         113060  \\\n",
       "unique                 NaN                            NaN   \n",
       "top                    NaN                            NaN   \n",
       "freq                   NaN                            NaN   \n",
       "mean          56542.000000  2017-10-18 01:21:46.726340096   \n",
       "min               0.000000            2010-01-07 00:09:00   \n",
       "25%           28271.000000            2016-01-20 00:05:00   \n",
       "50%           56542.000000            2018-01-22 00:04:00   \n",
       "75%           84813.000000            2020-01-11 00:07:00   \n",
       "max          113084.000000            2023-01-31 00:01:00   \n",
       "std           32644.971933                            NaN   \n",
       "% populated       1.000000                       0.999779   \n",
       "\n",
       "                              invoice_date   status     amount_inv currency   \n",
       "count                               113085   113085  113085.000000   113085  \\\n",
       "unique                                 NaN        2            NaN       18   \n",
       "top                                    NaN  CLEARED            NaN      USD   \n",
       "freq                                   NaN   109382            NaN    85146   \n",
       "mean         2017-09-09 19:59:16.684971776      NaN   10026.599910      NaN   \n",
       "min                    2010-01-21 00:12:00      NaN       0.027581      NaN   \n",
       "25%                    2016-01-18 00:08:00      NaN    5030.122601      NaN   \n",
       "50%                    2018-01-20 00:05:00      NaN   10018.092660      NaN   \n",
       "75%                    2020-01-08 00:12:00      NaN   15029.685611      NaN   \n",
       "max                    2023-01-01 00:01:00      NaN   19999.974875      NaN   \n",
       "std                                    NaN      NaN    5767.833365      NaN   \n",
       "% populated                            1.0      1.0       1.000000      1.0   \n",
       "\n",
       "                company_id    customer_id     account_id   \n",
       "count        113085.000000  113085.000000  113085.000000  \\\n",
       "unique                 NaN            NaN            NaN   \n",
       "top                    NaN            NaN            NaN   \n",
       "freq                   NaN            NaN            NaN   \n",
       "mean            111.135783     751.424778       0.028642   \n",
       "min              14.000000       0.000000       0.000000   \n",
       "25%             114.000000     129.000000       0.000000   \n",
       "50%             114.000000     411.000000       0.000000   \n",
       "75%             114.000000     995.000000       0.000000   \n",
       "max             114.000000    5054.000000       1.000000   \n",
       "std              16.679941     906.575543       0.166799   \n",
       "% populated       1.000000       1.000000       1.000000   \n",
       "\n",
       "                              cleared_date  root_exchange_rate_value   \n",
       "count                               113085             113085.000000  \\\n",
       "unique                                 NaN                       NaN   \n",
       "top                                    NaN                       NaN   \n",
       "freq                                   NaN                       NaN   \n",
       "mean         2017-11-18 00:39:17.928637952                  0.970822   \n",
       "min                    2011-01-01 00:05:00                  0.000815   \n",
       "25%                    2016-01-21 00:08:00                  1.000000   \n",
       "50%                    2018-01-24 00:04:00                  1.000000   \n",
       "75%                    2020-01-10 00:05:00                  1.000000   \n",
       "max                    2022-01-01 00:01:00                  1.681560   \n",
       "std                                    NaN                  0.246109   \n",
       "% populated                            1.0                  1.000000   \n",
       "\n",
       "              days_allowed      days_open      days_late    months_open   \n",
       "count        113060.000000  113085.000000  113060.000000  113085.000000  \\\n",
       "unique                 NaN            NaN            NaN            NaN   \n",
       "top                    NaN            NaN            NaN            NaN   \n",
       "freq                   NaN            NaN            NaN            NaN   \n",
       "mean             38.019591      69.009975      30.890324       2.338241   \n",
       "min           -2931.000000    -753.000000   -1085.000000     -24.000000   \n",
       "25%              -1.000000      -5.000000      -6.000000       0.000000   \n",
       "50%               0.000000       1.000000       0.000000       0.000000   \n",
       "75%               1.000000      15.000000       8.000000       0.000000   \n",
       "max             731.000000    1110.000000    2922.000000      36.000000   \n",
       "std             112.451179     147.657290     118.213037       4.902367   \n",
       "% populated       0.999779       1.000000       0.999779       1.000000   \n",
       "\n",
       "             months_allowed    months_late  \n",
       "count         113060.000000  113060.000000  \n",
       "unique                  NaN            NaN  \n",
       "top                     NaN            NaN  \n",
       "freq                    NaN            NaN  \n",
       "mean               1.275358       1.062869  \n",
       "min              -96.000000     -36.000000  \n",
       "25%                0.000000       0.000000  \n",
       "50%                0.000000       0.000000  \n",
       "75%                0.000000       0.000000  \n",
       "max               24.000000      96.000000  \n",
       "std                3.716912       3.942094  \n",
       "% populated        0.999779       0.999779  "
      ]
     },
     "execution_count": 77,
     "metadata": {},
     "output_type": "execute_result"
    }
   ],
   "source": [
    "invoices_stats = invoices.describe(include='all')\n",
    "invoices_stats.loc['% populated'] = invoices_stats.loc['count']/invoices.__len__()\n",
    "invoices_stats"
   ]
  },
  {
   "cell_type": "code",
   "execution_count": 83,
   "id": "3fa481b1",
   "metadata": {},
   "outputs": [
    {
     "data": {
      "text/plain": [
       "(15, 1)"
      ]
     },
     "execution_count": 83,
     "metadata": {},
     "output_type": "execute_result"
    }
   ],
   "source": [
    "#opened outside of payment data time period\n",
    "(invoices.loc[invoices.invoice_date>payments.transaction_date.max()].__len__(), \n",
    "invoices.loc[invoices.invoice_date<payments.transaction_date.min()].__len__())"
   ]
  },
  {
   "cell_type": "markdown",
   "id": "d7a58c80",
   "metadata": {},
   "source": [
    "### Cleared vs Open \n",
    "\n",
    "- Open invoices still have a date cleared"
   ]
  },
  {
   "cell_type": "code",
   "execution_count": 84,
   "id": "3d701208",
   "metadata": {},
   "outputs": [
    {
     "data": {
      "text/html": [
       "<div>\n",
       "<style scoped>\n",
       "    .dataframe tbody tr th:only-of-type {\n",
       "        vertical-align: middle;\n",
       "    }\n",
       "\n",
       "    .dataframe tbody tr th {\n",
       "        vertical-align: top;\n",
       "    }\n",
       "\n",
       "    .dataframe thead th {\n",
       "        text-align: right;\n",
       "    }\n",
       "</style>\n",
       "<table border=\"1\" class=\"dataframe\">\n",
       "  <thead>\n",
       "    <tr style=\"text-align: right;\">\n",
       "      <th></th>\n",
       "      <th>% of Invoices</th>\n",
       "    </tr>\n",
       "    <tr>\n",
       "      <th>status</th>\n",
       "      <th></th>\n",
       "    </tr>\n",
       "  </thead>\n",
       "  <tbody>\n",
       "    <tr>\n",
       "      <th>CLEARED</th>\n",
       "      <td>0.967255</td>\n",
       "    </tr>\n",
       "    <tr>\n",
       "      <th>OPEN</th>\n",
       "      <td>0.032745</td>\n",
       "    </tr>\n",
       "  </tbody>\n",
       "</table>\n",
       "</div>"
      ],
      "text/plain": [
       "         % of Invoices\n",
       "status                \n",
       "CLEARED       0.967255\n",
       "OPEN          0.032745"
      ]
     },
     "execution_count": 84,
     "metadata": {},
     "output_type": "execute_result"
    }
   ],
   "source": [
    "invoices.status.value_counts(normalize=True, dropna=False).to_frame(name=\"% of Invoices\")"
   ]
  },
  {
   "cell_type": "code",
   "execution_count": 85,
   "id": "052e9547",
   "metadata": {},
   "outputs": [
    {
     "data": {
      "text/plain": [
       "cleared_date\n",
       "2022-01-01 00:01:00    3703\n",
       "Name: count, dtype: int64"
      ]
     },
     "execution_count": 85,
     "metadata": {},
     "output_type": "execute_result"
    }
   ],
   "source": [
    "invoices.loc[invoices.status == 'OPEN'].cleared_date.value_counts(dropna=False)"
   ]
  },
  {
   "cell_type": "code",
   "execution_count": 86,
   "id": "aae25579",
   "metadata": {},
   "outputs": [
    {
     "data": {
      "text/plain": [
       "status  cleared_date       \n",
       "OPEN    2022-01-01 00:01:00    3703\n",
       "Name: count, dtype: int64"
      ]
     },
     "execution_count": 86,
     "metadata": {},
     "output_type": "execute_result"
    }
   ],
   "source": [
    "invoices.loc[invoices.cleared_date.isnull() != (invoices.status == 'OPEN'),['status','cleared_date']]\\\n",
    ".value_counts(dropna=False)"
   ]
  },
  {
   "cell_type": "markdown",
   "id": "a477472d",
   "metadata": {},
   "source": [
    "### Date Relationships for Cleared Invoices"
   ]
  },
  {
   "cell_type": "code",
   "execution_count": 87,
   "id": "ceff9fc0",
   "metadata": {},
   "outputs": [],
   "source": [
    "cleared_invoices = invoices.query(\"status=='CLEARED'\").drop(columns=['status'])"
   ]
  },
  {
   "cell_type": "code",
   "execution_count": 89,
   "id": "be551bb1",
   "metadata": {},
   "outputs": [
    {
     "data": {
      "text/plain": [
       "<Axes: title={'center': 'Cleared Invoices: Days Open'}, ylabel='Frequency'>"
      ]
     },
     "execution_count": 89,
     "metadata": {},
     "output_type": "execute_result"
    },
    {
     "data": {
      "image/png": "[encoded data removed]",
      "text/plain": [
       "<Figure size 1200x300 with 1 Axes>"
      ]
     },
     "metadata": {},
     "output_type": "display_data"
    }
   ],
   "source": [
    "#invoices are either cleared around the normal billing cycle or a year later\n",
    "cleared_invoices.days_open.plot(kind='hist',bins=365, title=\"Cleared Invoices: Days Open\", figsize=(12, 3))"
   ]
  },
  {
   "cell_type": "code",
   "execution_count": 97,
   "id": "abcb4e73",
   "metadata": {},
   "outputs": [
    {
     "data": {
      "text/plain": [
       "0.9672547199009595"
      ]
     },
     "execution_count": 97,
     "metadata": {},
     "output_type": "execute_result"
    }
   ],
   "source": [
    "cleared_invoices.__len__()/invoices.__len__()"
   ]
  },
  {
   "cell_type": "code",
   "execution_count": 135,
   "id": "49698d00",
   "metadata": {},
   "outputs": [
    {
     "data": {
      "text/plain": [
       "months_open\n",
       " 0     0.833227\n",
       " 12    0.163180\n",
       " 24    0.002112\n",
       "-12    0.001124\n",
       " 36    0.000265\n",
       "-24    0.000091\n",
       "Name: proportion, dtype: float64"
      ]
     },
     "execution_count": 135,
     "metadata": {},
     "output_type": "execute_result"
    }
   ],
   "source": [
    "#invoices are either open only in the month they became active or a year later\n",
    "cleared_invoices.months_open.value_counts(normalize=True, dropna=False)"
   ]
  },
  {
   "cell_type": "code",
   "execution_count": 104,
   "id": "ed266923",
   "metadata": {},
   "outputs": [
    {
     "data": {
      "text/plain": [
       "months_allowed\n",
       " 0.0     0.890101\n",
       " 12.0    0.109579\n",
       " NaN     0.000229\n",
       "-12.0    0.000055\n",
       " 24.0    0.000018\n",
       "-48.0    0.000009\n",
       "-96.0    0.000009\n",
       "Name: proportion, dtype: float64"
      ]
     },
     "execution_count": 104,
     "metadata": {},
     "output_type": "execute_result"
    }
   ],
   "source": [
    "#invoices are either due the same month they became active or a year later\n",
    "cleared_invoices.months_allowed.value_counts(normalize=True, dropna=False)"
   ]
  },
  {
   "cell_type": "code",
   "execution_count": 102,
   "id": "e892d4bb",
   "metadata": {},
   "outputs": [
    {
     "data": {
      "text/plain": [
       "months_late\n",
       " 0.0     0.922986\n",
       " 12.0    0.064243\n",
       "-12.0    0.010587\n",
       " 24.0    0.001582\n",
       " 36.0    0.000238\n",
       " NaN     0.000229\n",
       "-24.0    0.000110\n",
       " 48.0    0.000009\n",
       "-36.0    0.000009\n",
       " 96.0    0.000009\n",
       "Name: proportion, dtype: float64"
      ]
     },
     "execution_count": 102,
     "metadata": {},
     "output_type": "execute_result"
    }
   ],
   "source": [
    "cleared_invoices.months_late.value_counts(normalize=True, dropna=False)"
   ]
  },
  {
   "cell_type": "code",
   "execution_count": 134,
   "id": "20672bd6",
   "metadata": {},
   "outputs": [
    {
     "data": {
      "text/plain": [
       "months_late_vs_allowed\n",
       " 0.000000     0.922986\n",
       " 12.000000    0.063639\n",
       "-0.923077     0.009481\n",
       " 24.000000    0.001545\n",
       "-12.000000    0.001097\n",
       " 0.923077     0.000558\n",
       " 36.000000    0.000238\n",
       " NaN          0.000229\n",
       "-24.000000    0.000082\n",
       "-1.090909     0.000046\n",
       " 1.846154     0.000027\n",
       "-1.846154     0.000027\n",
       "-0.480000     0.000009\n",
       "-1.021277     0.000009\n",
       "-2.769231     0.000009\n",
       "-2.181818     0.000009\n",
       "-1.010526     0.000009\n",
       "Name: proportion, dtype: float64"
      ]
     },
     "execution_count": 134,
     "metadata": {},
     "output_type": "execute_result"
    }
   ],
   "source": [
    "cleared_invoices['months_late_vs_allowed'] = cleared_invoices.months_late/(cleared_invoices.months_allowed+1)\n",
    "cleared_invoices.months_late_vs_allowed.value_counts(normalize=True, dropna=False)"
   ]
  },
  {
   "cell_type": "code",
   "execution_count": 137,
   "id": "72275e67",
   "metadata": {},
   "outputs": [
    {
     "data": {
      "text/plain": [
       "array([[<Axes: title={'center': 'amount_inv'}>,\n",
       "        <Axes: title={'center': 'root_exchange_rate_value'}>,\n",
       "        <Axes: title={'center': 'days_allowed'}>],\n",
       "       [<Axes: title={'center': 'days_late'}>,\n",
       "        <Axes: title={'center': 'months_allowed'}>,\n",
       "        <Axes: title={'center': 'months_late'}>],\n",
       "       [<Axes: title={'center': 'months_open_vs_allowed'}>,\n",
       "        <Axes: title={'center': 'months_late_vs_allowed'}>, <Axes: >]],\n",
       "      dtype=object)"
      ]
     },
     "execution_count": 137,
     "metadata": {},
     "output_type": "execute_result"
    },
    {
     "data": {
      "image/png": "[encoded data removed]",
      "text/plain": [
       "<Figure size 1200x900 with 9 Axes>"
      ]
     },
     "metadata": {},
     "output_type": "display_data"
    }
   ],
   "source": [
    "cleared_invoices.select_dtypes(include=['float']).hist(bins=50, figsize=(12, 9))"
   ]
  },
  {
   "cell_type": "markdown",
   "id": "c087328f",
   "metadata": {},
   "source": [
    "### Exchange Rate\n",
    "\n",
    "Exchange rates change for both payments and open invoices. Customers would expect to pay the amount they were originally invoiced in their own currency, not the USD amount originally invoiced. Therefore, we should use raw amounts to determine how much is paid vs due. "
   ]
  },
  {
   "cell_type": "code",
   "execution_count": 157,
   "id": "917bd445",
   "metadata": {},
   "outputs": [
    {
     "data": {
      "text/plain": [
       "<Axes: title={'center': 'Exchange Rate Spread Ratio'}, xlabel='currency'>"
      ]
     },
     "execution_count": 157,
     "metadata": {},
     "output_type": "execute_result"
    },
    {
     "data": {
      "image/png": "[encoded data removed]",
      "text/plain": [
       "<Figure size 640x480 with 1 Axes>"
      ]
     },
     "metadata": {},
     "output_type": "display_data"
    }
   ],
   "source": [
    "# USD is not is always 1 - it varies a lot\n",
    "currency_ranges = cleared_invoices.groupby(\"currency\").root_exchange_rate_value.describe(percentiles=[])\n",
    "(currency_ranges['max']/currency_ranges['min']).sort_values().plot(kind='bar', title=\"Exchange Rate Spread Ratio\")"
   ]
  },
  {
   "cell_type": "code",
   "execution_count": 146,
   "id": "fbe5267a",
   "metadata": {},
   "outputs": [
    {
     "data": {
      "text/plain": [
       "0.9845438613572194"
      ]
     },
     "execution_count": 146,
     "metadata": {},
     "output_type": "execute_result"
    }
   ],
   "source": [
    "# a significant % of cleared USD invoices have an exchange rate unequal to 1\n",
    "cleared_invoices_usd = cleared_invoices\\\n",
    ".query(\"currency=='USD' and months_allowed>=0 and months_allowed<=12 and months_late<=12\").copy()\n",
    "cleared_invoices_usd['exchange_rate_is_1'] = cleared_invoices_usd['root_exchange_rate_value'] == 1\n",
    "cleared_invoices_usd.exchange_rate_is_1.mean()"
   ]
  },
  {
   "cell_type": "code",
   "execution_count": 162,
   "id": "f437f348",
   "metadata": {},
   "outputs": [
    {
     "data": {
      "text/plain": [
       "months_to_clear\n",
       " 0     0.712358\n",
       " 12    0.127020\n",
       "-1     0.083877\n",
       " 1     0.051030\n",
       " 13    0.012219\n",
       " 11    0.011732\n",
       "-12    0.001010\n",
       "-13    0.000365\n",
       " 24    0.000170\n",
       " 25    0.000073\n",
       "-24    0.000061\n",
       "-11    0.000037\n",
       "-25    0.000037\n",
       " 23    0.000012\n",
       "Name: proportion, dtype: float64"
      ]
     },
     "execution_count": 162,
     "metadata": {},
     "output_type": "execute_result"
    }
   ],
   "source": [
    "# USD exchange rate variations from 1 tend to be invoices which took longer to clear\n",
    "# This suggests that the invoice exchange rate is \"current state data.\" \n",
    "time_to_clear = cleared_invoices_usd.cleared_date - cleared_invoices_usd.invoice_date\n",
    "cleared_invoices_usd['months_to_clear'] = time_to_clear.map(lambda t: round(t.days/30))\n",
    "cleared_invoices_usd.months_to_clear.value_counts(normalize=True, dropna=False)"
   ]
  },
  {
   "cell_type": "code",
   "execution_count": 160,
   "id": "b317b81d",
   "metadata": {},
   "outputs": [
    {
     "data": {
      "text/html": [
       "<div>\n",
       "<style scoped>\n",
       "    .dataframe tbody tr th:only-of-type {\n",
       "        vertical-align: middle;\n",
       "    }\n",
       "\n",
       "    .dataframe tbody tr th {\n",
       "        vertical-align: top;\n",
       "    }\n",
       "\n",
       "    .dataframe thead th {\n",
       "        text-align: right;\n",
       "    }\n",
       "</style>\n",
       "<table border=\"1\" class=\"dataframe\">\n",
       "  <thead>\n",
       "    <tr style=\"text-align: right;\">\n",
       "      <th></th>\n",
       "      <th>mean</th>\n",
       "      <th>count</th>\n",
       "    </tr>\n",
       "    <tr>\n",
       "      <th>exchange_rate_is_1</th>\n",
       "      <th></th>\n",
       "      <th></th>\n",
       "    </tr>\n",
       "  </thead>\n",
       "  <tbody>\n",
       "    <tr>\n",
       "      <th>False</th>\n",
       "      <td>2.855118</td>\n",
       "      <td>1270</td>\n",
       "    </tr>\n",
       "    <tr>\n",
       "      <th>True</th>\n",
       "      <td>1.748745</td>\n",
       "      <td>80898</td>\n",
       "    </tr>\n",
       "  </tbody>\n",
       "</table>\n",
       "</div>"
      ],
      "text/plain": [
       "                        mean  count\n",
       "exchange_rate_is_1                 \n",
       "False               2.855118   1270\n",
       "True                1.748745  80898"
      ]
     },
     "execution_count": 160,
     "metadata": {},
     "output_type": "execute_result"
    }
   ],
   "source": [
    "cleared_invoices_usd.groupby(\"exchange_rate_is_1\").months_to_clear.agg(['mean','count'])"
   ]
  },
  {
   "cell_type": "code",
   "execution_count": 163,
   "id": "48ed8c25",
   "metadata": {},
   "outputs": [
    {
     "data": {
      "text/plain": [
       "<Axes: title={'center': '% of USD Invoices With Exchange Rate Equal to 1'}, xlabel='months_to_clear'>"
      ]
     },
     "execution_count": 163,
     "metadata": {},
     "output_type": "execute_result"
    },
    {
     "data": {
      "image/png": "[encoded data removed]",
      "text/plain": [
       "<Figure size 1200x300 with 1 Axes>"
      ]
     },
     "metadata": {},
     "output_type": "display_data"
    }
   ],
   "source": [
    "cleared_invoices_usd.groupby(cleared_invoices_usd.months_to_clear.clip(upper=13, lower=-1))\\\n",
    ".exchange_rate_is_1.mean().plot(title='% of USD Invoices With Exchange Rate Equal to 1', figsize=(12,3))"
   ]
  },
  {
   "cell_type": "code",
   "execution_count": null,
   "id": "d80ece35",
   "metadata": {},
   "outputs": [],
   "source": []
  },
  {
   "cell_type": "markdown",
   "id": "0cd2603d",
   "metadata": {},
   "source": [
    "### Merge\n",
    "\n",
    "- 18% of payments are partial. \n",
    "- Exchange rates vary across payments.\n",
    "- Companies are consistent between payments and invoices, when payments are present"
   ]
  },
  {
   "cell_type": "code",
   "execution_count": 168,
   "id": "9406263b",
   "metadata": {},
   "outputs": [
    {
     "data": {
      "text/plain": [
       "0"
      ]
     },
     "execution_count": 168,
     "metadata": {},
     "output_type": "execute_result"
    }
   ],
   "source": [
    "#all payment invoices are represented in both datasets \n",
    "len(set(payments.invoice_id) - set(invoices.id))"
   ]
  },
  {
   "cell_type": "code",
   "execution_count": 169,
   "id": "ee178003",
   "metadata": {},
   "outputs": [
    {
     "data": {
      "text/plain": [
       "0.07127382057744175"
      ]
     },
     "execution_count": 169,
     "metadata": {},
     "output_type": "execute_result"
    }
   ],
   "source": [
    "#7% of invoices do not have payments yet\n",
    "len(set(invoices.id) - set(payments.invoice_id))/invoices.__len__()"
   ]
  },
  {
   "cell_type": "code",
   "execution_count": 170,
   "id": "0029df0c",
   "metadata": {},
   "outputs": [],
   "source": [
    "invoice_payments = invoices.rename(columns={\"id\":\"invoice_id\",\"amount_inv\":\"amount\"})\\\n",
    ".merge(payments, on=\"invoice_id\", how='left', suffixes=('_inv', '_pmt'))"
   ]
  },
  {
   "cell_type": "code",
   "execution_count": 171,
   "id": "9f6dd4ab",
   "metadata": {},
   "outputs": [
    {
     "name": "stdout",
     "output_type": "stream",
     "text": [
      "amount: 0.1829583148818128 inconsistent rows in merged dataset\n",
      "root_exchange_rate_value: 0.30690240050800865 inconsistent rows in merged dataset\n",
      "company_id: 0.06734456856863548 inconsistent rows in merged dataset\n"
     ]
    }
   ],
   "source": [
    "duplicated_columns = [col.replace('_pmt','') for col in invoice_payments.columns if col.endswith('_pmt')]\n",
    "for col in  duplicated_columns:\n",
    "    inconsistent_rows = invoice_payments.loc[invoice_payments[col + '_pmt']!=invoice_payments[col + '_inv']]\n",
    "    print(f\"{col}: {inconsistent_rows.__len__()/invoice_payments.__len__()} inconsistent rows in merged dataset\")"
   ]
  },
  {
   "cell_type": "code",
   "execution_count": 175,
   "id": "501fe981",
   "metadata": {},
   "outputs": [
    {
     "data": {
      "text/plain": [
       "Series([], Name: count, dtype: int64)"
      ]
     },
     "execution_count": 175,
     "metadata": {},
     "output_type": "execute_result"
    }
   ],
   "source": [
    "invoice_payments.query(\"company_id_pmt!=company_id_inv\").company_id_pmt.value_counts()"
   ]
  },
  {
   "cell_type": "markdown",
   "id": "bf604674",
   "metadata": {},
   "source": [
    "## Adding Analytical Variables "
   ]
  },
  {
   "cell_type": "markdown",
   "id": "af21e963",
   "metadata": {},
   "source": [
    "### Date Quantity Variables"
   ]
  },
  {
   "cell_type": "markdown",
   "id": "c84aa605",
   "metadata": {},
   "source": [
    "#### Broken Down By Period\n",
    "\n",
    "What period-level should we use? (day, week, month)\n",
    "Create periods from invoice date to close date\n",
    "Rolling payment window: due_date - current period\n",
    "Rolling days open: cleared_date - current period "
   ]
  },
  {
   "cell_type": "markdown",
   "id": "4658300e",
   "metadata": {},
   "source": [
    "# Metadata Calculations & Cleaning\n",
    "\n",
    "Totals, Uniques, Averages, Ranges, Outliers, Missings\n",
    "Variables: Invoices, USD Amounts, Cleared/Open, Due Date, Invoice Date, Transaction Date, Customers, Companies, Accounts"
   ]
  },
  {
   "cell_type": "markdown",
   "id": "3c0ddac9",
   "metadata": {},
   "source": [
    "# Notes"
   ]
  },
  {
   "cell_type": "markdown",
   "id": "864c3192",
   "metadata": {},
   "source": [
    "## Notable entities\n",
    "\n",
    "e.g. customers with notable values"
   ]
  },
  {
   "cell_type": "markdown",
   "id": "e663f7e0",
   "metadata": {},
   "source": [
    "## Sparsity"
   ]
  },
  {
   "cell_type": "markdown",
   "id": "55860225",
   "metadata": {},
   "source": [
    "### Entities"
   ]
  },
  {
   "cell_type": "markdown",
   "id": "21d2d623",
   "metadata": {},
   "source": [
    "### Date Periods"
   ]
  },
  {
   "cell_type": "markdown",
   "id": "d19c2a0f",
   "metadata": {},
   "source": [
    "## Trends Over Time"
   ]
  },
  {
   "cell_type": "markdown",
   "id": "5c15eaf9",
   "metadata": {},
   "source": [
    "# Analysis"
   ]
  },
  {
   "cell_type": "markdown",
   "id": "e2006f9f",
   "metadata": {},
   "source": [
    "## Business Motivation\n",
    "\n",
    "Cash collections don't follow due dates"
   ]
  },
  {
   "cell_type": "markdown",
   "id": "0488fe44",
   "metadata": {},
   "source": [
    "## Data Science Benchmark\n",
    "\n",
    "Define & Quantify: customers' mean absolute % error each period from cash due."
   ]
  },
  {
   "cell_type": "markdown",
   "id": "b6366b08",
   "metadata": {},
   "source": [
    "## Data Science Target\n",
    "\n",
    "Best outcome variable? \n",
    "Days late\n",
    "Days open (Total and Rolling)\n",
    "Days Open as a % of Payment Window (Total and Rolling)\n",
    "Days Late as a % of Payment Window (Total and Rolling)"
   ]
  }
 ],
 "metadata": {
  "kernelspec": {
   "display_name": "Python 3 (ipykernel)",
   "language": "python",
   "name": "python3"
  },
  "language_info": {
   "codemirror_mode": {
    "name": "ipython",
    "version": 3
   },
   "file_extension": ".py",
   "mimetype": "text/x-python",
   "name": "python",
   "nbconvert_exporter": "python",
   "pygments_lexer": "ipython3",
   "version": "3.10.6"
  }
 },
 "nbformat": 4,
 "nbformat_minor": 5
}
