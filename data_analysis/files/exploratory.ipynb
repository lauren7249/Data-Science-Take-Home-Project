{
 "cells": [
  {
   "cell_type": "raw",
   "id": "09b8d26f",
   "metadata": {},
   "source": [
    "---\n",
    "title: Exploratory Data Analysis\n",
    "authors:\n",
    "- Lauren Talbot\n",
    "created_at: 2023-04-13\n",
    "tldr: A machine learning project is only as good as the data that goes into it. What are some of the high level aspects of the data that we can discover? How should we clean and filter the data?\n",
    "---"
   ]
  },
  {
   "cell_type": "code",
   "execution_count": 1,
   "id": "b6986970",
   "metadata": {},
   "outputs": [],
   "source": [
    "%matplotlib inline"
   ]
  },
  {
   "cell_type": "markdown",
   "id": "96f9844d",
   "metadata": {},
   "source": [
    "# Input Datasets  "
   ]
  },
  {
   "cell_type": "code",
   "execution_count": 2,
   "id": "c2e7d108",
   "metadata": {},
   "outputs": [],
   "source": [
    "import pandas\n",
    "data_folder = '../data'\n",
    "date_format='%Y-%M-%d' #truncate datetimes to dates\n",
    "invoices = pandas.read_csv(data_folder + '/invoice.csv', na_values='inf', \n",
    "                           parse_dates=['invoice_date', 'due_date', 'cleared_date'], date_format=date_format)\n",
    "payments = pandas.read_csv(data_folder + '/invoice_payments.csv', na_values='inf',\n",
    "                           parse_dates=['transaction_date'], date_format=date_format)"
   ]
  },
  {
   "cell_type": "markdown",
   "id": "fb33d782",
   "metadata": {},
   "source": [
    "## Dataset Definitions & Relationships\n",
    "\n",
    "We have two input datasets: invoices and their payments.\n",
    "- Payments are amounts in time, which are directly mapped to companies. \n",
    "- Invoices can have multiple payments, but usually only have 1. "
   ]
  },
  {
   "cell_type": "code",
   "execution_count": 3,
   "id": "8421d533",
   "metadata": {},
   "outputs": [
    {
     "data": {
      "text/plain": [
       "id                                   int64\n",
       "due_date                    datetime64[ns]\n",
       "invoice_date                datetime64[ns]\n",
       "status                              object\n",
       "amount_inv                         float64\n",
       "currency                            object\n",
       "company_id                           int64\n",
       "customer_id                          int64\n",
       "account_id                           int64\n",
       "cleared_date                datetime64[ns]\n",
       "root_exchange_rate_value           float64\n",
       "dtype: object"
      ]
     },
     "execution_count": 3,
     "metadata": {},
     "output_type": "execute_result"
    }
   ],
   "source": [
    "invoices.dtypes"
   ]
  },
  {
   "cell_type": "code",
   "execution_count": 4,
   "id": "12abbc1d",
   "metadata": {},
   "outputs": [
    {
     "data": {
      "text/plain": [
       "amount                             float64\n",
       "root_exchange_rate_value           float64\n",
       "transaction_date            datetime64[ns]\n",
       "invoice_id                           int64\n",
       "company_id                           int64\n",
       "converted_amount                   float64\n",
       "dtype: object"
      ]
     },
     "execution_count": 4,
     "metadata": {},
     "output_type": "execute_result"
    }
   ],
   "source": [
    "payments.dtypes"
   ]
  },
  {
   "cell_type": "code",
   "execution_count": 5,
   "id": "72a6f8c4",
   "metadata": {},
   "outputs": [
    {
     "data": {
      "text/html": [
       "<div>\n",
       "<style scoped>\n",
       "    .dataframe tbody tr th:only-of-type {\n",
       "        vertical-align: middle;\n",
       "    }\n",
       "\n",
       "    .dataframe tbody tr th {\n",
       "        vertical-align: top;\n",
       "    }\n",
       "\n",
       "    .dataframe thead th {\n",
       "        text-align: right;\n",
       "    }\n",
       "</style>\n",
       "<table border=\"1\" class=\"dataframe\">\n",
       "  <thead>\n",
       "    <tr style=\"text-align: right;\">\n",
       "      <th></th>\n",
       "      <th>ids</th>\n",
       "    </tr>\n",
       "    <tr>\n",
       "      <th>invoices_per_id</th>\n",
       "      <th></th>\n",
       "    </tr>\n",
       "  </thead>\n",
       "  <tbody>\n",
       "    <tr>\n",
       "      <th>1</th>\n",
       "      <td>113085</td>\n",
       "    </tr>\n",
       "  </tbody>\n",
       "</table>\n",
       "</div>"
      ],
      "text/plain": [
       "                    ids\n",
       "invoices_per_id        \n",
       "1                113085"
      ]
     },
     "execution_count": 5,
     "metadata": {},
     "output_type": "execute_result"
    }
   ],
   "source": [
    "#The join key will be invoice_id, so it must be unique (and it is).\n",
    "invoices.id.value_counts(dropna=False).value_counts(dropna=False)\\\n",
    ".to_frame(name=\"ids\").rename_axis('invoices_per_id')"
   ]
  },
  {
   "cell_type": "code",
   "execution_count": 6,
   "id": "b7faaf80",
   "metadata": {},
   "outputs": [
    {
     "data": {
      "text/plain": [
       "0"
      ]
     },
     "execution_count": 6,
     "metadata": {},
     "output_type": "execute_result"
    }
   ],
   "source": [
    "#all payments are represented in both datasets \n",
    "len(set(payments.invoice_id) - set(invoices.id))"
   ]
  },
  {
   "cell_type": "code",
   "execution_count": 7,
   "id": "7af57a63",
   "metadata": {},
   "outputs": [
    {
     "data": {
      "text/plain": [
       "0.07127382057744175"
      ]
     },
     "execution_count": 7,
     "metadata": {},
     "output_type": "execute_result"
    }
   ],
   "source": [
    "#7% of invoices do not have payments yet\n",
    "len(set(invoices.id) - set(payments.invoice_id))/invoices.__len__()"
   ]
  },
  {
   "cell_type": "code",
   "execution_count": 8,
   "id": "ea62aab2",
   "metadata": {},
   "outputs": [
    {
     "data": {
      "text/html": [
       "<div>\n",
       "<style scoped>\n",
       "    .dataframe tbody tr th:only-of-type {\n",
       "        vertical-align: middle;\n",
       "    }\n",
       "\n",
       "    .dataframe tbody tr th {\n",
       "        vertical-align: top;\n",
       "    }\n",
       "\n",
       "    .dataframe thead th {\n",
       "        text-align: right;\n",
       "    }\n",
       "</style>\n",
       "<table border=\"1\" class=\"dataframe\">\n",
       "  <thead>\n",
       "    <tr style=\"text-align: right;\">\n",
       "      <th></th>\n",
       "      <th>invoices</th>\n",
       "    </tr>\n",
       "    <tr>\n",
       "      <th>payments_per_invoice</th>\n",
       "      <th></th>\n",
       "    </tr>\n",
       "  </thead>\n",
       "  <tbody>\n",
       "    <tr>\n",
       "      <th>1</th>\n",
       "      <td>0.941871</td>\n",
       "    </tr>\n",
       "    <tr>\n",
       "      <th>2</th>\n",
       "      <td>0.054758</td>\n",
       "    </tr>\n",
       "    <tr>\n",
       "      <th>3</th>\n",
       "      <td>0.002552</td>\n",
       "    </tr>\n",
       "    <tr>\n",
       "      <th>4</th>\n",
       "      <td>0.000562</td>\n",
       "    </tr>\n",
       "    <tr>\n",
       "      <th>5</th>\n",
       "      <td>0.000143</td>\n",
       "    </tr>\n",
       "    <tr>\n",
       "      <th>6</th>\n",
       "      <td>0.000076</td>\n",
       "    </tr>\n",
       "    <tr>\n",
       "      <th>14</th>\n",
       "      <td>0.000010</td>\n",
       "    </tr>\n",
       "    <tr>\n",
       "      <th>9</th>\n",
       "      <td>0.000010</td>\n",
       "    </tr>\n",
       "    <tr>\n",
       "      <th>8</th>\n",
       "      <td>0.000010</td>\n",
       "    </tr>\n",
       "    <tr>\n",
       "      <th>7</th>\n",
       "      <td>0.000010</td>\n",
       "    </tr>\n",
       "  </tbody>\n",
       "</table>\n",
       "</div>"
      ],
      "text/plain": [
       "                      invoices\n",
       "payments_per_invoice          \n",
       "1                     0.941871\n",
       "2                     0.054758\n",
       "3                     0.002552\n",
       "4                     0.000562\n",
       "5                     0.000143\n",
       "6                     0.000076\n",
       "14                    0.000010\n",
       "9                     0.000010\n",
       "8                     0.000010\n",
       "7                     0.000010"
      ]
     },
     "execution_count": 8,
     "metadata": {},
     "output_type": "execute_result"
    }
   ],
   "source": [
    "#invoices usually have one payment but may have more\n",
    "payments.invoice_id.value_counts(dropna=False).value_counts(dropna=False, normalize=True)\\\n",
    ".to_frame(name=\"invoices\").rename_axis('payments_per_invoice')"
   ]
  },
  {
   "cell_type": "markdown",
   "id": "d52d67e0",
   "metadata": {},
   "source": [
    "## Entity Definitions & Relationships\n",
    "\n",
    "- Company: business entity for which Tesorio is forecasting cash collected. There are only two. Each company collects using multiple currencies from multiple customers. \n",
    "- Account: **In this limited dataset, accounts and companies are synonymous, so we ignore accounts.**  \n",
    "- Customer: metadata about an invoice which is specific to each company. "
   ]
  },
  {
   "cell_type": "code",
   "execution_count": 9,
   "id": "71b2be52",
   "metadata": {},
   "outputs": [
    {
     "data": {
      "text/html": [
       "<div>\n",
       "<style scoped>\n",
       "    .dataframe tbody tr th:only-of-type {\n",
       "        vertical-align: middle;\n",
       "    }\n",
       "\n",
       "    .dataframe tbody tr th {\n",
       "        vertical-align: top;\n",
       "    }\n",
       "\n",
       "    .dataframe thead th {\n",
       "        text-align: right;\n",
       "    }\n",
       "</style>\n",
       "<table border=\"1\" class=\"dataframe\">\n",
       "  <thead>\n",
       "    <tr style=\"text-align: right;\">\n",
       "      <th></th>\n",
       "      <th>customer_id</th>\n",
       "      <th>currency</th>\n",
       "    </tr>\n",
       "    <tr>\n",
       "      <th>company_id</th>\n",
       "      <th></th>\n",
       "      <th></th>\n",
       "    </tr>\n",
       "  </thead>\n",
       "  <tbody>\n",
       "    <tr>\n",
       "      <th>14</th>\n",
       "      <td>546</td>\n",
       "      <td>13</td>\n",
       "    </tr>\n",
       "    <tr>\n",
       "      <th>114</th>\n",
       "      <td>4509</td>\n",
       "      <td>15</td>\n",
       "    </tr>\n",
       "  </tbody>\n",
       "</table>\n",
       "</div>"
      ],
      "text/plain": [
       "            customer_id  currency\n",
       "company_id                       \n",
       "14                  546        13\n",
       "114                4509        15"
      ]
     },
     "execution_count": 9,
     "metadata": {},
     "output_type": "execute_result"
    }
   ],
   "source": [
    "invoices.groupby(\"company_id\")[[\"customer_id\",\"currency\"]].nunique()"
   ]
  },
  {
   "cell_type": "code",
   "execution_count": 10,
   "id": "64f67efd",
   "metadata": {},
   "outputs": [
    {
     "data": {
      "text/html": [
       "<div>\n",
       "<style scoped>\n",
       "    .dataframe tbody tr th:only-of-type {\n",
       "        vertical-align: middle;\n",
       "    }\n",
       "\n",
       "    .dataframe tbody tr th {\n",
       "        vertical-align: top;\n",
       "    }\n",
       "\n",
       "    .dataframe thead th {\n",
       "        text-align: right;\n",
       "    }\n",
       "</style>\n",
       "<table border=\"1\" class=\"dataframe\">\n",
       "  <thead>\n",
       "    <tr style=\"text-align: right;\">\n",
       "      <th></th>\n",
       "      <th>customers</th>\n",
       "    </tr>\n",
       "    <tr>\n",
       "      <th>companies_per_customer</th>\n",
       "      <th></th>\n",
       "    </tr>\n",
       "  </thead>\n",
       "  <tbody>\n",
       "    <tr>\n",
       "      <th>1</th>\n",
       "      <td>5055</td>\n",
       "    </tr>\n",
       "  </tbody>\n",
       "</table>\n",
       "</div>"
      ],
      "text/plain": [
       "                        customers\n",
       "companies_per_customer           \n",
       "1                            5055"
      ]
     },
     "execution_count": 10,
     "metadata": {},
     "output_type": "execute_result"
    }
   ],
   "source": [
    "invoices.groupby(\"customer_id\").company_id.nunique().value_counts()\\\n",
    ".to_frame(name='customers').rename_axis('companies_per_customer')"
   ]
  },
  {
   "cell_type": "code",
   "execution_count": 11,
   "id": "3ca64f65",
   "metadata": {},
   "outputs": [
    {
     "data": {
      "text/html": [
       "<div>\n",
       "<style scoped>\n",
       "    .dataframe tbody tr th:only-of-type {\n",
       "        vertical-align: middle;\n",
       "    }\n",
       "\n",
       "    .dataframe tbody tr th {\n",
       "        vertical-align: top;\n",
       "    }\n",
       "\n",
       "    .dataframe thead th {\n",
       "        text-align: right;\n",
       "    }\n",
       "</style>\n",
       "<table border=\"1\" class=\"dataframe\">\n",
       "  <thead>\n",
       "    <tr style=\"text-align: right;\">\n",
       "      <th></th>\n",
       "      <th>unique_accounts</th>\n",
       "    </tr>\n",
       "    <tr>\n",
       "      <th>company_id</th>\n",
       "      <th></th>\n",
       "    </tr>\n",
       "  </thead>\n",
       "  <tbody>\n",
       "    <tr>\n",
       "      <th>14</th>\n",
       "      <td>1</td>\n",
       "    </tr>\n",
       "    <tr>\n",
       "      <th>114</th>\n",
       "      <td>1</td>\n",
       "    </tr>\n",
       "  </tbody>\n",
       "</table>\n",
       "</div>"
      ],
      "text/plain": [
       "            unique_accounts\n",
       "company_id                 \n",
       "14                        1\n",
       "114                       1"
      ]
     },
     "execution_count": 11,
     "metadata": {},
     "output_type": "execute_result"
    }
   ],
   "source": [
    "invoices.groupby(\"company_id\").account_id.nunique().to_frame(name=\"unique_accounts\")"
   ]
  },
  {
   "cell_type": "code",
   "execution_count": 12,
   "id": "82bc4fb5",
   "metadata": {},
   "outputs": [
    {
     "data": {
      "text/html": [
       "<div>\n",
       "<style scoped>\n",
       "    .dataframe tbody tr th:only-of-type {\n",
       "        vertical-align: middle;\n",
       "    }\n",
       "\n",
       "    .dataframe tbody tr th {\n",
       "        vertical-align: top;\n",
       "    }\n",
       "\n",
       "    .dataframe thead th {\n",
       "        text-align: right;\n",
       "    }\n",
       "</style>\n",
       "<table border=\"1\" class=\"dataframe\">\n",
       "  <thead>\n",
       "    <tr style=\"text-align: right;\">\n",
       "      <th></th>\n",
       "      <th>count</th>\n",
       "    </tr>\n",
       "    <tr>\n",
       "      <th>companies_per_account</th>\n",
       "      <th></th>\n",
       "    </tr>\n",
       "  </thead>\n",
       "  <tbody>\n",
       "    <tr>\n",
       "      <th>1</th>\n",
       "      <td>2</td>\n",
       "    </tr>\n",
       "  </tbody>\n",
       "</table>\n",
       "</div>"
      ],
      "text/plain": [
       "                       count\n",
       "companies_per_account       \n",
       "1                          2"
      ]
     },
     "execution_count": 12,
     "metadata": {},
     "output_type": "execute_result"
    }
   ],
   "source": [
    "invoices.groupby(\"account_id\").company_id.nunique().value_counts()\\\n",
    ".to_frame(name='count').rename_axis('companies_per_account')"
   ]
  },
  {
   "cell_type": "markdown",
   "id": "5efc16c0",
   "metadata": {},
   "source": [
    "## Data Cleaning Needs"
   ]
  },
  {
   "cell_type": "markdown",
   "id": "08bbd14b",
   "metadata": {},
   "source": [
    "### Payments\n",
    "\n",
    "Transaction data begins in 2011 and ends on 2021-01-31. We will assume this is when the data was pulled. "
   ]
  },
  {
   "cell_type": "code",
   "execution_count": 13,
   "id": "a160451c",
   "metadata": {},
   "outputs": [
    {
     "data": {
      "text/plain": [
       "111623"
      ]
     },
     "execution_count": 13,
     "metadata": {},
     "output_type": "execute_result"
    }
   ],
   "source": [
    "payments.__len__()"
   ]
  },
  {
   "cell_type": "code",
   "execution_count": 14,
   "id": "5e37d7c6",
   "metadata": {},
   "outputs": [
    {
     "data": {
      "text/html": [
       "<div>\n",
       "<style scoped>\n",
       "    .dataframe tbody tr th:only-of-type {\n",
       "        vertical-align: middle;\n",
       "    }\n",
       "\n",
       "    .dataframe tbody tr th {\n",
       "        vertical-align: top;\n",
       "    }\n",
       "\n",
       "    .dataframe thead th {\n",
       "        text-align: right;\n",
       "    }\n",
       "</style>\n",
       "<table border=\"1\" class=\"dataframe\">\n",
       "  <thead>\n",
       "    <tr style=\"text-align: right;\">\n",
       "      <th></th>\n",
       "      <th>amount</th>\n",
       "      <th>root_exchange_rate_value</th>\n",
       "      <th>transaction_date</th>\n",
       "      <th>converted_amount</th>\n",
       "    </tr>\n",
       "  </thead>\n",
       "  <tbody>\n",
       "    <tr>\n",
       "      <th>count</th>\n",
       "      <td>111622.000000</td>\n",
       "      <td>111623.000000</td>\n",
       "      <td>111623</td>\n",
       "      <td>1.116220e+05</td>\n",
       "    </tr>\n",
       "    <tr>\n",
       "      <th>mean</th>\n",
       "      <td>9416.980646</td>\n",
       "      <td>0.968372</td>\n",
       "      <td>2017-09-21 16:48:01.513129216</td>\n",
       "      <td>9.128716e+03</td>\n",
       "    </tr>\n",
       "    <tr>\n",
       "      <th>min</th>\n",
       "      <td>0.000004</td>\n",
       "      <td>0.000806</td>\n",
       "      <td>2011-01-01 00:05:00</td>\n",
       "      <td>1.800562e-08</td>\n",
       "    </tr>\n",
       "    <tr>\n",
       "      <th>25%</th>\n",
       "      <td>4078.626249</td>\n",
       "      <td>1.000000</td>\n",
       "      <td>2016-01-18 00:07:00</td>\n",
       "      <td>3.180972e+03</td>\n",
       "    </tr>\n",
       "    <tr>\n",
       "      <th>50%</th>\n",
       "      <td>9332.665539</td>\n",
       "      <td>1.000000</td>\n",
       "      <td>2018-01-20 00:02:00</td>\n",
       "      <td>8.819620e+03</td>\n",
       "    </tr>\n",
       "    <tr>\n",
       "      <th>75%</th>\n",
       "      <td>14651.495863</td>\n",
       "      <td>1.000000</td>\n",
       "      <td>2020-01-05 00:02:00</td>\n",
       "      <td>1.461286e+04</td>\n",
       "    </tr>\n",
       "    <tr>\n",
       "      <th>max</th>\n",
       "      <td>19999.879159</td>\n",
       "      <td>3.253307</td>\n",
       "      <td>2021-01-31 00:03:00</td>\n",
       "      <td>6.120943e+04</td>\n",
       "    </tr>\n",
       "    <tr>\n",
       "      <th>std</th>\n",
       "      <td>6015.336178</td>\n",
       "      <td>0.244600</td>\n",
       "      <td>NaN</td>\n",
       "      <td>6.438813e+03</td>\n",
       "    </tr>\n",
       "    <tr>\n",
       "      <th>% populated</th>\n",
       "      <td>0.999991</td>\n",
       "      <td>1.000000</td>\n",
       "      <td>1.0</td>\n",
       "      <td>9.999910e-01</td>\n",
       "    </tr>\n",
       "  </tbody>\n",
       "</table>\n",
       "</div>"
      ],
      "text/plain": [
       "                    amount  root_exchange_rate_value   \n",
       "count        111622.000000             111623.000000  \\\n",
       "mean           9416.980646                  0.968372   \n",
       "min               0.000004                  0.000806   \n",
       "25%            4078.626249                  1.000000   \n",
       "50%            9332.665539                  1.000000   \n",
       "75%           14651.495863                  1.000000   \n",
       "max           19999.879159                  3.253307   \n",
       "std            6015.336178                  0.244600   \n",
       "% populated       0.999991                  1.000000   \n",
       "\n",
       "                          transaction_date  converted_amount  \n",
       "count                               111623      1.116220e+05  \n",
       "mean         2017-09-21 16:48:01.513129216      9.128716e+03  \n",
       "min                    2011-01-01 00:05:00      1.800562e-08  \n",
       "25%                    2016-01-18 00:07:00      3.180972e+03  \n",
       "50%                    2018-01-20 00:02:00      8.819620e+03  \n",
       "75%                    2020-01-05 00:02:00      1.461286e+04  \n",
       "max                    2021-01-31 00:03:00      6.120943e+04  \n",
       "std                                    NaN      6.438813e+03  \n",
       "% populated                            1.0      9.999910e-01  "
      ]
     },
     "execution_count": 14,
     "metadata": {},
     "output_type": "execute_result"
    }
   ],
   "source": [
    "payment_stats = payments.describe(exclude='int')\n",
    "payment_stats.loc['% populated'] = payment_stats.loc['count']/payments.__len__()\n",
    "payment_stats"
   ]
  },
  {
   "cell_type": "code",
   "execution_count": 15,
   "id": "541b0f1d",
   "metadata": {},
   "outputs": [
    {
     "data": {
      "text/plain": [
       "Timestamp('2021-01-31 00:03:00')"
      ]
     },
     "execution_count": 15,
     "metadata": {},
     "output_type": "execute_result"
    }
   ],
   "source": [
    "last_transaction_date = payments.transaction_date.max()\n",
    "last_transaction_date"
   ]
  },
  {
   "cell_type": "code",
   "execution_count": 16,
   "id": "7f55fd4c",
   "metadata": {},
   "outputs": [
    {
     "data": {
      "text/plain": [
       "1.0913936421275139e-11"
      ]
     },
     "execution_count": 16,
     "metadata": {},
     "output_type": "execute_result"
    }
   ],
   "source": [
    "#converted_amount is reliable\n",
    "(((payments.amount * payments.root_exchange_rate_value) - payments.converted_amount).abs()).max()"
   ]
  },
  {
   "cell_type": "code",
   "execution_count": 52,
   "id": "080eaa27",
   "metadata": {},
   "outputs": [
    {
     "data": {
      "text/plain": [
       "0"
      ]
     },
     "execution_count": 52,
     "metadata": {},
     "output_type": "execute_result"
    }
   ],
   "source": [
    "payments[payments.amount.isnull()!=payments.converted_amount.isnull()].__len__()"
   ]
  },
  {
   "cell_type": "code",
   "execution_count": 17,
   "id": "0144d3fd",
   "metadata": {},
   "outputs": [
    {
     "data": {
      "text/plain": [
       "array([[<Axes: title={'center': 'amount'}>,\n",
       "        <Axes: title={'center': 'root_exchange_rate_value'}>,\n",
       "        <Axes: title={'center': 'converted_amount'}>]], dtype=object)"
      ]
     },
     "execution_count": 17,
     "metadata": {},
     "output_type": "execute_result"
    },
    {
     "data": {
      "image/png": "[encoded data removed]",
      "text/plain": [
       "<Figure size 1200x300 with 3 Axes>"
      ]
     },
     "metadata": {},
     "output_type": "display_data"
    }
   ],
   "source": [
    "payments.select_dtypes(include='float').hist(bins=50, figsize=(12, 3), layout=(1,3))"
   ]
  },
  {
   "cell_type": "markdown",
   "id": "60dbbc75",
   "metadata": {},
   "source": [
    "### Invoices"
   ]
  },
  {
   "cell_type": "code",
   "execution_count": 18,
   "id": "f4d1eb68",
   "metadata": {},
   "outputs": [],
   "source": [
    "#to compare to payments. Are we holding the customer accountable to USD or their own currency?\n",
    "invoices['converted_amount'] = invoices.amount_inv * invoices.root_exchange_rate_value"
   ]
  },
  {
   "cell_type": "code",
   "execution_count": 19,
   "id": "dc49959c",
   "metadata": {
    "scrolled": true
   },
   "outputs": [
    {
     "data": {
      "text/html": [
       "<div>\n",
       "<style scoped>\n",
       "    .dataframe tbody tr th:only-of-type {\n",
       "        vertical-align: middle;\n",
       "    }\n",
       "\n",
       "    .dataframe tbody tr th {\n",
       "        vertical-align: top;\n",
       "    }\n",
       "\n",
       "    .dataframe thead th {\n",
       "        text-align: right;\n",
       "    }\n",
       "</style>\n",
       "<table border=\"1\" class=\"dataframe\">\n",
       "  <thead>\n",
       "    <tr style=\"text-align: right;\">\n",
       "      <th></th>\n",
       "      <th>due_date</th>\n",
       "      <th>invoice_date</th>\n",
       "      <th>status</th>\n",
       "      <th>amount_inv</th>\n",
       "      <th>currency</th>\n",
       "      <th>cleared_date</th>\n",
       "      <th>root_exchange_rate_value</th>\n",
       "      <th>converted_amount</th>\n",
       "    </tr>\n",
       "  </thead>\n",
       "  <tbody>\n",
       "    <tr>\n",
       "      <th>count</th>\n",
       "      <td>113060</td>\n",
       "      <td>113085</td>\n",
       "      <td>113085</td>\n",
       "      <td>113085.000000</td>\n",
       "      <td>113085</td>\n",
       "      <td>113085</td>\n",
       "      <td>113085.000000</td>\n",
       "      <td>113085.000000</td>\n",
       "    </tr>\n",
       "    <tr>\n",
       "      <th>unique</th>\n",
       "      <td>NaN</td>\n",
       "      <td>NaN</td>\n",
       "      <td>2</td>\n",
       "      <td>NaN</td>\n",
       "      <td>18</td>\n",
       "      <td>NaN</td>\n",
       "      <td>NaN</td>\n",
       "      <td>NaN</td>\n",
       "    </tr>\n",
       "    <tr>\n",
       "      <th>top</th>\n",
       "      <td>NaN</td>\n",
       "      <td>NaN</td>\n",
       "      <td>CLEARED</td>\n",
       "      <td>NaN</td>\n",
       "      <td>USD</td>\n",
       "      <td>NaN</td>\n",
       "      <td>NaN</td>\n",
       "      <td>NaN</td>\n",
       "    </tr>\n",
       "    <tr>\n",
       "      <th>freq</th>\n",
       "      <td>NaN</td>\n",
       "      <td>NaN</td>\n",
       "      <td>109382</td>\n",
       "      <td>NaN</td>\n",
       "      <td>85146</td>\n",
       "      <td>NaN</td>\n",
       "      <td>NaN</td>\n",
       "      <td>NaN</td>\n",
       "    </tr>\n",
       "    <tr>\n",
       "      <th>mean</th>\n",
       "      <td>2017-10-18 01:21:46.726340096</td>\n",
       "      <td>2017-09-09 19:59:16.684971776</td>\n",
       "      <td>NaN</td>\n",
       "      <td>10026.599910</td>\n",
       "      <td>NaN</td>\n",
       "      <td>2017-11-18 00:39:17.928637952</td>\n",
       "      <td>0.970822</td>\n",
       "      <td>9742.189020</td>\n",
       "    </tr>\n",
       "    <tr>\n",
       "      <th>min</th>\n",
       "      <td>2010-01-07 00:09:00</td>\n",
       "      <td>2010-01-21 00:12:00</td>\n",
       "      <td>NaN</td>\n",
       "      <td>0.027581</td>\n",
       "      <td>NaN</td>\n",
       "      <td>2011-01-01 00:05:00</td>\n",
       "      <td>0.000815</td>\n",
       "      <td>0.007976</td>\n",
       "    </tr>\n",
       "    <tr>\n",
       "      <th>25%</th>\n",
       "      <td>2016-01-20 00:05:00</td>\n",
       "      <td>2016-01-18 00:08:00</td>\n",
       "      <td>NaN</td>\n",
       "      <td>5030.122601</td>\n",
       "      <td>NaN</td>\n",
       "      <td>2016-01-21 00:08:00</td>\n",
       "      <td>1.000000</td>\n",
       "      <td>4161.945155</td>\n",
       "    </tr>\n",
       "    <tr>\n",
       "      <th>50%</th>\n",
       "      <td>2018-01-22 00:04:00</td>\n",
       "      <td>2018-01-20 00:05:00</td>\n",
       "      <td>NaN</td>\n",
       "      <td>10018.092660</td>\n",
       "      <td>NaN</td>\n",
       "      <td>2018-01-24 00:04:00</td>\n",
       "      <td>1.000000</td>\n",
       "      <td>9587.398549</td>\n",
       "    </tr>\n",
       "    <tr>\n",
       "      <th>75%</th>\n",
       "      <td>2020-01-11 00:07:00</td>\n",
       "      <td>2020-01-08 00:12:00</td>\n",
       "      <td>NaN</td>\n",
       "      <td>15029.685611</td>\n",
       "      <td>NaN</td>\n",
       "      <td>2020-01-10 00:05:00</td>\n",
       "      <td>1.000000</td>\n",
       "      <td>15057.375121</td>\n",
       "    </tr>\n",
       "    <tr>\n",
       "      <th>max</th>\n",
       "      <td>2023-01-31 00:01:00</td>\n",
       "      <td>2023-01-01 00:01:00</td>\n",
       "      <td>NaN</td>\n",
       "      <td>19999.974875</td>\n",
       "      <td>NaN</td>\n",
       "      <td>2022-01-01 00:01:00</td>\n",
       "      <td>1.681560</td>\n",
       "      <td>32285.475685</td>\n",
       "    </tr>\n",
       "    <tr>\n",
       "      <th>std</th>\n",
       "      <td>NaN</td>\n",
       "      <td>NaN</td>\n",
       "      <td>NaN</td>\n",
       "      <td>5767.833365</td>\n",
       "      <td>NaN</td>\n",
       "      <td>NaN</td>\n",
       "      <td>0.246109</td>\n",
       "      <td>6286.160100</td>\n",
       "    </tr>\n",
       "    <tr>\n",
       "      <th>% populated</th>\n",
       "      <td>0.999779</td>\n",
       "      <td>1.0</td>\n",
       "      <td>1.0</td>\n",
       "      <td>1.000000</td>\n",
       "      <td>1.0</td>\n",
       "      <td>1.0</td>\n",
       "      <td>1.000000</td>\n",
       "      <td>1.000000</td>\n",
       "    </tr>\n",
       "  </tbody>\n",
       "</table>\n",
       "</div>"
      ],
      "text/plain": [
       "                                  due_date                   invoice_date   \n",
       "count                               113060                         113085  \\\n",
       "unique                                 NaN                            NaN   \n",
       "top                                    NaN                            NaN   \n",
       "freq                                   NaN                            NaN   \n",
       "mean         2017-10-18 01:21:46.726340096  2017-09-09 19:59:16.684971776   \n",
       "min                    2010-01-07 00:09:00            2010-01-21 00:12:00   \n",
       "25%                    2016-01-20 00:05:00            2016-01-18 00:08:00   \n",
       "50%                    2018-01-22 00:04:00            2018-01-20 00:05:00   \n",
       "75%                    2020-01-11 00:07:00            2020-01-08 00:12:00   \n",
       "max                    2023-01-31 00:01:00            2023-01-01 00:01:00   \n",
       "std                                    NaN                            NaN   \n",
       "% populated                       0.999779                            1.0   \n",
       "\n",
       "              status     amount_inv currency                   cleared_date   \n",
       "count         113085  113085.000000   113085                         113085  \\\n",
       "unique             2            NaN       18                            NaN   \n",
       "top          CLEARED            NaN      USD                            NaN   \n",
       "freq          109382            NaN    85146                            NaN   \n",
       "mean             NaN   10026.599910      NaN  2017-11-18 00:39:17.928637952   \n",
       "min              NaN       0.027581      NaN            2011-01-01 00:05:00   \n",
       "25%              NaN    5030.122601      NaN            2016-01-21 00:08:00   \n",
       "50%              NaN   10018.092660      NaN            2018-01-24 00:04:00   \n",
       "75%              NaN   15029.685611      NaN            2020-01-10 00:05:00   \n",
       "max              NaN   19999.974875      NaN            2022-01-01 00:01:00   \n",
       "std              NaN    5767.833365      NaN                            NaN   \n",
       "% populated      1.0       1.000000      1.0                            1.0   \n",
       "\n",
       "             root_exchange_rate_value  converted_amount  \n",
       "count                   113085.000000     113085.000000  \n",
       "unique                            NaN               NaN  \n",
       "top                               NaN               NaN  \n",
       "freq                              NaN               NaN  \n",
       "mean                         0.970822       9742.189020  \n",
       "min                          0.000815          0.007976  \n",
       "25%                          1.000000       4161.945155  \n",
       "50%                          1.000000       9587.398549  \n",
       "75%                          1.000000      15057.375121  \n",
       "max                          1.681560      32285.475685  \n",
       "std                          0.246109       6286.160100  \n",
       "% populated                  1.000000          1.000000  "
      ]
     },
     "execution_count": 19,
     "metadata": {},
     "output_type": "execute_result"
    }
   ],
   "source": [
    "invoices_stats = invoices.describe(exclude='int')\n",
    "invoices_stats.loc['% populated'] = invoices_stats.loc['count']/invoices.__len__()\n",
    "invoices_stats"
   ]
  },
  {
   "cell_type": "code",
   "execution_count": 20,
   "id": "147e59ac",
   "metadata": {},
   "outputs": [
    {
     "data": {
      "text/plain": [
       "(15, 1)"
      ]
     },
     "execution_count": 20,
     "metadata": {},
     "output_type": "execute_result"
    }
   ],
   "source": [
    "#opened outside of payment data time period - need to filter \n",
    "(invoices.loc[invoices.invoice_date>payments.transaction_date.max()].__len__(), \n",
    "invoices.loc[invoices.invoice_date<payments.transaction_date.min()].__len__())"
   ]
  },
  {
   "cell_type": "markdown",
   "id": "1d66e86b",
   "metadata": {},
   "source": [
    "### Exchange Rate\n",
    "\n",
    "Exchange rates vary for both payments and open invoices. Customers would expect to pay the amount they were originally invoiced in their own currency, not the USD amount originally invoiced. Therefore, we should use raw amounts to determine how much is paid vs due. "
   ]
  },
  {
   "cell_type": "code",
   "execution_count": 21,
   "id": "95aa1149",
   "metadata": {},
   "outputs": [
    {
     "data": {
      "text/plain": [
       "<Axes: title={'center': 'Exchange Rate Spread Ratio'}, xlabel='currency'>"
      ]
     },
     "execution_count": 21,
     "metadata": {},
     "output_type": "execute_result"
    },
    {
     "data": {
      "image/png": "[encoded data removed]",
      "text/plain": [
       "<Figure size 640x480 with 1 Axes>"
      ]
     },
     "metadata": {},
     "output_type": "display_data"
    }
   ],
   "source": [
    "# USD is not is always 1 - it varies a lot\n",
    "currency_ranges = invoices.groupby(\"currency\").root_exchange_rate_value.describe(percentiles=[])\n",
    "(currency_ranges['max']/currency_ranges['min']).sort_values().plot(kind='bar', title=\"Exchange Rate Spread Ratio\")"
   ]
  },
  {
   "cell_type": "code",
   "execution_count": 22,
   "id": "d5506779",
   "metadata": {},
   "outputs": [
    {
     "data": {
      "text/plain": [
       "0.015831630376059946"
      ]
     },
     "execution_count": 22,
     "metadata": {},
     "output_type": "execute_result"
    }
   ],
   "source": [
    "# 1.2% of USD invoices have an exchange rate unequal to 1\n",
    "invoices_usd = invoices.query(\"currency=='USD'\").copy()\n",
    "invoices_usd['exchange_rate_is_1'] = invoices_usd['root_exchange_rate_value'] == 1\n",
    "1 - invoices_usd.exchange_rate_is_1.mean()"
   ]
  },
  {
   "cell_type": "code",
   "execution_count": 23,
   "id": "68e226ae",
   "metadata": {},
   "outputs": [],
   "source": [
    "# USD exchange rate variations from 1 tend to be invoices which took longer to clear\n",
    "# This suggests that the invoice exchange rate is \"current state data.\" \n",
    "time_to_clear = invoices_usd.cleared_date - invoices_usd.invoice_date\n",
    "invoices_usd['months_to_clear'] = time_to_clear.map(lambda t: round(t.days/30))"
   ]
  },
  {
   "cell_type": "code",
   "execution_count": 24,
   "id": "e965d771",
   "metadata": {},
   "outputs": [
    {
     "data": {
      "text/html": [
       "<div>\n",
       "<style scoped>\n",
       "    .dataframe tbody tr th:only-of-type {\n",
       "        vertical-align: middle;\n",
       "    }\n",
       "\n",
       "    .dataframe tbody tr th {\n",
       "        vertical-align: top;\n",
       "    }\n",
       "\n",
       "    .dataframe thead th {\n",
       "        text-align: right;\n",
       "    }\n",
       "</style>\n",
       "<table border=\"1\" class=\"dataframe\">\n",
       "  <thead>\n",
       "    <tr style=\"text-align: right;\">\n",
       "      <th></th>\n",
       "      <th>mean</th>\n",
       "      <th>count</th>\n",
       "    </tr>\n",
       "    <tr>\n",
       "      <th>exchange_rate_is_1</th>\n",
       "      <th></th>\n",
       "      <th></th>\n",
       "    </tr>\n",
       "  </thead>\n",
       "  <tbody>\n",
       "    <tr>\n",
       "      <th>False</th>\n",
       "      <td>3.562315</td>\n",
       "      <td>1348</td>\n",
       "    </tr>\n",
       "    <tr>\n",
       "      <th>True</th>\n",
       "      <td>2.104239</td>\n",
       "      <td>83798</td>\n",
       "    </tr>\n",
       "  </tbody>\n",
       "</table>\n",
       "</div>"
      ],
      "text/plain": [
       "                        mean  count\n",
       "exchange_rate_is_1                 \n",
       "False               3.562315   1348\n",
       "True                2.104239  83798"
      ]
     },
     "execution_count": 24,
     "metadata": {},
     "output_type": "execute_result"
    }
   ],
   "source": [
    "invoices_usd.groupby(\"exchange_rate_is_1\").months_to_clear.agg(['mean','count'])"
   ]
  },
  {
   "cell_type": "code",
   "execution_count": 25,
   "id": "62d6ee73",
   "metadata": {},
   "outputs": [
    {
     "data": {
      "text/plain": [
       "<Axes: title={'center': '% of USD Invoices With Exchange Rate Equal to 1'}, xlabel='months_to_clear'>"
      ]
     },
     "execution_count": 25,
     "metadata": {},
     "output_type": "execute_result"
    },
    {
     "data": {
      "image/png": "[encoded data removed]",
      "text/plain": [
       "<Figure size 1200x300 with 1 Axes>"
      ]
     },
     "metadata": {},
     "output_type": "display_data"
    }
   ],
   "source": [
    "invoices_usd.groupby(invoices_usd.months_to_clear.clip(upper=13, lower=-1))\\\n",
    ".exchange_rate_is_1.mean().plot(title='% of USD Invoices With Exchange Rate Equal to 1', figsize=(12,3))"
   ]
  },
  {
   "cell_type": "markdown",
   "id": "576a3e07",
   "metadata": {},
   "source": [
    "### Cleared vs Open \n",
    "\n",
    "All invoices have a date cleared. \n",
    "When an invoice is open, the date cleared is set to the future, and seems to be an assumed value. "
   ]
  },
  {
   "cell_type": "code",
   "execution_count": 26,
   "id": "4327f695",
   "metadata": {},
   "outputs": [
    {
     "data": {
      "text/plain": [
       "0"
      ]
     },
     "execution_count": 26,
     "metadata": {},
     "output_type": "execute_result"
    }
   ],
   "source": [
    "invoices.loc[invoices.cleared_date.isnull()].__len__()"
   ]
  },
  {
   "cell_type": "code",
   "execution_count": 27,
   "id": "4336b02c",
   "metadata": {},
   "outputs": [
    {
     "data": {
      "text/html": [
       "<div>\n",
       "<style scoped>\n",
       "    .dataframe tbody tr th:only-of-type {\n",
       "        vertical-align: middle;\n",
       "    }\n",
       "\n",
       "    .dataframe tbody tr th {\n",
       "        vertical-align: top;\n",
       "    }\n",
       "\n",
       "    .dataframe thead th {\n",
       "        text-align: right;\n",
       "    }\n",
       "</style>\n",
       "<table border=\"1\" class=\"dataframe\">\n",
       "  <thead>\n",
       "    <tr style=\"text-align: right;\">\n",
       "      <th></th>\n",
       "      <th>% of Invoices</th>\n",
       "    </tr>\n",
       "    <tr>\n",
       "      <th>status</th>\n",
       "      <th></th>\n",
       "    </tr>\n",
       "  </thead>\n",
       "  <tbody>\n",
       "    <tr>\n",
       "      <th>CLEARED</th>\n",
       "      <td>0.967255</td>\n",
       "    </tr>\n",
       "    <tr>\n",
       "      <th>OPEN</th>\n",
       "      <td>0.032745</td>\n",
       "    </tr>\n",
       "  </tbody>\n",
       "</table>\n",
       "</div>"
      ],
      "text/plain": [
       "         % of Invoices\n",
       "status                \n",
       "CLEARED       0.967255\n",
       "OPEN          0.032745"
      ]
     },
     "execution_count": 27,
     "metadata": {},
     "output_type": "execute_result"
    }
   ],
   "source": [
    "invoices.status.value_counts(normalize=True, dropna=False).to_frame(name=\"% of Invoices\")"
   ]
  },
  {
   "cell_type": "code",
   "execution_count": 28,
   "id": "8622afba",
   "metadata": {},
   "outputs": [
    {
     "data": {
      "text/plain": [
       "status  cleared_date       \n",
       "OPEN    2022-01-01 00:01:00    3703\n",
       "Name: count, dtype: int64"
      ]
     },
     "execution_count": 28,
     "metadata": {},
     "output_type": "execute_result"
    }
   ],
   "source": [
    "invoices.loc[invoices.cleared_date.isnull() != (invoices.status == 'OPEN'),['status','cleared_date']]\\\n",
    ".value_counts(dropna=False)"
   ]
  },
  {
   "cell_type": "code",
   "execution_count": 29,
   "id": "0a462b77",
   "metadata": {},
   "outputs": [
    {
     "data": {
      "text/plain": [
       "cleared_date\n",
       "2022-01-01 00:01:00    3703\n",
       "Name: count, dtype: int64"
      ]
     },
     "execution_count": 29,
     "metadata": {},
     "output_type": "execute_result"
    }
   ],
   "source": [
    "#all open invoices have the same cleared date\n",
    "invoices.loc[invoices.status == 'OPEN'].cleared_date.value_counts(dropna=False)"
   ]
  },
  {
   "cell_type": "code",
   "execution_count": 30,
   "id": "f9607700",
   "metadata": {},
   "outputs": [
    {
     "data": {
      "text/plain": [
       "invoice_date   2023-01-01 00:01:00\n",
       "due_date       2023-01-31 00:01:00\n",
       "dtype: datetime64[ns]"
      ]
     },
     "execution_count": 30,
     "metadata": {},
     "output_type": "execute_result"
    }
   ],
   "source": [
    "invoices.loc[invoices.status == 'OPEN', ['invoice_date','due_date']].max()"
   ]
  },
  {
   "cell_type": "code",
   "execution_count": 31,
   "id": "0b3b1646",
   "metadata": {},
   "outputs": [
    {
     "data": {
      "text/plain": [
       "0.03274528009904054"
      ]
     },
     "execution_count": 31,
     "metadata": {},
     "output_type": "execute_result"
    }
   ],
   "source": [
    "(invoices.cleared_date>last_transaction_date).mean()"
   ]
  },
  {
   "cell_type": "markdown",
   "id": "52df5086",
   "metadata": {},
   "source": [
    "### Merging & Checking for Consistency\n",
    "\n",
    "- 18% of payments are partial. \n",
    "- No payments are more than their invoices. \n",
    "- Exchange rates vary across payments.\n",
    "- Companies are consistent between payments and invoices, when payments are present. \n",
    "- Amounts are more consistent in their original currencies than in USD"
   ]
  },
  {
   "cell_type": "code",
   "execution_count": 32,
   "id": "07f0318a",
   "metadata": {},
   "outputs": [],
   "source": [
    "invoice_payments = invoices.rename(columns={\"id\":\"invoice_id\",\"amount_inv\":\"amount\"})\\\n",
    ".merge(payments, on=\"invoice_id\", how='left', suffixes=('_inv', '_pmt'))"
   ]
  },
  {
   "cell_type": "code",
   "execution_count": 33,
   "id": "2b48c2d6",
   "metadata": {},
   "outputs": [
    {
     "data": {
      "text/plain": [
       "113085"
      ]
     },
     "execution_count": 33,
     "metadata": {},
     "output_type": "execute_result"
    }
   ],
   "source": [
    "invoice_payments.invoice_id.nunique()"
   ]
  },
  {
   "cell_type": "code",
   "execution_count": 34,
   "id": "ab2c6d57",
   "metadata": {},
   "outputs": [
    {
     "name": "stdout",
     "output_type": "stream",
     "text": [
      "amount: 0.1829583148818128 inconsistent rows in merged dataset\n",
      "root_exchange_rate_value: 0.30690240050800865 inconsistent rows in merged dataset\n",
      "company_id: 0.06734456856863548 inconsistent rows in merged dataset\n",
      "converted_amount: 0.3867800773710552 inconsistent rows in merged dataset\n"
     ]
    }
   ],
   "source": [
    "duplicated_columns = [col.replace('_pmt','') for col in invoice_payments.columns if col.endswith('_pmt')]\n",
    "for col in  duplicated_columns:\n",
    "    inconsistent_rows = invoice_payments.loc[invoice_payments[col + '_pmt']!=invoice_payments[col + '_inv']]\n",
    "    print(f\"{col}: {inconsistent_rows.__len__()/invoice_payments.__len__()} inconsistent rows in merged dataset\")"
   ]
  },
  {
   "cell_type": "code",
   "execution_count": 35,
   "id": "fde9fa68",
   "metadata": {},
   "outputs": [
    {
     "data": {
      "text/plain": [
       "company_id_pmt\n",
       "NaN    8060\n",
       "Name: count, dtype: int64"
      ]
     },
     "execution_count": 35,
     "metadata": {},
     "output_type": "execute_result"
    }
   ],
   "source": [
    "invoice_payments.query(\"company_id_pmt!=company_id_inv\").company_id_pmt.value_counts(dropna=False)"
   ]
  },
  {
   "cell_type": "code",
   "execution_count": 36,
   "id": "3f120623",
   "metadata": {},
   "outputs": [
    {
     "data": {
      "text/html": [
       "<div>\n",
       "<style scoped>\n",
       "    .dataframe tbody tr th:only-of-type {\n",
       "        vertical-align: middle;\n",
       "    }\n",
       "\n",
       "    .dataframe tbody tr th {\n",
       "        vertical-align: top;\n",
       "    }\n",
       "\n",
       "    .dataframe thead th {\n",
       "        text-align: right;\n",
       "    }\n",
       "</style>\n",
       "<table border=\"1\" class=\"dataframe\">\n",
       "  <thead>\n",
       "    <tr style=\"text-align: right;\">\n",
       "      <th></th>\n",
       "      <th>amount_pmt</th>\n",
       "      <th>amount_inv</th>\n",
       "    </tr>\n",
       "  </thead>\n",
       "  <tbody>\n",
       "    <tr>\n",
       "      <th>count</th>\n",
       "      <td>13836.000000</td>\n",
       "      <td>21897.000000</td>\n",
       "    </tr>\n",
       "    <tr>\n",
       "      <th>mean</th>\n",
       "      <td>5018.916400</td>\n",
       "      <td>9967.933614</td>\n",
       "    </tr>\n",
       "    <tr>\n",
       "      <th>std</th>\n",
       "      <td>5889.899213</td>\n",
       "      <td>5768.578282</td>\n",
       "    </tr>\n",
       "    <tr>\n",
       "      <th>min</th>\n",
       "      <td>0.000004</td>\n",
       "      <td>2.210771</td>\n",
       "    </tr>\n",
       "    <tr>\n",
       "      <th>25%</th>\n",
       "      <td>94.592214</td>\n",
       "      <td>4956.197711</td>\n",
       "    </tr>\n",
       "    <tr>\n",
       "      <th>50%</th>\n",
       "      <td>2087.812498</td>\n",
       "      <td>9941.744191</td>\n",
       "    </tr>\n",
       "    <tr>\n",
       "      <th>75%</th>\n",
       "      <td>9183.459468</td>\n",
       "      <td>14934.380999</td>\n",
       "    </tr>\n",
       "    <tr>\n",
       "      <th>max</th>\n",
       "      <td>19989.986608</td>\n",
       "      <td>19999.974875</td>\n",
       "    </tr>\n",
       "  </tbody>\n",
       "</table>\n",
       "</div>"
      ],
      "text/plain": [
       "         amount_pmt    amount_inv\n",
       "count  13836.000000  21897.000000\n",
       "mean    5018.916400   9967.933614\n",
       "std     5889.899213   5768.578282\n",
       "min        0.000004      2.210771\n",
       "25%       94.592214   4956.197711\n",
       "50%     2087.812498   9941.744191\n",
       "75%     9183.459468  14934.380999\n",
       "max    19989.986608  19999.974875"
      ]
     },
     "execution_count": 36,
     "metadata": {},
     "output_type": "execute_result"
    }
   ],
   "source": [
    "invoice_payments.query(\"amount_pmt!=amount_inv\")[['amount_pmt','amount_inv']].describe()"
   ]
  },
  {
   "cell_type": "code",
   "execution_count": 37,
   "id": "22b24d03",
   "metadata": {},
   "outputs": [
    {
     "data": {
      "text/plain": [
       "0"
      ]
     },
     "execution_count": 37,
     "metadata": {},
     "output_type": "execute_result"
    }
   ],
   "source": [
    "#no payment is more than the invoice amount in the original currency\n",
    "invoice_payments.loc[invoice_payments.amount_pmt>invoice_payments.amount_inv].__len__()"
   ]
  },
  {
   "cell_type": "code",
   "execution_count": 38,
   "id": "4408d839",
   "metadata": {},
   "outputs": [
    {
     "data": {
      "text/plain": [
       "11075"
      ]
     },
     "execution_count": 38,
     "metadata": {},
     "output_type": "execute_result"
    }
   ],
   "source": [
    "#converting to USD creates payments that are higher than invoice totals\n",
    "invoice_payments.loc[invoice_payments.converted_amount_pmt>invoice_payments.converted_amount_inv].__len__()"
   ]
  },
  {
   "cell_type": "code",
   "execution_count": 39,
   "id": "b5cf7e05",
   "metadata": {},
   "outputs": [],
   "source": [
    "invoice_payments_rollup = invoice_payments.groupby(\"invoice_id\", \n",
    "                                    as_index=False).agg({\"amount_pmt\":['sum','count'],\n",
    "                                                         \"transaction_date\":['min','max']})\n",
    "invoice_payments_rollup.columns = invoice_payments_rollup.columns.to_flat_index().map('_'.join)\n",
    "payment_totals = invoices.merge(invoice_payments_rollup, how=\"left\", left_on=\"id\", right_on=\"invoice_id_\")\n",
    "payment_totals['amount_remaining'] = payment_totals.amount_inv - payment_totals.amount_pmt_sum"
   ]
  },
  {
   "cell_type": "markdown",
   "id": "2c6838d4",
   "metadata": {},
   "source": [
    "#### Cleared invoices \n",
    "\n",
    "Invoices with cleared dates or statuses can still have amounts remaining. 1% of cleared invoices were overpaid."
   ]
  },
  {
   "cell_type": "code",
   "execution_count": 40,
   "id": "972c861e",
   "metadata": {},
   "outputs": [
    {
     "data": {
      "text/plain": [
       "0.10322323915638676"
      ]
     },
     "execution_count": 40,
     "metadata": {},
     "output_type": "execute_result"
    }
   ],
   "source": [
    "#For invoices with a cleared date, the totals do not match 10% of the time\n",
    "cleared_invoices = payment_totals.loc[payment_totals.cleared_date.isnull()==False].copy()\n",
    "1 - (cleared_invoices.amount_remaining==0).mean()"
   ]
  },
  {
   "cell_type": "code",
   "execution_count": 41,
   "id": "e4fb7fbd",
   "metadata": {},
   "outputs": [
    {
     "data": {
      "text/plain": [
       "0.07288219268252549"
      ]
     },
     "execution_count": 41,
     "metadata": {},
     "output_type": "execute_result"
    }
   ],
   "source": [
    "#For invoices with \"cleared\" status, totals do not match 7% of the time\n",
    "cleared_invoices = payment_totals.loc[payment_totals.status=='CLEARED'].copy()\n",
    "1 - (cleared_invoices.amount_remaining==0).mean()"
   ]
  },
  {
   "cell_type": "code",
   "execution_count": 42,
   "id": "ff6e91e9",
   "metadata": {},
   "outputs": [
    {
     "data": {
      "text/plain": [
       "0.010522755115101205"
      ]
     },
     "execution_count": 42,
     "metadata": {},
     "output_type": "execute_result"
    }
   ],
   "source": [
    "# 1% of cleared invoices have been overpaid according to payments data. \n",
    "(cleared_invoices.amount_remaining<0).mean()"
   ]
  },
  {
   "cell_type": "code",
   "execution_count": 43,
   "id": "b96e2f16",
   "metadata": {},
   "outputs": [
    {
     "data": {
      "text/plain": [
       "0.5716768027801912"
      ]
     },
     "execution_count": 43,
     "metadata": {},
     "output_type": "execute_result"
    }
   ],
   "source": [
    "#only half of these seem to be late fees\n",
    "overpayments = cleared_invoices.query(\"amount_remaining<0\")\n",
    "(overpayments.cleared_date>overpayments.due_date).mean()"
   ]
  },
  {
   "cell_type": "markdown",
   "id": "0bb31b17",
   "metadata": {},
   "source": [
    "#### Fully collected invoices\n",
    "\n",
    "- Can still be open (rarely). \n",
    "- Almost always cleared with the last transaction, after converting to monthly periods. \n",
    "- These may represent late fees. "
   ]
  },
  {
   "cell_type": "code",
   "execution_count": 44,
   "id": "139eaaf3",
   "metadata": {},
   "outputs": [
    {
     "data": {
      "text/plain": [
       "status\n",
       "CLEARED    0.99998\n",
       "OPEN       0.00002\n",
       "Name: proportion, dtype: float64"
      ]
     },
     "execution_count": 44,
     "metadata": {},
     "output_type": "execute_result"
    }
   ],
   "source": [
    "collected_invoices = payment_totals.query(\"amount_remaining==0\").copy()\n",
    "collected_invoices.status.value_counts(normalize=True, dropna=False)"
   ]
  },
  {
   "cell_type": "code",
   "execution_count": 45,
   "id": "a6765e7d",
   "metadata": {},
   "outputs": [
    {
     "data": {
      "text/plain": [
       "count                        101412\n",
       "mean      3 days 17:20:24.789965684\n",
       "std      42 days 12:41:59.168706657\n",
       "min              -30 days +00:01:00\n",
       "25%                 0 days 00:00:00\n",
       "50%                 0 days 00:00:00\n",
       "75%                 0 days 00:00:00\n",
       "max              1112 days 23:55:00\n",
       "dtype: object"
      ]
     },
     "execution_count": 45,
     "metadata": {},
     "output_type": "execute_result"
    }
   ],
   "source": [
    "(collected_invoices.cleared_date-collected_invoices.transaction_date_max).describe()"
   ]
  },
  {
   "cell_type": "code",
   "execution_count": 46,
   "id": "d30d2238",
   "metadata": {},
   "outputs": [
    {
     "data": {
      "text/plain": [
       "0.0"
      ]
     },
     "execution_count": 46,
     "metadata": {},
     "output_type": "execute_result"
    }
   ],
   "source": [
    "(collected_invoices.cleared_date.dt.to_period('M')<collected_invoices.transaction_date_max.dt.to_period('M'))\\\n",
    ".mean()"
   ]
  },
  {
   "cell_type": "code",
   "execution_count": 47,
   "id": "0001ef31",
   "metadata": {},
   "outputs": [
    {
     "data": {
      "text/plain": [
       "0.008815524789965685"
      ]
     },
     "execution_count": 47,
     "metadata": {},
     "output_type": "execute_result"
    }
   ],
   "source": [
    "(collected_invoices.cleared_date.dt.to_period('M')>collected_invoices.transaction_date_max.dt.to_period('M'))\\\n",
    ".mean()"
   ]
  },
  {
   "cell_type": "markdown",
   "id": "651087e2",
   "metadata": {},
   "source": [
    "# Structuring Data for Task"
   ]
  },
  {
   "cell_type": "code",
   "execution_count": null,
   "id": "6a770c7c",
   "metadata": {},
   "outputs": [],
   "source": [
    "collected_invoices"
   ]
  },
  {
   "cell_type": "markdown",
   "id": "fc95d54a",
   "metadata": {},
   "source": [
    "## Transforming Dates to Quantities"
   ]
  },
  {
   "cell_type": "code",
   "execution_count": null,
   "id": "d114b6ef",
   "metadata": {},
   "outputs": [],
   "source": [
    "invoice_time_allowed = invoices.due_date - invoices.invoice_date\n",
    "invoice_time_open = invoices.cleared_date - invoices.invoice_date\n",
    "invoice_time_late = invoice_time_open - invoice_time_allowed"
   ]
  },
  {
   "cell_type": "code",
   "execution_count": null,
   "id": "54997827",
   "metadata": {},
   "outputs": [],
   "source": [
    "invoices['days_allowed'] = invoice_time_allowed.map(lambda t: t.days if not pandas.isnull(t) else None)\n",
    "invoices['days_open'] = invoice_time_open.map(lambda t: t.days if not pandas.isnull(t) else None)\n",
    "invoices['days_late'] = invoice_time_late.map(lambda t: t.days if not pandas.isnull(t) else None)\n",
    "\n",
    "invoices['months_allowed'] = (invoices.due_date.dt.to_period('M') - invoices.invoice_date.dt.to_period('M'))\n",
    "invoices.months_allowed = invoices.months_allowed.map(lambda m: m.n if not pandas.isnull(m) else None)\n",
    "invoices['months_open'] = (invoices.cleared_date.dt.to_period('M') - invoices.invoice_date.dt.to_period('M'))\n",
    "invoices.months_open = invoices.months_open.map(lambda m: m.n if not pandas.isnull(m) else None)\n",
    "invoices['months_late'] = (invoices.cleared_date.dt.to_period('M') - invoices.due_date.dt.to_period('M'))\n",
    "invoices.months_late = invoices.months_late.map(lambda m: m.n if not pandas.isnull(m) else None)"
   ]
  },
  {
   "cell_type": "markdown",
   "id": "bf604674",
   "metadata": {},
   "source": [
    "## Break Down Invoices By Period"
   ]
  },
  {
   "cell_type": "markdown",
   "id": "c84aa605",
   "metadata": {},
   "source": [
    "Create periods from invoice date to close date\n",
    "Rolling payment window: due_date - current period\n",
    "Rolling days open: cleared_date - current period "
   ]
  },
  {
   "cell_type": "markdown",
   "id": "67349a6e",
   "metadata": {},
   "source": [
    "## Assumptions\n",
    "\n",
    "- Invoices that are cleared will have their total amount paid off, no more, no less\n",
    "- Invoices will only be scored if they are open at that point in time \n",
    "- "
   ]
  },
  {
   "cell_type": "markdown",
   "id": "4658300e",
   "metadata": {},
   "source": [
    "# Metadata Calculations & Cleaning\n",
    "\n",
    "Totals, Uniques, Averages, Ranges, Outliers, Missings\n",
    "Variables: Invoices, USD Amounts, Cleared/Open, Due Date, Invoice Date, Transaction Date, Customers, Companies, Accounts"
   ]
  },
  {
   "cell_type": "markdown",
   "id": "3c0ddac9",
   "metadata": {},
   "source": [
    "# Notes"
   ]
  },
  {
   "cell_type": "markdown",
   "id": "864c3192",
   "metadata": {},
   "source": [
    "## Notable entities\n",
    "\n",
    "e.g. customers with notable values"
   ]
  },
  {
   "cell_type": "markdown",
   "id": "e663f7e0",
   "metadata": {},
   "source": [
    "## Sparsity"
   ]
  },
  {
   "cell_type": "markdown",
   "id": "55860225",
   "metadata": {},
   "source": [
    "### Entities"
   ]
  },
  {
   "cell_type": "markdown",
   "id": "21d2d623",
   "metadata": {},
   "source": [
    "### Date Periods"
   ]
  },
  {
   "cell_type": "markdown",
   "id": "d19c2a0f",
   "metadata": {},
   "source": [
    "## Trends Over Time"
   ]
  },
  {
   "cell_type": "markdown",
   "id": "5c15eaf9",
   "metadata": {},
   "source": [
    "# Analysis"
   ]
  },
  {
   "cell_type": "markdown",
   "id": "e2006f9f",
   "metadata": {},
   "source": [
    "## Business Motivation\n",
    "\n",
    "Cash collections don't follow due dates"
   ]
  },
  {
   "cell_type": "markdown",
   "id": "0488fe44",
   "metadata": {},
   "source": [
    "## Data Science Benchmark\n",
    "\n",
    "Define & Quantify: customers' mean absolute % error each period from cash due."
   ]
  },
  {
   "cell_type": "markdown",
   "id": "b6366b08",
   "metadata": {},
   "source": [
    "## Data Science Target\n",
    "\n",
    "Best outcome variable? \n",
    "Days late\n",
    "Days open (Total and Rolling)\n",
    "Days Open as a % of Payment Window (Total and Rolling)\n",
    "Days Late as a % of Payment Window (Total and Rolling)"
   ]
  }
 ],
 "metadata": {
  "kernelspec": {
   "display_name": "Python 3 (ipykernel)",
   "language": "python",
   "name": "python3"
  },
  "language_info": {
   "codemirror_mode": {
    "name": "ipython",
    "version": 3
   },
   "file_extension": ".py",
   "mimetype": "text/x-python",
   "name": "python",
   "nbconvert_exporter": "python",
   "pygments_lexer": "ipython3",
   "version": "3.10.11"
  }
 },
 "nbformat": 4,
 "nbformat_minor": 5
}
