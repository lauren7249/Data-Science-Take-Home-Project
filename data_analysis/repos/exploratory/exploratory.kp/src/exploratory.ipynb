{
 "cells": [
  {
   "cell_type": "raw",
   "id": "a91ee01c",
   "metadata": {},
   "source": [
    "---\n",
    "title: Exploratory Data Analysis\n",
    "authors:\n",
    "- Lauren Talbot\n",
    "created_at: 2023-04-13\n",
    "tldr: A machine learning project is only as good as the data that goes into it. What are some of the high level aspects of the data that we can discover? How should we clean and filter the data?\n",
    "---"
   ]
  },
  {
   "cell_type": "markdown",
   "id": "96f9844d",
   "metadata": {},
   "source": [
    "# Raw Data Assessment & Processing"
   ]
  },
  {
   "cell_type": "code",
   "execution_count": null,
   "id": "c2e7d108",
   "metadata": {},
   "outputs": [],
   "source": [
    "import pandas"
   ]
  },
  {
   "cell_type": "markdown",
   "id": "d52d67e0",
   "metadata": {},
   "source": [
    "## Entity Relationships & Definitions\n"
   ]
  },
  {
   "cell_type": "markdown",
   "id": "2bbf1f64",
   "metadata": {},
   "source": [
    "### Companies\n",
    "\n",
    "do they share customers?"
   ]
  },
  {
   "cell_type": "markdown",
   "id": "ba1ab763",
   "metadata": {},
   "source": [
    "### Customers\n",
    "\n",
    "do they share companies?"
   ]
  },
  {
   "cell_type": "markdown",
   "id": "516a4cfc",
   "metadata": {},
   "source": [
    "### Accounts\n",
    "\n",
    "How do they relate to the above?"
   ]
  },
  {
   "cell_type": "markdown",
   "id": "5efc16c0",
   "metadata": {},
   "source": [
    "## Basic Data Processing"
   ]
  },
  {
   "cell_type": "markdown",
   "id": "0ec1d641",
   "metadata": {},
   "source": [
    "### Duplicate Keys"
   ]
  },
  {
   "cell_type": "markdown",
   "id": "050fb517",
   "metadata": {},
   "source": [
    "### Inaccurate Values"
   ]
  },
  {
   "cell_type": "markdown",
   "id": "c6c21aa2",
   "metadata": {},
   "source": [
    "### Unclean Values"
   ]
  },
  {
   "cell_type": "markdown",
   "id": "64b5cfba",
   "metadata": {},
   "source": [
    "### Missing Values"
   ]
  },
  {
   "cell_type": "markdown",
   "id": "0cd2603d",
   "metadata": {},
   "source": [
    "### Inconsistencies\n",
    "\n",
    "After merge"
   ]
  },
  {
   "cell_type": "markdown",
   "id": "bf604674",
   "metadata": {},
   "source": [
    "## Adding Analytical Variables "
   ]
  },
  {
   "cell_type": "markdown",
   "id": "af21e963",
   "metadata": {},
   "source": [
    "### Date Quantity Variables"
   ]
  },
  {
   "cell_type": "markdown",
   "id": "4d94991c",
   "metadata": {},
   "source": [
    "#### Invoice-Level\n",
    "\n",
    "Days late: cleared_date - due date\n",
    "Payment window: due_date - invoice_date\n",
    "Days open: cleared_date - invoice_date"
   ]
  },
  {
   "cell_type": "markdown",
   "id": "c84aa605",
   "metadata": {},
   "source": [
    "#### Broken Down By Period\n",
    "\n",
    "What period-level should we use? (day, week, month)\n",
    "Create periods from invoice date to close date\n",
    "Rolling payment window: due_date - current period\n",
    "Rolling days open: cleared_date - current period "
   ]
  },
  {
   "cell_type": "markdown",
   "id": "4658300e",
   "metadata": {},
   "source": [
    "# Metadata Calculations & Cleaning\n",
    "\n",
    "Totals, Uniques, Averages, Ranges, Outliers, Missings\n",
    "Variables: Invoices, USD Amounts, Cleared/Open, Due Date, Invoice Date, Transaction Date, Customers, Companies, Accounts"
   ]
  },
  {
   "cell_type": "markdown",
   "id": "3c0ddac9",
   "metadata": {},
   "source": [
    "# Notes"
   ]
  },
  {
   "cell_type": "markdown",
   "id": "864c3192",
   "metadata": {},
   "source": [
    "## Notable entities\n",
    "\n",
    "e.g. customers with notable values"
   ]
  },
  {
   "cell_type": "markdown",
   "id": "e663f7e0",
   "metadata": {},
   "source": [
    "## Sparsity"
   ]
  },
  {
   "cell_type": "markdown",
   "id": "55860225",
   "metadata": {},
   "source": [
    "### Entities"
   ]
  },
  {
   "cell_type": "markdown",
   "id": "21d2d623",
   "metadata": {},
   "source": [
    "### Date Periods"
   ]
  },
  {
   "cell_type": "markdown",
   "id": "d19c2a0f",
   "metadata": {},
   "source": [
    "## Trends Over Time"
   ]
  },
  {
   "cell_type": "markdown",
   "id": "5c15eaf9",
   "metadata": {},
   "source": [
    "# Analysis"
   ]
  },
  {
   "cell_type": "markdown",
   "id": "e2006f9f",
   "metadata": {},
   "source": [
    "## Business Motivation\n",
    "\n",
    "Cash collections don't follow due dates"
   ]
  },
  {
   "cell_type": "markdown",
   "id": "0488fe44",
   "metadata": {},
   "source": [
    "## Data Science Benchmark\n",
    "\n",
    "Define & Quantify: customers' mean absolute % error each period from cash due."
   ]
  },
  {
   "cell_type": "markdown",
   "id": "b6366b08",
   "metadata": {},
   "source": [
    "## Data Science Target\n",
    "\n",
    "Best outcome variable? \n",
    "Days late\n",
    "Days open (Total and Rolling)\n",
    "Days Open as a % of Payment Window (Total and Rolling)\n",
    "Days Late as a % of Payment Window (Total and Rolling)"
   ]
  }
 ],
 "metadata": {
  "kernelspec": {
   "display_name": "Python 3 (ipykernel)",
   "language": "python",
   "name": "python3"
  },
  "language_info": {
   "codemirror_mode": {
    "name": "ipython",
    "version": 3
   },
   "file_extension": ".py",
   "mimetype": "text/x-python",
   "name": "python",
   "nbconvert_exporter": "python",
   "pygments_lexer": "ipython3",
   "version": "3.10.6"
  }
 },
 "nbformat": 4,
 "nbformat_minor": 5
}