{
 "cells": [
  {
   "cell_type": "raw",
   "id": "09b8d26f",
   "metadata": {},
   "source": [
    "---\n",
    "title: Exploratory Data Analysis\n",
    "authors:\n",
    "- Lauren Talbot\n",
    "created_at: 2023-04-13\n",
    "tldr: A machine learning project is only as good as the data that goes into it. What are some of the high level aspects of the data that we can discover? How should we clean and filter the data?\n",
    "---"
   ]
  },
  {
   "cell_type": "code",
   "execution_count": null,
   "id": "b6986970",
   "metadata": {},
   "outputs": [],
   "source": [
    "%matplotlib inline\n",
    "figsize = (10,3)"
   ]
  },
  {
   "cell_type": "markdown",
   "id": "96f9844d",
   "metadata": {},
   "source": [
    "# Assess Input Datasets  "
   ]
  },
  {
   "cell_type": "code",
   "execution_count": null,
   "id": "c2e7d108",
   "metadata": {},
   "outputs": [],
   "source": [
    "import pandas, numpy\n",
    "pandas.options.display.float_format = '{:,.4f}'.format\n",
    "data_folder = '../data'\n",
    "date_format='%Y-%m-%d' #truncate datetimes to dates\n",
    "id_columns = [\"id\",\"company_id\",\"invoice_id\",\"account_id\",\"customer_id\"]\n",
    "id_column_types = dict(zip(id_columns,[str] * len(id_columns)))\n",
    "invoices = pandas.read_csv(data_folder + '/invoice.csv', na_values='inf', dtype=id_column_types,\n",
    "                           parse_dates=['invoice_date', 'due_date', 'cleared_date'], date_format=date_format)\n",
    "payments = pandas.read_csv(data_folder + '/invoice_payments.csv', na_values='inf', dtype=id_column_types,\n",
    "                           parse_dates=['transaction_date'], date_format=date_format)\n",
    "invoices.__len__(), payments.__len__()"
   ]
  },
  {
   "cell_type": "markdown",
   "id": "acff1272-4718-49c0-ada6-40af68798032",
   "metadata": {},
   "source": [
    "## Determine Data Definitions and Relationships"
   ]
  },
  {
   "cell_type": "markdown",
   "id": "fb33d782",
   "metadata": {},
   "source": [
    "***Define Datasets & Their Relationships***\n",
    "\n",
    "We have two input datasets: invoices and their payments.\n",
    "\n",
    "- Payments are amounts in time, which are directly mapped to companies. \n",
    "- Invoices can have multiple payments, but usually only have 1. \n",
    "- All payments have invoices, but not all invoices have payments.  "
   ]
  },
  {
   "cell_type": "code",
   "execution_count": null,
   "id": "8421d533",
   "metadata": {},
   "outputs": [],
   "source": [
    "invoices.rename(columns={\"id\":\"invoice_id\"}, inplace=True)\n",
    "invoices.dtypes"
   ]
  },
  {
   "cell_type": "code",
   "execution_count": null,
   "id": "12abbc1d",
   "metadata": {},
   "outputs": [],
   "source": [
    "payments.dtypes"
   ]
  },
  {
   "cell_type": "code",
   "execution_count": null,
   "id": "72a6f8c4",
   "metadata": {},
   "outputs": [],
   "source": [
    "#The join key will be invoice_id, so it must be unique (and it is).\n",
    "invoices.invoice_id.value_counts(dropna=False).value_counts(dropna=False)\\\n",
    ".to_frame(name=\"ids\").rename_axis('invoices_per_id')"
   ]
  },
  {
   "cell_type": "code",
   "execution_count": null,
   "id": "b7faaf80",
   "metadata": {},
   "outputs": [],
   "source": [
    "#all payments are represented in both datasets \n",
    "len(set(payments.invoice_id) - set(invoices.invoice_id))"
   ]
  },
  {
   "cell_type": "code",
   "execution_count": null,
   "id": "7af57a63",
   "metadata": {},
   "outputs": [],
   "source": [
    "#7% of invoices do not have payments yet\n",
    "len(set(invoices.invoice_id) - set(payments.invoice_id))/invoices.__len__()"
   ]
  },
  {
   "cell_type": "code",
   "execution_count": null,
   "id": "ea62aab2",
   "metadata": {},
   "outputs": [],
   "source": [
    "#invoices usually have one payment but may have more\n",
    "payments.invoice_id.value_counts(dropna=False).value_counts(dropna=False, normalize=True)\\\n",
    ".to_frame(name=\"invoices\").rename_axis('payments_per_invoice')"
   ]
  },
  {
   "cell_type": "markdown",
   "id": "d52d67e0",
   "metadata": {},
   "source": [
    "***Define Entities & Their Relationships***\n",
    "\n",
    "- Company: business entity for which Tesorio is forecasting cash collected. There are only two. Each company collects using multiple currencies from multiple customers. \n",
    "- Account: **In this limited dataset, accounts and companies are synonymous, so we ignore accounts.**  \n",
    "- Customer: metadata about an invoice which is specific to each company. Each customer can have multiple currencies."
   ]
  },
  {
   "cell_type": "code",
   "execution_count": null,
   "id": "71b2be52",
   "metadata": {},
   "outputs": [],
   "source": [
    "invoices.groupby(\"company_id\")[[\"customer_id\",\"currency\"]].nunique()"
   ]
  },
  {
   "cell_type": "code",
   "execution_count": null,
   "id": "64f67efd",
   "metadata": {},
   "outputs": [],
   "source": [
    "invoices.groupby(\"customer_id\").company_id.nunique().value_counts()\\\n",
    ".to_frame(name='customers').rename_axis('companies_per_customer')"
   ]
  },
  {
   "cell_type": "code",
   "execution_count": null,
   "id": "4916e98d",
   "metadata": {},
   "outputs": [],
   "source": [
    "invoices.groupby([\"customer_id\"]).currency.nunique().value_counts()\\\n",
    ".to_frame(name='customers').rename_axis('currencies_per_customer')"
   ]
  },
  {
   "cell_type": "code",
   "execution_count": null,
   "id": "3ca64f65",
   "metadata": {},
   "outputs": [],
   "source": [
    "invoices.groupby(\"company_id\").account_id.nunique().to_frame(name=\"unique_accounts\")"
   ]
  },
  {
   "cell_type": "code",
   "execution_count": null,
   "id": "82bc4fb5",
   "metadata": {},
   "outputs": [],
   "source": [
    "invoices.groupby(\"account_id\").company_id.nunique().value_counts()\\\n",
    ".to_frame(name='count').rename_axis('companies_per_account')"
   ]
  },
  {
   "cell_type": "markdown",
   "id": "5efc16c0",
   "metadata": {},
   "source": [
    "## Identify Data Cleaning Needs"
   ]
  },
  {
   "cell_type": "markdown",
   "id": "08bbd14b",
   "metadata": {},
   "source": [
    "***Payments***\n",
    "\n",
    "Transaction data begins in 2011 and ends 2021-05-18. We will assume this is when the data was pulled. Based on volume, the last month appears to have an unrepresentative set of payments, so we filter out those payments. "
   ]
  },
  {
   "cell_type": "code",
   "execution_count": null,
   "id": "a160451c",
   "metadata": {},
   "outputs": [],
   "source": [
    "payments.__len__()\n",
    "payments['transaction_month'] = payments.transaction_date.dt.to_period('M').dt.to_timestamp()\n",
    "payments.groupby(\"transaction_month\").invoice_id.nunique()\\\n",
    ".plot(kind='area', title=\"Payments by Transaction Month\", figsize=figsize)"
   ]
  },
  {
   "cell_type": "code",
   "execution_count": null,
   "id": "baa9e5f5-e96b-4ab5-828f-ab1fa96dfcd4",
   "metadata": {},
   "outputs": [],
   "source": [
    "payments = payments[payments.transaction_month<payments.transaction_month.max()]\n",
    "last_complete_transaction_month = payments.transaction_month.max()\n",
    "first_transaction_month = payments.transaction_month.min()\n",
    "first_transaction_month, last_complete_transaction_month"
   ]
  },
  {
   "cell_type": "code",
   "execution_count": null,
   "id": "7f55fd4c",
   "metadata": {},
   "outputs": [],
   "source": [
    "#converted_amount is reliable\n",
    "(((payments.amount * payments.root_exchange_rate_value) - payments.converted_amount).abs()).max()"
   ]
  },
  {
   "cell_type": "code",
   "execution_count": null,
   "id": "620cf013",
   "metadata": {},
   "outputs": [],
   "source": [
    "payments[payments.amount.isnull()!=payments.converted_amount.isnull()].__len__()"
   ]
  },
  {
   "cell_type": "code",
   "execution_count": null,
   "id": "5e37d7c6",
   "metadata": {},
   "outputs": [],
   "source": [
    "payment_stats = payments.describe(include='all')\n",
    "payment_stats.loc['% populated'] = payment_stats.loc['count']/payments.__len__()\n",
    "payment_stats"
   ]
  },
  {
   "cell_type": "code",
   "execution_count": null,
   "id": "0144d3fd",
   "metadata": {},
   "outputs": [],
   "source": [
    "payments.select_dtypes(include='float').hist(bins=50, figsize=figsize, layout=(1,3))"
   ]
  },
  {
   "cell_type": "markdown",
   "id": "60dbbc75",
   "metadata": {},
   "source": [
    "***Invoice Dates***\n",
    "\n",
    "- Date range is different from payments. Filter dates out of range to ensure invoices have complete payment history.\n",
    "- Invoice can be opened with a past due date. Filter these out. \n",
    "- Invoices due 4+ months after opened are negligible: remove. \n",
    "- Invoices cleared before or 13+ months after opened are negligible: remove. "
   ]
  },
  {
   "cell_type": "code",
   "execution_count": null,
   "id": "d926869d-2f10-45ad-ba0b-0963123b1e8c",
   "metadata": {
    "tags": []
   },
   "outputs": [],
   "source": [
    "invoices['invoice_month'] = invoices.invoice_date.dt.to_period('M').dt.to_timestamp()\n",
    "invoices['due_month'] = invoices.due_date.dt.to_period('M').dt.to_timestamp()\n",
    "invoices.groupby(\"invoice_month\").invoice_id.count()\\\n",
    ".plot(kind='area', title=\"Invoices by Invoice Month\", figsize=figsize)"
   ]
  },
  {
   "cell_type": "code",
   "execution_count": null,
   "id": "26c55220",
   "metadata": {},
   "outputs": [],
   "source": [
    "#opened after they were due or before of payment data begins -  filter \n",
    "print(invoices.loc[invoices.invoice_month.dt.to_period('M')>invoices.due_month.dt.to_period('M')].__len__(), \n",
    "invoices.loc[invoices.invoice_month<first_transaction_month].__len__())\n",
    "invoices = invoices.loc[(invoices.invoice_month<=invoices.due_date.dt.to_period('M').dt.to_timestamp()) &\n",
    "                        (invoices.invoice_month>=first_transaction_month)]"
   ]
  },
  {
   "cell_type": "code",
   "execution_count": null,
   "id": "a111dcd5-806f-4715-8e5d-142f349b9df8",
   "metadata": {
    "tags": []
   },
   "outputs": [],
   "source": [
    "#need to filter out invoices due in the future relative to the payment date window\n",
    "invoices.groupby(\"due_month\").invoice_id.count()\\\n",
    ".plot(kind='area', title=\"Invoices by Due Month\", figsize=figsize)"
   ]
  },
  {
   "cell_type": "code",
   "execution_count": null,
   "id": "e8fd96c6",
   "metadata": {},
   "outputs": [],
   "source": [
    "invoices['months_allowed'] = invoices.due_month.dt.to_period('M') - invoices.invoice_month.dt.to_period('M')\n",
    "invoices.months_allowed = invoices.months_allowed.map(lambda m: m.n if not pandas.isnull(m) else None)\n",
    "#almost all invoices are due immediately or within 3 months. \n",
    "invoices.months_allowed.value_counts(normalize=True, dropna=False)"
   ]
  },
  {
   "cell_type": "code",
   "execution_count": null,
   "id": "1a990445-130b-4a6d-a7cd-143a2a58b279",
   "metadata": {
    "tags": []
   },
   "outputs": [],
   "source": [
    "invoices = invoices[invoices.months_allowed<=3]"
   ]
  },
  {
   "cell_type": "code",
   "execution_count": null,
   "id": "acc189ae",
   "metadata": {},
   "outputs": [],
   "source": [
    "invoices['months_to_clear'] = invoices.cleared_date.dt.to_period('M') \\\n",
    "- invoices.invoice_date.dt.to_period('M')\n",
    "invoices.months_to_clear = invoices.months_to_clear.map(lambda m: m.n if not pandas.isnull(m) else None)\n",
    "#almost all invoices are cleared within a year. \n",
    "# filter out ones that cleared before or 13+ months after they opened\n",
    "invoices.months_to_clear.value_counts(normalize=True, dropna=False).head(20)"
   ]
  },
  {
   "cell_type": "code",
   "execution_count": null,
   "id": "6bd465cf-1f4f-45d7-b164-8deb3fbba8ae",
   "metadata": {
    "tags": []
   },
   "outputs": [],
   "source": [
    "invoices = invoices[(invoices.months_to_clear.isnull()) | (invoices.months_to_clear.between(0,12))]"
   ]
  },
  {
   "cell_type": "code",
   "execution_count": null,
   "id": "dc49959c",
   "metadata": {
    "scrolled": true
   },
   "outputs": [],
   "source": [
    "invoices_stats = invoices.describe(include='all')\n",
    "invoices_stats.loc['% populated'] = invoices_stats.loc['count']/invoices.__len__()\n",
    "invoices_stats"
   ]
  },
  {
   "cell_type": "markdown",
   "id": "ce33b4f5-61aa-4615-a1b7-aabd039c30dd",
   "metadata": {},
   "source": [
    "***Invoice status vs cleared date***\n",
    "\n",
    "All invoices have a date cleared, even the 3% that are open. Although these cases span multiple invoice dates, the cleared_date is all one value, which is in the future relative to when the data was pulled, so we remove it. "
   ]
  },
  {
   "cell_type": "code",
   "execution_count": null,
   "id": "4327f695",
   "metadata": {},
   "outputs": [],
   "source": [
    "invoices.loc[invoices.cleared_date.isnull()].__len__()"
   ]
  },
  {
   "cell_type": "code",
   "execution_count": null,
   "id": "4336b02c",
   "metadata": {},
   "outputs": [],
   "source": [
    "invoices.status.value_counts(normalize=True, dropna=False).to_frame(name=\"% of Invoices\")"
   ]
  },
  {
   "cell_type": "code",
   "execution_count": null,
   "id": "8622afba",
   "metadata": {},
   "outputs": [],
   "source": [
    "open_status = (invoices.status=='OPEN')\n",
    "invoices.loc[invoices.cleared_date.isnull() != open_status,['status','cleared_date']]\\\n",
    ".value_counts(dropna=False)"
   ]
  },
  {
   "cell_type": "code",
   "execution_count": null,
   "id": "0a462b77",
   "metadata": {},
   "outputs": [],
   "source": [
    "#all open invoices have the same cleared date, which is after the latest payment data \n",
    "invoices.loc[open_status].cleared_date.value_counts(dropna=False)"
   ]
  },
  {
   "cell_type": "code",
   "execution_count": null,
   "id": "71b52409-584e-4c7d-b75a-fdd6845293c4",
   "metadata": {
    "tags": []
   },
   "outputs": [],
   "source": [
    "#this is in spite of having multiple invoice dates\n",
    "invoices.loc[open_status].invoice_date.agg(['min', 'max'])"
   ]
  },
  {
   "cell_type": "code",
   "execution_count": null,
   "id": "b8210583-a204-4dca-9921-02b87a946c4d",
   "metadata": {
    "tags": []
   },
   "outputs": [],
   "source": [
    "invoices['cleared_month'] = invoices.cleared_date.dt.to_period('M').dt.to_timestamp()\n",
    "#last month we will generate a forecast \n",
    "#To ensure completeness, the months we use for modeling must fall within the payments data date range. \n",
    "invoices['final_month_open'] = invoices.cleared_month.map(\n",
    "    lambda cleared_month: min(cleared_month,last_complete_transaction_month)\n",
    ")\n",
    "invoices.loc[open_status,'cleared_date'] = None\n",
    "invoices.loc[open_status,'cleared_month'] = None"
   ]
  },
  {
   "cell_type": "markdown",
   "id": "6e8c4567-6d08-439c-ba0f-7d4e4d9faaf9",
   "metadata": {},
   "source": [
    "***Exchange Rate***\n",
    "\n",
    "USD exchange rate has some inaccurate outliers: remove. The exchange rate on the invoice seems to be taken from when the invoice is opened. "
   ]
  },
  {
   "cell_type": "code",
   "execution_count": null,
   "id": "5f60c8db-8793-4935-a10d-810b551605c6",
   "metadata": {
    "tags": []
   },
   "outputs": [],
   "source": [
    "invoices.query(\"currency=='USD'\").root_exchange_rate_value.describe(percentiles=[0.0001,0.9999])"
   ]
  },
  {
   "cell_type": "code",
   "execution_count": null,
   "id": "963b14b6-debd-429c-8169-f6d37a0fe4ff",
   "metadata": {
    "tags": []
   },
   "outputs": [],
   "source": [
    "invoices.query(\"currency=='USD' and root_exchange_rate_value<0.7\").__len__()"
   ]
  },
  {
   "cell_type": "code",
   "execution_count": null,
   "id": "fc6dac74-981e-47b0-b2b7-88963fde20a7",
   "metadata": {
    "tags": []
   },
   "outputs": [],
   "source": [
    "invoices.query(\"currency=='USD' and root_exchange_rate_value>1.3\").__len__()"
   ]
  },
  {
   "cell_type": "code",
   "execution_count": null,
   "id": "b8cb25fa-12c1-4f5a-9ad8-dfd1e720466c",
   "metadata": {
    "tags": []
   },
   "outputs": [],
   "source": [
    "invoices = invoices.loc[(invoices.currency!='USD') | (invoices.root_exchange_rate_value.between(0.7,1.3))]"
   ]
  },
  {
   "cell_type": "code",
   "execution_count": null,
   "id": "ee4fd631-6dd1-4cb7-8308-12b679718969",
   "metadata": {
    "tags": []
   },
   "outputs": [],
   "source": [
    "usd_currency_ranges = invoices.query(\"currency=='USD'\").groupby(\"invoice_month\").root_exchange_rate_value\\\n",
    ".agg(['min','max'])\n",
    "usd_currency_ranges['spread_ratio'] = usd_currency_ranges['max']/usd_currency_ranges['min']\n",
    "usd_currency_ranges.spread_ratio.plot(kind='line', title=\"USD Exchange Rate Spread Ratio By Invoice Month\",\n",
    "                                       figsize=figsize)"
   ]
  },
  {
   "cell_type": "code",
   "execution_count": null,
   "id": "6ec1dfdb",
   "metadata": {},
   "outputs": [],
   "source": [
    "usd_currency_ranges = invoices.query(\"currency=='USD'\").groupby(\"cleared_month\").root_exchange_rate_value\\\n",
    ".agg(['min','max'])\n",
    "(usd_currency_ranges['max']/usd_currency_ranges['min']).sort_values()\\\n",
    ".plot(kind='line', title=\"USD Exchange Rate Spread Ratio By Cleared Month\", figsize=figsize)"
   ]
  },
  {
   "cell_type": "markdown",
   "id": "52df5086",
   "metadata": {},
   "source": [
    "***Merging & Checking for Consistency***\n",
    "\n",
    "- Companies are consistent between payments and invoices, when payments are present. \n",
    "- Amounts and exchange rates are expected to differ between invoices and payments. "
   ]
  },
  {
   "cell_type": "code",
   "execution_count": null,
   "id": "abee0a3a-7b21-4fb2-b1c5-7aafaf16221b",
   "metadata": {
    "tags": []
   },
   "outputs": [],
   "source": [
    "invoices['converted_amount'] = invoices.amount_inv * invoices.root_exchange_rate_value"
   ]
  },
  {
   "cell_type": "code",
   "execution_count": null,
   "id": "07f0318a",
   "metadata": {},
   "outputs": [],
   "source": [
    "invoice_payments = invoices.rename(columns={\"amount_inv\":\"amount\"})\\\n",
    ".merge(payments, on=\"invoice_id\", how='left', suffixes=('_inv', '_pmt'))\n",
    "# #update cleared_date to be up to the point in time of the payment\n",
    "# cleared_in_future = invoice_payments.cleared_date>invoice_payments.transaction_date\n",
    "# invoice_payments.loc[cleared_in_future,'cleared_month'] = None\n",
    "# invoice_payments.loc[cleared_in_future,'months_to_clear'] = None\n",
    "invoice_payments.drop(columns=['cleared_date'], inplace=True)"
   ]
  },
  {
   "cell_type": "code",
   "execution_count": null,
   "id": "2b48c2d6",
   "metadata": {},
   "outputs": [],
   "source": [
    "invoice_payments.invoice_id.nunique()"
   ]
  },
  {
   "cell_type": "code",
   "execution_count": null,
   "id": "22b24d03",
   "metadata": {},
   "outputs": [],
   "source": [
    "#no payment is more than the invoice amount in the original currency\n",
    "invoice_payments.loc[invoice_payments.amount_pmt>invoice_payments.amount_inv].__len__()"
   ]
  },
  {
   "cell_type": "code",
   "execution_count": null,
   "id": "ab2c6d57",
   "metadata": {},
   "outputs": [],
   "source": [
    "duplicated_columns = [col.replace('_pmt','') for col in invoice_payments.columns if col.endswith('_pmt')]\n",
    "for col in  duplicated_columns:\n",
    "    if col in ('amount', 'converted_amount', 'root_exchange_rate_value'):\n",
    "        continue\n",
    "    inconsistent_rows = invoice_payments.loc[(invoice_payments[f\"{col}_pmt\"].isnull()==False) & \n",
    "                                 (invoice_payments[f\"{col}_pmt\"]!=invoice_payments[f\"{col}_inv\"])]\n",
    "    print(f\"{col}: {inconsistent_rows.__len__()/invoice_payments.__len__()} inconsistent rows after merge\")"
   ]
  },
  {
   "cell_type": "code",
   "execution_count": null,
   "id": "9cb915d3-782e-48a2-82dd-7557b5e534df",
   "metadata": {},
   "outputs": [],
   "source": [
    "invoice_payments = invoice_payments.drop(columns=['company_id_pmt'])\\\n",
    ".rename(columns={\"company_id_inv\":\"company_id\"})"
   ]
  },
  {
   "cell_type": "markdown",
   "id": "79cf2b1c-96d4-4034-b749-818d6b4b07b4",
   "metadata": {},
   "source": [
    "## Establish Business Rules\n",
    "\n",
    "- Payments are collected based on the invoice currency.\n",
    "- Payments cannot be more than what is owed: ignore payments that exceed amount remaining.\n",
    "- Payments can be less than what is owed:\n",
    "    - Payments can be a negligible % of the invoice, but are always non-zero.\n",
    "    - Consider an invoice \"collected\" when paid > 99.99%.\n",
    "- Once collected, an invoice is cleared:\n",
    "    - Invoices can be cleared prematurely without being collected. \n",
    "    - When an invoice is cleared prematurely, it won't be collected.\n",
    "- Regardless of status, invoices can have zero payments. "
   ]
  },
  {
   "cell_type": "code",
   "execution_count": null,
   "id": "f4d1eb68",
   "metadata": {},
   "outputs": [],
   "source": [
    "#using USD to determine collection would mean 9% of payments are greater than their invoice amount\n",
    "(invoice_payments.converted_amount_pmt>invoice_payments.converted_amount_inv).mean()"
   ]
  },
  {
   "cell_type": "code",
   "execution_count": null,
   "id": "06ffb814",
   "metadata": {},
   "outputs": [],
   "source": [
    "# Rougly 12% of payments are partial\n",
    "invoice_payments['amount_pmt_pct'] = (invoice_payments.amount_pmt/invoice_payments.amount_inv)\n",
    "(invoice_payments.amount_pmt_pct.dropna()<1).mean()"
   ]
  },
  {
   "cell_type": "code",
   "execution_count": null,
   "id": "b6e3d70e-add1-4024-ac57-d681ab121e35",
   "metadata": {
    "tags": []
   },
   "outputs": [],
   "source": [
    "#on average, a payment is 94% of the invoice\n",
    "invoice_payments.amount_pmt_pct.mean()"
   ]
  },
  {
   "cell_type": "code",
   "execution_count": null,
   "id": "10673f28-360e-4c20-a0c1-8785db70764e",
   "metadata": {
    "tags": []
   },
   "outputs": [],
   "source": [
    "# negligible amounts are a small fraction of payments\n",
    "invoice_payments.amount_pmt_pct.min(), (invoice_payments.amount_pmt_pct<=0.0001).mean()"
   ]
  },
  {
   "cell_type": "code",
   "execution_count": null,
   "id": "4b129f52",
   "metadata": {},
   "outputs": [],
   "source": [
    "invoice_payments.sort_values(by=['invoice_id','transaction_date'], inplace=True)\n",
    "#round to eliminate the impact of negligible payments\n",
    "#hence, an invoice is \"collected\" when paid > 99.99%.\n",
    "invoice_payments['amount_pmt_pct_cum'] = invoice_payments.groupby(\"invoice_id\").amount_pmt_pct.cumsum()\\\n",
    ".fillna(0).round(4)"
   ]
  },
  {
   "cell_type": "code",
   "execution_count": null,
   "id": "e94a2e3a-4199-4bb5-8e5b-c04236cf139b",
   "metadata": {
    "tags": []
   },
   "outputs": [],
   "source": [
    "#small percent of payments represent overpayments - filter out\n",
    "print((invoice_payments.amount_pmt_pct_cum>1).mean())\n",
    "invoice_payments = invoice_payments[invoice_payments.amount_pmt_pct_cum<=1].copy()\n",
    "#dedupe by invoice id and payment month, using the last transaction for each\n",
    "invoice_payments.drop_duplicates(subset=['invoice_id','transaction_month'], keep='last', inplace=True)\n",
    "#dedupe by invoice id and cumulative amount paid, using the first transaction for each (dupes are very rare)\n",
    "invoice_payments.drop_duplicates(subset=['invoice_id','amount_pmt_pct_cum'], keep='first', inplace=True)\n",
    "# invoice is collected if/when payments accumulate to the invoice amount in the original currency.\n",
    "collected = invoice_payments.amount_pmt_pct_cum==1\n",
    "invoice_payments['collected'] = collected\n",
    "invoice_payments.loc[collected, 'collected_month'] = invoice_payments.loc[collected, 'transaction_month']\n",
    "assert invoice_payments.groupby(\"invoice_id\").collected_month.nunique().max()==1"
   ]
  },
  {
   "cell_type": "code",
   "execution_count": null,
   "id": "74045e77-dcc3-43f9-9cbe-6b3755d5ff3b",
   "metadata": {
    "tags": []
   },
   "outputs": [],
   "source": [
    "#small percent collected before active - filter out\n",
    "print((invoice_payments.collected_month<invoice_payments.invoice_month).mean())\n",
    "invoice_payments = invoice_payments[(invoice_payments.collected_month>=invoice_payments.invoice_month) |\n",
    "                                    (invoice_payments.collected_month.isnull())]"
   ]
  },
  {
   "cell_type": "markdown",
   "id": "f3839a51-418b-4b11-9f73-6f174f624a27",
   "metadata": {},
   "source": [
    "***Cleared vs Collected***"
   ]
  },
  {
   "cell_type": "code",
   "execution_count": null,
   "id": "2a7ca84e-21da-4536-b4b8-5343943ef00a",
   "metadata": {
    "tags": []
   },
   "outputs": [],
   "source": [
    "#Only one invoice was collected after being cleared. Remove as an outlier.\n",
    "print(invoice_payments.query(\"cleared_month<collected_month\").__len__())\n",
    "invoice_payments = invoice_payments[~(invoice_payments.cleared_month<invoice_payments.collected_month)]"
   ]
  },
  {
   "cell_type": "code",
   "execution_count": null,
   "id": "296e4f4e-2ec1-47c1-a0b4-1fba9cb838d2",
   "metadata": {
    "tags": []
   },
   "outputs": [],
   "source": [
    "#2 records are collected but have 'OPEN' status / no cleared date  - remove\n",
    "print(invoice_payments.loc[(invoice_payments.collected) & (invoice_payments.cleared_month.isnull())]\\\n",
    ".status.value_counts())\n",
    "invoice_payments = invoice_payments.loc[(invoice_payments.collected==False) | \n",
    "                                        (invoice_payments.cleared_month.isnull()==False)]"
   ]
  },
  {
   "cell_type": "code",
   "execution_count": null,
   "id": "beb49976-395f-48ff-8247-2b09fdd07889",
   "metadata": {
    "tags": []
   },
   "outputs": [],
   "source": [
    "invoice_payments.__len__(), invoice_payments.invoice_id.nunique()"
   ]
  },
  {
   "cell_type": "code",
   "execution_count": null,
   "id": "fee0dc7c-ca8f-49a0-8809-5422a9c3dbe2",
   "metadata": {
    "tags": []
   },
   "outputs": [],
   "source": [
    "assert invoice_payments.groupby(\"invoice_id\").cleared_month.nunique().max()==1\n",
    "assert invoice_payments.groupby(\"invoice_id\").collected_month.nunique().max()==1"
   ]
  },
  {
   "cell_type": "code",
   "execution_count": null,
   "id": "317476ac-e979-4717-aff9-3e9df5474047",
   "metadata": {},
   "outputs": [],
   "source": [
    "invoice_end_state = invoice_payments.drop_duplicates(subset='invoice_id', keep='last').copy()\n",
    "#all collected invoices are cleared. however, not all cleared invoices were collected. \n",
    "#the 60% of uncollected invoices that were cleared took over 2x as long to clear vs collected ones\n",
    "#this suggests that they're being cleared as part of a separate process. \n",
    "invoice_end_state['cleared'] = invoice_end_state.status=='CLEARED'\n",
    "invoice_end_state['periods_to_clear'] = invoice_end_state.months_to_clear/(invoice_end_state.months_allowed+1)\n",
    "invoice_end_state.groupby(\"collected\", as_index=False)[['cleared','months_to_clear','periods_to_clear']].mean()"
   ]
  },
  {
   "cell_type": "code",
   "execution_count": null,
   "id": "8f9dd1e0-bd1e-4e5e-a3d3-37975fbdb9d6",
   "metadata": {
    "tags": []
   },
   "outputs": [],
   "source": [
    "# 92% of invoices are collected \n",
    "invoice_end_state.collected.mean()"
   ]
  },
  {
   "cell_type": "code",
   "execution_count": null,
   "id": "c292b9a6-5719-4705-b7ae-97eb7f545a36",
   "metadata": {},
   "outputs": [],
   "source": [
    "#95% of cleared invoices are collected, representing 96% of totals on average. \n",
    "invoice_end_state.loc[invoice_end_state.status=='CLEARED',['collected','amount_pmt_pct_cum']].mean()"
   ]
  },
  {
   "cell_type": "markdown",
   "id": "6cb32341",
   "metadata": {},
   "source": [
    "# Structure Input Data for Modeling\n",
    "\n",
    "- The model will handle OPEN invoices and classify how many months in the future they will be collected. \n",
    "    - Define an invoice as open/active between its invoice date and date cleared or collected, whichever is first. \n",
    "- Forecasts will be generated once at the beginning of each month. To model the data, we select a representative forecast month by randomly sampling one past month per invoice:\n",
    "    - Begin forecast window when the invoice is active and the payments data is complete\n",
    "    - End forecast window when invoice is collected. \n",
    "    - For open invoices to be included in model training, end the forecast window when payments data ends. \n",
    "\n",
    "\n",
    "- Normalizing by company:\n",
    "    - Tesorio's pricing model is subscription, so Tesorio's revenue will be loosely based on paying customers per period. \n",
    "    - Normalizing USD amounts by company means each company will be of equal value each month they retain with Tesorio, regardless of their total cash flow. "
   ]
  },
  {
   "cell_type": "code",
   "execution_count": null,
   "id": "f8632c07",
   "metadata": {},
   "outputs": [],
   "source": [
    "import random\n",
    "\n",
    "def select_forecast_month(invoice_id, invoice_month, max_forecast_month):\n",
    "    if pandas.isnull(max_forecast_month):\n",
    "        return None\n",
    "    #begin forecast window when the invoice is active and the payments data is complete\n",
    "    period_start = max(invoice_month,first_transaction_month)\n",
    "    period_range = pandas.period_range(period_start, max_forecast_month, freq='M')\n",
    "    if len(period_range)==0:\n",
    "        return None\n",
    "    #ensure consistent forecast month per invoice across payments\n",
    "    psuedorandom = random.Random(invoice_id)\n",
    "    return psuedorandom.choice(period_range)\n",
    "\n",
    "select_forecast_month = numpy.vectorize(select_forecast_month)\n",
    "invoice_payments['forecast_month_collected'] = select_forecast_month(invoice_payments.invoice_id, \n",
    "                                                           invoice_payments.invoice_month, \n",
    "                                                           invoice_payments.collected_month)\n",
    "invoice_payments['forecast_month_uncollected'] = select_forecast_month(invoice_payments.invoice_id, \n",
    "                                                           invoice_payments.invoice_month, \n",
    "                                                           invoice_payments.final_month_open)\n",
    "assert invoice_payments.groupby(\"invoice_id\").forecast_month_collected.nunique().max()==1\n",
    "assert invoice_payments.groupby(\"invoice_id\").forecast_month_uncollected.nunique().max()==1"
   ]
  },
  {
   "cell_type": "code",
   "execution_count": null,
   "id": "e728930c-5b74-4c6a-ae94-e2d551fb83e2",
   "metadata": {},
   "outputs": [],
   "source": [
    "invoice_payments.__len__(), invoice_payments.invoice_id.nunique()"
   ]
  },
  {
   "cell_type": "code",
   "execution_count": null,
   "id": "b689842a-5b99-4b81-a0f4-487c88df4af9",
   "metadata": {},
   "outputs": [],
   "source": [
    "#should be the same date ranges for both options\n",
    "assert (invoice_payments.forecast_month_uncollected.agg(['min','max']).values==\\\n",
    "invoice_payments.forecast_month_collected.agg(['min','max']).values).max()"
   ]
  },
  {
   "cell_type": "code",
   "execution_count": null,
   "id": "c8f4924e",
   "metadata": {},
   "outputs": [],
   "source": [
    "import random\n",
    "\n",
    "def process_model_inputs(invoice_payments, current_state_month=None):\n",
    "    #last record for each invoice has columns associated with collected date \n",
    "    invoice_point_in_time = invoice_payments.drop_duplicates(subset='invoice_id', keep='last').copy()\n",
    "    if current_state_month: #prepare for live scoring on trained model\n",
    "        forecast_month = current_state_month\n",
    "    else: #use random valid past month per invoice to train model\n",
    "        forecast_month = invoice_point_in_time.forecast_month_collected.fillna(\n",
    "            invoice_point_in_time.forecast_month_uncollected) \n",
    "    invoice_point_in_time['forecast_month'] = forecast_month\n",
    "    final_state_columns = ['amount_pmt_pct_cum',\"collected_month\",\"final_month_open\"]\n",
    "    invoice_point_in_time = invoice_point_in_time[[\"invoice_id\",\"forecast_month\"]+final_state_columns].dropna(\n",
    "        subset=[\"invoice_id\",\"forecast_month\"]\n",
    "    )\n",
    "    invoice_payments_point_in_time = invoice_point_in_time.merge(\n",
    "        invoice_payments,on=\"invoice_id\", how=\"inner\", suffixes=('','_final')\n",
    "    ).sort_values(by=['invoice_id','transaction_month'])\n",
    "    #last payment record for each invoice \n",
    "    invoices_to_score = invoice_payments_point_in_time.drop_duplicates(subset='invoice_id', keep='last')\n",
    "    #get invoice payment state before the forecast month. if there is no forecast month, get all data \n",
    "    last_prior_payment_state = invoice_payments_point_in_time.loc[\n",
    "        (invoice_payments_point_in_time.transaction_month<\n",
    "         invoice_payments_point_in_time.forecast_month.dt.to_timestamp()),\n",
    "        ['invoice_id','amount_pmt_pct_cum','transaction_month']\n",
    "    ] \n",
    "    #get the last payment state prior to the invoice forecast month\n",
    "    last_prior_payment_state.drop_duplicates(subset='invoice_id', keep='last', inplace=True)\n",
    "    invoices_to_score = invoices_to_score\\\n",
    "    .merge(last_prior_payment_state, how='left', on='invoice_id',suffixes=('', '_prior'))\n",
    "    invoices_to_score['prior_remaining_inv_pct'] = 1 - invoices_to_score.amount_pmt_pct_cum_prior.fillna(0)\n",
    "    invoices_to_score['final_remaining_inv_pct'] = 1 - invoices_to_score.amount_pmt_pct_cum_final.fillna(0)\n",
    "    invoices_to_score['months_to_final_state'] =  (\n",
    "        invoices_to_score.collected_month.fillna(invoices_to_score.final_month_open).dt.to_period('M') \n",
    "        - invoices_to_score.forecast_month).map(lambda m: m.n+1 if not pandas.isnull(m) else 1)\n",
    "    invoices_to_score['collected_per_month'] = (\n",
    "        (invoices_to_score.prior_remaining_inv_pct - invoices_to_score.final_remaining_inv_pct)/\n",
    "        invoices_to_score.months_to_final_state\n",
    "    )\n",
    "    columns_to_model = ['invoice_id','invoice_month','forecast_month','due_month','months_allowed',\n",
    "                         'amount_inv','converted_amount_inv', 'currency','company_id','customer_id',\n",
    "                         'collected_month','prior_remaining_inv_pct','final_remaining_inv_pct',\n",
    "                         'months_to_final_state','collected_per_month', 'status']\n",
    "    invoices_to_score = invoices_to_score[columns_to_model]\n",
    "    #normalize USD amounts by company\n",
    "    totals_by_company = invoices_to_score.groupby(\"company_id\", as_index=False).converted_amount_inv.sum()\n",
    "    invoices_to_score = invoices_to_score.merge(totals_by_company,on=\"company_id\", suffixes=('','_company'))\n",
    "    inv_pct_of_company_total = invoices_to_score.converted_amount_inv\\\n",
    "                                                    /invoices_to_score.converted_amount_inv_company\n",
    "    invoices_to_score['inv_pct_of_company_total'] = inv_pct_of_company_total\n",
    "    invoices_to_score.drop(columns=[\"converted_amount_inv\"], inplace=True)\n",
    "    #date quantities\n",
    "    invoices_to_score['months_open'] = (invoices_to_score.forecast_month \\\n",
    "                                          - invoices_to_score.invoice_month.dt.to_period('M'))\\\n",
    "                                                    .map(lambda m: m.n+1 if not pandas.isnull(m) else None)\n",
    "    invoices_to_score['month_due'] = (invoices_to_score.due_month.dt.to_period('M') \\\n",
    "                                      - invoices_to_score.forecast_month)\\\n",
    "                                                    .map(lambda m: m.n+1 if not pandas.isnull(m) else None)\n",
    "    invoices_to_score.forecast_month = invoices_to_score.forecast_month.dt.to_timestamp()\n",
    "    # late invoices should not impact the % of the invoice due per month.   \n",
    "    invoices_to_score['due_per_month'] = 1/invoices_to_score.month_due.clip(lower=1)\n",
    "    return invoices_to_score\n",
    "\n",
    "invoices_to_model = process_model_inputs(invoice_payments)\n",
    "#one record per invoice\n",
    "assert invoices_to_model.groupby(\"invoice_id\").count().max().max()==1\n",
    "#always has a collection rate\n",
    "assert (invoices_to_model.collected_per_month.isnull()).sum()==0"
   ]
  },
  {
   "cell_type": "code",
   "execution_count": null,
   "id": "69688265-54f1-4676-b1d7-0f6f982f7131",
   "metadata": {
    "tags": []
   },
   "outputs": [],
   "source": [
    "open_invoices_to_model = invoices_to_model.query(\"status=='OPEN'\")\n",
    "assert open_invoices_to_model.collected_month.count()==0\n",
    "#open_invoices_to_model[['invoice_month','due_month','forecast_month']].agg(['min','max','count'])\n",
    "\n",
    "#todo: this should be a test\n",
    "current_open_invoices = process_model_inputs(invoice_payments.query(\"status=='OPEN'\"), \n",
    "                                 current_state_month=last_complete_transaction_month.to_period('M'))\n",
    "#one record per invoice\n",
    "assert current_open_invoices.groupby(\"invoice_id\").count().max().max()==1\n",
    "assert current_open_invoices.collected_month.count()==0\n",
    "current_open_invoices.drop(columns=['collected_month','collected_per_month'], inplace=True)\n",
    "#current_open_invoices[['invoice_month','due_month','forecast_month']].agg(['min','max','count'])"
   ]
  },
  {
   "cell_type": "markdown",
   "id": "3bbfb30e",
   "metadata": {},
   "source": [
    "# Analyze and Refine Data to Be Modeled\n"
   ]
  },
  {
   "cell_type": "code",
   "execution_count": null,
   "id": "517dc9b7-cf99-4edd-a5c4-6bc1c495014c",
   "metadata": {
    "tags": []
   },
   "outputs": [],
   "source": [
    "#Collection speed slows down sharply for invoices due a month or more in the future\n",
    "invoices_to_model.groupby(\"month_due\").collected_per_month.mean()\\\n",
    ".plot(figsize=figsize, title=\"Average % Collected Per Month by Month Due\")"
   ]
  },
  {
   "cell_type": "code",
   "execution_count": null,
   "id": "594c2d7b-4b71-4a79-99b2-8c5d9bf26e72",
   "metadata": {
    "tags": []
   },
   "outputs": [],
   "source": [
    "#Long left tail is clipped when calculating % of invoice due per month looking forward\n",
    "invoices_to_model.month_due.plot(kind='hist', bins=14, figsize=figsize, \n",
    " title=\"Month Due Relative to Forecast Date\", density=True)"
   ]
  },
  {
   "cell_type": "code",
   "execution_count": null,
   "id": "0aeb1285-cf66-4e93-a8c7-8cca60ca8cb8",
   "metadata": {
    "tags": []
   },
   "outputs": [],
   "source": [
    "# 2% of invoices are due after the payments data time period. \n",
    "# invoices due in the future have low collection velocity. \n",
    "# need to be mindful of how this will impact trends\n",
    "print((invoices_to_model.due_month>last_complete_transaction_month).mean())\n",
    "#invoices_to_model = invoices_to_model[invoices_to_model.due_month<=last_complete_transaction_month]"
   ]
  },
  {
   "cell_type": "code",
   "execution_count": null,
   "id": "77a3ca72-02f2-4766-b718-66eb6968fd30",
   "metadata": {
    "tags": []
   },
   "outputs": [],
   "source": [
    "invoices_to_model.drop(columns=['status']).describe(include='all', percentiles=[])\\\n",
    ".T.drop(columns=['50%','std','top','freq'])"
   ]
  },
  {
   "cell_type": "code",
   "execution_count": null,
   "id": "5f72b3f7",
   "metadata": {},
   "outputs": [],
   "source": [
    "invoices_to_model.collected_per_month\\\n",
    ".plot(kind='hist', bins=14, figsize=figsize, title=\"Average % Collected Per Month\")"
   ]
  },
  {
   "cell_type": "code",
   "execution_count": null,
   "id": "5fe4f96b-910a-49c3-8353-5853b632576f",
   "metadata": {
    "tags": []
   },
   "outputs": [],
   "source": [
    "invoices_to_model.due_per_month\\\n",
    ".plot(kind='hist', bins=14, figsize=figsize, title=\"Average % Due Per Month\")"
   ]
  },
  {
   "cell_type": "code",
   "execution_count": null,
   "id": "1870fd55",
   "metadata": {},
   "outputs": [],
   "source": [
    "invoices_to_model['uncollected'] = invoices_to_model.collected_month.isnull()"
   ]
  },
  {
   "cell_type": "markdown",
   "id": "21d2d623",
   "metadata": {},
   "source": [
    "***By Dates***"
   ]
  },
  {
   "cell_type": "code",
   "execution_count": null,
   "id": "4e63c1a6",
   "metadata": {},
   "outputs": [],
   "source": [
    "invoices_to_model.groupby(\"forecast_month\").invoice_id.count()\\\n",
    ".plot(kind='area', title=\"Invoices by Forecast Month\", figsize=figsize)"
   ]
  },
  {
   "cell_type": "code",
   "execution_count": null,
   "id": "8563090c-14b0-48f7-b008-f0d5bfb81f4b",
   "metadata": {
    "tags": []
   },
   "outputs": [],
   "source": [
    "invoices_to_model.groupby(\"invoice_month\").invoice_id.count()\\\n",
    ".plot(kind='area', title=\"Invoices by Invoice Month\", figsize=figsize)"
   ]
  },
  {
   "cell_type": "code",
   "execution_count": null,
   "id": "6f9bf6ff-cd3f-4cfb-b235-61cc63f0d18d",
   "metadata": {
    "tags": []
   },
   "outputs": [],
   "source": [
    "invoices_to_model.groupby(\"due_month\").invoice_id.count()\\\n",
    ".plot(kind='area', title=\"Invoices by Due Month\", figsize=figsize)"
   ]
  },
  {
   "cell_type": "markdown",
   "id": "d19c2a0f",
   "metadata": {},
   "source": [
    "***Trends in Variable to Be Modeled***\n",
    "\n",
    "Aside from invoices that were not due when this data was pulled, invoices are getting collected more quickly, leading to a greater percentage collected over time - a good sign for Tesorio's business. Collections are not keeping pace with due dates yet due to uncollected invoices, but the trend is positive."
   ]
  },
  {
   "cell_type": "code",
   "execution_count": null,
   "id": "977b8916-54e3-4f4f-832e-ccb4430996a6",
   "metadata": {
    "tags": []
   },
   "outputs": [],
   "source": [
    "invoices_to_model.groupby(\"due_month\")[['collected_per_month','due_per_month']].mean()\\\n",
    ".plot(kind='line', title=\"Average % Collected and Due Per Month\", figsize=figsize)"
   ]
  },
  {
   "cell_type": "code",
   "execution_count": null,
   "id": "05c595f0",
   "metadata": {},
   "outputs": [],
   "source": [
    "invoices_to_model.groupby(\"due_month\").uncollected.mean()\\\n",
    ".plot(kind='line', title=\"% Invoices Uncollected by Due Month\", figsize=figsize)"
   ]
  },
  {
   "cell_type": "markdown",
   "id": "4255216b-2645-4bca-b93a-bdbbce0dda39",
   "metadata": {},
   "source": [
    "***By Currency***\n",
    "\n",
    "Some currencies have very low collection rates and take multiple billing periods to collect. This may be due to currency fluctuations."
   ]
  },
  {
   "cell_type": "code",
   "execution_count": null,
   "id": "f7ec535f",
   "metadata": {},
   "outputs": [],
   "source": [
    "invoices_to_model.groupby(\"currency\")\\\n",
    ".agg({\"collected_per_month\":[\"mean\",\"std\"],\"invoice_id\":\"count\",\"uncollected\":\"mean\"})\\\n",
    ".sort_values(by=('uncollected','mean'), ascending=False)"
   ]
  },
  {
   "cell_type": "markdown",
   "id": "ab44c6cc",
   "metadata": {},
   "source": [
    "***Distributions by Entity***\n",
    "\n",
    "We have trouble collecting from some customers, regardless of their currency. "
   ]
  },
  {
   "cell_type": "code",
   "execution_count": null,
   "id": "63f3d793",
   "metadata": {},
   "outputs": [],
   "source": [
    "customer_averages = invoices_to_model.set_index(\"customer_id\").select_dtypes(include=['float','int','boolean'])\\\n",
    ".reset_index().groupby(\"customer_id\").mean()\n",
    "customer_averages.hist(bins=50, figsize=(10,14), layout=(4,3))"
   ]
  },
  {
   "cell_type": "code",
   "execution_count": null,
   "id": "c72db34a",
   "metadata": {},
   "outputs": [],
   "source": [
    "customer_stats = invoices_to_model.groupby(\"customer_id\").uncollected.agg(['count','mean'])\\\n",
    ".add_prefix('uncollected_').sort_values(by=\"uncollected_mean\", ascending=False)\n",
    "customer_stats.query(\"uncollected_count>=30\").uncollected_mean\\\n",
    ".plot(kind='hist', figsize=figsize, title=\"Customers with 30+ Invoices: % Uncollected\", bins=50)"
   ]
  },
  {
   "cell_type": "code",
   "execution_count": null,
   "id": "ee164030",
   "metadata": {},
   "outputs": [],
   "source": [
    "western_customer_stats = invoices_to_model.query(\"currency in ('USD','EUR','GBP')\")\\\n",
    ".groupby(\"customer_id\").uncollected.agg(['count','mean'])\\\n",
    ".add_prefix('uncollected_').sort_values(by=\"uncollected_mean\", ascending=False)\n",
    "western_customer_stats.query(\"uncollected_count>=30\").uncollected_mean\\\n",
    ".plot(kind='hist', figsize=figsize, title=\"US and European Customers with 30+ Invoices: % Uncollected\", bins=50)"
   ]
  },
  {
   "cell_type": "markdown",
   "id": "5c15eaf9",
   "metadata": {},
   "source": [
    "# Business Analysis"
   ]
  },
  {
   "cell_type": "markdown",
   "id": "e2006f9f",
   "metadata": {},
   "source": [
    "## Establish Business Motivation for ML\n",
    "\n",
    "Cash collections don't follow due dates. On average:\n",
    "\n",
    "- 6% of total cash due each month is unpaid, equating to a \\\\$407K average deficit.\n",
    "- Total cash collected each month is 9% off from the amount due, equating to a $520K average difference in cash flow. \n",
    "\n",
    "We also see that we need to filter out the first few month of due dates, which have unusually high differences."
   ]
  },
  {
   "cell_type": "code",
   "execution_count": null,
   "id": "95eee068",
   "metadata": {},
   "outputs": [],
   "source": [
    "amount_due = invoice_payments.groupby(\"due_month\").converted_amount_inv.sum().to_frame(name=\"amount_due_usd\")\n",
    "amount_paid = payments.rename(columns={\"transaction_month\":\"due_month\"})\\\n",
    ".groupby(\"due_month\").converted_amount.sum().to_frame(name=\"amount_paid_usd\")\n",
    "business_motivation = amount_due.join(amount_paid, how='inner').reset_index(names='due_month')\\\n",
    ".query(f\"due_month>='{first_transaction_month}' and due_month<'{last_complete_transaction_month}'\")\n",
    "business_motivation['pct_unpaid'] = 1 - (business_motivation.amount_paid_usd/business_motivation.amount_due_usd)\n",
    "business_motivation['unpaid'] = business_motivation.amount_due_usd - business_motivation.amount_paid_usd\n",
    "business_motivation.set_index('due_month', inplace=True)"
   ]
  },
  {
   "cell_type": "code",
   "execution_count": null,
   "id": "20473fb4",
   "metadata": {},
   "outputs": [],
   "source": [
    "business_motivation.pct_unpaid.plot(figsize=figsize, title=\"% Unpaid (USD Due)\")"
   ]
  },
  {
   "cell_type": "code",
   "execution_count": null,
   "id": "6dc94a7f",
   "metadata": {},
   "outputs": [],
   "source": [
    "business_motivation.pct_unpaid.mean(), business_motivation.pct_unpaid.abs().mean()"
   ]
  },
  {
   "cell_type": "code",
   "execution_count": null,
   "id": "3db2fd42",
   "metadata": {},
   "outputs": [],
   "source": [
    "business_motivation.unpaid.mean(), business_motivation.unpaid.abs().mean()"
   ]
  },
  {
   "cell_type": "code",
   "execution_count": null,
   "id": "c3789082-1853-4054-ad5b-000a717bce58",
   "metadata": {
    "tags": []
   },
   "outputs": [],
   "source": [
    "invoices_to_model.query(\"due_month<'2011-10-01'\").__len__()"
   ]
  },
  {
   "cell_type": "markdown",
   "id": "0488fe44",
   "metadata": {},
   "source": [
    "## Define & Quantify Benchmark for Data Science\n",
    "\n",
    "Companies will be more likely to retain if their monthly forecast error is low as a percentage of their total cash flow.\n",
    "\n",
    "As a benchmark, we use due date in place of the forecast, filtering out the first few invoice months, which have abnormally high errors rates. Weighting companies equally, on average, a company's monthly cash flow is 9.7% off from their cash due."
   ]
  },
  {
   "cell_type": "code",
   "execution_count": null,
   "id": "f6bf3003-f427-438a-97e1-05a62b14fd34",
   "metadata": {
    "tags": []
   },
   "outputs": [],
   "source": [
    "#filter out dates with high variation\n",
    "invoices_to_model = invoices_to_model.query(\"due_month>='2011-10-01'\")"
   ]
  },
  {
   "cell_type": "code",
   "execution_count": null,
   "id": "2eb927bd-b0e0-4002-bda7-79a221ea10d1",
   "metadata": {
    "tags": []
   },
   "outputs": [],
   "source": [
    "invoices_to_model.__len__(), invoices_to_model.inv_pct_of_company_total.sum()"
   ]
  },
  {
   "cell_type": "code",
   "execution_count": null,
   "id": "0629fc45-77c3-46a5-bbde-94a8f72ccae7",
   "metadata": {
    "tags": []
   },
   "outputs": [],
   "source": [
    "from sklearn.metrics import mean_absolute_error\n",
    "#enables time-based split\n",
    "invoices_to_model['forecast_date_fold']=(invoices_to_model.forecast_month.rank(pct=True)*6).round()"
   ]
  },
  {
   "cell_type": "code",
   "execution_count": null,
   "id": "27e947af-a04c-4fdb-8a4d-c5efae0b37e6",
   "metadata": {
    "tags": []
   },
   "outputs": [],
   "source": [
    "benchmark = invoices_to_model.query(\"forecast_date_fold>4\")\\\n",
    "[['due_per_month','collected_per_month','inv_pct_of_company_total']].copy()\n",
    "benchmark['month_collected'] = (1/benchmark.collected_per_month).replace(numpy.inf,numpy.nan).round(0)\n",
    "benchmark['month_due'] = (1/benchmark.due_per_month).replace(numpy.inf,None).round(0)\n",
    "benchmark = benchmark.groupby(\"month_due\", as_index=False).inv_pct_of_company_total.sum()\\\n",
    ".merge(\n",
    "    benchmark.groupby(\"month_collected\", as_index=False).inv_pct_of_company_total.sum().rename(\n",
    "        columns={\"month_collected\":\"month_due\"}\n",
    "    ), on=\"month_due\", suffixes=('_due','')\n",
    ")\n",
    "benchmark"
   ]
  },
  {
   "cell_type": "code",
   "execution_count": null,
   "id": "9dc988de-0c07-46d4-aa57-5a99ce6179da",
   "metadata": {
    "tags": []
   },
   "outputs": [],
   "source": [
    "#means method\n",
    "benchmark_pct_diff = mean_absolute_error(benchmark.inv_pct_of_company_total, \n",
    "                                         benchmark.inv_pct_of_company_total_due)/benchmark.inv_pct_of_company_total_due.mean()\n",
    "benchmark_pct_diff"
   ]
  },
  {
   "cell_type": "code",
   "execution_count": null,
   "id": "3b27ff88-0e71-4306-9e87-675a4d95b269",
   "metadata": {
    "tags": []
   },
   "outputs": [],
   "source": [
    "#sums method\n",
    "benchmark['abs_diff'] = (benchmark.inv_pct_of_company_total \\\n",
    "                                  - benchmark.inv_pct_of_company_total_due).abs()\n",
    "benchmark.abs_diff.sum()/benchmark.inv_pct_of_company_total_due.sum()"
   ]
  },
  {
   "cell_type": "markdown",
   "id": "544238b8",
   "metadata": {},
   "source": [
    "## Demonstrate Minimum Potential Impact of ML \n",
    "\n",
    "Turning this into an ML task without any additional feature engineering, a company's average % difference from cash flow forecasted is 27% lower than the benchmark. "
   ]
  },
  {
   "cell_type": "code",
   "execution_count": null,
   "id": "63d60d2f",
   "metadata": {},
   "outputs": [],
   "source": [
    "import h2o\n",
    "from h2o.automl import H2OAutoML\n",
    "\n",
    "h2o.init(\n",
    "    nthreads=-1,     # number of threads when launching a new H2O server\n",
    "    max_mem_size=12  # in gigabytes\n",
    ")"
   ]
  },
  {
   "cell_type": "code",
   "execution_count": null,
   "id": "cdb86602",
   "metadata": {},
   "outputs": [],
   "source": [
    "#invoice weight is based on the company-adjusted amount. unit is number of rows for related ML parameters\n",
    "invoices_to_model['inv_company_weight'] = invoices_to_model.inv_pct_of_company_total*invoices_to_model.invoice_id.nunique()\\\n",
    "/invoices_to_model.company_id.nunique()\n",
    "invoices_to_model.inv_company_weight.sum(), invoices_to_model.__len__()"
   ]
  },
  {
   "cell_type": "code",
   "execution_count": null,
   "id": "e78b6c50",
   "metadata": {},
   "outputs": [],
   "source": [
    "id_columns_h2o = [col for col in id_columns if col in invoices_to_model.columns]\n",
    "invoices_to_model_h2o = h2o.H2OFrame(invoices_to_model,\n",
    "           column_types=dict(zip(id_columns_h2o,[\"string\"] * len(id_columns_h2o))))"
   ]
  },
  {
   "cell_type": "code",
   "execution_count": null,
   "id": "3340b60c-f51f-453e-956a-6d6176f518f9",
   "metadata": {
    "tags": []
   },
   "outputs": [],
   "source": [
    "#time-based split: cross-validating on future data relative to what is being trained\n",
    "train = invoices_to_model_h2o[invoices_to_model_h2o['forecast_date_fold'] <= 3]\n",
    "blend = invoices_to_model_h2o[(invoices_to_model_h2o['forecast_date_fold'] > 3) \\\n",
    "                              & (invoices_to_model_h2o['forecast_date_fold'] <= 4)]\n",
    "valid = invoices_to_model_h2o[invoices_to_model_h2o['forecast_date_fold'] > 4]"
   ]
  },
  {
   "cell_type": "code",
   "execution_count": null,
   "id": "e9a04ac5",
   "metadata": {},
   "outputs": [],
   "source": [
    "y_numeric='collected_per_month'\n",
    "x = ['months_allowed','amount_inv','inv_pct_of_company_total','currency','months_open','due_per_month',\n",
    "     'prior_remaining_inv_pct']\n",
    "#huber is a bi-modal distribution\n",
    "#hyperparameter tuning is addressed by using AutoML and specifying sort and stopping metrics. \n",
    "#train, blend, and validation dataframes are binned sequentially by forecast month\n",
    "#this enforces the time-based split during hyperparameter tuning. \n",
    "aml = H2OAutoML(max_runtime_secs=60, distribution='huber', sort_metric='mae', stopping_metric='mae',\n",
    "                stopping_tolerance=0.01)\n",
    "aml_model = aml.train(x=x , y=y_numeric, training_frame=train, blending_frame=blend, validation_frame=valid, \n",
    "                      weights_column='inv_company_weight') "
   ]
  },
  {
   "cell_type": "code",
   "execution_count": null,
   "id": "091c9a15-4a7c-4515-a285-b5337c51a040",
   "metadata": {
    "tags": []
   },
   "outputs": [],
   "source": [
    "aml_model"
   ]
  },
  {
   "cell_type": "code",
   "execution_count": null,
   "id": "93bf4b66-c7e3-47de-a503-d4234f44f55b",
   "metadata": {
    "tags": []
   },
   "outputs": [],
   "source": [
    "aml_model.mae(),aml_model.mae(valid=True)"
   ]
  },
  {
   "cell_type": "code",
   "execution_count": null,
   "id": "e46609d8-71d0-4bd1-a4be-19328cc31f34",
   "metadata": {
    "tags": []
   },
   "outputs": [],
   "source": [
    "aml_model.r2(),aml_model.r2(valid=True)"
   ]
  },
  {
   "cell_type": "code",
   "execution_count": null,
   "id": "abb04695-c67e-4652-8f4c-b0807f9a0a35",
   "metadata": {
    "tags": []
   },
   "outputs": [],
   "source": [
    "validation_results = valid[[y_numeric,'inv_pct_of_company_total']].cbind(aml_model.predict(valid)).as_data_frame()\n",
    "validation_results.rename(columns={\"predict\":\"predict_collected_per_month\"}, inplace=True)\n",
    "validation_results['month_collected'] = (1/validation_results.collected_per_month)\\\n",
    ".replace(numpy.inf,numpy.nan).round(0)\n",
    "validation_results['predict_month_collected'] = (1/validation_results.predict_collected_per_month)\\\n",
    ".replace(numpy.inf,None).round(0)\n",
    "validation_results = validation_results.groupby(\"predict_month_collected\", as_index=False).inv_pct_of_company_total.sum()\\\n",
    ".merge(\n",
    "    validation_results.groupby(\"month_collected\", as_index=False).inv_pct_of_company_total.sum().rename(\n",
    "        columns={\"month_collected\":\"predict_month_collected\"}\n",
    "    ), on=\"predict_month_collected\", suffixes=('_predict','')\n",
    ")\n",
    "validation_results"
   ]
  },
  {
   "cell_type": "code",
   "execution_count": null,
   "id": "e983242e-3af3-489e-abdc-4d4f5ebdb204",
   "metadata": {
    "tags": []
   },
   "outputs": [],
   "source": [
    "#means method\n",
    "ml_pct_diff = mean_absolute_error(validation_results.inv_pct_of_company_total, \n",
    "                                  validation_results.inv_pct_of_company_total_predict)\\\n",
    "/validation_results.inv_pct_of_company_total_predict.mean()\n",
    "ml_pct_diff"
   ]
  },
  {
   "cell_type": "code",
   "execution_count": null,
   "id": "8b8cacd8-d556-4476-a925-3501479d6978",
   "metadata": {
    "tags": []
   },
   "outputs": [],
   "source": [
    "#sums method\n",
    "validation_results['abs_diff'] = (validation_results.inv_pct_of_company_total \\\n",
    "                                  - validation_results.inv_pct_of_company_total_predict).abs()\n",
    "float(validation_results.abs_diff.sum()/validation_results.inv_pct_of_company_total_predict.sum())"
   ]
  },
  {
   "cell_type": "code",
   "execution_count": null,
   "id": "23759762-3ad2-48af-9693-e186964732eb",
   "metadata": {
    "tags": []
   },
   "outputs": [],
   "source": [
    "ml_pct_diff, benchmark_pct_diff"
   ]
  }
 ],
 "metadata": {
  "kernelspec": {
   "display_name": "Python 3 (ipykernel)",
   "language": "python",
   "name": "python3"
  },
  "language_info": {
   "codemirror_mode": {
    "name": "ipython",
    "version": 3
   },
   "file_extension": ".py",
   "mimetype": "text/x-python",
   "name": "python",
   "nbconvert_exporter": "python",
   "pygments_lexer": "ipython3",
   "version": "3.11.3"
  }
 },
 "nbformat": 4,
 "nbformat_minor": 5
}