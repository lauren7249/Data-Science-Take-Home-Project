{
 "cells": [
  {
   "cell_type": "raw",
   "id": "80ec21e8",
   "metadata": {},
   "source": [
    "---\n",
    "title: Exploratory Data Analysis\n",
    "authors:\n",
    "- Lauren Talbot\n",
    "created_at: 2023-04-13\n",
    "tldr: A machine learning project is only as good as the data that goes into it. What are some of the high level aspects of the data that we can discover? How should we clean and filter the data?\n",
    "---"
   ]
  },
  {
   "cell_type": "code",
   "execution_count": null,
   "id": "8da7188e",
   "metadata": {},
   "outputs": [],
   "source": [
    "%matplotlib inline"
   ]
  },
  {
   "cell_type": "markdown",
   "id": "96f9844d",
   "metadata": {},
   "source": [
    "# Input Datasets  "
   ]
  },
  {
   "cell_type": "code",
   "execution_count": null,
   "id": "c2e7d108",
   "metadata": {},
   "outputs": [],
   "source": [
    "import pandas\n",
    "data_folder = '../data'\n",
    "date_format='%Y-%M-%d' #truncate datetimes to dates\n",
    "invoices = pandas.read_csv(data_folder + '/invoice.csv', na_values='inf', \n",
    "                           parse_dates=['invoice_date', 'due_date', 'cleared_date'], date_format=date_format)\n",
    "payments = pandas.read_csv(data_folder + '/invoice_payments.csv', na_values='inf',\n",
    "                           parse_dates=['transaction_date'], date_format=date_format)"
   ]
  },
  {
   "cell_type": "markdown",
   "id": "d95f5eba",
   "metadata": {},
   "source": [
    "## Dataset Definitions & Relationships\n",
    "\n",
    "We have two input datasets: invoices and their payments.\n",
    "- Payments are amounts in time, which are directly mapped to companies. \n",
    "- Invoices can have multiple payments, but usually only have 1. "
   ]
  },
  {
   "cell_type": "code",
   "execution_count": null,
   "id": "99e8decf",
   "metadata": {},
   "outputs": [],
   "source": [
    "invoices.dtypes"
   ]
  },
  {
   "cell_type": "code",
   "execution_count": null,
   "id": "937c7423",
   "metadata": {},
   "outputs": [],
   "source": [
    "payments.dtypes"
   ]
  },
  {
   "cell_type": "code",
   "execution_count": null,
   "id": "69ce59c9",
   "metadata": {},
   "outputs": [],
   "source": [
    "#The join key will be invoice_id, so it must be unique (and it is).\n",
    "invoices.id.value_counts(dropna=False).value_counts(dropna=False)\\\n",
    ".to_frame(name=\"ids\").rename_axis('invoices_per_id')"
   ]
  },
  {
   "cell_type": "code",
   "execution_count": null,
   "id": "aac9587f",
   "metadata": {},
   "outputs": [],
   "source": [
    "#all payments are represented in both datasets \n",
    "len(set(payments.invoice_id) - set(invoices.id))"
   ]
  },
  {
   "cell_type": "code",
   "execution_count": null,
   "id": "dde3993b",
   "metadata": {},
   "outputs": [],
   "source": [
    "#7% of invoices do not have payments yet\n",
    "len(set(invoices.id) - set(payments.invoice_id))/invoices.__len__()"
   ]
  },
  {
   "cell_type": "code",
   "execution_count": null,
   "id": "fefa7736",
   "metadata": {},
   "outputs": [],
   "source": [
    "#invoices usually have one payment but may have more\n",
    "payments.invoice_id.value_counts(dropna=False).value_counts(dropna=False, normalize=True)\\\n",
    ".to_frame(name=\"invoices\").rename_axis('payments_per_invoice')"
   ]
  },
  {
   "cell_type": "markdown",
   "id": "38316fe4",
   "metadata": {},
   "source": [
    "## Transforming Dates to Quantities"
   ]
  },
  {
   "cell_type": "code",
   "execution_count": null,
   "id": "4a60da16",
   "metadata": {},
   "outputs": [],
   "source": [
    "invoice_time_allowed = invoices.due_date - invoices.invoice_date\n",
    "invoice_time_open = invoices.cleared_date - invoices.invoice_date\n",
    "invoice_time_late = invoice_time_open - invoice_time_allowed"
   ]
  },
  {
   "cell_type": "code",
   "execution_count": null,
   "id": "c291b934",
   "metadata": {},
   "outputs": [],
   "source": [
    "invoices['days_allowed'] = invoice_time_allowed.map(lambda t: t.days if not pandas.isnull(t) else None)\n",
    "invoices['days_open'] = invoice_time_open.map(lambda t: t.days if not pandas.isnull(t) else None)\n",
    "invoices['days_late'] = invoice_time_late.map(lambda t: t.days if not pandas.isnull(t) else None)\n",
    "\n",
    "invoices['months_allowed'] = (invoices.due_date.dt.to_period('M') - invoices.invoice_date.dt.to_period('M'))\n",
    "invoices.months_allowed = invoices.months_allowed.map(lambda m: m.n if not pandas.isnull(m) else None)\n",
    "invoices['months_open'] = (invoices.cleared_date.dt.to_period('M') - invoices.invoice_date.dt.to_period('M'))\n",
    "invoices.months_open = invoices.months_open.map(lambda m: m.n if not pandas.isnull(m) else None)\n",
    "invoices['months_late'] = (invoices.cleared_date.dt.to_period('M') - invoices.due_date.dt.to_period('M'))\n",
    "invoices.months_late = invoices.months_late.map(lambda m: m.n if not pandas.isnull(m) else None)"
   ]
  },
  {
   "cell_type": "markdown",
   "id": "d52d67e0",
   "metadata": {},
   "source": [
    "## Entity Definitions & Relationships\n",
    "\n",
    "- Company: business entity for which Tesorio is forecasting cash collected. There are only two. Each company collects using multiple currencies from multiple customers. \n",
    "- Account: **In this limited dataset, accounts and companies are synonymous, so we ignore accounts.**  \n",
    "- Customer: metadata about an invoice which is specific to each company. "
   ]
  },
  {
   "cell_type": "code",
   "execution_count": null,
   "id": "7b272c25",
   "metadata": {},
   "outputs": [],
   "source": [
    "invoices.groupby(\"company_id\")[[\"customer_id\",\"currency\"]].nunique()"
   ]
  },
  {
   "cell_type": "code",
   "execution_count": null,
   "id": "ad4e44a1",
   "metadata": {},
   "outputs": [],
   "source": [
    "invoices.groupby(\"customer_id\").company_id.nunique().value_counts()\\\n",
    ".to_frame(name='customers').rename_axis('companies_per_customer')"
   ]
  },
  {
   "cell_type": "code",
   "execution_count": null,
   "id": "4614a748",
   "metadata": {},
   "outputs": [],
   "source": [
    "invoices.groupby(\"company_id\").account_id.nunique().to_frame(name=\"unique_accounts\")"
   ]
  },
  {
   "cell_type": "code",
   "execution_count": null,
   "id": "2234c790",
   "metadata": {},
   "outputs": [],
   "source": [
    "invoices.groupby(\"account_id\").company_id.nunique().value_counts()\\\n",
    ".to_frame(name='count').rename_axis('companies_per_account')"
   ]
  },
  {
   "cell_type": "markdown",
   "id": "5efc16c0",
   "metadata": {},
   "source": [
    "## Data Cleaning Needs"
   ]
  },
  {
   "cell_type": "markdown",
   "id": "bf4088c2",
   "metadata": {},
   "source": [
    "### Payments\n",
    "\n",
    "Transaction data begins in 2011 and ends on 2021-01-31. "
   ]
  },
  {
   "cell_type": "code",
   "execution_count": null,
   "id": "6a553d27",
   "metadata": {},
   "outputs": [],
   "source": [
    "payments.__len__()"
   ]
  },
  {
   "cell_type": "code",
   "execution_count": null,
   "id": "ca262410",
   "metadata": {},
   "outputs": [],
   "source": [
    "payment_stats = payments.describe(include='all')\n",
    "payment_stats.loc['% populated'] = payment_stats.loc['count']/payments.__len__()\n",
    "payment_stats"
   ]
  },
  {
   "cell_type": "code",
   "execution_count": null,
   "id": "f7622a75",
   "metadata": {},
   "outputs": [],
   "source": [
    "#converted_amount is reliable\n",
    "(((payments.amount * payments.root_exchange_rate_value) - payments.converted_amount).abs()).max()"
   ]
  },
  {
   "cell_type": "code",
   "execution_count": null,
   "id": "866df5c5",
   "metadata": {},
   "outputs": [],
   "source": [
    "payments.select_dtypes(include='float').hist(bins=50, figsize=(12, 3), layout=(1,3))"
   ]
  },
  {
   "cell_type": "markdown",
   "id": "4379cac9",
   "metadata": {},
   "source": [
    "### Invoices"
   ]
  },
  {
   "cell_type": "code",
   "execution_count": null,
   "id": "35e0673c",
   "metadata": {},
   "outputs": [],
   "source": [
    "invoices_stats = invoices.describe(include='all')\n",
    "invoices_stats.loc['% populated'] = invoices_stats.loc['count']/invoices.__len__()\n",
    "invoices_stats"
   ]
  },
  {
   "cell_type": "code",
   "execution_count": null,
   "id": "8bc6a7bc",
   "metadata": {},
   "outputs": [],
   "source": [
    "#opened outside of payment data time period\n",
    "(invoices.loc[invoices.invoice_date>payments.transaction_date.max()].__len__(), \n",
    "invoices.loc[invoices.invoice_date<payments.transaction_date.min()].__len__())"
   ]
  },
  {
   "cell_type": "markdown",
   "id": "bafdba66",
   "metadata": {},
   "source": [
    "### Cleared vs Open \n",
    "\n",
    "Open invoices actually have a date cleared, which is a scalar value set to the future. "
   ]
  },
  {
   "cell_type": "code",
   "execution_count": null,
   "id": "ae15f0fd",
   "metadata": {},
   "outputs": [],
   "source": [
    "invoices.status.value_counts(normalize=True, dropna=False).to_frame(name=\"% of Invoices\")"
   ]
  },
  {
   "cell_type": "code",
   "execution_count": null,
   "id": "a0612f3a",
   "metadata": {},
   "outputs": [],
   "source": [
    "invoices.loc[invoices.status == 'OPEN'].cleared_date.value_counts(dropna=False)"
   ]
  },
  {
   "cell_type": "code",
   "execution_count": null,
   "id": "018bd777",
   "metadata": {},
   "outputs": [],
   "source": [
    "invoices.loc[invoices.cleared_date.isnull() != (invoices.status == 'OPEN'),['status','cleared_date']]\\\n",
    ".value_counts(dropna=False)"
   ]
  },
  {
   "cell_type": "markdown",
   "id": "e28ee649",
   "metadata": {},
   "source": [
    "### Date Relationships for Cleared Invoices"
   ]
  },
  {
   "cell_type": "code",
   "execution_count": null,
   "id": "bc623f13",
   "metadata": {},
   "outputs": [],
   "source": [
    "cleared_invoices = invoices.query(\"status=='CLEARED'\").drop(columns=['status'])"
   ]
  },
  {
   "cell_type": "code",
   "execution_count": null,
   "id": "53f9bfed",
   "metadata": {},
   "outputs": [],
   "source": [
    "cleared_invoices.days_open.plot(kind='hist',bins=365, title=\"Cleared Invoices: Days Open\", figsize=(12, 3))"
   ]
  },
  {
   "cell_type": "code",
   "execution_count": null,
   "id": "69130bf2",
   "metadata": {},
   "outputs": [],
   "source": [
    "#97% of invoices are cleared\n",
    "cleared_invoices.__len__()/invoices.__len__()"
   ]
  },
  {
   "cell_type": "code",
   "execution_count": null,
   "id": "17eebce5",
   "metadata": {},
   "outputs": [],
   "source": [
    "#vast majority of cleared invoices are either cleared in the month they opened or a year later\n",
    "cleared_invoices.months_open.value_counts(normalize=True, dropna=False)"
   ]
  },
  {
   "cell_type": "code",
   "execution_count": null,
   "id": "24b6797c",
   "metadata": {},
   "outputs": [],
   "source": [
    "#vast majority of cleared invoices are either due the same month they became active or a year later\n",
    "cleared_invoices.months_allowed.value_counts(normalize=True, dropna=False)"
   ]
  },
  {
   "cell_type": "code",
   "execution_count": null,
   "id": "23ff6f7e",
   "metadata": {},
   "outputs": [],
   "source": [
    "#vast majority of cleared invoices are either on time or a year late, suggesting a yearly billing cycle\n",
    "#About 1% are a year early. \n",
    "cleared_invoices.months_late.value_counts(normalize=True, dropna=False)"
   ]
  },
  {
   "cell_type": "code",
   "execution_count": null,
   "id": "8c36d183",
   "metadata": {},
   "outputs": [],
   "source": [
    "cleared_invoices['months_late_vs_allowed'] = cleared_invoices.months_late.div(cleared_invoices.months_allowed+1)\n",
    "cleared_invoices.months_late_vs_allowed.value_counts(normalize=True, dropna=False)"
   ]
  },
  {
   "cell_type": "code",
   "execution_count": null,
   "id": "80d0b15a",
   "metadata": {},
   "outputs": [],
   "source": [
    "cleared_invoices.select_dtypes(include=['float']).hist(bins=50, figsize=(12, 9))"
   ]
  },
  {
   "cell_type": "markdown",
   "id": "e72ea31a",
   "metadata": {},
   "source": [
    "### Exchange Rate\n",
    "\n",
    "Exchange rates vary for both payments and open invoices. Customers would expect to pay the amount they were originally invoiced in their own currency, not the USD amount originally invoiced. Therefore, we should use raw amounts to determine how much is paid vs due. "
   ]
  },
  {
   "cell_type": "code",
   "execution_count": null,
   "id": "28815540",
   "metadata": {},
   "outputs": [],
   "source": [
    "# USD is not is always 1 - it varies a lot\n",
    "currency_ranges = cleared_invoices.groupby(\"currency\").root_exchange_rate_value.describe(percentiles=[])\n",
    "(currency_ranges['max']/currency_ranges['min']).sort_values().plot(kind='bar', title=\"Exchange Rate Spread Ratio\")"
   ]
  },
  {
   "cell_type": "code",
   "execution_count": null,
   "id": "a3b02468",
   "metadata": {},
   "outputs": [],
   "source": [
    "# 1.2% of cleared USD invoices have an exchange rate unequal to 1\n",
    "cleared_invoices_usd = cleared_invoices\\\n",
    ".query(\"currency=='USD' and months_allowed>=0 and months_allowed<=12 and months_late<=12\").copy()\n",
    "cleared_invoices_usd['exchange_rate_is_1'] = cleared_invoices_usd['root_exchange_rate_value'] == 1\n",
    "cleared_invoices_usd.exchange_rate_is_1.mean()"
   ]
  },
  {
   "cell_type": "code",
   "execution_count": null,
   "id": "c1f43560",
   "metadata": {},
   "outputs": [],
   "source": [
    "# USD exchange rate variations from 1 tend to be invoices which took longer to clear\n",
    "# This suggests that the invoice exchange rate is \"current state data.\" \n",
    "time_to_clear = cleared_invoices_usd.cleared_date - cleared_invoices_usd.invoice_date\n",
    "cleared_invoices_usd['months_to_clear'] = time_to_clear.map(lambda t: round(t.days/30))\n",
    "cleared_invoices_usd.months_to_clear.value_counts(normalize=True, dropna=False)"
   ]
  },
  {
   "cell_type": "code",
   "execution_count": null,
   "id": "81ff8ee2",
   "metadata": {},
   "outputs": [],
   "source": [
    "cleared_invoices_usd.groupby(\"exchange_rate_is_1\").months_to_clear.agg(['mean','count'])"
   ]
  },
  {
   "cell_type": "code",
   "execution_count": null,
   "id": "063954c0",
   "metadata": {},
   "outputs": [],
   "source": [
    "cleared_invoices_usd.groupby(cleared_invoices_usd.months_to_clear.clip(upper=13, lower=-1))\\\n",
    ".exchange_rate_is_1.mean().plot(title='% of USD Invoices With Exchange Rate Equal to 1', figsize=(12,3))"
   ]
  },
  {
   "cell_type": "markdown",
   "id": "0cd2603d",
   "metadata": {},
   "source": [
    "### Merge\n",
    "\n",
    "- 18% of payments are partial. \n",
    "- Exchange rates vary across payments.\n",
    "- Companies are consistent between payments and invoices, when payments are present"
   ]
  },
  {
   "cell_type": "code",
   "execution_count": null,
   "id": "3b290b8b",
   "metadata": {},
   "outputs": [],
   "source": [
    "invoice_payments = invoices.rename(columns={\"id\":\"invoice_id\",\"amount_inv\":\"amount\"})\\\n",
    ".merge(payments, on=\"invoice_id\", how='left', suffixes=('_inv', '_pmt'))"
   ]
  },
  {
   "cell_type": "code",
   "execution_count": null,
   "id": "35b5e12f",
   "metadata": {},
   "outputs": [],
   "source": [
    "invoice_payments.invoice_id.nunique()"
   ]
  },
  {
   "cell_type": "code",
   "execution_count": null,
   "id": "1127fdc4",
   "metadata": {},
   "outputs": [],
   "source": [
    "duplicated_columns = [col.replace('_pmt','') for col in invoice_payments.columns if col.endswith('_pmt')]\n",
    "for col in  duplicated_columns:\n",
    "    inconsistent_rows = invoice_payments.loc[invoice_payments[col + '_pmt']!=invoice_payments[col + '_inv']]\n",
    "    print(f\"{col}: {inconsistent_rows.__len__()/invoice_payments.__len__()} inconsistent rows in merged dataset\")"
   ]
  },
  {
   "cell_type": "code",
   "execution_count": null,
   "id": "5b806de6",
   "metadata": {},
   "outputs": [],
   "source": [
    "invoice_payments.query(\"company_id_pmt!=company_id_inv\").company_id_pmt.value_counts()"
   ]
  },
  {
   "cell_type": "code",
   "execution_count": null,
   "id": "64e2c7ad",
   "metadata": {},
   "outputs": [],
   "source": [
    "invoice_payments.query(\"amount_pmt!=amount_inv\")[['amount_pmt','amount_inv']].describe()"
   ]
  },
  {
   "cell_type": "code",
   "execution_count": null,
   "id": "44b34d83",
   "metadata": {},
   "outputs": [],
   "source": [
    "invoice_payments.loc[invoice_payments.amount_pmt>invoice_payments.amount_inv].__len__()"
   ]
  },
  {
   "cell_type": "code",
   "execution_count": null,
   "id": "688dcde3",
   "metadata": {},
   "outputs": [],
   "source": [
    "invoices.query(\"id==67\")"
   ]
  },
  {
   "cell_type": "code",
   "execution_count": null,
   "id": "4b1cb263",
   "metadata": {},
   "outputs": [],
   "source": [
    "payments.query(\"invoice_id==67\")"
   ]
  },
  {
   "cell_type": "markdown",
   "id": "bf604674",
   "metadata": {},
   "source": [
    "## Adding Analytical Variables "
   ]
  },
  {
   "cell_type": "markdown",
   "id": "af21e963",
   "metadata": {},
   "source": [
    "### Date Quantity Variables"
   ]
  },
  {
   "cell_type": "markdown",
   "id": "c84aa605",
   "metadata": {},
   "source": [
    "#### Broken Down By Period\n",
    "\n",
    "What period-level should we use? (day, week, month)\n",
    "Create periods from invoice date to close date\n",
    "Rolling payment window: due_date - current period\n",
    "Rolling days open: cleared_date - current period "
   ]
  },
  {
   "cell_type": "markdown",
   "id": "4658300e",
   "metadata": {},
   "source": [
    "# Metadata Calculations & Cleaning\n",
    "\n",
    "Totals, Uniques, Averages, Ranges, Outliers, Missings\n",
    "Variables: Invoices, USD Amounts, Cleared/Open, Due Date, Invoice Date, Transaction Date, Customers, Companies, Accounts"
   ]
  },
  {
   "cell_type": "markdown",
   "id": "3c0ddac9",
   "metadata": {},
   "source": [
    "# Notes"
   ]
  },
  {
   "cell_type": "markdown",
   "id": "864c3192",
   "metadata": {},
   "source": [
    "## Notable entities\n",
    "\n",
    "e.g. customers with notable values"
   ]
  },
  {
   "cell_type": "markdown",
   "id": "e663f7e0",
   "metadata": {},
   "source": [
    "## Sparsity"
   ]
  },
  {
   "cell_type": "markdown",
   "id": "55860225",
   "metadata": {},
   "source": [
    "### Entities"
   ]
  },
  {
   "cell_type": "markdown",
   "id": "21d2d623",
   "metadata": {},
   "source": [
    "### Date Periods"
   ]
  },
  {
   "cell_type": "markdown",
   "id": "d19c2a0f",
   "metadata": {},
   "source": [
    "## Trends Over Time"
   ]
  },
  {
   "cell_type": "markdown",
   "id": "5c15eaf9",
   "metadata": {},
   "source": [
    "# Analysis"
   ]
  },
  {
   "cell_type": "markdown",
   "id": "e2006f9f",
   "metadata": {},
   "source": [
    "## Business Motivation\n",
    "\n",
    "Cash collections don't follow due dates"
   ]
  },
  {
   "cell_type": "markdown",
   "id": "0488fe44",
   "metadata": {},
   "source": [
    "## Data Science Benchmark\n",
    "\n",
    "Define & Quantify: customers' mean absolute % error each period from cash due."
   ]
  },
  {
   "cell_type": "markdown",
   "id": "b6366b08",
   "metadata": {},
   "source": [
    "## Data Science Target\n",
    "\n",
    "Best outcome variable? \n",
    "Days late\n",
    "Days open (Total and Rolling)\n",
    "Days Open as a % of Payment Window (Total and Rolling)\n",
    "Days Late as a % of Payment Window (Total and Rolling)"
   ]
  }
 ],
 "metadata": {
  "kernelspec": {
   "display_name": "Python 3 (ipykernel)",
   "language": "python",
   "name": "python3"
  },
  "language_info": {
   "codemirror_mode": {
    "name": "ipython",
    "version": 3
   },
   "file_extension": ".py",
   "mimetype": "text/x-python",
   "name": "python",
   "nbconvert_exporter": "python",
   "pygments_lexer": "ipython3",
   "version": "3.10.6"
  }
 },
 "nbformat": 4,
 "nbformat_minor": 5
}