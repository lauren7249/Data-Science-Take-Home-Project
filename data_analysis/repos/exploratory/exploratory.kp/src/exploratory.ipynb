{
 "cells": [
  {
   "cell_type": "raw",
   "id": "09b8d26f",
   "metadata": {},
   "source": [
    "---\n",
    "title: Exploratory Data Analysis\n",
    "authors:\n",
    "- Lauren Talbot\n",
    "created_at: 2023-04-13\n",
    "tldr: A machine learning project is only as good as the data that goes into it. What are some of the high level aspects of the data that we can discover? How should we clean and filter the data?\n",
    "---"
   ]
  },
  {
   "cell_type": "code",
   "execution_count": null,
   "id": "b6986970",
   "metadata": {},
   "outputs": [],
   "source": [
    "%matplotlib inline\n",
    "figsize = (10,3)"
   ]
  },
  {
   "cell_type": "markdown",
   "id": "96f9844d",
   "metadata": {},
   "source": [
    "# Input Datasets  "
   ]
  },
  {
   "cell_type": "code",
   "execution_count": null,
   "id": "c2e7d108",
   "metadata": {},
   "outputs": [],
   "source": [
    "import pandas, numpy\n",
    "pandas.options.display.float_format = '{:,.4f}'.format\n",
    "data_folder = '../data'\n",
    "date_format='%Y-%m-%d' #truncate datetimes to dates\n",
    "id_columns = [\"id\",\"company_id\",\"invoice_id\",\"account_id\",\"customer_id\"]\n",
    "id_column_types = dict(zip(id_columns,[str] * len(id_columns)))\n",
    "invoices = pandas.read_csv(data_folder + '/invoice.csv', na_values='inf', dtype=id_column_types,\n",
    "                           parse_dates=['invoice_date', 'due_date', 'cleared_date'], date_format=date_format)\n",
    "payments = pandas.read_csv(data_folder + '/invoice_payments.csv', na_values='inf', dtype=id_column_types,\n",
    "                           parse_dates=['transaction_date'], date_format=date_format)"
   ]
  },
  {
   "cell_type": "markdown",
   "id": "fb33d782",
   "metadata": {},
   "source": [
    "## Dataset Definitions & Relationships\n",
    "\n",
    "We have two input datasets: invoices and their payments.\n",
    "- Payments are amounts in time, which are directly mapped to companies. \n",
    "- Invoices can have multiple payments, but usually only have 1. "
   ]
  },
  {
   "cell_type": "code",
   "execution_count": null,
   "id": "8421d533",
   "metadata": {},
   "outputs": [],
   "source": [
    "invoices.dtypes"
   ]
  },
  {
   "cell_type": "code",
   "execution_count": null,
   "id": "12abbc1d",
   "metadata": {},
   "outputs": [],
   "source": [
    "payments.dtypes"
   ]
  },
  {
   "cell_type": "code",
   "execution_count": null,
   "id": "72a6f8c4",
   "metadata": {},
   "outputs": [],
   "source": [
    "#The join key will be invoice_id, so it must be unique (and it is).\n",
    "invoices.id.value_counts(dropna=False).value_counts(dropna=False)\\\n",
    ".to_frame(name=\"ids\").rename_axis('invoices_per_id')"
   ]
  },
  {
   "cell_type": "code",
   "execution_count": null,
   "id": "b7faaf80",
   "metadata": {},
   "outputs": [],
   "source": [
    "#all payments are represented in both datasets \n",
    "len(set(payments.invoice_id) - set(invoices.id))"
   ]
  },
  {
   "cell_type": "code",
   "execution_count": null,
   "id": "7af57a63",
   "metadata": {},
   "outputs": [],
   "source": [
    "#7% of invoices do not have payments yet\n",
    "len(set(invoices.id) - set(payments.invoice_id))/invoices.__len__()"
   ]
  },
  {
   "cell_type": "code",
   "execution_count": null,
   "id": "ea62aab2",
   "metadata": {},
   "outputs": [],
   "source": [
    "#invoices usually have one payment but may have more\n",
    "payments.invoice_id.value_counts(dropna=False).value_counts(dropna=False, normalize=True)\\\n",
    ".to_frame(name=\"invoices\").rename_axis('payments_per_invoice')"
   ]
  },
  {
   "cell_type": "markdown",
   "id": "d52d67e0",
   "metadata": {},
   "source": [
    "## Entity Definitions & Relationships\n",
    "\n",
    "- Company: business entity for which Tesorio is forecasting cash collected. There are only two. Each company collects using multiple currencies from multiple customers. \n",
    "- Account: **In this limited dataset, accounts and companies are synonymous, so we ignore accounts.**  \n",
    "- Customer: metadata about an invoice which is specific to each company. Each customer can have multiple currencies."
   ]
  },
  {
   "cell_type": "code",
   "execution_count": null,
   "id": "71b2be52",
   "metadata": {},
   "outputs": [],
   "source": [
    "invoices.groupby(\"company_id\")[[\"customer_id\",\"currency\"]].nunique()"
   ]
  },
  {
   "cell_type": "code",
   "execution_count": null,
   "id": "64f67efd",
   "metadata": {},
   "outputs": [],
   "source": [
    "invoices.groupby(\"customer_id\").company_id.nunique().value_counts()\\\n",
    ".to_frame(name='customers').rename_axis('companies_per_customer')"
   ]
  },
  {
   "cell_type": "code",
   "execution_count": null,
   "id": "ea5d18cf",
   "metadata": {},
   "outputs": [],
   "source": [
    "invoices.groupby([\"customer_id\"]).currency.nunique().value_counts()\\\n",
    ".to_frame(name='customers').rename_axis('currencies_per_customer')"
   ]
  },
  {
   "cell_type": "code",
   "execution_count": null,
   "id": "3ca64f65",
   "metadata": {},
   "outputs": [],
   "source": [
    "invoices.groupby(\"company_id\").account_id.nunique().to_frame(name=\"unique_accounts\")"
   ]
  },
  {
   "cell_type": "code",
   "execution_count": null,
   "id": "82bc4fb5",
   "metadata": {},
   "outputs": [],
   "source": [
    "invoices.groupby(\"account_id\").company_id.nunique().value_counts()\\\n",
    ".to_frame(name='count').rename_axis('companies_per_account')"
   ]
  },
  {
   "cell_type": "markdown",
   "id": "5efc16c0",
   "metadata": {},
   "source": [
    "## Data Cleaning Needs"
   ]
  },
  {
   "cell_type": "markdown",
   "id": "08bbd14b",
   "metadata": {},
   "source": [
    "### Payments\n",
    "\n",
    "Transaction data begins in 2011 and ends 2021-05-18. We will assume this is when the data was pulled. "
   ]
  },
  {
   "cell_type": "code",
   "execution_count": null,
   "id": "a160451c",
   "metadata": {},
   "outputs": [],
   "source": [
    "payments.__len__()"
   ]
  },
  {
   "cell_type": "code",
   "execution_count": null,
   "id": "5e37d7c6",
   "metadata": {},
   "outputs": [],
   "source": [
    "payment_stats = payments.describe(include='all')\n",
    "payment_stats.loc['% populated'] = payment_stats.loc['count']/payments.__len__()\n",
    "payment_stats"
   ]
  },
  {
   "cell_type": "code",
   "execution_count": null,
   "id": "541b0f1d",
   "metadata": {},
   "outputs": [],
   "source": [
    "last_transaction_date = payments.transaction_date.max()\n",
    "first_transaction_date = payments.transaction_date.min()\n",
    "first_transaction_date, last_transaction_date"
   ]
  },
  {
   "cell_type": "code",
   "execution_count": null,
   "id": "7f55fd4c",
   "metadata": {},
   "outputs": [],
   "source": [
    "#converted_amount is reliable\n",
    "(((payments.amount * payments.root_exchange_rate_value) - payments.converted_amount).abs()).max()"
   ]
  },
  {
   "cell_type": "code",
   "execution_count": null,
   "id": "620cf013",
   "metadata": {},
   "outputs": [],
   "source": [
    "payments[payments.amount.isnull()!=payments.converted_amount.isnull()].__len__()"
   ]
  },
  {
   "cell_type": "code",
   "execution_count": null,
   "id": "0144d3fd",
   "metadata": {},
   "outputs": [],
   "source": [
    "payments.select_dtypes(include='float').hist(bins=50, figsize=figsize, layout=(1,3))"
   ]
  },
  {
   "cell_type": "markdown",
   "id": "60dbbc75",
   "metadata": {},
   "source": [
    "### Invoices\n",
    "\n",
    "Must become active within the date range of the transactions data to ensure completeness."
   ]
  },
  {
   "cell_type": "code",
   "execution_count": null,
   "id": "26c55220",
   "metadata": {},
   "outputs": [],
   "source": [
    "#opened outside of payment data time period or after they were due - need to filter \n",
    "(invoices.loc[invoices.invoice_date>last_transaction_date].__len__(), \n",
    "invoices.loc[invoices.invoice_date<first_transaction_date].__len__(), \n",
    "invoices.loc[invoices.invoice_date.dt.to_period('M')>invoices.due_date.dt.to_period('M')].__len__())"
   ]
  },
  {
   "cell_type": "code",
   "execution_count": null,
   "id": "2c310b69",
   "metadata": {},
   "outputs": [],
   "source": [
    "invoices = invoices.loc[(invoices.invoice_date>=first_transaction_date) &\n",
    "                        (invoices.invoice_date<=last_transaction_date) & \n",
    "                        (invoices.invoice_date.dt.to_period('M')<=invoices.due_date.dt.to_period('M'))]"
   ]
  },
  {
   "cell_type": "code",
   "execution_count": null,
   "id": "f4d1eb68",
   "metadata": {},
   "outputs": [],
   "source": [
    "#to compare to payments. Are we holding the customer accountable to USD or their own currency?\n",
    "invoices['converted_amount_inv'] = invoices.amount_inv * invoices.root_exchange_rate_value"
   ]
  },
  {
   "cell_type": "code",
   "execution_count": null,
   "id": "dc49959c",
   "metadata": {
    "scrolled": true
   },
   "outputs": [],
   "source": [
    "invoices_stats = invoices.describe(include='all')\n",
    "invoices_stats.loc['% populated'] = invoices_stats.loc['count']/invoices.__len__()\n",
    "invoices_stats"
   ]
  },
  {
   "cell_type": "code",
   "execution_count": null,
   "id": "e8fd96c6",
   "metadata": {},
   "outputs": [],
   "source": [
    "invoices['months_allowed'] = invoices.due_date.dt.to_period('M') - invoices.invoice_date.dt.to_period('M')\n",
    "invoices.months_allowed = invoices.months_allowed.map(lambda m: m.n if not pandas.isnull(m) else None)\n",
    "#almost all invoices are due immediately or within 3 months. filter out the rest\n",
    "invoices.months_allowed.value_counts(normalize=True, dropna=False)"
   ]
  },
  {
   "cell_type": "code",
   "execution_count": null,
   "id": "e338b705",
   "metadata": {},
   "outputs": [],
   "source": [
    "invoices['months_billing'] = invoices.cleared_date.dt.to_period('M') - invoices.invoice_date.dt.to_period('M')\n",
    "invoices.months_billing = invoices.months_billing.map(lambda m: m.n if not pandas.isnull(m) else None)\n",
    "#almost all invoices are cleared within a year. filter out ones that cleared before they opened. will clip to 12.  \n",
    "invoices.months_billing.value_counts(normalize=True, dropna=False)"
   ]
  },
  {
   "cell_type": "markdown",
   "id": "c8c2b0a0",
   "metadata": {},
   "source": [
    "### Exchange Rate\n",
    "\n",
    "Exchange rates vary for both payments and open invoices. Customers would expect to pay the amount they were originally invoiced in their own currency, not the USD amount originally invoiced. Therefore, we should use raw amounts to determine how much is paid vs due. "
   ]
  },
  {
   "cell_type": "code",
   "execution_count": null,
   "id": "6ec1dfdb",
   "metadata": {},
   "outputs": [],
   "source": [
    "# USD is not is always 1 - it varies a lot\n",
    "currency_ranges = invoices.groupby(\"currency\").root_exchange_rate_value.describe(percentiles=[])\n",
    "(currency_ranges['max']/currency_ranges['min']).sort_values().plot(kind='bar', title=\"Exchange Rate Spread Ratio\")"
   ]
  },
  {
   "cell_type": "code",
   "execution_count": null,
   "id": "37f3d04a",
   "metadata": {},
   "outputs": [],
   "source": [
    "# 1.6% of USD invoices have an exchange rate unequal to 1\n",
    "invoices_usd = invoices.query(\"currency=='USD'\").copy()\n",
    "invoices_usd['exchange_rate_is_1'] = invoices_usd['root_exchange_rate_value'] == 1\n",
    "1 - invoices_usd.exchange_rate_is_1.mean()"
   ]
  },
  {
   "cell_type": "code",
   "execution_count": null,
   "id": "c8303b6f",
   "metadata": {},
   "outputs": [],
   "source": [
    "# USD exchange rate variations from 1 tend to be invoices which took longer to clear\n",
    "# This suggests that the invoice exchange rate is \"current state data.\" \n",
    "time_to_clear = invoices_usd.cleared_date - invoices_usd.invoice_date\n",
    "invoices_usd['months_to_clear'] = time_to_clear.map(lambda t: round(t.days/30))"
   ]
  },
  {
   "cell_type": "code",
   "execution_count": null,
   "id": "9e76bf9f",
   "metadata": {},
   "outputs": [],
   "source": [
    "invoices_usd.groupby(\"exchange_rate_is_1\").months_to_clear.agg(['mean','count'])"
   ]
  },
  {
   "cell_type": "code",
   "execution_count": null,
   "id": "52048678",
   "metadata": {},
   "outputs": [],
   "source": [
    "invoices_usd.groupby(invoices_usd.months_to_clear.clip(upper=13, lower=-1))\\\n",
    ".exchange_rate_is_1.mean().plot(title='% of USD Invoices With Exchange Rate Equal to 1', figsize=figsize)"
   ]
  },
  {
   "cell_type": "markdown",
   "id": "576a3e07",
   "metadata": {},
   "source": [
    "### Invoice status vs cleared date\n",
    "\n",
    "All invoices have a date cleared. \n",
    "When an invoice is open, the date cleared is set to the future, and seems to be an assumed value. "
   ]
  },
  {
   "cell_type": "code",
   "execution_count": null,
   "id": "4327f695",
   "metadata": {},
   "outputs": [],
   "source": [
    "invoices.loc[invoices.cleared_date.isnull()].__len__()"
   ]
  },
  {
   "cell_type": "code",
   "execution_count": null,
   "id": "4336b02c",
   "metadata": {},
   "outputs": [],
   "source": [
    "invoices.status.value_counts(normalize=True, dropna=False).to_frame(name=\"% of Invoices\")"
   ]
  },
  {
   "cell_type": "code",
   "execution_count": null,
   "id": "8622afba",
   "metadata": {},
   "outputs": [],
   "source": [
    "invoices.loc[invoices.cleared_date.isnull() != (invoices.status == 'OPEN'),['status','cleared_date']]\\\n",
    ".value_counts(dropna=False)"
   ]
  },
  {
   "cell_type": "code",
   "execution_count": null,
   "id": "0a462b77",
   "metadata": {},
   "outputs": [],
   "source": [
    "#all open invoices have the same cleared date, which is in the future relative to the latest transaction\n",
    "invoices.loc[invoices.status == 'OPEN'].cleared_date.value_counts(dropna=False)"
   ]
  },
  {
   "cell_type": "code",
   "execution_count": null,
   "id": "63f0ca5c",
   "metadata": {},
   "outputs": [],
   "source": [
    "#all cleared invoices have a cleared date within the payments data window\n",
    "invoices.loc[invoices.status == 'CLEARED', ['invoice_date','cleared_date']].agg(['min','max'])"
   ]
  },
  {
   "cell_type": "code",
   "execution_count": null,
   "id": "f9607700",
   "metadata": {},
   "outputs": [],
   "source": [
    "#open invoices are already active\n",
    "invoices.loc[invoices.status == 'OPEN', ['invoice_date','due_date']].agg(['min','max'])"
   ]
  },
  {
   "cell_type": "markdown",
   "id": "52df5086",
   "metadata": {},
   "source": [
    "### Merging & Checking for Consistency\n",
    "\n",
    "- No individual payments are more than their invoices. \n",
    "- Exchange rates vary across payments.\n",
    "- Companies are consistent between payments and invoices, when payments are present. \n",
    "- Amounts make the most sense in their original currencies vs in USD"
   ]
  },
  {
   "cell_type": "code",
   "execution_count": null,
   "id": "07f0318a",
   "metadata": {},
   "outputs": [],
   "source": [
    "payments['transaction_month'] = payments.transaction_date.dt.to_period('M')\n",
    "invoice_payments = invoices.rename(columns={\"id\":\"invoice_id\",\"amount_inv\":\"amount\",\n",
    "                                            \"converted_amount_inv\":\"converted_amount\"})\\\n",
    ".merge(payments, on=\"invoice_id\", how='left', suffixes=('_inv', '_pmt'))"
   ]
  },
  {
   "cell_type": "code",
   "execution_count": null,
   "id": "2b48c2d6",
   "metadata": {},
   "outputs": [],
   "source": [
    "invoice_payments.invoice_id.nunique()"
   ]
  },
  {
   "cell_type": "code",
   "execution_count": null,
   "id": "ab2c6d57",
   "metadata": {},
   "outputs": [],
   "source": [
    "duplicated_columns = [col.replace('_pmt','') for col in invoice_payments.columns if col.endswith('_pmt')]\n",
    "for col in  duplicated_columns:\n",
    "    inconsistent_rows = invoice_payments.loc[invoice_payments[col + '_pmt']!=invoice_payments[col + '_inv']]\n",
    "    print(f\"{col}: {inconsistent_rows.__len__()/invoice_payments.__len__()} inconsistent rows in merged dataset\")"
   ]
  },
  {
   "cell_type": "code",
   "execution_count": null,
   "id": "fde9fa68",
   "metadata": {},
   "outputs": [],
   "source": [
    "invoice_payments.query(\"company_id_pmt!=company_id_inv\").company_id_pmt.value_counts(dropna=False)"
   ]
  },
  {
   "cell_type": "code",
   "execution_count": null,
   "id": "3f120623",
   "metadata": {},
   "outputs": [],
   "source": [
    "invoice_payments.query(\"amount_pmt!=amount_inv\")[['amount_pmt','amount_inv']].describe()"
   ]
  },
  {
   "cell_type": "code",
   "execution_count": null,
   "id": "22b24d03",
   "metadata": {},
   "outputs": [],
   "source": [
    "#no payment is more than the invoice amount in the original currency\n",
    "invoice_payments.loc[invoice_payments.amount_pmt>invoice_payments.amount_inv].__len__()"
   ]
  },
  {
   "cell_type": "code",
   "execution_count": null,
   "id": "4408d839",
   "metadata": {},
   "outputs": [],
   "source": [
    "#converting to USD creates payments that are higher than invoice totals\n",
    "invoice_payments.loc[invoice_payments.converted_amount_pmt>invoice_payments.converted_amount_inv].__len__()"
   ]
  },
  {
   "cell_type": "markdown",
   "id": "a69d4af2",
   "metadata": {},
   "source": [
    "### Business Questions for the Data"
   ]
  },
  {
   "cell_type": "code",
   "execution_count": null,
   "id": "157a9942",
   "metadata": {},
   "outputs": [],
   "source": [
    "invoice_payments['amount_pmt_pct'] = (invoice_payments.amount_pmt/invoice_payments.amount_inv)"
   ]
  },
  {
   "cell_type": "code",
   "execution_count": null,
   "id": "06ffb814",
   "metadata": {},
   "outputs": [],
   "source": [
    "# Rougly 12% of payments are partial\n",
    "(invoice_payments.amount_pmt_pct.dropna()<1).mean()"
   ]
  },
  {
   "cell_type": "code",
   "execution_count": null,
   "id": "4e3b13a0",
   "metadata": {},
   "outputs": [],
   "source": [
    "invoice_payments.amount_pmt_pct\\\n",
    ".plot(kind=\"hist\",bins=50, title=\"% of Invoice Collected with Payment\", figsize=figsize)"
   ]
  },
  {
   "cell_type": "code",
   "execution_count": null,
   "id": "4b129f52",
   "metadata": {},
   "outputs": [],
   "source": [
    "invoice_payments.sort_values(by=['invoice_id','transaction_date'], inplace=True)"
   ]
  },
  {
   "cell_type": "code",
   "execution_count": null,
   "id": "e925d3d7",
   "metadata": {},
   "outputs": [],
   "source": [
    "invoice_payments.groupby(\"invoice_id\").amount_pmt_pct.cumsum()\\\n",
    ".plot(kind=\"hist\",bins=50, title=\"Summed % of Invoice Collected with Payment\", figsize=figsize)"
   ]
  },
  {
   "cell_type": "code",
   "execution_count": null,
   "id": "13b0cc70",
   "metadata": {},
   "outputs": [],
   "source": [
    "#small percent of payments represent overpayments\n",
    "invoice_payments['pmt_pct_cum'] = invoice_payments.groupby(\"invoice_id\").amount_pmt_pct.cumsum()\n",
    "(invoice_payments.pmt_pct_cum>1).mean()"
   ]
  },
  {
   "cell_type": "code",
   "execution_count": null,
   "id": "74f86b14",
   "metadata": {},
   "outputs": [],
   "source": [
    "#invoices with no transactions: use payments data end date as date of 0 amount \n",
    "invoice_payments.transaction_month = invoice_payments.transaction_month\\\n",
    ".fillna(last_transaction_date.to_period('M'))"
   ]
  },
  {
   "cell_type": "code",
   "execution_count": null,
   "id": "4c91a66b",
   "metadata": {},
   "outputs": [],
   "source": [
    "#there can be multiple transactions per month\n",
    "invoice_payments.groupby([\"invoice_id\",\"transaction_month\"]).transaction_date\\\n",
    ".count().value_counts(normalize=True).head()"
   ]
  },
  {
   "cell_type": "code",
   "execution_count": null,
   "id": "6a457fb7",
   "metadata": {},
   "outputs": [],
   "source": [
    "#the transactions are not duplicates\n",
    "invoice_payments.groupby([\"invoice_id\",\"transaction_month\"]).amount_pmt\\\n",
    ".nunique().value_counts(normalize=True).head()"
   ]
  },
  {
   "cell_type": "code",
   "execution_count": null,
   "id": "4b8dde60",
   "metadata": {},
   "outputs": [],
   "source": [
    "#but they are almost always on the same day\n",
    "invoice_payments.groupby([\"invoice_id\",\"transaction_month\"]).transaction_date.nunique()\\\n",
    ".value_counts(normalize=True).head()"
   ]
  },
  {
   "cell_type": "code",
   "execution_count": null,
   "id": "bc83c7c5",
   "metadata": {},
   "outputs": [],
   "source": [
    "payment_totals = invoices.set_index('id')\n",
    "payment_totals['pmt_pct_cum'] = invoice_payments.groupby(\"invoice_id\").pmt_pct_cum.max().fillna(0)\n",
    "payment_totals['transaction_date_max'] = invoice_payments.groupby(\"invoice_id\").transaction_date.max()\n",
    "payment_totals['collected_date'] = invoice_payments.query(\"pmt_pct_cum>=1\")\\\n",
    ".groupby(\"invoice_id\").transaction_date.min()"
   ]
  },
  {
   "cell_type": "markdown",
   "id": "2c6838d4",
   "metadata": {},
   "source": [
    "#### Comparing invoice status and % collected \n",
    "\n",
    "- Invoices with cleared status can still have amounts remaining. \n",
    "- Invoices with open status are rarely collected. "
   ]
  },
  {
   "cell_type": "code",
   "execution_count": null,
   "id": "2230340c",
   "metadata": {},
   "outputs": [],
   "source": [
    "# define invoice as collected if payments meet invoice amount in original currencies. 91% are collected\n",
    "payment_totals['collected'] = payment_totals.collected_date.isnull()==False\n",
    "payment_totals.collected.mean()"
   ]
  },
  {
   "cell_type": "code",
   "execution_count": null,
   "id": "94e6feea",
   "metadata": {},
   "outputs": [],
   "source": [
    "#define cleared based on status. 97% are cleared\n",
    "payment_totals['cleared'] = payment_totals.status=='CLEARED'\n",
    "payment_totals.cleared.mean()"
   ]
  },
  {
   "cell_type": "code",
   "execution_count": null,
   "id": "c81b9f90",
   "metadata": {},
   "outputs": [],
   "source": [
    "#6% of invoices have a mismatch between collected and cleared \n",
    "(payment_totals.collected!=payment_totals.cleared).mean()"
   ]
  },
  {
   "cell_type": "code",
   "execution_count": null,
   "id": "72a6281c",
   "metadata": {},
   "outputs": [],
   "source": [
    "#on average, 94% of cleared invoices are fully collected, compared to <1% of open ones\n",
    "#cleared invoices have 96% of their amounts collected on average\n",
    "payment_totals.groupby(\"status\", as_index=False)[['collected','pmt_pct_cum']].mean()"
   ]
  },
  {
   "cell_type": "code",
   "execution_count": null,
   "id": "99b7334f",
   "metadata": {},
   "outputs": [],
   "source": [
    "#67% of invoices that have not been collected are cleared nonetheless \n",
    "payment_totals.groupby(\"collected\", as_index=False).cleared.mean()"
   ]
  },
  {
   "cell_type": "markdown",
   "id": "8f6c40bb",
   "metadata": {},
   "source": [
    "#### Cleared Invoices\n",
    "\n",
    "Cleared invoices may or may not be collected. If not collected, cleared invoices tend to be more overdue, suggesting that invoices must be cleared at some point."
   ]
  },
  {
   "cell_type": "code",
   "execution_count": null,
   "id": "f85138a2",
   "metadata": {},
   "outputs": [],
   "source": [
    "cleared_invoices = payment_totals.query(\"cleared == True\").copy()\n",
    "cleared_invoices['months_late'] = \\\n",
    "(cleared_invoices.collected_date.fillna(cleared_invoices.transaction_date_max).dt.to_period('M')\\\n",
    "- cleared_invoices.due_date.dt.to_period('M')).map(lambda m: m.n if not pandas.isnull(m) else None)"
   ]
  },
  {
   "cell_type": "code",
   "execution_count": null,
   "id": "e6fa6a68",
   "metadata": {},
   "outputs": [],
   "source": [
    "cleared_invoices.groupby(\"collected\").months_late.agg(['mean','min','max'])"
   ]
  },
  {
   "cell_type": "markdown",
   "id": "cd6f5008",
   "metadata": {},
   "source": [
    "#### Comparing date cleared to date collected\n",
    "\n",
    "Rarely, there can be a delay between the date an invoice is collected to when it is cleared. We will only forecast invoices when they are open AND not collected. "
   ]
  },
  {
   "cell_type": "code",
   "execution_count": null,
   "id": "e9b7eff9",
   "metadata": {},
   "outputs": [],
   "source": [
    "payment_totals['clear_delay_months'] = (payment_totals.cleared_date.dt.to_period('M') \\\n",
    "- payment_totals.collected_date.dt.to_period('M')).map(lambda m: m.n if not pandas.isnull(m) else None)"
   ]
  },
  {
   "cell_type": "code",
   "execution_count": null,
   "id": "01c68720",
   "metadata": {},
   "outputs": [],
   "source": [
    "payment_totals.__len__()"
   ]
  },
  {
   "cell_type": "code",
   "execution_count": null,
   "id": "bd45848a",
   "metadata": {},
   "outputs": [],
   "source": [
    "payment_totals.clear_delay_months.describe(percentiles=[0.001,0.999])"
   ]
  },
  {
   "cell_type": "markdown",
   "id": "6cb32341",
   "metadata": {},
   "source": [
    "# Structuring Data for Business Problem\n",
    "\n",
    "- The model will handle OPEN invoices and classify how many months in the future they will be collected. \n",
    "- Define an invoice as open between its invoice date and date cleared or collected, whichever is first. "
   ]
  },
  {
   "cell_type": "markdown",
   "id": "27fb42d1",
   "metadata": {},
   "source": [
    "## Creating transaction periods to model historical invoices\n",
    "\n",
    "To model the data, we have to look the invoices in each prior period they were open and calculate when they are collected relative to that time. \n",
    "\n",
    "To ensure completeness, the periods we use for modeling must fall within the date range of the transactions data. Since we will forecast a year in advance, the forecast period must also be at a year prior to when the transactions data ends. "
   ]
  },
  {
   "cell_type": "code",
   "execution_count": null,
   "id": "f8632c07",
   "metadata": {},
   "outputs": [],
   "source": [
    "import numpy\n",
    "\n",
    "def forecast_periods(invoice_date, last_billing_date):\n",
    "    period_start = max(invoice_date,first_transaction_date.to_period('M'))\n",
    "    period_end = min(last_billing_date,(last_transaction_date - pandas.DateOffset(years=1)).to_period('M'))\n",
    "    return pandas.period_range(period_start, period_end)\n",
    "\n",
    "payment_totals['last_forecast_date'] = payment_totals[['cleared_date','collected_date']].min(axis=1)\n",
    "payment_totals['forecast_month'] = numpy.vectorize(forecast_periods)\\\n",
    "(payment_totals.invoice_date.dt.to_period('M'), payment_totals.last_forecast_date.dt.to_period('M'))\n",
    "invoice_forecast_periods = payment_totals.reset_index().explode('forecast_month').dropna(subset=['forecast_month'])\n",
    "invoice_forecast_periods.forecast_month.agg(['min','max'])"
   ]
  },
  {
   "cell_type": "markdown",
   "id": "ce621e5a",
   "metadata": {},
   "source": [
    "## Live test cases: current open invoices\n",
    "\n",
    "Invoices that we will predict after creating the model, without knowing the accuracy of the predictions. \n",
    "Per the instructions, we only predict collection dates for open invoices. \n",
    "\n",
    "Use the day after the payments data ends as the present date. "
   ]
  },
  {
   "cell_type": "code",
   "execution_count": null,
   "id": "ada7523a",
   "metadata": {},
   "outputs": [],
   "source": [
    "present_date = last_transaction_date + pandas.DateOffset(days=1)\n",
    "open_invoices = invoices.query(\"status=='OPEN'\").copy()\n",
    "open_invoices['forecast_month'] = present_date.to_period('M')"
   ]
  },
  {
   "cell_type": "code",
   "execution_count": null,
   "id": "8425f90b",
   "metadata": {},
   "outputs": [],
   "source": [
    "open_invoices.forecast_month.agg(['min','max','count'])"
   ]
  },
  {
   "cell_type": "markdown",
   "id": "77bfd77e",
   "metadata": {},
   "source": [
    "## Process inputs for model training and predictions\n",
    "\n",
    "Months have lower kurtosis than periods. "
   ]
  },
  {
   "cell_type": "code",
   "execution_count": null,
   "id": "c8f4924e",
   "metadata": {},
   "outputs": [],
   "source": [
    "def process_model_inputs(invoices_at_time_periods):\n",
    "    raw_input_columns = ['id','invoice_date', 'months_allowed','amount_inv', 'converted_amount_inv',\n",
    "                         'currency','company_id','customer_id','forecast_month']\n",
    "    output_col = 'collected_date'\n",
    "    if output_col in invoices_at_time_periods.columns:\n",
    "        raw_input_columns += [output_col, 'cleared_date']\n",
    "    output_df = invoices_at_time_periods[raw_input_columns]\n",
    "    #remove months_allowed > 3\n",
    "    output_df = output_df[output_df.months_allowed.between(0,3)]\n",
    "    #only forecast when the invoice is active. \n",
    "    output_df = output_df[output_df.forecast_month>=output_df.invoice_date.dt.to_period('M')]\n",
    "    output_df['months_billing'] = (output_df.forecast_month \\\n",
    "                                  - output_df.invoice_date.dt.to_period('M')).map(lambda m: m.n).clip(upper=12)\n",
    "    output_df['months_late'] = output_df.months_billing - output_df.months_allowed\n",
    "    output_df.forecast_month = output_df.forecast_month.dt.to_timestamp()\n",
    "    return output_df\n",
    "\n",
    "open_invoices_to_score = process_model_inputs(open_invoices)\n",
    "invoices_periods_to_model = process_model_inputs(invoice_forecast_periods)"
   ]
  },
  {
   "cell_type": "code",
   "execution_count": null,
   "id": "67ceb1d7",
   "metadata": {},
   "outputs": [],
   "source": [
    "open_invoices_to_score.describe(include='all', percentiles=[0.001,0.999]).T"
   ]
  },
  {
   "cell_type": "markdown",
   "id": "3bbfb30e",
   "metadata": {},
   "source": [
    "## Selecting prediction target\n",
    "\n",
    "Predict months til collected relative to forecast date. \n",
    "\n",
    "Normalization:\n",
    "- If the invoice isn't collected within the payments data time period, assume it's collected the day after, which we are using as the present date. \n",
    "- Clip collection period to 13 months, which is outside the forecast window."
   ]
  },
  {
   "cell_type": "code",
   "execution_count": null,
   "id": "ddd6c793",
   "metadata": {},
   "outputs": [],
   "source": [
    "invoices_periods_to_model['months_til_collected'] = \\\n",
    "(invoices_periods_to_model.collected_date.dt.to_period('M') \\\n",
    "- invoices_periods_to_model.forecast_month.dt.to_period('M')).map(lambda m: m.n if not pandas.isnull(m) else None)\n",
    "# why we clip outliers \n",
    "invoices_periods_to_model.months_til_collected.value_counts(normalize=True, dropna=False).head(20)"
   ]
  },
  {
   "cell_type": "code",
   "execution_count": null,
   "id": "2dac208e",
   "metadata": {},
   "outputs": [],
   "source": [
    "#normalized values\n",
    "invoices_periods_to_model['months_til_collected_norm'] = invoices_periods_to_model.months_til_collected.fillna(\n",
    "    (present_date.to_period('M') - invoices_periods_to_model.forecast_month.dt.to_period('M')).map(lambda m: m.n)\n",
    ").clip(upper=13)\n",
    "invoices_periods_to_model.months_til_collected_norm.value_counts(normalize=True, dropna=False)"
   ]
  },
  {
   "cell_type": "code",
   "execution_count": null,
   "id": "5f6ac293",
   "metadata": {},
   "outputs": [],
   "source": [
    "invoices_periods_to_model.months_til_collected_norm.plot(kind='hist', bins=14, figsize=figsize, layout=(1,3), \n",
    "title=\"Months Til Collected, Up to 1 Year (collections 13+ months in the future are outside the forecast window)\")"
   ]
  },
  {
   "cell_type": "code",
   "execution_count": null,
   "id": "7a53b2d0",
   "metadata": {},
   "outputs": [],
   "source": [
    "invoices_periods_to_model.months_til_collected_norm.kurtosis()"
   ]
  },
  {
   "cell_type": "code",
   "execution_count": null,
   "id": "5624e50e",
   "metadata": {},
   "outputs": [],
   "source": [
    "invoices_periods_to_model['periods_til_collected'] = \\\n",
    "(invoices_periods_to_model.months_til_collected_norm/(invoices_periods_to_model.months_allowed+1)).clip(upper=13)\n",
    "\n",
    "invoices_periods_to_model.periods_til_collected.plot(kind='hist', bins=14, figsize=figsize, layout=(1,3), \n",
    "      title=\"Billing Periods Til Collected (collections 13+ months in the future are outside the forecast window)\")"
   ]
  },
  {
   "cell_type": "code",
   "execution_count": null,
   "id": "f2ac22d9",
   "metadata": {},
   "outputs": [],
   "source": [
    "invoices_periods_to_model.periods_til_collected.kurtosis()"
   ]
  },
  {
   "cell_type": "code",
   "execution_count": null,
   "id": "8f48869d",
   "metadata": {},
   "outputs": [],
   "source": [
    "invoices_periods_to_model.drop(columns=['collected_date','cleared_date','periods_til_collected'], \n",
    "                               inplace=True, errors='ignore')\n",
    "invoices_periods_to_model.describe(include='all', percentiles=[0.001,0.999]).T"
   ]
  },
  {
   "cell_type": "markdown",
   "id": "178c8281",
   "metadata": {},
   "source": [
    "## Analyze Input Data"
   ]
  },
  {
   "cell_type": "code",
   "execution_count": null,
   "id": "930ccd62",
   "metadata": {},
   "outputs": [],
   "source": [
    "invoices_to_model = invoices_periods_to_model.query(\"months_billing==0\").copy()\\\n",
    ".rename(columns={\"forecast_month\":\"invoice_month\"})\n",
    "invoices_to_model['uncollected'] = invoices_to_model.months_til_collected.isnull()"
   ]
  },
  {
   "cell_type": "markdown",
   "id": "21d2d623",
   "metadata": {},
   "source": [
    "### By Dates"
   ]
  },
  {
   "cell_type": "code",
   "execution_count": null,
   "id": "cc2b0ed3",
   "metadata": {},
   "outputs": [],
   "source": [
    "invoices_periods_to_model.groupby(\"forecast_month\").id.count()\\\n",
    ".plot(kind='area', title=\"Invoices by Forecast Month\", figsize=figsize)"
   ]
  },
  {
   "cell_type": "code",
   "execution_count": null,
   "id": "0afa46e8",
   "metadata": {},
   "outputs": [],
   "source": [
    "invoices_to_model.groupby(\"invoice_month\").id.count()\\\n",
    ".plot(kind='area', title=\"Invoices by Invoice Month\", figsize=figsize)"
   ]
  },
  {
   "cell_type": "markdown",
   "id": "4b00f6ba",
   "metadata": {},
   "source": [
    "### By Currency\n",
    "\n",
    "Some currencies have very low collection rates. This may be due to currency fluctuations."
   ]
  },
  {
   "cell_type": "code",
   "execution_count": null,
   "id": "0392fa3d",
   "metadata": {},
   "outputs": [],
   "source": [
    "invoices_to_model.groupby(\"currency\")\\\n",
    ".agg({\"months_til_collected\":[\"mean\",\"std\"],\"id\":\"count\",\"uncollected\":\"mean\"})\\\n",
    ".sort_values(by=('uncollected','mean'), ascending=False)"
   ]
  },
  {
   "cell_type": "markdown",
   "id": "d19c2a0f",
   "metadata": {},
   "source": [
    "### Trends Over Time\n",
    "\n",
    "Invoice collection time and inability to collect have been trending down, which are good signs for Tesorio's business. "
   ]
  },
  {
   "cell_type": "code",
   "execution_count": null,
   "id": "cd538b0f",
   "metadata": {},
   "outputs": [],
   "source": [
    "invoices_to_model.groupby(\"invoice_month\").months_til_collected.mean()\\\n",
    ".plot(kind='line', title=\"Average Months to Collect by Invoice Month\", figsize=figsize)"
   ]
  },
  {
   "cell_type": "code",
   "execution_count": null,
   "id": "7d78fc01",
   "metadata": {},
   "outputs": [],
   "source": [
    "invoices_to_model.groupby(\"invoice_month\").uncollected.mean()\\\n",
    ".plot(kind='line', title=\"% Invoices Uncollected by Invoice Month\", figsize=figsize)"
   ]
  },
  {
   "cell_type": "markdown",
   "id": "21e4a134",
   "metadata": {},
   "source": [
    "### By Customer \n",
    "\n",
    "We have trouble collecting from some customers, regardless of their currency. "
   ]
  },
  {
   "cell_type": "code",
   "execution_count": null,
   "id": "34115a92",
   "metadata": {},
   "outputs": [],
   "source": [
    "customer_averages = invoices_to_model.set_index(\"customer_id\").select_dtypes(include=['float','int','boolean'])\\\n",
    ".reset_index().groupby(\"customer_id\").mean()\n",
    "customer_averages.hist(bins=50, figsize=(10,5), layout=(2,4))"
   ]
  },
  {
   "cell_type": "code",
   "execution_count": null,
   "id": "9761b709",
   "metadata": {},
   "outputs": [],
   "source": [
    "customer_stats = invoices_to_model.groupby(\"customer_id\").uncollected.agg(['count','mean'])\\\n",
    ".add_prefix('uncollected_').sort_values(by=\"uncollected_mean\", ascending=False)\n",
    "customer_stats.query(\"uncollected_count>=30\").uncollected_mean\\\n",
    ".plot(kind='hist', figsize=figsize, title=\"Customers with 30+ Invoices: % Uncollected\", bins=50)"
   ]
  },
  {
   "cell_type": "code",
   "execution_count": null,
   "id": "59dd6385",
   "metadata": {},
   "outputs": [],
   "source": [
    "western_customer_stats = invoices_to_model.query(\"currency in ('USD','EUR','GBP')\")\\\n",
    ".groupby(\"customer_id\").uncollected.agg(['count','mean'])\\\n",
    ".add_prefix('uncollected_').sort_values(by=\"uncollected_mean\", ascending=False)\n",
    "western_customer_stats.query(\"uncollected_count>=30\").uncollected_mean\\\n",
    ".plot(kind='hist', figsize=figsize, title=\"US and European Customers with 30+ Invoices: % Uncollected\", bins=50)"
   ]
  },
  {
   "cell_type": "markdown",
   "id": "5c15eaf9",
   "metadata": {},
   "source": [
    "# Business Analysis"
   ]
  },
  {
   "cell_type": "markdown",
   "id": "e2006f9f",
   "metadata": {},
   "source": [
    "## Business Motivation\n",
    "\n",
    "Cash collections don't follow due dates. On average:\n",
    "\n",
    "- 6% of total cash due each month is unpaid, equating to a \\\\$471K average deficit.\n",
    "- Total cash collected each month is 9% off from the amount due, equating to a $571K average difference in cash flow. "
   ]
  },
  {
   "cell_type": "code",
   "execution_count": null,
   "id": "47b8dd7e",
   "metadata": {},
   "outputs": [],
   "source": [
    "amount_due = invoices\\\n",
    ".groupby(invoices.due_date.dt.to_period('M')).converted_amount_inv.sum().to_frame(name=\"amount_due_usd\")\n",
    "amount_paid = payments.rename(columns={\"transaction_month\":\"due_month\"})\\\n",
    ".groupby(\"due_month\").converted_amount.sum().to_frame(name=\"amount_paid_usd\")\n",
    "business_motivation = amount_due.join(amount_paid, how='inner').reset_index(names='due_date')\\\n",
    ".query(f\"due_date>'{first_transaction_date}' and due_date<'{last_transaction_date}'\")\n",
    "business_motivation['pct_unpaid'] = 1 - (business_motivation.amount_paid_usd/business_motivation.amount_due_usd)\n",
    "business_motivation['unpaid'] = business_motivation.amount_due_usd - business_motivation.amount_paid_usd\n",
    "business_motivation.set_index('due_date', inplace=True)"
   ]
  },
  {
   "cell_type": "code",
   "execution_count": null,
   "id": "4ef847a1",
   "metadata": {},
   "outputs": [],
   "source": [
    "business_motivation.pct_unpaid.plot(figsize=figsize, title=\"% Unpaid (USD Due)\")"
   ]
  },
  {
   "cell_type": "code",
   "execution_count": null,
   "id": "55f2abb8",
   "metadata": {},
   "outputs": [],
   "source": [
    "business_motivation.pct_unpaid.mean(), business_motivation.pct_unpaid.abs().mean()"
   ]
  },
  {
   "cell_type": "code",
   "execution_count": null,
   "id": "cee906dc",
   "metadata": {},
   "outputs": [],
   "source": [
    "business_motivation.unpaid.plot(figsize=figsize, title=\"USD Unpaid\")"
   ]
  },
  {
   "cell_type": "code",
   "execution_count": null,
   "id": "453258dc",
   "metadata": {},
   "outputs": [],
   "source": [
    "business_motivation.unpaid.mean(), business_motivation.unpaid.abs().mean()"
   ]
  },
  {
   "cell_type": "markdown",
   "id": "0488fe44",
   "metadata": {},
   "source": [
    "## Data Science Benchmark\n",
    "\n",
    "Define & Quantify: customers' mean absolute % error each period from USD due."
   ]
  },
  {
   "cell_type": "code",
   "execution_count": null,
   "id": "dc434687",
   "metadata": {},
   "outputs": [],
   "source": [
    "invoices_to_model['due_month'] = invoices_to_model.invoice_month.dt.to_period('M') \\\n",
    "+ invoices_to_model.months_allowed"
   ]
  },
  {
   "cell_type": "code",
   "execution_count": null,
   "id": "29239d0d",
   "metadata": {},
   "outputs": [],
   "source": [
    "amount_due = invoices_to_model.groupby([\"company_id\",\"due_month\"]).converted_amount_inv.sum()\\\n",
    ".to_frame(name=\"amount_due_usd\")\n",
    "amount_paid = payments.rename(columns={\"transaction_month\":\"due_month\",\"invoice_id\":\"id\"})\\\n",
    ".merge(invoices_to_model[[\"id\"]], on=\"id\",how=\"inner\").groupby([\"company_id\",\"due_month\"]).converted_amount.sum()\\\n",
    ".to_frame(name=\"amount_paid_usd\")\n",
    "benchmark = amount_due.join(amount_paid, how='left').reset_index()\\\n",
    ".query(f\"due_month>'{first_transaction_date}' and due_month<'{last_transaction_date}'\")\n",
    "benchmark['pct_unpaid'] = 1 - (benchmark.amount_paid_usd/benchmark.amount_due_usd)\n",
    "benchmark['abs_pct_error'] = benchmark.pct_unpaid.abs()"
   ]
  },
  {
   "cell_type": "code",
   "execution_count": null,
   "id": "33c2df00",
   "metadata": {},
   "outputs": [],
   "source": [
    "benchmark.groupby(\"company_id\")[['pct_unpaid','abs_pct_error']].mean()"
   ]
  },
  {
   "cell_type": "code",
   "execution_count": null,
   "id": "297a06a5",
   "metadata": {},
   "outputs": [],
   "source": [
    "benchmark[['pct_unpaid','abs_pct_error']].mean()"
   ]
  },
  {
   "cell_type": "markdown",
   "id": "6f048401",
   "metadata": {},
   "source": [
    "## "
   ]
  }
 ],
 "metadata": {
  "kernelspec": {
   "display_name": "Python 3 (ipykernel)",
   "language": "python",
   "name": "python3"
  },
  "language_info": {
   "codemirror_mode": {
    "name": "ipython",
    "version": 3
   },
   "file_extension": ".py",
   "mimetype": "text/x-python",
   "name": "python",
   "nbconvert_exporter": "python",
   "pygments_lexer": "ipython3",
   "version": "3.10.11"
  }
 },
 "nbformat": 4,
 "nbformat_minor": 5
}