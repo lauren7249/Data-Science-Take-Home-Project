{
 "cells": [
  {
   "cell_type": "raw",
   "id": "09b8d26f",
   "metadata": {},
   "source": [
    "---\n",
    "title: Exploratory Data Analysis\n",
    "authors:\n",
    "- Lauren Talbot\n",
    "created_at: 2023-04-13\n",
    "tldr: A machine learning project is only as good as the data that goes into it. What are some of the high level aspects of the data that we can discover? How should we clean and filter the data?\n",
    "---"
   ]
  },
  {
   "cell_type": "code",
   "execution_count": null,
   "id": "b6986970",
   "metadata": {},
   "outputs": [],
   "source": [
    "%matplotlib inline"
   ]
  },
  {
   "cell_type": "markdown",
   "id": "96f9844d",
   "metadata": {},
   "source": [
    "# Input Datasets  "
   ]
  },
  {
   "cell_type": "code",
   "execution_count": null,
   "id": "c2e7d108",
   "metadata": {},
   "outputs": [],
   "source": [
    "import pandas\n",
    "data_folder = '../data'\n",
    "date_format='%Y-%M-%d' #truncate datetimes to dates\n",
    "invoices = pandas.read_csv(data_folder + '/invoice.csv', na_values='inf', \n",
    "                           parse_dates=['invoice_date', 'due_date', 'cleared_date'], date_format=date_format)\n",
    "payments = pandas.read_csv(data_folder + '/invoice_payments.csv', na_values='inf',\n",
    "                           parse_dates=['transaction_date'], date_format=date_format)"
   ]
  },
  {
   "cell_type": "markdown",
   "id": "fb33d782",
   "metadata": {},
   "source": [
    "## Dataset Definitions & Relationships\n",
    "\n",
    "We have two input datasets: invoices and their payments.\n",
    "- Payments are amounts in time, which are directly mapped to companies. \n",
    "- Invoices can have multiple payments, but usually only have 1. "
   ]
  },
  {
   "cell_type": "code",
   "execution_count": null,
   "id": "8421d533",
   "metadata": {},
   "outputs": [],
   "source": [
    "invoices.dtypes"
   ]
  },
  {
   "cell_type": "code",
   "execution_count": null,
   "id": "12abbc1d",
   "metadata": {},
   "outputs": [],
   "source": [
    "payments.dtypes"
   ]
  },
  {
   "cell_type": "code",
   "execution_count": null,
   "id": "72a6f8c4",
   "metadata": {},
   "outputs": [],
   "source": [
    "#The join key will be invoice_id, so it must be unique (and it is).\n",
    "invoices.id.value_counts(dropna=False).value_counts(dropna=False)\\\n",
    ".to_frame(name=\"ids\").rename_axis('invoices_per_id')"
   ]
  },
  {
   "cell_type": "code",
   "execution_count": null,
   "id": "b7faaf80",
   "metadata": {},
   "outputs": [],
   "source": [
    "#all payments are represented in both datasets \n",
    "len(set(payments.invoice_id) - set(invoices.id))"
   ]
  },
  {
   "cell_type": "code",
   "execution_count": null,
   "id": "7af57a63",
   "metadata": {},
   "outputs": [],
   "source": [
    "#7% of invoices do not have payments yet\n",
    "len(set(invoices.id) - set(payments.invoice_id))/invoices.__len__()"
   ]
  },
  {
   "cell_type": "code",
   "execution_count": null,
   "id": "ea62aab2",
   "metadata": {},
   "outputs": [],
   "source": [
    "#invoices usually have one payment but may have more\n",
    "payments.invoice_id.value_counts(dropna=False).value_counts(dropna=False, normalize=True)\\\n",
    ".to_frame(name=\"invoices\").rename_axis('payments_per_invoice')"
   ]
  },
  {
   "cell_type": "markdown",
   "id": "d52d67e0",
   "metadata": {},
   "source": [
    "## Entity Definitions & Relationships\n",
    "\n",
    "- Company: business entity for which Tesorio is forecasting cash collected. There are only two. Each company collects using multiple currencies from multiple customers. \n",
    "- Account: **In this limited dataset, accounts and companies are synonymous, so we ignore accounts.**  \n",
    "- Customer: metadata about an invoice which is specific to each company. "
   ]
  },
  {
   "cell_type": "code",
   "execution_count": null,
   "id": "71b2be52",
   "metadata": {},
   "outputs": [],
   "source": [
    "invoices.groupby(\"company_id\")[[\"customer_id\",\"currency\"]].nunique()"
   ]
  },
  {
   "cell_type": "code",
   "execution_count": null,
   "id": "64f67efd",
   "metadata": {},
   "outputs": [],
   "source": [
    "invoices.groupby(\"customer_id\").company_id.nunique().value_counts()\\\n",
    ".to_frame(name='customers').rename_axis('companies_per_customer')"
   ]
  },
  {
   "cell_type": "code",
   "execution_count": null,
   "id": "3ca64f65",
   "metadata": {},
   "outputs": [],
   "source": [
    "invoices.groupby(\"company_id\").account_id.nunique().to_frame(name=\"unique_accounts\")"
   ]
  },
  {
   "cell_type": "code",
   "execution_count": null,
   "id": "82bc4fb5",
   "metadata": {},
   "outputs": [],
   "source": [
    "invoices.groupby(\"account_id\").company_id.nunique().value_counts()\\\n",
    ".to_frame(name='count').rename_axis('companies_per_account')"
   ]
  },
  {
   "cell_type": "markdown",
   "id": "5efc16c0",
   "metadata": {},
   "source": [
    "## Data Cleaning Needs"
   ]
  },
  {
   "cell_type": "markdown",
   "id": "08bbd14b",
   "metadata": {},
   "source": [
    "### Payments\n",
    "\n",
    "Transaction data begins in 2011 and ends on 2021-01-31. We will assume this is when the data was pulled. "
   ]
  },
  {
   "cell_type": "code",
   "execution_count": null,
   "id": "a160451c",
   "metadata": {},
   "outputs": [],
   "source": [
    "payments.__len__()"
   ]
  },
  {
   "cell_type": "code",
   "execution_count": null,
   "id": "5e37d7c6",
   "metadata": {},
   "outputs": [],
   "source": [
    "payment_stats = payments.describe(exclude='int')\n",
    "payment_stats.loc['% populated'] = payment_stats.loc['count']/payments.__len__()\n",
    "payment_stats"
   ]
  },
  {
   "cell_type": "code",
   "execution_count": null,
   "id": "541b0f1d",
   "metadata": {},
   "outputs": [],
   "source": [
    "last_transaction_date = payments.transaction_date.max()\n",
    "last_transaction_date"
   ]
  },
  {
   "cell_type": "code",
   "execution_count": null,
   "id": "7f55fd4c",
   "metadata": {},
   "outputs": [],
   "source": [
    "#converted_amount is reliable\n",
    "(((payments.amount * payments.root_exchange_rate_value) - payments.converted_amount).abs()).max()"
   ]
  },
  {
   "cell_type": "code",
   "execution_count": null,
   "id": "0144d3fd",
   "metadata": {},
   "outputs": [],
   "source": [
    "payments.select_dtypes(include='float').hist(bins=50, figsize=(12, 3), layout=(1,3))"
   ]
  },
  {
   "cell_type": "markdown",
   "id": "60dbbc75",
   "metadata": {},
   "source": [
    "### Invoices"
   ]
  },
  {
   "cell_type": "code",
   "execution_count": null,
   "id": "f4d1eb68",
   "metadata": {},
   "outputs": [],
   "source": [
    "#to compare to payments. Are we holding the customer accountable to USD or their own currency?\n",
    "invoices['converted_amount'] = invoices.amount_inv * invoices.root_exchange_rate_value"
   ]
  },
  {
   "cell_type": "code",
   "execution_count": null,
   "id": "dc49959c",
   "metadata": {
    "scrolled": true
   },
   "outputs": [],
   "source": [
    "invoices_stats = invoices.describe(exclude='int')\n",
    "invoices_stats.loc['% populated'] = invoices_stats.loc['count']/invoices.__len__()\n",
    "invoices_stats"
   ]
  },
  {
   "cell_type": "code",
   "execution_count": null,
   "id": "147e59ac",
   "metadata": {},
   "outputs": [],
   "source": [
    "#opened outside of payment data time period - need to filter \n",
    "(invoices.loc[invoices.invoice_date>payments.transaction_date.max()].__len__(), \n",
    "invoices.loc[invoices.invoice_date<payments.transaction_date.min()].__len__())"
   ]
  },
  {
   "cell_type": "markdown",
   "id": "7e7f0c21",
   "metadata": {},
   "source": [
    "### Exchange Rate\n",
    "\n",
    "Exchange rates vary for both payments and open invoices. Customers would expect to pay the amount they were originally invoiced in their own currency, not the USD amount originally invoiced. Therefore, we should use raw amounts to determine how much is paid vs due. "
   ]
  },
  {
   "cell_type": "code",
   "execution_count": null,
   "id": "413a4cf2",
   "metadata": {},
   "outputs": [],
   "source": [
    "# USD is not is always 1 - it varies a lot\n",
    "currency_ranges = invoices.groupby(\"currency\").root_exchange_rate_value.describe(percentiles=[])\n",
    "(currency_ranges['max']/currency_ranges['min']).sort_values().plot(kind='bar', title=\"Exchange Rate Spread Ratio\")"
   ]
  },
  {
   "cell_type": "code",
   "execution_count": null,
   "id": "d43adb52",
   "metadata": {},
   "outputs": [],
   "source": [
    "# 1.2% of USD invoices have an exchange rate unequal to 1\n",
    "invoices_usd = invoices.query(\"currency=='USD'\").copy()\n",
    "invoices_usd['exchange_rate_is_1'] = invoices_usd['root_exchange_rate_value'] == 1\n",
    "1 - invoices_usd.exchange_rate_is_1.mean()"
   ]
  },
  {
   "cell_type": "code",
   "execution_count": null,
   "id": "2899f4e3",
   "metadata": {},
   "outputs": [],
   "source": [
    "# USD exchange rate variations from 1 tend to be invoices which took longer to clear\n",
    "# This suggests that the invoice exchange rate is \"current state data.\" \n",
    "time_to_clear = invoices_usd.cleared_date - invoices_usd.invoice_date\n",
    "invoices_usd['months_to_clear'] = time_to_clear.map(lambda t: round(t.days/30))"
   ]
  },
  {
   "cell_type": "code",
   "execution_count": null,
   "id": "5b16703a",
   "metadata": {},
   "outputs": [],
   "source": [
    "invoices_usd.groupby(\"exchange_rate_is_1\").months_to_clear.agg(['mean','count'])"
   ]
  },
  {
   "cell_type": "code",
   "execution_count": null,
   "id": "6cb4d03d",
   "metadata": {},
   "outputs": [],
   "source": [
    "invoices_usd.groupby(invoices_usd.months_to_clear.clip(upper=13, lower=-1))\\\n",
    ".exchange_rate_is_1.mean().plot(title='% of USD Invoices With Exchange Rate Equal to 1', figsize=(12,3))"
   ]
  },
  {
   "cell_type": "markdown",
   "id": "576a3e07",
   "metadata": {},
   "source": [
    "### Cleared vs Open \n",
    "\n",
    "All invoices have a date cleared. \n",
    "When an invoice is open, the date cleared is set to the future, and seems to be an assumed value. "
   ]
  },
  {
   "cell_type": "code",
   "execution_count": null,
   "id": "4327f695",
   "metadata": {},
   "outputs": [],
   "source": [
    "invoices.loc[invoices.cleared_date.isnull()].__len__()"
   ]
  },
  {
   "cell_type": "code",
   "execution_count": null,
   "id": "4336b02c",
   "metadata": {},
   "outputs": [],
   "source": [
    "invoices.status.value_counts(normalize=True, dropna=False).to_frame(name=\"% of Invoices\")"
   ]
  },
  {
   "cell_type": "code",
   "execution_count": null,
   "id": "8622afba",
   "metadata": {},
   "outputs": [],
   "source": [
    "invoices.loc[invoices.cleared_date.isnull() != (invoices.status == 'OPEN'),['status','cleared_date']]\\\n",
    ".value_counts(dropna=False)"
   ]
  },
  {
   "cell_type": "code",
   "execution_count": null,
   "id": "0a462b77",
   "metadata": {},
   "outputs": [],
   "source": [
    "#all open invoices have the same cleared date\n",
    "invoices.loc[invoices.status == 'OPEN'].cleared_date.value_counts(dropna=False)"
   ]
  },
  {
   "cell_type": "code",
   "execution_count": null,
   "id": "f9607700",
   "metadata": {},
   "outputs": [],
   "source": [
    "invoices.loc[invoices.status == 'OPEN', ['invoice_date','due_date']].max()"
   ]
  },
  {
   "cell_type": "code",
   "execution_count": null,
   "id": "0b3b1646",
   "metadata": {},
   "outputs": [],
   "source": [
    "(invoices.cleared_date>last_transaction_date).mean()"
   ]
  },
  {
   "cell_type": "markdown",
   "id": "52df5086",
   "metadata": {},
   "source": [
    "### Merging & Checking for Consistency\n",
    "\n",
    "- 18% of payments are partial. \n",
    "- No payments are more than their invoices. \n",
    "- Exchange rates vary across payments.\n",
    "- Companies are consistent between payments and invoices, when payments are present. \n",
    "- Amounts are more consistent in their original currencies than in USD"
   ]
  },
  {
   "cell_type": "code",
   "execution_count": null,
   "id": "07f0318a",
   "metadata": {},
   "outputs": [],
   "source": [
    "invoice_payments = invoices.rename(columns={\"id\":\"invoice_id\",\"amount_inv\":\"amount\"})\\\n",
    ".merge(payments, on=\"invoice_id\", how='left', suffixes=('_inv', '_pmt'))"
   ]
  },
  {
   "cell_type": "code",
   "execution_count": null,
   "id": "2b48c2d6",
   "metadata": {},
   "outputs": [],
   "source": [
    "invoice_payments.invoice_id.nunique()"
   ]
  },
  {
   "cell_type": "code",
   "execution_count": null,
   "id": "ab2c6d57",
   "metadata": {},
   "outputs": [],
   "source": [
    "duplicated_columns = [col.replace('_pmt','') for col in invoice_payments.columns if col.endswith('_pmt')]\n",
    "for col in  duplicated_columns:\n",
    "    inconsistent_rows = invoice_payments.loc[invoice_payments[col + '_pmt']!=invoice_payments[col + '_inv']]\n",
    "    print(f\"{col}: {inconsistent_rows.__len__()/invoice_payments.__len__()} inconsistent rows in merged dataset\")"
   ]
  },
  {
   "cell_type": "code",
   "execution_count": null,
   "id": "fde9fa68",
   "metadata": {},
   "outputs": [],
   "source": [
    "invoice_payments.query(\"company_id_pmt!=company_id_inv\").company_id_pmt.value_counts(dropna=False)"
   ]
  },
  {
   "cell_type": "code",
   "execution_count": null,
   "id": "3f120623",
   "metadata": {},
   "outputs": [],
   "source": [
    "invoice_payments.query(\"amount_pmt!=amount_inv\")[['amount_pmt','amount_inv']].describe()"
   ]
  },
  {
   "cell_type": "code",
   "execution_count": null,
   "id": "22b24d03",
   "metadata": {},
   "outputs": [],
   "source": [
    "#no payment is more than the invoice amount in the original currency\n",
    "invoice_payments.loc[invoice_payments.amount_pmt>invoice_payments.amount_inv].__len__()"
   ]
  },
  {
   "cell_type": "code",
   "execution_count": null,
   "id": "4408d839",
   "metadata": {},
   "outputs": [],
   "source": [
    "#converting to USD creates payments that are higher than invoice totals\n",
    "invoice_payments.loc[invoice_payments.converted_amount_pmt>invoice_payments.converted_amount_inv].__len__()"
   ]
  },
  {
   "cell_type": "code",
   "execution_count": null,
   "id": "b5cf7e05",
   "metadata": {},
   "outputs": [],
   "source": [
    "invoice_payments_rollup = invoice_payments.groupby(\"invoice_id\", \n",
    "                                    as_index=False).agg({\"amount_pmt\":['sum','count'],\n",
    "                                                         \"transaction_date\":['min','max']})\n",
    "invoice_payments_rollup.columns = invoice_payments_rollup.columns.to_flat_index().map('_'.join)\n",
    "payment_totals = invoices.merge(invoice_payments_rollup, how=\"left\", left_on=\"id\", right_on=\"invoice_id_\")\n",
    "payment_totals['amount_remaining'] = payment_totals.amount_inv - payment_totals.amount_pmt_sum"
   ]
  },
  {
   "cell_type": "markdown",
   "id": "2c6838d4",
   "metadata": {},
   "source": [
    "#### Cleared invoices \n",
    "\n",
    "Invoices with cleared dates or statuses can still have amounts remaining. 1% of cleared invoices were overpaid."
   ]
  },
  {
   "cell_type": "code",
   "execution_count": null,
   "id": "972c861e",
   "metadata": {},
   "outputs": [],
   "source": [
    "#For invoices with a cleared date, the totals do not match 10% of the time\n",
    "cleared_invoices = payment_totals.loc[payment_totals.cleared_date.isnull()==False].copy()\n",
    "1 - (cleared_invoices.amount_remaining==0).mean()"
   ]
  },
  {
   "cell_type": "code",
   "execution_count": null,
   "id": "e4fb7fbd",
   "metadata": {},
   "outputs": [],
   "source": [
    "#For invoices with \"cleared\" status, totals do not match 7% of the time\n",
    "cleared_invoices = payment_totals.loc[payment_totals.status=='CLEARED'].copy()\n",
    "1 - (cleared_invoices.amount_remaining==0).mean()"
   ]
  },
  {
   "cell_type": "code",
   "execution_count": null,
   "id": "ff6e91e9",
   "metadata": {},
   "outputs": [],
   "source": [
    "# 1% of cleared invoices have been overpaid according to payments data. \n",
    "(cleared_invoices.amount_remaining<0).mean()"
   ]
  },
  {
   "cell_type": "code",
   "execution_count": null,
   "id": "ca6655d5",
   "metadata": {},
   "outputs": [],
   "source": [
    "#only half of these seem to be late fees\n",
    "overpayments = cleared_invoices.query(\"amount_remaining<0\")\n",
    "(overpayments.cleared_date>overpayments.due_date).mean()"
   ]
  },
  {
   "cell_type": "markdown",
   "id": "0bb31b17",
   "metadata": {},
   "source": [
    "#### Fully collected invoices\n",
    "\n",
    "- Can still be open (rarely). \n",
    "- Almost always cleared with the last transaction, after converting to monthly periods. \n",
    "- These may represent late fees. "
   ]
  },
  {
   "cell_type": "code",
   "execution_count": null,
   "id": "139eaaf3",
   "metadata": {},
   "outputs": [],
   "source": [
    "collected_invoices = payment_totals.query(\"amount_remaining==0\").copy()\n",
    "collected_invoices.status.value_counts(normalize=True, dropna=False)"
   ]
  },
  {
   "cell_type": "code",
   "execution_count": null,
   "id": "a6765e7d",
   "metadata": {},
   "outputs": [],
   "source": [
    "(collected_invoices.cleared_date-collected_invoices.transaction_date_max).describe()"
   ]
  },
  {
   "cell_type": "code",
   "execution_count": null,
   "id": "d30d2238",
   "metadata": {},
   "outputs": [],
   "source": [
    "(collected_invoices.cleared_date.dt.to_period('M')<collected_invoices.transaction_date_max.dt.to_period('M'))\\\n",
    ".mean()"
   ]
  },
  {
   "cell_type": "code",
   "execution_count": null,
   "id": "0001ef31",
   "metadata": {},
   "outputs": [],
   "source": [
    "(collected_invoices.cleared_date.dt.to_period('M')>collected_invoices.transaction_date_max.dt.to_period('M'))\\\n",
    ".mean()"
   ]
  },
  {
   "cell_type": "markdown",
   "id": "a41062f0",
   "metadata": {},
   "source": [
    "## Transforming Dates to Quantities"
   ]
  },
  {
   "cell_type": "code",
   "execution_count": null,
   "id": "579d8bbe",
   "metadata": {},
   "outputs": [],
   "source": [
    "invoice_time_allowed = invoices.due_date - invoices.invoice_date\n",
    "invoice_time_open = invoices.cleared_date - invoices.invoice_date\n",
    "invoice_time_late = invoice_time_open - invoice_time_allowed"
   ]
  },
  {
   "cell_type": "code",
   "execution_count": null,
   "id": "5741ac28",
   "metadata": {},
   "outputs": [],
   "source": [
    "invoices['days_allowed'] = invoice_time_allowed.map(lambda t: t.days if not pandas.isnull(t) else None)\n",
    "invoices['days_open'] = invoice_time_open.map(lambda t: t.days if not pandas.isnull(t) else None)\n",
    "invoices['days_late'] = invoice_time_late.map(lambda t: t.days if not pandas.isnull(t) else None)\n",
    "\n",
    "invoices['months_allowed'] = (invoices.due_date.dt.to_period('M') - invoices.invoice_date.dt.to_period('M'))\n",
    "invoices.months_allowed = invoices.months_allowed.map(lambda m: m.n if not pandas.isnull(m) else None)\n",
    "invoices['months_open'] = (invoices.cleared_date.dt.to_period('M') - invoices.invoice_date.dt.to_period('M'))\n",
    "invoices.months_open = invoices.months_open.map(lambda m: m.n if not pandas.isnull(m) else None)\n",
    "invoices['months_late'] = (invoices.cleared_date.dt.to_period('M') - invoices.due_date.dt.to_period('M'))\n",
    "invoices.months_late = invoices.months_late.map(lambda m: m.n if not pandas.isnull(m) else None)"
   ]
  },
  {
   "cell_type": "markdown",
   "id": "bf604674",
   "metadata": {},
   "source": [
    "## Break Down Invoices By Period"
   ]
  },
  {
   "cell_type": "markdown",
   "id": "c84aa605",
   "metadata": {},
   "source": [
    "Create periods from invoice date to close date\n",
    "Rolling payment window: due_date - current period\n",
    "Rolling days open: cleared_date - current period "
   ]
  },
  {
   "cell_type": "markdown",
   "id": "67349a6e",
   "metadata": {},
   "source": [
    "## Assumptions\n",
    "\n",
    "- Invoices that are cleared will have their total amount paid off, no more, no less\n",
    "- Invoices will only be scored if they are open at that point in time \n",
    "- "
   ]
  },
  {
   "cell_type": "markdown",
   "id": "4658300e",
   "metadata": {},
   "source": [
    "# Metadata Calculations & Cleaning\n",
    "\n",
    "Totals, Uniques, Averages, Ranges, Outliers, Missings\n",
    "Variables: Invoices, USD Amounts, Cleared/Open, Due Date, Invoice Date, Transaction Date, Customers, Companies, Accounts"
   ]
  },
  {
   "cell_type": "markdown",
   "id": "3c0ddac9",
   "metadata": {},
   "source": [
    "# Notes"
   ]
  },
  {
   "cell_type": "markdown",
   "id": "864c3192",
   "metadata": {},
   "source": [
    "## Notable entities\n",
    "\n",
    "e.g. customers with notable values"
   ]
  },
  {
   "cell_type": "markdown",
   "id": "e663f7e0",
   "metadata": {},
   "source": [
    "## Sparsity"
   ]
  },
  {
   "cell_type": "markdown",
   "id": "55860225",
   "metadata": {},
   "source": [
    "### Entities"
   ]
  },
  {
   "cell_type": "markdown",
   "id": "21d2d623",
   "metadata": {},
   "source": [
    "### Date Periods"
   ]
  },
  {
   "cell_type": "markdown",
   "id": "d19c2a0f",
   "metadata": {},
   "source": [
    "## Trends Over Time"
   ]
  },
  {
   "cell_type": "markdown",
   "id": "5c15eaf9",
   "metadata": {},
   "source": [
    "# Analysis"
   ]
  },
  {
   "cell_type": "markdown",
   "id": "e2006f9f",
   "metadata": {},
   "source": [
    "## Business Motivation\n",
    "\n",
    "Cash collections don't follow due dates"
   ]
  },
  {
   "cell_type": "markdown",
   "id": "0488fe44",
   "metadata": {},
   "source": [
    "## Data Science Benchmark\n",
    "\n",
    "Define & Quantify: customers' mean absolute % error each period from cash due."
   ]
  },
  {
   "cell_type": "markdown",
   "id": "b6366b08",
   "metadata": {},
   "source": [
    "## Data Science Target\n",
    "\n",
    "Best outcome variable? \n",
    "Days late\n",
    "Days open (Total and Rolling)\n",
    "Days Open as a % of Payment Window (Total and Rolling)\n",
    "Days Late as a % of Payment Window (Total and Rolling)"
   ]
  }
 ],
 "metadata": {
  "kernelspec": {
   "display_name": "Python 3 (ipykernel)",
   "language": "python",
   "name": "python3"
  },
  "language_info": {
   "codemirror_mode": {
    "name": "ipython",
    "version": 3
   },
   "file_extension": ".py",
   "mimetype": "text/x-python",
   "name": "python",
   "nbconvert_exporter": "python",
   "pygments_lexer": "ipython3",
   "version": "3.10.11"
  }
 },
 "nbformat": 4,
 "nbformat_minor": 5
}